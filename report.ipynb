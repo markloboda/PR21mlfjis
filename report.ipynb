{
 "cells": [
  {
   "cell_type": "markdown",
   "metadata": {},
   "source": [
    "# Končno poročilo: Nevarnost Slovenije"
   ]
  },
  {
   "cell_type": "markdown",
   "metadata": {},
   "source": [
    "## 1. Predstavitev problema"
   ]
  },
  {
   "cell_type": "markdown",
   "metadata": {},
   "source": [
    "S pomočjo baze podatkov, ki opisuje pretekla kriminalna dejanja skušamo na zemljevidu prikazati čimbolj uporabne informacije o krminalu na nekem območju.\n",
    "Poleg tega smo za poljubno destinacijo na slovenskem ozemlju podali oceno varnosti lokacije."
   ]
  },
  {
   "cell_type": "markdown",
   "metadata": {},
   "source": [
    "## 2. Opis podatkov"
   ]
  },
  {
   "cell_type": "markdown",
   "metadata": {},
   "source": [
    "### Splošen opis\n",
    "Podatke smo črpali iz strani iz https://podatki.gov.si/, bolj natančno https://podatki.gov.si/dataset/mnzpkazniva-dejanja-od-leta-2009-dalje. Uporabili smo podatke iz let 2018, 2019, 2020, 2021. Podatki iz let 2020 in 2021 v tej zbirki manjkajo, a smo jih našli na https://www.policija.si/o-slovenski-policiji/statistika/kriminaliteta.\n",
    "Podatki vsebujejo kriminalna dejanja in razne podatke o njih. Mi smo uporabili stolpce: \n",
    "* UraStoritve\n",
    "* DanVTednu\n",
    "* OpisKD\n",
    "* UpravnaEnotaStoritve\n",
    "* OpisKraja\n",
    "\n",
    "Poleg tega smo uporabili še [Polnoletni obsojenci (znani storilci) po spolu, kaznivem dejanju in glavni kazenski sankciji (tudi pogojno obsojeni), Slovenija, letno](https://podatki.gov.si/dataset/surs1360301s), [število prebivalcev po občinah](https://pxweb.stat.si/SiStatData/pxweb/sl/Data/-/2640010S.px) in [občine slovenije](https://sl.wikipedia.org/wiki/Seznam_ob%C4%8Din_v_Sloveniji).\n",
    "\n",
    "### Obdelava podatkov\n",
    "V podatkih za kazniva dejanja je nek zločin zapisan večrat. To je ocitno, saj se zaporedna številka kaznivega dejanja ponavlja večrat. Te duplikate smo odstranili zato, da so rezultati bolj točni. Pri tem smo vsekakor izgubili del podatkov, saj bi iz tega lahko pridobili tudi podatek, da se je zločin izvedel v skupini in bi ga mogoče lahko vzeli kot bolj nevarnega.\n",
    "\n",
    "Vsakem kaznivem dejanju, ki se pojavi v podatkih, smo izračunali utež z enačbo: $$ x = ((max\\_jailtime + avg\\_actual\\_jailtime) * dangerousness) $$\n",
    "Pomen spremenljivk v enačbi:\n",
    "* $max\\_jailtime$: največja zaporna kazen, ki jo obsojenec lahko prejme po zakoniku. Podatek je lahko vrednost med 0 in 100, pri katerem 100 pomeni do življenska kazen.\n",
    "* $avg\\_actual\\_jailtime$: povprečna zaporna kazen, ki so jo v preteklosti prejeli kršitelji\n",
    "* $dangerousness$: subjektivnego mnenje, kako nevarno je neko dejanje za navadnega človeka. Podatek je lahko vrednost med 0 in 1.\n",
    "\n",
    "Da je bilo določanje uteži sploh mogoče, smo morali v podatkih formatirati stolpec \"OpisKD\", v katerem je zapisan člen iz kazenskega zakonika tako, da je bil enak vpisu v zakoniku.  \n",
    "Primer vpisa:  \n",
    "* **KZ08/204-/2/S/ - TATVINA** smo spremenili v **tatvina**  \n",
    "\n",
    "Prav tako so nekateri vpisi bili iz zastarelih zakonikov, katere smo morali najti in spremeniti tako, da so se ujemali z vpisom v zakoniku.  \n",
    "Primer vpisa:  \n",
    "* **KD02/103/1// - spolni napad na osebo, mlajšo od 14 let** smo spremenili v **KZ01/173/1// - spolni napad na osebo, mlajšo od petnajst let**\n",
    "\n",
    "Uporabili smo tudi podatke o položajih regij in občin za izris na zemljevidu v aplikaciji na Androidu. Za to smo uporabili API: [*Nominatim API*](https://nominatim.org/release-docs/latest/api/Overview)."
   ]
  },
  {
   "cell_type": "markdown",
   "metadata": {},
   "source": [
    "## 3. Izvedene analize"
   ]
  },
  {
   "cell_type": "markdown",
   "metadata": {},
   "source": [
    "Podnaloge, ki smo jih reševali:\n",
    "* Varnost posamezne regije\n",
    "* Varnost posamezne občine\n",
    "* Varnost posameznega prostora\n",
    "* Določanje zanimivih statistik\n",
    "* Vpliv dneva v tednu na nevarnost\n",
    "* Vpliv ure na nevarnost\n",
    "\n",
    "Varnost posamezne regije:\n",
    "* Postopek:\n",
    "  * podatke smo najprej prečistili po zgoraj vpisanem postopku\n",
    "  * sestava slovarja, ki hrani uteži posameznih kaznivih dejanj\n",
    "    * ```py\n",
    "      kazni_utezi = dict()\n",
    "      for kd, values in kazni_dict.items():\n",
    "              if (pd.isna(values['average_actual_jailtime'])):\n",
    "                  x = values['max_jailtime'] * 2 * values['dangerousness']\n",
    "              else:\n",
    "                  x = (values['max_jailtime'] + values['average_actual_jailtime']) * values['dangerousness']\n",
    "              kazni_utezi[kd] = x\n",
    "      ```\n",
    "  * računanje nevarnosti posamezne regije\n",
    "    * ```py\n",
    "      regije = dict.fromkeys([str.lower(x) for x in np.unique(obcine[:, 7])], 0)\n",
    "      city_errors = set()\n",
    "      kd_errors_dict = defaultdict(int)\n",
    "\n",
    "\n",
    "      for kd in main_data:\n",
    "          city = str.lower(kd[19])\n",
    "          kd = str.lower(str.strip(str.split(kd[6], '-')[-1]))\n",
    "          if (city == 'neznana ue' or city == 'neznana obč' or city == 'ni podatka' or kd == 'poneverba in neupravičena uporaba tujega premoženja' or kd == ''):\n",
    "              continue\n",
    "          if (city == 'šentjur pri celju'):\n",
    "              city = 'šentjur'\n",
    "          try:\n",
    "              regije[dict_obcina_regija[city]] += kazni_utezi[kd]\n",
    "          except KeyError:\n",
    "              if (city not in dict_obcina_regija):\n",
    "                  city_errors.add(city)\n",
    "                  print(f\"NAPAKA PRI \\\"{city}\\\"\")\n",
    "              else:\n",
    "                  kd_errors_dict[kd] += 1\n",
    "                  print(f\"NAPAKA PRI \\\"{kd}\\\"\")\n",
    "\n",
    "      kd_errors = np.array(list(kd_errors_dict.items()), dtype=object)\n",
    "      kd_errors = kd_errors[np.argsort(kd_errors[:, 1])[::-1]]\n",
    "      kd_errors\n",
    "      ```"
   ]
  },
  {
   "cell_type": "markdown",
   "metadata": {},
   "source": [
    "## 4. Rezultati"
   ]
  }
 ],
 "metadata": {
  "language_info": {
   "name": "python"
  },
  "orig_nbformat": 4
 },
 "nbformat": 4,
 "nbformat_minor": 2
}
