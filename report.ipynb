{
 "cells": [
  {
   "cell_type": "markdown",
   "metadata": {},
   "source": [
    "# Končno poročilo: Nevarnost Slovenije"
   ]
  },
  {
   "cell_type": "markdown",
   "metadata": {},
   "source": [
    "## 1. Predstavitev problema"
   ]
  },
  {
   "cell_type": "markdown",
   "metadata": {},
   "source": [
    "S pomočjo baze podatkov, ki opisuje pretekla kriminalna dejanja skušamo na zemljevidu prikazati čimbolj uporabne informacije o krminalu na nekem območju.\n",
    "Poleg tega smo za poljubno destinacijo na slovenskem ozemlju podali oceno varnosti lokacije."
   ]
  },
  {
   "cell_type": "markdown",
   "metadata": {},
   "source": [
    "## 2. Opis podatkov"
   ]
  },
  {
   "cell_type": "markdown",
   "metadata": {},
   "source": [
    "### Splošen opis\n",
    "Podatke smo črpali iz strani iz https://podatki.gov.si/, bolj natančno https://podatki.gov.si/dataset/mnzpkazniva-dejanja-od-leta-2009-dalje. Uporabili smo podatke iz let 2018, 2019, 2020, 2021. Podatki iz let 2020 in 2021 v tej zbirki manjkajo, a smo jih našli na https://www.policija.si/o-slovenski-policiji/statistika/kriminaliteta.\n",
    "Podatki vsebujejo kriminalna dejanja in razne podatke o njih. Mi smo uporabili stolpce: \n",
    "* UraStoritve\n",
    "* DanVTednu\n",
    "* OpisKD\n",
    "* UpravnaEnotaStoritve\n",
    "* OpisKraja\n",
    "\n",
    "Poleg tega smo uporabili še [Polnoletni obsojenci (znani storilci) po spolu, kaznivem dejanju in glavni kazenski sankciji (tudi pogojno obsojeni), Slovenija, letno](https://podatki.gov.si/dataset/surs1360301s), [število prebivalcev po občinah](https://pxweb.stat.si/SiStatData/pxweb/sl/Data/-/2640010S.px) in [občine slovenije](https://sl.wikipedia.org/wiki/Seznam_ob%C4%8Din_v_Sloveniji).\n",
    "\n",
    "### Obdelava podatkov\n",
    "V podatkih za kazniva dejanja je nek zločin zapisan večrat. To je ocitno, saj se zaporedna številka kaznivega dejanja ponavlja večrat. Te duplikate smo odstranili zato, da so rezultati bolj točni. Pri tem smo vsekakor izgubili del podatkov, saj bi iz tega lahko pridobili tudi podatek, da se je zločin izvedel v skupini in bi ga mogoče lahko vzeli kot bolj nevarnega.\n",
    "\n",
    "Vsakem kaznivem dejanju, ki se pojavi v podatkih, smo izračunali utež z enačbo: $$ x = ((max\\_jailtime + avg\\_actual\\_jailtime) * dangerousness) $$\n",
    "Pomen spremenljivk v enačbi:\n",
    "* $max\\_jailtime$: največja zaporna kazen, ki jo obsojenec lahko prejme po zakoniku. Podatek je lahko vrednost med 0 in 100, pri katerem 100 pomeni do življenska kazen.\n",
    "* $avg\\_actual\\_jailtime$: povprečna zaporna kazen, ki so jo v preteklosti prejeli kršitelji\n",
    "* $dangerousness$: subjektivnego mnenje, kako nevarno je neko dejanje za navadnega človeka. Podatek je lahko vrednost med 0 in 1.\n",
    "\n",
    "Da je bilo določanje uteži sploh mogoče, smo morali v podatkih formatirati stolpec \"OpisKD\", v katerem je zapisan člen iz kazenskega zakonika tako, da je bil enak vpisu v zakoniku.  \n",
    "Primer vpisa:  \n",
    "* **KZ08/204-/2/S/ - TATVINA** smo spremenili v **tatvina**  \n",
    "\n",
    "Prav tako so nekateri vpisi bili iz zastarelih zakonikov, katere smo morali najti in spremeniti tako, da so se ujemali z vpisom v zakoniku.  \n",
    "Primer vpisa:  \n",
    "* **KD02/103/1// - spolni napad na osebo, mlajšo od 14 let** smo spremenili v **KZ01/173/1// - spolni napad na osebo, mlajšo od petnajst let**\n",
    "\n",
    "Uporabili smo tudi podatke o položajih regij in občin za izris na zemljevidu v aplikaciji na Androidu. Za to smo uporabili API: [*Nominatim API*](https://nominatim.org/release-docs/latest/api/Overview)."
   ]
  },
  {
   "cell_type": "markdown",
   "metadata": {},
   "source": [
    "## 3. Izvedene analize"
   ]
  },
  {
   "cell_type": "markdown",
   "metadata": {},
   "source": [
    "Podnaloge, ki smo jih reševali:\n",
    "* Varnost posamezne regije\n",
    "* Varnost posamezne občine\n",
    "* Varnost posameznega prostora\n",
    "* Določanje zanimivih statistik\n",
    "* Vpliv dneva v tednu na nevarnost\n",
    "* Vpliv ure na nevarnost"
   ]
  },
  {
   "cell_type": "markdown",
   "metadata": {},
   "source": [
    "### Varnost posamezne občine:\n",
    "Najprej smo podatke prečistili po postopku, opisanim v točki 2. Nato smo zločine v vsaki občini le prešteli.\n",
    "<img src=\"./img/nevarnost_obcine_1.png\">\n",
    "\n",
    "Že takoj na prvi pogled je razvidno, da se največ zločina zgodi v Ljubljani. Sigurno pa na podlagi teh rezultatov ne moremo odgovoriti na vprašanje, \"Katera občina je najbolj varna/nevarna?\". Zato smo dobljene rezultate delili z številom prebivalcev v posamezni občini. Tu so bili rezultati že boljši.\n",
    "<img src=\"./img/nevarnost_obcine_2.png\">\n",
    "\n",
    "A vseeno je bilo sumjivo, da je v Murski Soboti tako veliko število zločinov. Zato smo izpisali zločine, ki so se zgodili v Murski Soboti.\n",
    "<img src=\"./img/nevarnost_obcine_3.png\">\n",
    "\n",
    "V primerjavi z drugimi je največ dejanj *Kršitev temeljnih pravic delavcev*. Za ta zločin lahko rečemo, da ni zelo nevaren za navadnega človeka, zato je kriminalna dejanja potrebno utežiti. Utežili smo jih s enačbo:  \n",
    "$$x = \\frac{max\\_jailtime + avg\\_actual\\_jailtime}{dangerousness}$$\n",
    "Nato pa smo izračunali nevarnost občine z enačbo:  \n",
    "$$ nevarnost\\_regije = \\frac{\\sum^n_{i=0}utež\\_kaznivega\\_denja_i} {število\\_prebivalcev\\_občine} $$\n",
    "Dobimo graf:\n",
    "\n",
    "<img src=\"./img/nevarnost_obcine_4.png\">"
   ]
  },
  {
   "cell_type": "markdown",
   "metadata": {},
   "source": [
    "### Varnost posamezne regije:\n",
    "Tu smo se že zavedali, da samo štetje kaznivih dejanj nebo dovolj, zato smo že na začetku upoštevali le utežena kriminalna dejanja.\n",
    "Najprej je bilo potrebno podatke prečistiti po postopku, opisanim v točki 2. Nato pa smo ponovno za vse zločine izračunali nevarnost z enačbo:\n",
    "$$x = \\frac{max\\_jailtime + avg\\_actual\\_jailtime}{dangerousness}$$\n",
    "\n",
    "Najprej smo zapisali le vsote teh uteži kaznivih dejanj in dobili graf:\n",
    "<img src=\"./img/nevarnost_regij_1.png\">\n",
    "\n",
    "Nato pa smo vrednosti delili še s številom prebivalcev v regiji. Končne vredsnoti so izračunane po:\n",
    "$$ nevarnost\\_regije = \\frac{\\sum^n_{i=0}utež\\_kaznivega\\_denja_i} {število\\_prebivalcev\\_občine} $$\n",
    "<img src=\"./img/nevarnost_regij_2.png\">"
   ]
  },
  {
   "cell_type": "markdown",
   "metadata": {},
   "source": [
    "### Vpliv dneva v tednu na nevarnost\n",
    "Najprej smo le prešteli zločine. Čez teden, torej od ponedeljka do petka, je bilo zločinov več, čez vikend pa manj. \n",
    "Dobljen graf:  \n",
    "<img src=\"./img/zlocini_dan_1.png\">\n",
    "\n",
    "Nato pa sem isto izračunal še z uteženimi vrednostmi. Rezultati so bili podobni, a je bila dejanska nevarnost čez vikend večja v primerjavi z tistimi čez teden.\n",
    "\n",
    "<img src=\"./img/zlocini_dan_2.png\">\n",
    "\n",
    "To je pa zato, ker je več, manj nevarnih kriminalnih dejanj čez teden kot pa čez vikend. Ko pa dejanja utežimo, pa vrednosti pridejo bolj skupaj.\n",
    "\n",
    "Na koncu pa smo isto izračunali še za vsako občino posebaj, kar pa bomo uporabili v aplikaciji in je za prikaz nepraktično. Zapisani rezultati so v datoteki [obc_dnevi.json](https://github.com/zrezke/PR21mlfjis/blob/main/data/obc_dnevi.json)."
   ]
  },
  {
   "cell_type": "markdown",
   "metadata": {},
   "source": [
    "### Vpliv ure na nevarnost\n"
   ]
  },
  {
   "cell_type": "markdown",
   "metadata": {},
   "source": [
    "<img src=\"./img/tod_nevarnostpng.png\">"
   ]
  },
  {
   "cell_type": "markdown",
   "metadata": {},
   "source": [
    "## 4. Rezultati"
   ]
  }
 ],
 "metadata": {
  "interpreter": {
   "hash": "3cc7452d59a4128c7da48b52ec3fb3fa0d01ea1f342cddc3c37340fefa791b1e"
  },
  "kernelspec": {
   "display_name": "Python 3.9.6 64-bit",
   "language": "python",
   "name": "python3"
  },
  "language_info": {
   "codemirror_mode": {
    "name": "ipython",
    "version": 3
   },
   "file_extension": ".py",
   "mimetype": "text/x-python",
   "name": "python",
   "nbconvert_exporter": "python",
   "pygments_lexer": "ipython3",
   "version": "3.9.6"
  },
  "orig_nbformat": 4
 },
 "nbformat": 4,
 "nbformat_minor": 2
}
