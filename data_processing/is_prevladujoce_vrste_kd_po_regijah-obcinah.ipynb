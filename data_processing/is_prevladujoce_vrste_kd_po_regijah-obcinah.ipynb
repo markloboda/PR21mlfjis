{
 "cells": [
  {
   "cell_type": "code",
   "execution_count": 1,
   "metadata": {},
   "outputs": [],
   "source": [
    "import numpy as np\n",
    "import pandas as pd\n",
    "import matplotlib.pyplot as plt\n",
    "import matplotlib.transforms as transforms\n",
    "from datetime import datetime\n",
    "import collections\n",
    "import csv\n",
    "import os.path\n",
    "\n"
   ]
  },
  {
   "cell_type": "code",
   "execution_count": 2,
   "metadata": {},
   "outputs": [
    {
     "data": {
      "text/plain": [
       "'�'"
      ]
     },
     "execution_count": 2,
     "metadata": {},
     "output_type": "execute_result"
    }
   ],
   "source": [
    "df_substance2019 = pd.read_csv('../data/kd2019substance.csv', sep=',')\n",
    "df_kd2018 = pd.read_csv('../data/kd2018.csv', sep=';')\n",
    "df_kd2019 = pd.read_csv('../data/kd2019.csv', sep=';')\n",
    "df_kd2020 = pd.read_csv('../data/kd2020.csv', sep=';')\n",
    "df_kd2021 = pd.read_csv('../data/kd2021.csv', sep=';')\n",
    "df_substance2019['leto'] = 2019\n",
    "df_kd2018['leto'] = 2018\n",
    "df_kd2019 ['leto'] = 2019\n",
    "df_kd2020 ['leto'] = 2020\n",
    "df_kd2021 ['leto'] = 2021\n",
    "kd_all = [df_kd2018, df_kd2019, df_kd2020, df_kd2021, df_substance2019]\n",
    "\"�\""
   ]
  },
  {
   "cell_type": "code",
   "execution_count": 3,
   "metadata": {},
   "outputs": [],
   "source": [
    "kd_victims_other = []\n",
    "for i in range(len(kd_all)):\n",
    "    kd_all[i] = kd_all[i][kd_all[i]['VrstaOsebe'].notna()]\n",
    "    kd_victims_other.append((kd_all[i][kd_all[i]['VrstaOsebe'].str.contains('RTEV')], kd_all[i][~kd_all[i]['VrstaOsebe'].str.contains('RTEV')]))"
   ]
  },
  {
   "cell_type": "code",
   "execution_count": null,
   "metadata": {},
   "outputs": [],
   "source": [
    "#TODO:\n",
    "#-katere so vrste krminalnih dejanj D\n",
    "#-koliko je vsakega kdja\n",
    "#-koliko je vsakega kdja po letih D\n",
    "#-koliko je vsakega kdja po letih po obcinah\n",
    "#-koliko je vsakega kdja po letih po regijah\n",
    "#-koliko je skupaj vsakega kdja po obcinah\n",
    "#-koliko je skupaj vsakega kdja po regijah\n",
    "#-najpogostejsi prostori za vsako kd\n",
    "#-cas od izvedbe kd do obtozitve za kd\n",
    "#-poskusi kaj z leti, starostni razred, denarna skoda"
   ]
  },
  {
   "cell_type": "code",
   "execution_count": 38,
   "metadata": {},
   "outputs": [
    {
     "name": "stderr",
     "output_type": "stream",
     "text": [
      "c:\\Users\\Irinej\\AppData\\Local\\Programs\\Python\\Python38\\lib\\site-packages\\pandas\\core\\frame.py:3191: SettingWithCopyWarning: \n",
      "A value is trying to be set on a copy of a slice from a DataFrame.\n",
      "Try using .loc[row_indexer,col_indexer] = value instead\n",
      "\n",
      "See the caveats in the documentation: https://pandas.pydata.org/pandas-docs/stable/user_guide/indexing.html#returning-a-view-versus-a-copy\n",
      "  self[k1] = value[k2]\n"
     ]
    },
    {
     "name": "stdout",
     "output_type": "stream",
     "text": [
      "OpisKD2\n",
      "                                                                  12\n",
      "DAJANJE DARIL ZA NEZAKONITO POSREDOVANJE                      426428\n",
      "DAJANJE PODKUPNINE                                         175319667\n",
      "DAV�NA ZATAJITEV                                        324427623479\n",
      "DETOMOR                                                          221\n",
      "                                                            ...     \n",
      "ZLORABA ZNAMENJ ZA POMO� IN NEVARNOST                       38334827\n",
      "�ALJIVA OBDOL�ITEV                                          38273122\n",
      "�IKANIRANJE NA DELOVNEM MESTU                               61925055\n",
      "��UVANJE IN JAVNO POVELI�EVANJE TERORISTI�NIH DEJANJ               1\n",
      "��UVANJE K NASILNI SPREMEMBI USTAVNE UREDITVE                    212\n",
      "Name: frequency, Length: 215, dtype: object\n"
     ]
    }
   ],
   "source": [
    "frequencysKD = []\n",
    "frequencysdf = []\n",
    "dejanja = set()\n",
    "for zrtev, notvictim in kd_victims_other:\n",
    "    df_temp = notvictim[['ZaporednaStevilkaKD','OpisKD', 'leto', 'UpravnaEnotaStoritve']]\n",
    "    df_temp[['OpisKD1', 'OpisKD2']] = df_temp['OpisKD'].str.split(' - ', 1, expand=True)\n",
    "    frequencys = []\n",
    "    for idx,name in enumerate(df_temp['OpisKD2'].value_counts().index.tolist()):\n",
    "        frequencys.append([name, df_temp['OpisKD2'].value_counts()[idx]])\n",
    "    frequencysKD.append(np.array(frequencys))\n",
    "    frequencysdf.append(pd.DataFrame(np.array(frequencys), columns=['OpisKD2', 'frequency']))\n",
    "    dejanja = set(dejanje for dejanje in df_temp['OpisKD2'].unique()).union(dejanja)\n",
    "\n",
    "frequencysdf_concat = frequencysdf[0]\n",
    "for i in range(len(frequencysdf)-1):\n",
    "   frequencysdf_concat = frequencysdf_concat.append(frequencysdf[i+1], ignore_index=True)\n",
    "frequencysdf_group = frequencysdf_concat.groupby(['OpisKD2'])['frequency'].sum()\n",
    "print(frequencysdf_group)"
   ]
  },
  {
   "cell_type": "code",
   "execution_count": 40,
   "metadata": {},
   "outputs": [
    {
     "name": "stderr",
     "output_type": "stream",
     "text": [
      "c:\\Users\\Irinej\\AppData\\Local\\Programs\\Python\\Python38\\lib\\site-packages\\pandas\\core\\frame.py:3191: SettingWithCopyWarning: \n",
      "A value is trying to be set on a copy of a slice from a DataFrame.\n",
      "Try using .loc[row_indexer,col_indexer] = value instead\n",
      "\n",
      "See the caveats in the documentation: https://pandas.pydata.org/pandas-docs/stable/user_guide/indexing.html#returning-a-view-versus-a-copy\n",
      "  self[k1] = value[k2]\n"
     ]
    }
   ],
   "source": [
    "#kdji po letih po obcinah\n",
    "temp_dfs = []\n",
    "for zrtev, notvictim in kd_victims_other:\n",
    "    df_temp = notvictim[['ZaporednaStevilkaKD', 'MesecStoritve', 'UraStoritve', 'DanVTednu', 'Povratnik',\n",
    "                        'OpisKD', 'leto', 'UpravnaEnotaStoritve', 'PUStoritveKD', 'UporabljenoSredstvo1',\n",
    "                        'UporabljenoSredstvo2', 'UporabljenoSredstvo3', 'UporabljenoSredstvo4']]\n",
    "\n",
    "    df_temp[['OpisKD1', 'OpisKD2']] = df_temp['OpisKD'].str.split(' - ', 1, expand=True)\n",
    "    temp_dfs.append(df_temp)\n",
    "\n",
    "\n"
   ]
  },
  {
   "cell_type": "code",
   "execution_count": null,
   "metadata": {},
   "outputs": [],
   "source": []
  },
  {
   "cell_type": "code",
   "execution_count": null,
   "metadata": {},
   "outputs": [],
   "source": [
    "#                                               OpisKD2 frequency\n",
    "#0                                              TATVINA      5607\n",
    "#1                    KR�ITEV TEMELJNIH PRAVIC DELAVCEV      4024\n",
    "#2                                            GOLJUFIJA      3120\n",
    "#3                                       VELIKA TATVINA      2662\n",
    "#4    NEUPRAVI�ENA PROIZVODNJA IN PROMET S PREPOVEDA...      2066\n",
    "#..                                                 ...       ...\n",
    "#170                             ONESNA�ENJE PITNE VODE         1\n",
    "#171  PROTIPRAVNA PRILASTITEV STVARI OB PREISKAVI AL...         1\n",
    "#172                             KR�ITEV ENAKOPRAVNOSTI         1\n",
    "#173  KR�ITEV PRAVICE DO PRAVNEGA SREDSTVA ALI PETICIJE         1\n",
    "#174                                                            1\n",
    "\n",
    "\n",
    "#                                               OpisKD2 frequency\n",
    "#0                    KR�ITEV TEMELJNIH PRAVIC DELAVCEV      6069\n",
    "#1                                              TATVINA      5729\n",
    "#2                                            GOLJUFIJA      3482\n",
    "#3                                       VELIKA TATVINA      2522\n",
    "#4                                   PONAREJANJE LISTIN      1752\n",
    "#..                                                 ...       ...\n",
    "#167      ��UVANJE K NASILNI SPREMEMBI USTAVNE UREDITVE         1\n",
    "#168  SRAMOTITEV SLOVENSKEGA NARODA ALI NARODNIH SKU...         1\n",
    "#169            OGRO�ANJE OSEB POD MEDNARODNIM VARSTVOM         1\n",
    "#170  IZDELAVA, PRIDOBITEV IN ODTUJITEV PRIPOMO�KOV ...         1\n",
    "#171                         ONESNA�ENJE �IVIL ALI KRME         1\n",
    "\n",
    "\n",
    "\n",
    "#                                              OpisKD2 frequency\n",
    "#0                                             TATVINA      5706\n",
    "#1                   KR�ITEV TEMELJNIH PRAVIC DELAVCEV      4650\n",
    "#2                                           GOLJUFIJA      2697\n",
    "#3                                      VELIKA TATVINA      2490\n",
    "#4                                             GRO�NJA      2079\n",
    "#..                                                ...       ...\n",
    "#162                                        SRAMOTITEV         1\n",
    "#163                            FINANCIRANJE TERORIZMA         1\n",
    "#164                      ZLORABA NOTRANJE INFORMACIJE         1\n",
    "#165  O�ITANJE KAZNIVEGA DEJANJA Z NAMENOM ZANI�EVANJA         1\n",
    "#166       MALOMARNO OPRAVLJANJE LEKARNI�KE DEJAVNOSTI         1"
   ]
  },
  {
   "cell_type": "code",
   "execution_count": null,
   "metadata": {},
   "outputs": [],
   "source": [
    "abovex = []\n",
    "x = 10\n",
    "for i in range(len(frequencysKD)):\n",
    "    #pd.DataFrame(frequencysKD[i], columns=['OpisKD', 'frequency']['frequency']>x)\n",
    "    temp_df = pd.DataFrame(frequencysKD[i], columns=['OpisKD2', 'frequency'])\n",
    "    temp_df['frequency'] = temp_df['frequency'].astype(int)\n",
    "    abovex.append(temp_df[temp_df['frequency'] > x])\n",
    "\n",
    "for df in abovex:\n",
    "    df.plot(x='OpisKD2', y='frequency', kind='bar')"
   ]
  }
 ],
 "metadata": {
  "interpreter": {
   "hash": "36f77fa146a7152ad184f3c373bfe97ad43427932c803d6cc37ba2245818a8fd"
  },
  "kernelspec": {
   "display_name": "Python 3.8.6 64-bit (system)",
   "language": "python",
   "name": "python3"
  },
  "language_info": {
   "codemirror_mode": {
    "name": "ipython",
    "version": 3
   },
   "file_extension": ".py",
   "mimetype": "text/x-python",
   "name": "python",
   "nbconvert_exporter": "python",
   "pygments_lexer": "ipython3",
   "version": "3.8.6"
  },
  "orig_nbformat": 4
 },
 "nbformat": 4,
 "nbformat_minor": 2
}
