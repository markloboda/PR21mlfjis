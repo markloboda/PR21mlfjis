{
 "cells": [
  {
   "cell_type": "code",
   "execution_count": 1,
   "metadata": {},
   "outputs": [],
   "source": [
    "from data_loader.load import load_pd\n",
    "import numpy as np\n",
    "import pandas as pd\n",
    "import matplotlib.pyplot as plt\n"
   ]
  },
  {
   "cell_type": "markdown",
   "metadata": {},
   "source": [
    "## Load data and filter duplicates\n"
   ]
  },
  {
   "cell_type": "code",
   "execution_count": 3,
   "metadata": {},
   "outputs": [],
   "source": [
    "main_data18 = load_pd(\"../data/kd2018.csv\", \";\")\n",
    "main_data19 = load_pd(\"../data/kd2019.csv\", \";\")\n",
    "main_data20 = load_pd(\"../data/kd2020.csv\", \";\")\n",
    "main_data21 = load_pd(\"../data/kd2021.csv\", \";\")\n",
    "\n",
    "main_data18_filtered = main_data18.drop_duplicates([\"ZaporednaStevilkaKD\"])\n",
    "main_data19_filtered = main_data19.drop_duplicates([\"ZaporednaStevilkaKD\"])\n",
    "main_data20_filtered = main_data20.drop_duplicates([\"ZaporednaStevilkaKD\"])\n",
    "main_data21_filtered = main_data21.drop_duplicates([\"ZaporednaStevilkaKD\"])\n",
    "\n",
    "np.warnings.filterwarnings('ignore')\n",
    "main_data19_filtered[\"ZaporednaStevilkaKD\"] += main_data18_filtered[\"ZaporednaStevilkaKD\"].max()\n",
    "main_data20_filtered[\"ZaporednaStevilkaKD\"] += main_data19_filtered[\"ZaporednaStevilkaKD\"].max()\n",
    "main_data21_filtered[\"ZaporednaStevilkaKD\"] += main_data20_filtered[\"ZaporednaStevilkaKD\"].max()\n",
    "main_data = pd.concat([main_data18_filtered, main_data19_filtered,\n",
    "                      main_data20_filtered, main_data21_filtered])\n"
   ]
  },
  {
   "cell_type": "code",
   "execution_count": 6,
   "metadata": {},
   "outputs": [
    {
     "data": {
      "text/plain": [
       "array(['15:00-15:59', '00:00-00:59', '23:00-23:59', '17:00-17:59',\n",
       "       '11:00-11:59', '10:00-10:59', '13:00-13:59', '07:00-07:59',\n",
       "       '19:00-19:59', '09:00-09:59', '14:00-14:59', '18:00-18:59',\n",
       "       '12:00-12:59', '22:00-22:59', '20:00-20:59', '03:00-03:59',\n",
       "       '16:00-16:59', '08:00-08:59', '21:00-21:59', '02:00-02:59',\n",
       "       '01:00-01:59', '04:00-04:59', '06:00-06:59', '05:00-05:59'],\n",
       "      dtype=object)"
      ]
     },
     "execution_count": 6,
     "metadata": {},
     "output_type": "execute_result"
    }
   ],
   "source": [
    "time_of_day_map: dict = dict.fromkeys(main_data[\"UraStoritve\"].unique())\n",
    "main_data[\"UraStoritve\"].unique()\n"
   ]
  },
  {
   "cell_type": "code",
   "execution_count": 7,
   "metadata": {},
   "outputs": [],
   "source": [
    "time_of_day_map['15:00-15:59'] = \"afternoon\"\n",
    "time_of_day_map['00:00-00:59'] = \"night\"\n",
    "time_of_day_map['23:00-23:59'] = \"night\"\n",
    "time_of_day_map['17:00-17:59'] = \"afternoon\"\n",
    "time_of_day_map['11:00-11:59'] = \"morning\"\n",
    "time_of_day_map['10:00-10:59'] = \"morning\"\n",
    "time_of_day_map['13:00-13:59'] = \"afternoon\"\n",
    "time_of_day_map['07:00-07:59'] = \"morning\"\n",
    "time_of_day_map['19:00-19:59'] = \"evening\"\n",
    "time_of_day_map['09:00-09:59'] = \"morning\"\n",
    "time_of_day_map['14:00-14:59'] = \"afternoon\"\n",
    "time_of_day_map['18:00-18:59'] = \"evening\"\n",
    "time_of_day_map['12:00-12:59'] = \"afternoon\"\n",
    "time_of_day_map['22:00-22:59'] = \"night\"\n",
    "time_of_day_map['20:00-20:59'] = \"evening\"\n",
    "time_of_day_map['03:00-03:59'] = \"night\"\n",
    "time_of_day_map['16:00-16:59'] = \"afternoon\"\n",
    "time_of_day_map['08:00-08:59'] = \"morning\"\n",
    "time_of_day_map['21:00-21:59'] = \"night\"\n",
    "time_of_day_map['02:00-02:59'] = \"night\"\n",
    "time_of_day_map['01:00-01:59'] = \"night\"\n",
    "time_of_day_map['04:00-04:59'] = \"morning\"\n",
    "time_of_day_map['06:00-06:59'] = \"morning\"\n",
    "time_of_day_map['05:00-05:59'] = \"morning\"\n"
   ]
  },
  {
   "cell_type": "markdown",
   "metadata": {},
   "source": [
    "## Največ kriminala je v času:\n"
   ]
  },
  {
   "cell_type": "code",
   "execution_count": 23,
   "metadata": {},
   "outputs": [
    {
     "data": {
      "image/png": "[encoded data removed]",
      "text/plain": [
       "<Figure size 1440x360 with 1 Axes>"
      ]
     },
     "metadata": {
      "needs_background": "light"
     },
     "output_type": "display_data"
    }
   ],
   "source": [
    "plt.figure(figsize=(20, 5))\n",
    "plt.xticks(rotation=90)\n",
    "plt.xlabel('Čas dogodka')\n",
    "plt.ylabel('Število KD')\n",
    "\n",
    "count_per_time_of_day = main_data.groupby(\"UraStoritve\").count()[\n",
    "    \"ZaporednaStevilkaKD\"].sort_values(ascending=False)\n",
    "count_per_time_of_day.index = count_per_time_of_day.index.map(\n",
    "    lambda TOD: time_of_day_map[TOD])\n",
    "count_per_time_of_day = count_per_time_of_day.groupby(\n",
    "    level=0).sum().sort_values(ascending=False)\n",
    "plt.bar(count_per_time_of_day.index, count_per_time_of_day.values)\n"
   ]
  },
  {
   "cell_type": "markdown",
   "metadata": {},
   "source": [
    "## Load kazni dict\n"
   ]
  },
  {
   "cell_type": "code",
   "execution_count": 25,
   "metadata": {},
   "outputs": [],
   "source": [
    "import json\n",
    "# read json data from kazni_dict.json\n",
    "with open('../data/kazni_dict.json', 'r', encoding='utf8') as f:\n",
    "    kazni_dict = json.load(f)\n",
    "\n",
    "kazni_utezi = dict()\n",
    "for kd, values in kazni_dict.items():\n",
    "    if (pd.isna(values['average_actual_jailtime'])):\n",
    "        x = values['max_jailtime'] * 2 * values['dangerousness']\n",
    "    else:\n",
    "        x = (values['max_jailtime'] +\n",
    "             values['average_actual_jailtime']) * values['dangerousness']\n",
    "    kazni_utezi[kd] = x\n"
   ]
  },
  {
   "cell_type": "code",
   "execution_count": 28,
   "metadata": {},
   "outputs": [],
   "source": [
    "from collections import defaultdict\n",
    "nevarnost_by_tod: dict = dict.fromkeys(count_per_time_of_day.index, 0)\n",
    "kd_errors_dict = defaultdict(int)\n",
    "\n",
    "\n",
    "for i, kd in main_data.iterrows():\n",
    "    tod = time_of_day_map[kd[\"UraStoritve\"]]\n",
    "    kd = str.lower(str.strip(str.split(kd[\"OpisKD\"], '-')[-1]))\n",
    "\n",
    "    try:\n",
    "        nevarnost_by_tod[tod] += kazni_utezi[kd]\n",
    "    except KeyError:\n",
    "        kd_errors_dict[kd] += 1\n",
    "        # print(f\"NAPAKA PRI \\\"TOD: {tod}, KD: {kd}\\\"\")\n"
   ]
  },
  {
   "cell_type": "markdown",
   "metadata": {},
   "source": [
    "## Prikaz danger by Time of day"
   ]
  },
  {
   "cell_type": "code",
   "execution_count": 38,
   "metadata": {},
   "outputs": [
    {
     "data": {
      "image/png": "[encoded data removed]",
      "text/plain": [
       "<Figure size 432x288 with 1 Axes>"
      ]
     },
     "metadata": {
      "needs_background": "light"
     },
     "output_type": "display_data"
    }
   ],
   "source": [
    "np_tod_danger = np.array(list(nevarnost_by_tod.items()), dtype=object)\n",
    "np_tod_danger = np_tod_danger[np.argsort(np_tod_danger[:, 1])[::-1]]\n",
    "# print(np_regije_danger)\n",
    "# create graph of dangerousness of regions\n",
    "\n",
    "fig, ax = plt.subplots()\n",
    "ax.barh(np_tod_danger[:, 0], np_tod_danger[:, 1])\n",
    "ax.set_xlabel('Dangerousness')\n",
    "ax.set_ylabel('Time Of Day')\n",
    "ax.set_title('Dangerousness by time of day')\n",
    "plt.show()\n"
   ]
  },
  {
   "cell_type": "markdown",
   "metadata": {},
   "source": [
    "## Normalized by number of Kds in Time of day"
   ]
  },
  {
   "cell_type": "code",
   "execution_count": 42,
   "metadata": {},
   "outputs": [],
   "source": [
    "# normalize np_tod_danger with count_per_time_of_day\n",
    "normalized_np_tod_danger = np_tod_danger.copy()\n",
    "normalized_np_tod_danger[:, 1] = np_tod_danger[:, 1] / count_per_time_of_day.values\n",
    "normalized_np_tod_danger = normalized_np_tod_danger[np.argsort(normalized_np_tod_danger[:, 1])[::-1]]"
   ]
  },
  {
   "cell_type": "code",
   "execution_count": 43,
   "metadata": {},
   "outputs": [
    {
     "data": {
      "image/png": "[encoded data removed]",
      "text/plain": [
       "<Figure size 432x288 with 1 Axes>"
      ]
     },
     "metadata": {
      "needs_background": "light"
     },
     "output_type": "display_data"
    }
   ],
   "source": [
    "#plot np_tod_danger\n",
    "fig, ax = plt.subplots()\n",
    "ax.barh(normalized_np_tod_danger[:, 0], normalized_np_tod_danger[:, 1])\n",
    "ax.set_xlabel('Dangerousness')\n",
    "ax.set_ylabel('Time Of Day')\n",
    "ax.set_title('Normalized Dangerousness by time of day')\n",
    "plt.show()"
   ]
  },
  {
   "cell_type": "markdown",
   "metadata": {},
   "source": [
    "Je nekoliko manj odstopanja, kot bi pričakoval.\n",
    "Ponoči sem mislil da bo bolj nevarno kot npr zjutraj, ampak ni"
   ]
  }
 ],
 "metadata": {
  "interpreter": {
   "hash": "31f2aee4e71d21fbe5cf8b01ff0e069b9275f58929596ceb00d14d90e3e16cd6"
  },
  "kernelspec": {
   "display_name": "Python 3.8.9 64-bit",
   "language": "python",
   "name": "python3"
  },
  "language_info": {
   "codemirror_mode": {
    "name": "ipython",
    "version": 3
   },
   "file_extension": ".py",
   "mimetype": "text/x-python",
   "name": "python",
   "nbconvert_exporter": "python",
   "pygments_lexer": "ipython3",
   "version": "3.8.9"
  },
  "orig_nbformat": 4
 },
 "nbformat": 4,
 "nbformat_minor": 2
}
