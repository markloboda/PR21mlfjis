{
 "cells": [
  {
   "cell_type": "code",
   "execution_count": 6,
   "metadata": {},
   "outputs": [],
   "source": [
    "from data_loader.scrape_zakonik import scrape_zakonik\n",
    "from data_loader.load import load_px\n",
    "from IPython.display import display, HTML, Markdown\n",
    "\n",
    "zakonik = scrape_zakonik()"
   ]
  },
  {
   "cell_type": "code",
   "execution_count": 7,
   "metadata": {},
   "outputs": [],
   "source": [
    "# for KD, alineje in zakonik.items():\n",
    "#     if KD == \"kršitev spolne nedotakljivost z zlorabo položaja\":\n",
    "#         KD = \"kršitev spolne nedotakljivosti z zlorabo položaja\"\n",
    "#     display(Markdown(f\"## {KD}:  \"))\n",
    "#     if not alineje:\n",
    "#         display(Markdown(f\"* No data available *\"))\n",
    "#         continue\n",
    "#     for alineja in alineje:\n",
    "#         display(Markdown(f\"- {alineja}  \"))\n"
   ]
  },
  {
   "cell_type": "code",
   "execution_count": 8,
   "metadata": {},
   "outputs": [],
   "source": [
    "kd_min_max_jail: dict [str, list] = {}"
   ]
  },
  {
   "cell_type": "code",
   "execution_count": 9,
   "metadata": {},
   "outputs": [],
   "source": [
    "sankcije = load_px()"
   ]
  },
  {
   "cell_type": "code",
   "execution_count": 10,
   "metadata": {},
   "outputs": [
    {
     "name": "stdout",
     "output_type": "stream",
     "text": [
      "['KAZNIVO DEJANJE - SKUPAJ' '1. KAZENSKI ZAKONIK (KZ-UPB1)'\n",
      " '1.XV KAZNIVA DEJANJA ZOPER \\x8eIVLJENJE IN TELO' ...\n",
      " '7.XXXII.341 mučenje \\x9eivali'\n",
      " '7.XXXII.341031 mučenje \\x9eivali - od. 3 v zvezi z od. 1' '9. DRUGO'] 1448\n"
     ]
    }
   ],
   "source": [
    "print(sankcije[\"KAZNIVO DEJANJE\"].unique(), sankcije[\"KAZNIVO DEJANJE\"].unique().size)\n"
   ]
  }
 ],
 "metadata": {
  "interpreter": {
   "hash": "19419c6bfb2b195f98a3b043847f1bbcae44e47f0c680028bca36c8637fb1768"
  },
  "kernelspec": {
   "display_name": "Python 3.10.1 64-bit",
   "language": "python",
   "name": "python3"
  },
  "language_info": {
   "codemirror_mode": {
    "name": "ipython",
    "version": 3
   },
   "file_extension": ".py",
   "mimetype": "text/x-python",
   "name": "python",
   "nbconvert_exporter": "python",
   "pygments_lexer": "ipython3",
   "version": "3.10.1"
  },
  "orig_nbformat": 4
 },
 "nbformat": 4,
 "nbformat_minor": 2
}
