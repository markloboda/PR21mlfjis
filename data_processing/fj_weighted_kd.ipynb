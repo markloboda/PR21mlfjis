{
 "cells": [
  {
   "cell_type": "code",
   "execution_count": 1,
   "metadata": {},
   "outputs": [],
   "source": [
    "from data_loader.scrape_zakonik import scrape_zakonik\n",
    "from IPython.display import display, HTML, Markdown\n",
    "\n",
    "zakonik = scrape_zakonik()"
   ]
  },
  {
   "cell_type": "code",
   "execution_count": 2,
   "metadata": {},
   "outputs": [
    {
     "data": {
      "text/markdown": [
       "## dajanje daril za nezakonito posredovanje:  "
      ],
      "text/plain": [
       "<IPython.core.display.Markdown object>"
      ]
     },
     "metadata": {},
     "output_type": "display_data"
    },
    {
     "data": {
      "text/markdown": [
       "- (1) Kdor drugemu obljubi, ponudi ali\r\n",
       "da nagrado, darilo ali kakšno drugo korist zanj ali za koga drugega, da bi\r\n",
       "izkoristil svoj položaj ali svoj resnični ali domnevni vpliv in posredoval, da\r\n",
       "se opravi ali ne opravi kakšno uradno dejanje, se kaznuje z zaporom do štirih\r\n",
       "let in denarno kaznijo.  "
      ],
      "text/plain": [
       "<IPython.core.display.Markdown object>"
      ]
     },
     "metadata": {},
     "output_type": "display_data"
    },
    {
     "data": {
      "text/markdown": [
       "- (2) Kdor drugemu obljubi, ponudi ali\r\n",
       "da nagrado, darilo ali kakšno drugo korist zanj ali za koga drugega, da bi\r\n",
       "izkoristil svoj položaj ali svoj resnični ali domnevni vpliv in posredoval, da\r\n",
       "bi se opravilo uradno dejanje, ki se ne bi smelo opraviti, ali da se ne bi\r\n",
       "opravilo uradno dejanje, ki bi se moralo ali smelo opraviti, se kaznuje z\r\n",
       "zaporom od enega do šestih let in denarno kaznijo.  "
      ],
      "text/plain": [
       "<IPython.core.display.Markdown object>"
      ]
     },
     "metadata": {},
     "output_type": "display_data"
    },
    {
     "data": {
      "text/markdown": [
       "- (3) Storilcu kaznivega dejanja iz\r\n",
       "prejšnjih odstavkov, ki je dal nagrado, darilo ali kakšno drugo korist na\r\n",
       "zahtevo osebe, ki je nezakonito posredovala, pa je dejanje naznanil, preden je\r\n",
       "bilo odkrito ali preden je izvedel, da je odkrito, se sme kazen odpustiti.  "
      ],
      "text/plain": [
       "<IPython.core.display.Markdown object>"
      ]
     },
     "metadata": {},
     "output_type": "display_data"
    },
    {
     "data": {
      "text/markdown": [
       "## dajanje podkupnine:  "
      ],
      "text/plain": [
       "<IPython.core.display.Markdown object>"
      ]
     },
     "metadata": {},
     "output_type": "display_data"
    },
    {
     "data": {
      "text/markdown": [
       "- (1) Kdor uradni osebi ali javnemu uslužbencu\r\n",
       "obljubi, ponudi ali da nagrado, darilo ali kakšno drugo korist zanjo ali za\r\n",
       "koga drugega, da bi v mejah svojih uradnih pravic opravila uradno dejanje, ki\r\n",
       "ga ne bi smela opraviti, ali da ne bi opravila dejanja, ki bi ga morala ali\r\n",
       "smela opraviti ali da bi kako drugače zlorabila svoj položaj ali kdor posreduje\r\n",
       "pri takem podkupovanju, se kaznuje za zaporom od enega do šestih let in denarno kaznijo.  "
      ],
      "text/plain": [
       "<IPython.core.display.Markdown object>"
      ]
     },
     "metadata": {},
     "output_type": "display_data"
    },
    {
     "data": {
      "text/markdown": [
       "- (2) Kdor uradni osebi ali javnemu\r\n",
       "uslužbencu obljubi, ponudi ali da nagrado, darilo ali kakšno drugo korist zanjo\r\n",
       "ali za koga drugega, da bi v mejah svojih uradnih pravic\r\n",
       "opravila uradno dejanje, ki bi ga tudi sicer morala ali smela opraviti, ali da\r\n",
       "ne bi opravila dejanja, ki ga tudi sicer ne bi smela opraviti ali da bi kako\r\n",
       "drugače uporabila svoj položaj, se kaznuje z zaporom od šestih mesecev do štirih\r\n",
       "let in denarno kaznijo.  "
      ],
      "text/plain": [
       "<IPython.core.display.Markdown object>"
      ]
     },
     "metadata": {},
     "output_type": "display_data"
    },
    {
     "data": {
      "text/markdown": [
       "- (3) Storilcu kaznivega dejanja iz\r\n",
       "prejšnjih odstavkov, ki je dal nagrado, darilo ali kakšno drugo korist na\r\n",
       "zahtevo uradne osebe ali javnega uslužbenca, pa je dejanje naznanil, preden je\r\n",
       "bilo odkrito ali preden je izvedel, da je odkrito, se sme kazen odpustiti,\r\n",
       "če to ne nasprotuje pravilom mednarodnega prava.   "
      ],
      "text/plain": [
       "<IPython.core.display.Markdown object>"
      ]
     },
     "metadata": {},
     "output_type": "display_data"
    },
    {
     "data": {
      "text/markdown": [
       "## davčna zatajitev:  "
      ],
      "text/plain": [
       "<IPython.core.display.Markdown object>"
      ]
     },
     "metadata": {},
     "output_type": "display_data"
    },
    {
     "data": {
      "text/markdown": [
       "- (1) Kdor z enim ali več ravnanji, zato da\r\n",
       "bi se sam ali kdo drug popolnoma ali deloma izognil plačilu davkov, prispevkov\r\n",
       "ali drugih predpisanih obveznosti fizičnih ali pravnih oseb ali neupravičeno\r\n",
       "dobil v celoti ali deloma vrnjen davek v Republiki Sloveniji ali drugih državah\r\n",
       "članicah Evropske unije, da lažne podatke o pridobljenih dohodkih, stroških,\r\n",
       "predmetih, blagu ali drugih okoliščinah, ki vplivajo na ugotovitev davkov in\r\n",
       "drugih predpisanih obveznosti, ali kako drugače preslepi organ, pristojen za\r\n",
       "odmero ali nadzor nad obračunavanjem in plačevanjem teh obveznosti, pa skupna\r\n",
       "višina neporavnanih obveznosti ali obveznosti, ki se jim je izogibal, ali\r\n",
       "davka, ki mu je bil neupravičeno vrnjen, ne glede na vrsto obveznosti ali davka\r\n",
       "v obdobju največ dvanajstih zaporednih mesecev, doseže veliko premoženjsko\r\n",
       "vrednost, se kaznuje z zaporom od enega do osmih let.  "
      ],
      "text/plain": [
       "<IPython.core.display.Markdown object>"
      ]
     },
     "metadata": {},
     "output_type": "display_data"
    },
    {
     "data": {
      "text/markdown": [
       "- (2) Enako se kaznuje, kdor z namenom iz\r\n",
       "prejšnjega odstavka enkrat ali večkrat ne prijavi pridobljenega dohodka ali\r\n",
       "drugih okoliščin, ki vplivajo na ugotovitev davkov, prispevkov ali drugih\r\n",
       "predpisanih obveznosti fizičnih ali pravnih oseb, kadar je prijava obvezna, pa\r\n",
       "skupna višina neporavnanih obveznosti ali obveznosti, ki se jim je izogibal, ne\r\n",
       "glede na vrsto obveznosti v obdobju največ dvanajstih zaporednih mesecev,\r\n",
       "doseže veliko premoženjsko vrednost.  "
      ],
      "text/plain": [
       "<IPython.core.display.Markdown object>"
      ]
     },
     "metadata": {},
     "output_type": "display_data"
    },
    {
     "data": {
      "text/markdown": [
       "- (3) Kdor z namenom, da bi preprečil\r\n",
       "ugotovitev dejanske davčne obveznosti, na zahtevo pristojnega davčnega organa\r\n",
       "ne daje podatkov, ne vodi ali ne predloži poslovnih\r\n",
       "knjig in evidenc, ki jih je dolžan voditi, ali so knjige in evidence vsebinsko\r\n",
       "napačne, ali ne da pojasnil v zvezi s predmetom davčnega nadzora ali ovira\r\n",
       "davčni nadzor, se kaznuje z zaporom do dveh let.  "
      ],
      "text/plain": [
       "<IPython.core.display.Markdown object>"
      ]
     },
     "metadata": {},
     "output_type": "display_data"
    },
    {
     "data": {
      "text/markdown": [
       "- (4) Če je\r\n",
       "bilo dejanje iz prvega ali drugega odstavka tega člena storjeno v hudodelski\r\n",
       "združbi, se storilec kaznuje z zaporom od treh do dvanajstih let.  "
      ],
      "text/plain": [
       "<IPython.core.display.Markdown object>"
      ]
     },
     "metadata": {},
     "output_type": "display_data"
    },
    {
     "data": {
      "text/markdown": [
       "## detomor:  "
      ],
      "text/plain": [
       "<IPython.core.display.Markdown object>"
      ]
     },
     "metadata": {},
     "output_type": "display_data"
    },
    {
     "data": {
      "text/markdown": [
       "- Mati, ki vzame življenje svojemu otroku med\r\n",
       "porodom ali takoj po njem, dokler je še pod njegovim vplivom, se kaznuje z\r\n",
       "zaporom do treh let.  "
      ],
      "text/plain": [
       "<IPython.core.display.Markdown object>"
      ]
     },
     "metadata": {},
     "output_type": "display_data"
    },
    {
     "data": {
      "text/markdown": [
       "## dogovor za kaznivo dejanje:  "
      ],
      "text/plain": [
       "<IPython.core.display.Markdown object>"
      ]
     },
     "metadata": {},
     "output_type": "display_data"
    },
    {
     "data": {
      "text/markdown": [
       "- Kdor se s kom dogovori, da bosta storila\r\n",
       "kaznivo dejanje, za katero se sme izreči kazen petih let zapora ali hujša\r\n",
       "kazen, se kaznuje z zaporom do enega leta.  "
      ],
      "text/plain": [
       "<IPython.core.display.Markdown object>"
      ]
     },
     "metadata": {},
     "output_type": "display_data"
    },
    {
     "data": {
      "text/markdown": [
       "## dvojna zakonska zveza:  "
      ],
      "text/plain": [
       "<IPython.core.display.Markdown object>"
      ]
     },
     "metadata": {},
     "output_type": "display_data"
    },
    {
     "data": {
      "text/markdown": [
       "- (1) Kdor sklene novo zakonsko zvezo,\r\n",
       "čeprav je že poročen, se kaznuje z denarno kaznijo ali zaporom do enega leta.  "
      ],
      "text/plain": [
       "<IPython.core.display.Markdown object>"
      ]
     },
     "metadata": {},
     "output_type": "display_data"
    },
    {
     "data": {
      "text/markdown": [
       "- (2) Enako se kaznuje tudi, kdor sklene\r\n",
       "zakonsko zvezo z osebo, za katero ve, da je poročena.  "
      ],
      "text/plain": [
       "<IPython.core.display.Markdown object>"
      ]
     },
     "metadata": {},
     "output_type": "display_data"
    },
    {
     "data": {
      "text/markdown": [
       "- (3) Če je prejšnja zakonska zveza\r\n",
       "prenehala ali je bila razveljavljena, se pregon ne začne, če pa se je začel, se\r\n",
       "ustavi.  "
      ],
      "text/plain": [
       "<IPython.core.display.Markdown object>"
      ]
     },
     "metadata": {},
     "output_type": "display_data"
    },
    {
     "data": {
      "text/markdown": [
       "## financiranje terorizma:  "
      ],
      "text/plain": [
       "<IPython.core.display.Markdown object>"
      ]
     },
     "metadata": {},
     "output_type": "display_data"
    },
    {
     "data": {
      "text/markdown": [
       "- (1) Kdor\r\n",
       "zagotovi ali zbere denar ali premoženje z namenom ali za katerega ve, da bo\r\n",
       "deloma ali v celoti uporabljeno za storitev dejanja iz 108., 108.a, 110., 111.,\r\n",
       "307., 329., 330., 352., 353., 354., 355., 371. in 373. člena tega\r\n",
       "zakonika, se kaznuje z zaporom od enega do desetih let.  "
      ],
      "text/plain": [
       "<IPython.core.display.Markdown object>"
      ]
     },
     "metadata": {},
     "output_type": "display_data"
    },
    {
     "data": {
      "text/markdown": [
       "- (2) Enako se kaznuje storilec dejanja\r\n",
       "iz prejšnjega odstavka tudi, če z namenom zagotovljen ali zbran denar ali\r\n",
       "premoženje ni bil dejansko uporabljen za storitev v prejšnjem odstavku\r\n",
       "navedenih kaznivih dejanj.  "
      ],
      "text/plain": [
       "<IPython.core.display.Markdown object>"
      ]
     },
     "metadata": {},
     "output_type": "display_data"
    },
    {
     "data": {
      "text/markdown": [
       "- (3) Če je bilo dejanje iz prejšnjih\r\n",
       "odstavkov storjeno v teroristični hudodelski združbi ali skupini za izvrševanje\r\n",
       "terorističnih kaznivih dejanj, se storilec kaznuje z zaporom od treh do\r\n",
       "petnajstih let.  "
      ],
      "text/plain": [
       "<IPython.core.display.Markdown object>"
      ]
     },
     "metadata": {},
     "output_type": "display_data"
    },
    {
     "data": {
      "text/markdown": [
       "- (4) Denar in premoženje iz prejšnjih\r\n",
       "odstavkov se vzameta.  "
      ],
      "text/plain": [
       "<IPython.core.display.Markdown object>"
      ]
     },
     "metadata": {},
     "output_type": "display_data"
    },
    {
     "data": {
      "text/markdown": [
       "## genocid:  "
      ],
      "text/plain": [
       "<IPython.core.display.Markdown object>"
      ]
     },
     "metadata": {},
     "output_type": "display_data"
    },
    {
     "data": {
      "text/markdown": [
       "- (1) Kdor ukaže ali stori z namenom, da\r\n",
       "bi v celoti ali delno uničil neko narodnostno, etnično, rasno ali versko\r\n",
       "skupino, naslednja dejanja:  "
      ],
      "text/plain": [
       "<IPython.core.display.Markdown object>"
      ]
     },
     "metadata": {},
     "output_type": "display_data"
    },
    {
     "data": {
      "text/markdown": [
       "## goljufija:  "
      ],
      "text/plain": [
       "<IPython.core.display.Markdown object>"
      ]
     },
     "metadata": {},
     "output_type": "display_data"
    },
    {
     "data": {
      "text/markdown": [
       "- (1) Kdor, zato da bi sebi ali komu\r\n",
       "drugemu pridobil protipravno premoženjsko korist, spravi koga z lažnivim\r\n",
       "prikazovanjem ali prikrivanjem dejanskih okoliščin v zmoto ali ga pusti v zmoti\r\n",
       "in ga s tem zapelje, da ta v škodo svojega ali tujega premoženja kaj stori ali\r\n",
       "opusti, se kaznuje z zaporom do treh let.  "
      ],
      "text/plain": [
       "<IPython.core.display.Markdown object>"
      ]
     },
     "metadata": {},
     "output_type": "display_data"
    },
    {
     "data": {
      "text/markdown": [
       "- (2) Kdor z namenom iz prejšnjega\r\n",
       "odstavka tega člena v zavarovalništvu ob sklenitvi pogodbe navede lažne podatke\r\n",
       "ali zamolči pomembne podatke, sklene prepovedano dvojno zavarovanje ali sklene\r\n",
       "zavarovalno pogodbo potem, ko je zavarovalni ali škodni primer že nastopil, ali\r\n",
       "lažno prikaže škodni dogodek, se kaznuje z zaporom do enega leta.  "
      ],
      "text/plain": [
       "<IPython.core.display.Markdown object>"
      ]
     },
     "metadata": {},
     "output_type": "display_data"
    },
    {
     "data": {
      "text/markdown": [
       "- (3) Če sta goljufijo storili dve ali\r\n",
       "več oseb, ki so se združile zato, da bi goljufale, ali če je storilec z\r\n",
       "dejanjem iz prvega odstavka tega člena povzročil veliko premoženjsko škodo, se\r\n",
       "storilec kaznuje z zaporom od enega do osmih let.  "
      ],
      "text/plain": [
       "<IPython.core.display.Markdown object>"
      ]
     },
     "metadata": {},
     "output_type": "display_data"
    },
    {
     "data": {
      "text/markdown": [
       "- (4) Če je bilo dejanje iz prvega ali\r\n",
       "tretjega odstavka tega člena storjeno v hudodelski združbi, se storilec kaznuje\r\n",
       "z zaporom od enega do desetih let.  "
      ],
      "text/plain": [
       "<IPython.core.display.Markdown object>"
      ]
     },
     "metadata": {},
     "output_type": "display_data"
    },
    {
     "data": {
      "text/markdown": [
       "- (5) Če je z dejanjem iz prvega\r\n",
       "odstavka tega člena povzročena majhna premoženjska škoda in je storilec hotel\r\n",
       "pridobiti majhno premoženjsko korist, se kaznuje z denarno kaznijo ali zaporom\r\n",
       "do enega leta.  "
      ],
      "text/plain": [
       "<IPython.core.display.Markdown object>"
      ]
     },
     "metadata": {},
     "output_type": "display_data"
    },
    {
     "data": {
      "text/markdown": [
       "- (6) Kdor, zato da bi drugega\r\n",
       "oškodoval, spravi koga z lažnim prikazovanjem ali prikrivanjem dejanskih\r\n",
       "okoliščin v zmoto ali ga pusti v zmoti in ga s tem zapelje, da ta v škodo\r\n",
       "svojega ali tujega premoženja kaj stori ali opusti, se kaznuje z denarno\r\n",
       "kaznijo ali zaporom do enega leta.  "
      ],
      "text/plain": [
       "<IPython.core.display.Markdown object>"
      ]
     },
     "metadata": {},
     "output_type": "display_data"
    },
    {
     "data": {
      "text/markdown": [
       "- (7) Pregon za dejanje iz petega in\r\n",
       "šestega odstavka tega člena se začne na predlog.  "
      ],
      "text/plain": [
       "<IPython.core.display.Markdown object>"
      ]
     },
     "metadata": {},
     "output_type": "display_data"
    },
    {
     "data": {
      "text/markdown": [
       "## goljufija na škodo evropske unije:  "
      ],
      "text/plain": [
       "<IPython.core.display.Markdown object>"
      ]
     },
     "metadata": {},
     "output_type": "display_data"
    },
    {
     "data": {
      "text/markdown": [
       "- (1) Kdor se\r\n",
       "izogne odhodkom s tem, da uporabi ali predloži lažne, nepravilne ali nepopolne\r\n",
       "izjave ali dokumente ali ne razkrije podatkov in tako povzroči škodo splošnemu\r\n",
       "proračunu Evropske unije, proračunu, ki ga upravlja Evropska unija, ali proračunu,\r\n",
       "ki se upravlja v imenu Evropske unije, se kaznuje z zaporom od treh mesecev do\r\n",
       "petih let.  "
      ],
      "text/plain": [
       "<IPython.core.display.Markdown object>"
      ]
     },
     "metadata": {},
     "output_type": "display_data"
    },
    {
     "data": {
      "text/markdown": [
       "- (2) Enako se kaznuje, kdor poneveri,\r\n",
       "neupravičeno zadržuje ali neustrezno uporabi sredstva splošnega proračuna\r\n",
       "Evropske unije, proračuna, ki ga upravlja Evropska unija, ali proračuna, ki se\r\n",
       "upravlja v imenu Evropske unije.  "
      ],
      "text/plain": [
       "<IPython.core.display.Markdown object>"
      ]
     },
     "metadata": {},
     "output_type": "display_data"
    },
    {
     "data": {
      "text/markdown": [
       "- (3) Enako se kaznuje, kdor pridobi sredstva iz proračunov iz prvega in\r\n",
       "drugega odstavka tega člena s tem, da uporabi ali predloži lažne, nepravilne\r\n",
       "ali nepopolne izjave ali dokumente ali ne razkrije podatkov.  "
      ],
      "text/plain": [
       "<IPython.core.display.Markdown object>"
      ]
     },
     "metadata": {},
     "output_type": "display_data"
    },
    {
     "data": {
      "text/markdown": [
       "- (4) Če je\r\n",
       "bila z dejanjem iz prejšnjih odstavkov pridobljena velika premoženjska korist\r\n",
       "ali povzročena velika premoženjska škoda, se storilec kaznuje z zaporom od\r\n",
       "enega do osmih let.  "
      ],
      "text/plain": [
       "<IPython.core.display.Markdown object>"
      ]
     },
     "metadata": {},
     "output_type": "display_data"
    },
    {
     "data": {
      "text/markdown": [
       "- (5) S kaznimi\r\n",
       "iz prejšnjih odstavkov tega člena se kaznujejo vodje podjetij ali druge osebe,\r\n",
       "ki so pooblaščene za sprejemanje odločitev ali nadzor v podjetjih, če omogočijo\r\n",
       "ali ne preprečijo kaznivih dejanj storilcem iz prejšnjih odstavkov, ki so jim\r\n",
       "podrejeni in delujejo v imenu podjetja.  "
      ],
      "text/plain": [
       "<IPython.core.display.Markdown object>"
      ]
     },
     "metadata": {},
     "output_type": "display_data"
    },
    {
     "data": {
      "text/markdown": [
       "- (1) Kdor zase ali za koga drugega\r\n",
       "pridobi posojilo, investicijska sredstva, subvencijo ali kakšno drugo ugodnost\r\n",
       "za opravljanje gospodarske dejavnosti, čeprav ne izpolnjuje zahtevanih pogojev,\r\n",
       "s tem da posojilodajalcu ali drugemu, ki je pristojen za podelitev ali odobritev take ugodnosti, predloži neresnične ali nepopolne\r\n",
       "podatke o premoženjskem stanju, bilancah, dobičku ali izgubi ali druge podatke,\r\n",
       "pomembne za odobritev posojila ali ugodnosti oziroma te podatke zamolči, se\r\n",
       "kaznuje z denarno kaznijo ali zaporom do treh let.  "
      ],
      "text/plain": [
       "<IPython.core.display.Markdown object>"
      ]
     },
     "metadata": {},
     "output_type": "display_data"
    },
    {
     "data": {
      "text/markdown": [
       "- (2) Kdor tistega, ki je podelil ali odobril\r\n",
       "posojilo ali ugodnost iz prejšnjega odstavka, preslepi glede namena uporabe ali\r\n",
       "mu prikrije, da jih je uporabil v druge namene, kot so bili odobreni ali\r\n",
       "dogovorjeni, se kaznuje z denarno kaznijo ali zaporom do dveh let.   "
      ],
      "text/plain": [
       "<IPython.core.display.Markdown object>"
      ]
     },
     "metadata": {},
     "output_type": "display_data"
    },
    {
     "data": {
      "text/markdown": [
       "## grožnja:  "
      ],
      "text/plain": [
       "<IPython.core.display.Markdown object>"
      ]
     },
     "metadata": {},
     "output_type": "display_data"
    },
    {
     "data": {
      "text/markdown": [
       "- (1) Kdor komu, zato da bi ga ustrahoval ali\r\n",
       "vznemiril, resno zagrozi, da bo napadel njegovo življenje ali telo ali prostost\r\n",
       "ali uničil njegovo premoženje velike vrednosti, ali da bo ta dejanja storil\r\n",
       "zoper njegovo bližnjo osebo, se kaznuje z denarno kaznijo ali zaporom do šestih\r\n",
       "mesecev.   "
      ],
      "text/plain": [
       "<IPython.core.display.Markdown object>"
      ]
     },
     "metadata": {},
     "output_type": "display_data"
    },
    {
     "data": {
      "text/markdown": [
       "- (2) Kdor stori dejanje iz prejšnjega\r\n",
       "odstavka proti dvema ali več osebam ali z grdim ravnanjem ali z orožjem,\r\n",
       "nevarnim orodjem, drugim sredstvom ali na tak način, da se lahko telo hudo\r\n",
       "poškoduje ali zdravje hudo okvari, se kaznuje z denarno kaznijo ali zaporom do\r\n",
       "enega leta.   "
      ],
      "text/plain": [
       "<IPython.core.display.Markdown object>"
      ]
     },
     "metadata": {},
     "output_type": "display_data"
    },
    {
     "data": {
      "text/markdown": [
       "- (3) Pregon za dejanje iz prvega in drugega\r\n",
       "odstavka tega člena se začne na predlog, razen, če je\r\n",
       "dejanje storjeno zoper koga od najvišjih predstavnikov države, poslanca, člana\r\n",
       "državnega sveta, člana vlade, sodnika ustavnega ali vrhovnega sodišča ali zoper\r\n",
       "njegovega bližnjega.  "
      ],
      "text/plain": [
       "<IPython.core.display.Markdown object>"
      ]
     },
     "metadata": {},
     "output_type": "display_data"
    },
    {
     "data": {
      "text/markdown": [
       "## huda telesna poškodba:  "
      ],
      "text/plain": [
       "<IPython.core.display.Markdown object>"
      ]
     },
     "metadata": {},
     "output_type": "display_data"
    },
    {
     "data": {
      "text/markdown": [
       "- (1) Kdor koga tako telesno poškoduje\r\n",
       "ali mu prizadene tako škodo na zdravju, da bi bilo lahko zaradi tega v nevarnosti\r\n",
       "življenje poškodovanca, ali je uničen ali za vselej in znatno oslabljen kakšen\r\n",
       "del njegovega telesa ali kak organ ali je začasno in znatno oslabljen pomemben\r\n",
       "del telesa ali pomemben organ ali je zaradi tega poškodovani začasno nezmožen\r\n",
       "za vsakršno delo ali je njegova zmožnost za delo za vselej zmanjšana ali je\r\n",
       "bila začasno precej zmanjšana ali je bil začasno skažen ali mu je začasno hudo\r\n",
       "ali za vselej v manjši meri okvarjeno zdravje, se kaznuje z zaporom od šestih\r\n",
       "mesecev do petih let.  "
      ],
      "text/plain": [
       "<IPython.core.display.Markdown object>"
      ]
     },
     "metadata": {},
     "output_type": "display_data"
    },
    {
     "data": {
      "text/markdown": [
       "- (2) Če poškodovani zaradi poškodbe iz\r\n",
       "prejšnjega odstavka umre, se storilec kaznuje z zaporom od enega do desetih\r\n",
       "let.  "
      ],
      "text/plain": [
       "<IPython.core.display.Markdown object>"
      ]
     },
     "metadata": {},
     "output_type": "display_data"
    },
    {
     "data": {
      "text/markdown": [
       "- (3) Kdor stori dejanje iz prvega\r\n",
       "odstavka tega člena iz malomarnosti, se kaznuje z zaporom do dveh let.  "
      ],
      "text/plain": [
       "<IPython.core.display.Markdown object>"
      ]
     },
     "metadata": {},
     "output_type": "display_data"
    },
    {
     "data": {
      "text/markdown": [
       "- (4) Če je storilec dejanje iz prvega\r\n",
       "ali drugega odstavka tega člena storil na mah, ker ga je poškodovanec brez njegove\r\n",
       "krivde z napadom ali hudimi žalitvami močno razdražil, se kaznuje z zaporom do\r\n",
       "treh let.  "
      ],
      "text/plain": [
       "<IPython.core.display.Markdown object>"
      ]
     },
     "metadata": {},
     "output_type": "display_data"
    },
    {
     "data": {
      "text/markdown": [
       "## hudodelsko združevanje:  "
      ],
      "text/plain": [
       "<IPython.core.display.Markdown object>"
      ]
     },
     "metadata": {},
     "output_type": "display_data"
    },
    {
     "data": {
      "text/markdown": [
       "- (1) Kdor sodeluje v hudodelski\r\n",
       "združbi, ki ima namen storiti kaznivo dejanje, za katero se sme izreči kazen\r\n",
       "več kot treh let zapora ali dosmrtnega zapora, se kaznuje z zaporom od treh\r\n",
       "mesecev do petih let.  "
      ],
      "text/plain": [
       "<IPython.core.display.Markdown object>"
      ]
     },
     "metadata": {},
     "output_type": "display_data"
    },
    {
     "data": {
      "text/markdown": [
       "- (2) Kdor ustanovi ali vodi združbo iz\r\n",
       "prejšnjega odstavka, se kaznuje z zaporom od šestih mesecev do osmih let.  "
      ],
      "text/plain": [
       "<IPython.core.display.Markdown object>"
      ]
     },
     "metadata": {},
     "output_type": "display_data"
    },
    {
     "data": {
      "text/markdown": [
       "- (3) Storilcu kaznivega dejanja iz\r\n",
       "prejšnjih odstavkov, ki prepreči nadaljnje opravljanje teh dejanj ali razkrije\r\n",
       "podatke, ki so pomembni za preiskovanje in dokazovanje že storjenih kaznivih\r\n",
       "dejanj, se kazen za ta dejanja omili v skladu z 51. členom tega zakonika.  "
      ],
      "text/plain": [
       "<IPython.core.display.Markdown object>"
      ]
     },
     "metadata": {},
     "output_type": "display_data"
    },
    {
     "data": {
      "text/markdown": [
       "## hudodelstva zoper človečnost:  "
      ],
      "text/plain": [
       "<IPython.core.display.Markdown object>"
      ]
     },
     "metadata": {},
     "output_type": "display_data"
    },
    {
     "data": {
      "text/markdown": [
       "- Kdor ukaže ali stori dejanja, ki so\r\n",
       "sestavni del velikega ali sistematičnega napada na civilno prebivalstvo ob vednosti\r\n",
       "storilca, da gre za tak napad:  "
      ],
      "text/plain": [
       "<IPython.core.display.Markdown object>"
      ]
     },
     "metadata": {},
     "output_type": "display_data"
    },
    {
     "data": {
      "text/markdown": [
       "## hujskanje k upiranju:  "
      ],
      "text/plain": [
       "<IPython.core.display.Markdown object>"
      ]
     },
     "metadata": {},
     "output_type": "display_data"
    },
    {
     "data": {
      "text/markdown": [
       "- (1) Kdor druge hujska k nasilnemu\r\n",
       "upiranju zakonitim odločbam ali ukrepom državnih organov ali proti uradni\r\n",
       "osebi, ki opravlja uradno dejanje, se kaznuje z zaporom do enega leta.  "
      ],
      "text/plain": [
       "<IPython.core.display.Markdown object>"
      ]
     },
     "metadata": {},
     "output_type": "display_data"
    },
    {
     "data": {
      "text/markdown": [
       "- (2) Če zaradi dejanja iz prejšnjega\r\n",
       "odstavka odločba ali ukrep državnega organa ni bil izveden ali je bila izvedba\r\n",
       "zelo otežena ali je to dejanje storil vodja skupine, se storilec kaznuje z\r\n",
       "zaporom do treh let.  "
      ],
      "text/plain": [
       "<IPython.core.display.Markdown object>"
      ]
     },
     "metadata": {},
     "output_type": "display_data"
    },
    {
     "data": {
      "text/markdown": [
       "## izdaja in neupravičena pridobitev poslovne skrivnosti:  "
      ],
      "text/plain": [
       "<IPython.core.display.Markdown object>"
      ]
     },
     "metadata": {},
     "output_type": "display_data"
    },
    {
     "data": {
      "text/markdown": [
       "- (1) Kdor neupravičeno v nasprotju s\r\n",
       "svojimi dolžnostmi glede varovanja poslovne skrivnosti sporoči ali izroči komu\r\n",
       "podatke, ki so poslovna skrivnost, ali mu kako drugače omogoči, da pride do\r\n",
       "njih, ali jih zbira z namenom, da jih izroči nepoklicani osebi, se kaznuje z\r\n",
       "zaporom do treh let.  "
      ],
      "text/plain": [
       "<IPython.core.display.Markdown object>"
      ]
     },
     "metadata": {},
     "output_type": "display_data"
    },
    {
     "data": {
      "text/markdown": [
       "- (2) Enako se kaznuje, kdor z namenom,\r\n",
       "da jih neupravičeno uporabi, protipravno pride do podatkov, ki se varujejo kot\r\n",
       "poslovna skrivnost.  "
      ],
      "text/plain": [
       "<IPython.core.display.Markdown object>"
      ]
     },
     "metadata": {},
     "output_type": "display_data"
    },
    {
     "data": {
      "text/markdown": [
       "- (3) Če so podatki iz prvega ali\r\n",
       "drugega odstavka tega člena posebno pomembni, če kdo izroči take podatke zato,\r\n",
       "da jih kdo odnese v tujino, ali je dejanje storjeno iz koristoljubnosti, se\r\n",
       "storilec kaznuje z zaporom do petih let.  "
      ],
      "text/plain": [
       "<IPython.core.display.Markdown object>"
      ]
     },
     "metadata": {},
     "output_type": "display_data"
    },
    {
     "data": {
      "text/markdown": [
       "- (4) Če je dejanje iz prvega ali\r\n",
       "tretjega odstavka tega člena storjeno iz malomarnosti, se storilec kaznuje z\r\n",
       "zaporom do enega leta.  "
      ],
      "text/plain": [
       "<IPython.core.display.Markdown object>"
      ]
     },
     "metadata": {},
     "output_type": "display_data"
    },
    {
     "data": {
      "text/markdown": [
       "- (5) Za poslovno skrivnost se štejejo\r\n",
       "listine in podatki, ki so z zakonom, statutom, pravili ali drugim splošnim\r\n",
       "aktom ali odredbo pristojnega organa ali druge upravičene osebe razglašeni za\r\n",
       "industrijsko, bančno ali drugo poslovno skrivnost in so tako pomembni, da so z\r\n",
       "njihovo izdajo očitno nastale ali bi lahko nastale hujše škodljive posledice.   "
      ],
      "text/plain": [
       "<IPython.core.display.Markdown object>"
      ]
     },
     "metadata": {},
     "output_type": "display_data"
    },
    {
     "data": {
      "text/markdown": [
       "- (1) Kdor pri gospodarskem poslovanju\r\n",
       "neupravičeno vstopi ali vdre v informacijski sistem ali ga neupravičeno\r\n",
       "uporablja tako, da uporabi, spremeni, preslika, prenaša, uniči ali v\r\n",
       "informacijski sistem vnese kakšen podatek, ovira\r\n",
       "prenos ali dostop do podatkov ali ovira delovanje\r\n",
       "informacijskega sistema ali neupravičeno prestreže podatek ob nejavnem prenosu\r\n",
       "v informacijski sistem, da bi sebi ali komu drugemu pridobil protipravno\r\n",
       "premoženjsko korist ali drugemu povzročil premoženjsko škodo, se kaznuje z\r\n",
       "zaporom do treh let.   "
      ],
      "text/plain": [
       "<IPython.core.display.Markdown object>"
      ]
     },
     "metadata": {},
     "output_type": "display_data"
    },
    {
     "data": {
      "text/markdown": [
       "- (2) Če je bila z dejanjem iz\r\n",
       "prejšnjega odstavka pridobljena velika premoženjska korist ali povzročena\r\n",
       "velika premoženjska škoda in je storilec hotel sebi ali komu drugemu pridobiti\r\n",
       "tako premoženjsko korist ali drugemu povzročiti tako premoženjsko škodo,\r\n",
       "ali če je bilo storjeno v hudodelski združbi ali nad\r\n",
       "informacijskim sistemom upravljavca kritične infrastrukture ali nad\r\n",
       "informacijskim sistemom zavezanca po zakonu, ki ureja informacijsko varnost, se kaznuje z zaporom od treh mesecev do\r\n",
       "petih let.  "
      ],
      "text/plain": [
       "<IPython.core.display.Markdown object>"
      ]
     },
     "metadata": {},
     "output_type": "display_data"
    },
    {
     "data": {
      "text/markdown": [
       "## izdaja in uporaba lažnega zdravniškega ali veterinarskega spričevala:  "
      ],
      "text/plain": [
       "<IPython.core.display.Markdown object>"
      ]
     },
     "metadata": {},
     "output_type": "display_data"
    },
    {
     "data": {
      "text/markdown": [
       "- (1) Zdravnik, ki zavestno izda lažno\r\n",
       "zdravniško spričevalo ali drugo zdravniško potrdilo, se kaznuje z zaporom do\r\n",
       "treh let.  "
      ],
      "text/plain": [
       "<IPython.core.display.Markdown object>"
      ]
     },
     "metadata": {},
     "output_type": "display_data"
    },
    {
     "data": {
      "text/markdown": [
       "- (2) Enako se kaznuje, kdor zavestno\r\n",
       "uporabi zdravniško spričevalo ali potrdilo iz prejšnjega odstavka.  "
      ],
      "text/plain": [
       "<IPython.core.display.Markdown object>"
      ]
     },
     "metadata": {},
     "output_type": "display_data"
    },
    {
     "data": {
      "text/markdown": [
       "- (3) Veterinar, ki zavestno izda lažno\r\n",
       "veterinarsko spričevalo, se kaznuje z zaporom do enega leta.  "
      ],
      "text/plain": [
       "<IPython.core.display.Markdown object>"
      ]
     },
     "metadata": {},
     "output_type": "display_data"
    },
    {
     "data": {
      "text/markdown": [
       "- (4) Enako kot v prejšnjem odstavku se\r\n",
       "kaznuje, kdor zavestno uporabi spričevalo iz prejšnjega odstavka.  "
      ],
      "text/plain": [
       "<IPython.core.display.Markdown object>"
      ]
     },
     "metadata": {},
     "output_type": "display_data"
    },
    {
     "data": {
      "text/markdown": [
       "## izdaja tajnih podatkov:  "
      ],
      "text/plain": [
       "<IPython.core.display.Markdown object>"
      ]
     },
     "metadata": {},
     "output_type": "display_data"
    },
    {
     "data": {
      "text/markdown": [
       "- (1) Uradna oseba ali druga oseba, ki v\r\n",
       "nasprotju s svojimi dolžnostmi varovanja tajnih podatkov sporoči ali izroči\r\n",
       "komu tajne podatke ali mu kako drugače omogoči, da pride do njih, ali zbira\r\n",
       "take podatke, zato da jih izroči nepoklicani osebi, se kaznuje z zaporom do\r\n",
       "treh let.  "
      ],
      "text/plain": [
       "<IPython.core.display.Markdown object>"
      ]
     },
     "metadata": {},
     "output_type": "display_data"
    },
    {
     "data": {
      "text/markdown": [
       "- (2) Enako se kaznuje, kdor protipravno\r\n",
       "pride do tajnih podatkov, da bi jih neupravičeno uporabil, kakor tudi, kdor\r\n",
       "take podatke brez dovoljenja javno objavi.  "
      ],
      "text/plain": [
       "<IPython.core.display.Markdown object>"
      ]
     },
     "metadata": {},
     "output_type": "display_data"
    },
    {
     "data": {
      "text/markdown": [
       "- (3) Oseba, ki izpolni znake kaznivega\r\n",
       "dejanja iz prvega odstavka tega člena, se ne kaznuje, če gre za tajni podatek,\r\n",
       "ki razkriva protipraven poseg v človekove pravice ali temeljne svoboščine,\r\n",
       "druge ustavne ali zakonske pravice, hujše zlorabe oblasti ali pooblastil ali\r\n",
       "druge hujše nepravilnosti pri izvrševanju oblasti, javnih pooblastil ali\r\n",
       "opravljanju javne službe, dejanje pa ni storjeno iz koristoljubnosti in ne\r\n",
       "ogroža življenja ljudi ali nima hujših ali nepopravljivih škodljivih posledic\r\n",
       "za varnost ali zakonsko varovane interese Republike Slovenije.  "
      ],
      "text/plain": [
       "<IPython.core.display.Markdown object>"
      ]
     },
     "metadata": {},
     "output_type": "display_data"
    },
    {
     "data": {
      "text/markdown": [
       "- (4) Ne glede na določbo drugega odstavka\r\n",
       "tega člena se ne kaznuje, kdor tajni podatek javno objavi, pridobi, posreduje\r\n",
       "ali poseduje z namenom razkritja javnosti, če glede na okoliščine primera javni\r\n",
       "interes po razkritju tajnega podatka prevlada nad javnim interesom po ohranitvi\r\n",
       "njegove tajnosti, in če z dejanjem ni neposredno ogroženo življenje ene ali več\r\n",
       "oseb.  "
      ],
      "text/plain": [
       "<IPython.core.display.Markdown object>"
      ]
     },
     "metadata": {},
     "output_type": "display_data"
    },
    {
     "data": {
      "text/markdown": [
       "- (5) Če je dejanje iz prvega odstavka tega\r\n",
       "člena izvršeno iz koristoljubnosti ali je bilo z objavo neposredno ogroženo\r\n",
       "življenje ljudi ali je imela objava hujše ali nepopravljive škodljive posledice\r\n",
       "za varnost ali zakonsko varovane interese Republike Slovenije, se storilec\r\n",
       "kaznuje z zaporom do osmih let.  "
      ],
      "text/plain": [
       "<IPython.core.display.Markdown object>"
      ]
     },
     "metadata": {},
     "output_type": "display_data"
    },
    {
     "data": {
      "text/markdown": [
       "- (6) Če je\r\n",
       "dejanje iz prvega odstavka tega člena storjeno iz malomarnosti, se storilec\r\n",
       "kaznuje z zaporom do enega leta.  "
      ],
      "text/plain": [
       "<IPython.core.display.Markdown object>"
      ]
     },
     "metadata": {},
     "output_type": "display_data"
    },
    {
     "data": {
      "text/markdown": [
       "## izdelava, pridobitev in odtujitev pripomočkov za ponarejanje:  "
      ],
      "text/plain": [
       "<IPython.core.display.Markdown object>"
      ]
     },
     "metadata": {},
     "output_type": "display_data"
    },
    {
     "data": {
      "text/markdown": [
       "- (1) Kdor izdela, hrani, prenese, si pridobi, proda ali da v uporabo pripomočke za ponarejanje\r\n",
       "denarja, vrednotnic, vrednostnih papirjev ali zaščitne elemente, ki so namenjeni za zaščito pred\r\n",
       "ponarejanjem, ali napravo za preslikavanje zapisa kreditne,\r\n",
       "plačilne ali druge kartice ali drugega negotovinskega plačilnega sredstva, se kaznuje z zaporom do dveh let.  "
      ],
      "text/plain": [
       "<IPython.core.display.Markdown object>"
      ]
     },
     "metadata": {},
     "output_type": "display_data"
    },
    {
     "data": {
      "text/markdown": [
       "- (2) Pripomočki za ponarejanje se\r\n",
       "vzamejo.  "
      ],
      "text/plain": [
       "<IPython.core.display.Markdown object>"
      ]
     },
     "metadata": {},
     "output_type": "display_data"
    },
    {
     "data": {
      "text/markdown": [
       "- (3) Poskus kaznivega dejanja iz prvega\r\n",
       "odstavka tega člena je kazniv.  "
      ],
      "text/plain": [
       "<IPython.core.display.Markdown object>"
      ]
     },
     "metadata": {},
     "output_type": "display_data"
    },
    {
     "data": {
      "text/markdown": [
       "## izdelovanje in pridobivanje orožja in pripomočkov, namenjenih za kaznivo dejanje:  "
      ],
      "text/plain": [
       "<IPython.core.display.Markdown object>"
      ]
     },
     "metadata": {},
     "output_type": "display_data"
    },
    {
     "data": {
      "text/markdown": [
       "- (1) Kdor orožje, razstrelilne snovi\r\n",
       "ali pripomočke, s katerimi se lahko napravijo, ali strupe, za katere ve, da so\r\n",
       "namenjeni za kaznivo dejanje, izdela ali si jih pridobi ali jih hrani ali komu\r\n",
       "omogoči, da pride do njih, se kaznuje z zaporom do treh let.  "
      ],
      "text/plain": [
       "<IPython.core.display.Markdown object>"
      ]
     },
     "metadata": {},
     "output_type": "display_data"
    },
    {
     "data": {
      "text/markdown": [
       "- (2) Kdor napravi ali komu odstopi\r\n",
       "ponarejen ključ, odpirač ali kakšen drug pripomoček za vlom, čeprav ve, da je namenjen\r\n",
       "za kaznivo dejanje, se kaznuje z zaporom do dveh let.  "
      ],
      "text/plain": [
       "<IPython.core.display.Markdown object>"
      ]
     },
     "metadata": {},
     "output_type": "display_data"
    },
    {
     "data": {
      "text/markdown": [
       "- (3) Enako kot v prejšnjem odstavku se\r\n",
       "kaznuje, kdor z namenom storitve kaznivega dejanja poseduje, izdeluje, prodaja,\r\n",
       "daje v uporabo, uvaža, izvaža ali kako drugače zagotavlja pripomočke za vdor,\r\n",
       "neupravičen vstop ali poseg v informacijski sistem ali v\r\n",
       "njegov del ali za neupravičen poseg v podatke v informacijskem sistemu ali za\r\n",
       "njihovo prestrezanje.  "
      ],
      "text/plain": [
       "<IPython.core.display.Markdown object>"
      ]
     },
     "metadata": {},
     "output_type": "display_data"
    },
    {
     "data": {
      "text/markdown": [
       "## izneverjenje:  "
      ],
      "text/plain": [
       "<IPython.core.display.Markdown object>"
      ]
     },
     "metadata": {},
     "output_type": "display_data"
    },
    {
     "data": {
      "text/markdown": [
       "- (1) Kdor zastopa premoženjske koristi\r\n",
       "kakšne osebe ali oskrbuje njeno premoženje, pa zavestno ne izpolni svoje\r\n",
       "obveznosti delati v njeno korist ali dela v njeno škodo, se kaznuje z denarno\r\n",
       "kaznijo ali zaporom do enega leta.  "
      ],
      "text/plain": [
       "<IPython.core.display.Markdown object>"
      ]
     },
     "metadata": {},
     "output_type": "display_data"
    },
    {
     "data": {
      "text/markdown": [
       "- (2) Če storilec ob storitvi dejanja iz\r\n",
       "prejšnjega odstavka izrabi pooblastilo za pridobitev premoženjske koristi sebi\r\n",
       "ali komu drugemu, se kaznuje z zaporom do treh let.  "
      ],
      "text/plain": [
       "<IPython.core.display.Markdown object>"
      ]
     },
     "metadata": {},
     "output_type": "display_data"
    },
    {
     "data": {
      "text/markdown": [
       "- (3) Če stori dejanje iz drugega\r\n",
       "odstavka tega člena odvetnik, notar, skrbnik, izvršitelj ali stečajni\r\n",
       "upravitelj ali če si storilec pridobi veliko premoženjsko korist, se kaznuje z\r\n",
       "zaporom do petih let.  "
      ],
      "text/plain": [
       "<IPython.core.display.Markdown object>"
      ]
     },
     "metadata": {},
     "output_type": "display_data"
    },
    {
     "data": {
      "text/markdown": [
       "## izsiljevanje:  "
      ],
      "text/plain": [
       "<IPython.core.display.Markdown object>"
      ]
     },
     "metadata": {},
     "output_type": "display_data"
    },
    {
     "data": {
      "text/markdown": [
       "- (1) Kdor, zato da bi sebi ali komu\r\n",
       "drugemu pridobil protipravno premoženjsko korist, s silo ali resno grožnjo koga\r\n",
       "prisili, da kaj stori ali opusti v škodo svojega ali tujega premoženja, se\r\n",
       "kaznuje z zaporom do petih let.  "
      ],
      "text/plain": [
       "<IPython.core.display.Markdown object>"
      ]
     },
     "metadata": {},
     "output_type": "display_data"
    },
    {
     "data": {
      "text/markdown": [
       "- (2) Enako se kaznuje, kdor, zato da bi\r\n",
       "sebi ali komu drugemu pridobil protipravno premoženjsko korist, komu zagrozi,\r\n",
       "da bo o njem ali njegovih bližnjih odkril kaj, kar bi škodovalo njihovi časti\r\n",
       "ali dobremu imenu, in ga s tem prisili, da v škodo svojega ali tujega\r\n",
       "premoženja kaj stori ali opusti.  "
      ],
      "text/plain": [
       "<IPython.core.display.Markdown object>"
      ]
     },
     "metadata": {},
     "output_type": "display_data"
    },
    {
     "data": {
      "text/markdown": [
       "- (3) Če dejanje iz prvega ali drugega\r\n",
       "odstavka tega člena storita dve ali več oseb ali če je storjeno z uporabo\r\n",
       "orožja ali nevarnega orodja ali na posebej surov in poniževalen način, se\r\n",
       "storilec kaznuje z zaporom od enega do osmih let.  "
      ],
      "text/plain": [
       "<IPython.core.display.Markdown object>"
      ]
     },
     "metadata": {},
     "output_type": "display_data"
    },
    {
     "data": {
      "text/markdown": [
       "- (4) Če je bilo dejanje iz prejšnjih\r\n",
       "odstavkov storjeno v hudodelski združbi, se storilec kaznuje z zaporom od enega\r\n",
       "do desetih let.  "
      ],
      "text/plain": [
       "<IPython.core.display.Markdown object>"
      ]
     },
     "metadata": {},
     "output_type": "display_data"
    },
    {
     "data": {
      "text/markdown": [
       "## izsiljevanje izjave:  "
      ],
      "text/plain": [
       "<IPython.core.display.Markdown object>"
      ]
     },
     "metadata": {},
     "output_type": "display_data"
    },
    {
     "data": {
      "text/markdown": [
       "- (1) Uradna oseba, ki pri opravljanju\r\n",
       "službe ali javnih pooblastil uporabi silo, grožnjo ali kakšno drugo nedovoljeno\r\n",
       "sredstvo ali nedovoljen način, da bi od obdolženca, priče, izvedenca ali koga\r\n",
       "drugega izsilila izpovedbo ali kakšno drugo izjavo, se kaznuje z zaporom od\r\n",
       "treh mesecev do petih let.  "
      ],
      "text/plain": [
       "<IPython.core.display.Markdown object>"
      ]
     },
     "metadata": {},
     "output_type": "display_data"
    },
    {
     "data": {
      "text/markdown": [
       "- (2) Če je bilo dejanje iz prejšnjega\r\n",
       "odstavka storjeno s hudim nasiljem ali če storilec z izsiljevanjem izpovedbe\r\n",
       "povzroči hude posledice za obdolženca v kazenskem postopku, se storilec kaznuje\r\n",
       "z zaporom od enega do osmih let.  "
      ],
      "text/plain": [
       "<IPython.core.display.Markdown object>"
      ]
     },
     "metadata": {},
     "output_type": "display_data"
    },
    {
     "data": {
      "text/markdown": [
       "## javno spodbujanje sovraštva, nasilja ali nestrpnosti:  "
      ],
      "text/plain": [
       "<IPython.core.display.Markdown object>"
      ]
     },
     "metadata": {},
     "output_type": "display_data"
    },
    {
     "data": {
      "text/markdown": [
       "- (1) Kdor javno spodbuja ali razpihuje\r\n",
       "sovraštvo, nasilje ali nestrpnost, ki temelji na narodnostni, rasni, verski ali\r\n",
       "etnični pripadnosti, spolu, barvi kože, poreklu, premoženjskem stanju,\r\n",
       "izobrazbi, družbenem položaju, političnem ali drugem prepričanju, invalidnosti,\r\n",
       "spolni usmerjenosti ali katerikoli drugi osebni okoliščini, in je dejanje\r\n",
       "storjeno na način, ki lahko ogrozi ali moti javni red in mir, ali z uporabo\r\n",
       "grožnje, zmerjanja ali žalitev, se kaznuje z zaporom do dveh let.   "
      ],
      "text/plain": [
       "<IPython.core.display.Markdown object>"
      ]
     },
     "metadata": {},
     "output_type": "display_data"
    },
    {
     "data": {
      "text/markdown": [
       "- (2) Enako se kaznuje, kdor na\r\n",
       "način iz prejšnjega odstavka javno širi ideje o večvrednosti\r\n",
       "ene rase nad drugo ali daje kakršnokoli pomoč pri rasistični dejavnosti ali\r\n",
       "zanika, zmanjšuje pomen, odobrava, opravičuje, smeši\r\n",
       "ali zagovarja genocid, holokavst, hudodelstvo zoper človečnost, vojno\r\n",
       "hudodelstvo, agresijo ali druga kazniva dejanja zoper človečnost, kot so\r\n",
       "opredeljena v pravnem redu Republike Slovenije.   "
      ],
      "text/plain": [
       "<IPython.core.display.Markdown object>"
      ]
     },
     "metadata": {},
     "output_type": "display_data"
    },
    {
     "data": {
      "text/markdown": [
       "- (3) Če je dejanje iz prejšnjih odstavkov\r\n",
       "storjeno z objavo v sredstvih javnega obveščanja ali na spletnih straneh se s\r\n",
       "kaznijo iz prvega ali drugega odstavka tega člena kaznuje tudi odgovorni\r\n",
       "urednik oziroma tisti, ki ga je nadomeščal, razen če je šlo za prenos oddaje v\r\n",
       "živo, ki ga ni mogel preprečiti ali za objavo na spletnih straneh, ki\r\n",
       "uporabnikom omogočajo objave vsebin v dejanskem času oziroma brez predhodnega\r\n",
       "nadzora.   "
      ],
      "text/plain": [
       "<IPython.core.display.Markdown object>"
      ]
     },
     "metadata": {},
     "output_type": "display_data"
    },
    {
     "data": {
      "text/markdown": [
       "- (4) Če je dejanje iz prvega ali\r\n",
       "drugega odstavka tega člena storjeno s prisilo, grdim ravnanjem, ogrožanjem\r\n",
       "varnosti, sramotitvijo etničnih, narodnostnih,\r\n",
       "narodnih ali verskih simbolov, poškodovanjem tujih stvari, skrunitvijo\r\n",
       "spomenikov, spominskih znamenj ali grobov, se storilec kaznuje z zaporom do\r\n",
       "treh let.  "
      ],
      "text/plain": [
       "<IPython.core.display.Markdown object>"
      ]
     },
     "metadata": {},
     "output_type": "display_data"
    },
    {
     "data": {
      "text/markdown": [
       "- (5) Če stori dejanja iz prvega ali\r\n",
       "drugega odstavka tega člena uradna oseba z zlorabo uradnega položaja ali\r\n",
       "pravic, se kaznuje z zaporom do petih let.  "
      ],
      "text/plain": [
       "<IPython.core.display.Markdown object>"
      ]
     },
     "metadata": {},
     "output_type": "display_data"
    },
    {
     "data": {
      "text/markdown": [
       "- (6) Sredstva in predmeti s sporočili\r\n",
       "iz prvega in drugega odstavka tega člena, pa tudi\r\n",
       "pripomočki, namenjeni za njihovo izdelovanje, razmnoževanje in razpečevanje, se\r\n",
       "vzamejo ali njihova uporaba ustrezno onemogoči.  "
      ],
      "text/plain": [
       "<IPython.core.display.Markdown object>"
      ]
     },
     "metadata": {},
     "output_type": "display_data"
    },
    {
     "data": {
      "text/markdown": [
       "## jemanje podkupnine:  "
      ],
      "text/plain": [
       "<IPython.core.display.Markdown object>"
      ]
     },
     "metadata": {},
     "output_type": "display_data"
    },
    {
     "data": {
      "text/markdown": [
       "- (1) Uradna oseba ali javni uslužbenec,\r\n",
       "ki zase ali za koga drugega zahteva ali sprejme nagrado, darilo ali kakšno\r\n",
       "drugo korist ali obljubo oziroma ponudbo take koristi, da bi v mejah svojih\r\n",
       "uradnih pravic opravila uradno dejanje, ki ga ne bi smela opraviti, ali da ne\r\n",
       "bi opravila dejanja, ki bi ga morala ali smela opraviti ali kako drugače\r\n",
       "zlorabila svoj položaj, ali kdor posreduje pri takem podkupovanju, se kaznuje z\r\n",
       "zaporom od enega do osmih let in denarno kaznijo.  "
      ],
      "text/plain": [
       "<IPython.core.display.Markdown object>"
      ]
     },
     "metadata": {},
     "output_type": "display_data"
    },
    {
     "data": {
      "text/markdown": [
       "- (2) Uradna oseba ali javni uslužbenec,\r\n",
       "ki zase ali za koga drugega zahteva ali sprejme nagrado, darilo ali kakšno\r\n",
       "drugo korist ali obljubo oziroma ponudbo take koristi, da bi v mejah svojih\r\n",
       "uradnih pravic opravila uradno dejanje, ki bi ga tudi sicer morala ali smela\r\n",
       "opraviti, ali da ne bi opravila dejanja, ki ga tudi sicer ne bi smela opraviti,\r\n",
       "ali kako drugače uporabila svoj položaj, ali kdor posreduje pri takem\r\n",
       "podkupovanju uradne osebe, se kaznuje z zaporom od enega do petih let in\r\n",
       "denarno kaznijo.  "
      ],
      "text/plain": [
       "<IPython.core.display.Markdown object>"
      ]
     },
     "metadata": {},
     "output_type": "display_data"
    },
    {
     "data": {
      "text/markdown": [
       "- (3) Uradna oseba ali javni uslužbenec,\r\n",
       "ki, potem ko opravi oziroma ne opravi uradnega dejanja iz prejšnjih odstavkov,\r\n",
       "zahteva ali sprejme v zvezi s tem nagrado, darilo ali kakšno drugo korist, se\r\n",
       "kaznuje z denarno kaznijo ali zaporom do štirih let in denarno kaznijo.  "
      ],
      "text/plain": [
       "<IPython.core.display.Markdown object>"
      ]
     },
     "metadata": {},
     "output_type": "display_data"
    },
    {
     "data": {
      "text/markdown": [
       "- (4) Sprejeta nagrada, darilo in kakšna\r\n",
       "druga korist se vzamejo.  "
      ],
      "text/plain": [
       "<IPython.core.display.Markdown object>"
      ]
     },
     "metadata": {},
     "output_type": "display_data"
    },
    {
     "data": {
      "text/markdown": [
       "## kriva izpovedba:  "
      ],
      "text/plain": [
       "<IPython.core.display.Markdown object>"
      ]
     },
     "metadata": {},
     "output_type": "display_data"
    },
    {
     "data": {
      "text/markdown": [
       "- (1) Priča, izvedenec, cenilec,\r\n",
       "prevajalec ali tolmač, ki pred sodiščem, v postopku o prekršku, parlamentarne\r\n",
       "preiskave, za ugotavljanje kršitev delovnih obveznosti ali drugih kršitev\r\n",
       "delovne discipline, v drugem disciplinskem ali upravnem postopku po krivem\r\n",
       "izpove, izvedenec ali cenilec, ki da lažno pisno mnenje, ali prevajalec, ki da\r\n",
       "lažni pisni prevod, se kaznuje z zaporom do treh let.  "
      ],
      "text/plain": [
       "<IPython.core.display.Markdown object>"
      ]
     },
     "metadata": {},
     "output_type": "display_data"
    },
    {
     "data": {
      "text/markdown": [
       "- (2) Enako se kaznuje stranka, ki je\r\n",
       "pri dokazovanju z zaslišanjem strank v pravdnem, nepravdnem, izvršilnem ali\r\n",
       "upravnem postopku po krivem izpovedala, in je sodišče ali drug pristojni organ\r\n",
       "na to izpovedbo oprlo svojo odločbo v tem postopku.  "
      ],
      "text/plain": [
       "<IPython.core.display.Markdown object>"
      ]
     },
     "metadata": {},
     "output_type": "display_data"
    },
    {
     "data": {
      "text/markdown": [
       "- (3) Za krivo izpovedbo v kazenskem\r\n",
       "postopku se storilec kaznuje z zaporom do petih let.  "
      ],
      "text/plain": [
       "<IPython.core.display.Markdown object>"
      ]
     },
     "metadata": {},
     "output_type": "display_data"
    },
    {
     "data": {
      "text/markdown": [
       "- (4) Če ima dejanje iz prejšnjega\r\n",
       "odstavka posebno hude posledice za obdolženca, se storilec kaznuje z zaporom od\r\n",
       "enega do osmih let.  "
      ],
      "text/plain": [
       "<IPython.core.display.Markdown object>"
      ]
     },
     "metadata": {},
     "output_type": "display_data"
    },
    {
     "data": {
      "text/markdown": [
       "- (5) Če storilec prostovoljno prekliče\r\n",
       "svojo krivo izpovedbo, preden se izda dokončna odločba, se kaznuje z denarno\r\n",
       "kaznijo, sme pa se mu tudi odpustiti kazen.  "
      ],
      "text/plain": [
       "<IPython.core.display.Markdown object>"
      ]
     },
     "metadata": {},
     "output_type": "display_data"
    },
    {
     "data": {
      "text/markdown": [
       "## kriva ovadba:  "
      ],
      "text/plain": [
       "<IPython.core.display.Markdown object>"
      ]
     },
     "metadata": {},
     "output_type": "display_data"
    },
    {
     "data": {
      "text/markdown": [
       "- (1) Kdor koga naznani, da je storil\r\n",
       "kaznivo dejanje, ki se preganja po uradni dolžnosti, pa ve, da ga ni storil, se\r\n",
       "kaznuje z zaporom do dveh let.  "
      ],
      "text/plain": [
       "<IPython.core.display.Markdown object>"
      ]
     },
     "metadata": {},
     "output_type": "display_data"
    },
    {
     "data": {
      "text/markdown": [
       "- (2) Enako se kaznuje, kdor podtakne\r\n",
       "sledove kaznivega dejanja ali kako drugače povzroči, da se uvede kazenski\r\n",
       "postopek za kaznivo dejanje, za katero se storilec preganja po uradni\r\n",
       "dolžnosti, zoper nekoga, za katerega ve, da ga ni storil.  "
      ],
      "text/plain": [
       "<IPython.core.display.Markdown object>"
      ]
     },
     "metadata": {},
     "output_type": "display_data"
    },
    {
     "data": {
      "text/markdown": [
       "- (3) Kdor se sam naznani, da je storil\r\n",
       "kaznivo dejanje, ki se preganja po uradni dolžnosti, čeprav ga ni storil, se kaznuje\r\n",
       "z denarno kaznijo.  "
      ],
      "text/plain": [
       "<IPython.core.display.Markdown object>"
      ]
     },
     "metadata": {},
     "output_type": "display_data"
    },
    {
     "data": {
      "text/markdown": [
       "- (4) Enako kot v prejšnjem odstavku se\r\n",
       "kaznuje tudi, kdor naznani, da je bilo storjeno kaznivo dejanje, ki se preganja\r\n",
       "po uradni dolžnosti, čeprav ve, da tako dejanje ni bilo storjeno, in s tem\r\n",
       "povzroči, da državni organi začnejo ukrepati.  "
      ],
      "text/plain": [
       "<IPython.core.display.Markdown object>"
      ]
     },
     "metadata": {},
     "output_type": "display_data"
    },
    {
     "data": {
      "text/markdown": [
       "- (5) Če stori dejanje iz prvega ali\r\n",
       "drugega odstavka tega člena uradna oseba z zlorabo uradnega položaja, se\r\n",
       "kaznuje z zaporom do treh let.  "
      ],
      "text/plain": [
       "<IPython.core.display.Markdown object>"
      ]
     },
     "metadata": {},
     "output_type": "display_data"
    },
    {
     "data": {
      "text/markdown": [
       "## krvoskrunstvo:  "
      ],
      "text/plain": [
       "<IPython.core.display.Markdown object>"
      ]
     },
     "metadata": {},
     "output_type": "display_data"
    },
    {
     "data": {
      "text/markdown": [
       "- Oseba, ki spolno občuje z mladoletnim\r\n",
       "krvnim sorodnikom v ravni črti ali z mladoletnim bratom oziroma sestro, se\r\n",
       "kaznuje z zaporom do dveh let.  "
      ],
      "text/plain": [
       "<IPython.core.display.Markdown object>"
      ]
     },
     "metadata": {},
     "output_type": "display_data"
    },
    {
     "data": {
      "text/markdown": [
       "## kršitev avtorskih sorodnih pravic:  "
      ],
      "text/plain": [
       "<IPython.core.display.Markdown object>"
      ]
     },
     "metadata": {},
     "output_type": "display_data"
    },
    {
     "data": {
      "text/markdown": [
       "* No data available *"
      ],
      "text/plain": [
       "<IPython.core.display.Markdown object>"
      ]
     },
     "metadata": {},
     "output_type": "display_data"
    },
    {
     "data": {
      "text/markdown": [
       "## kršitev družinskih obveznosti:  "
      ],
      "text/plain": [
       "<IPython.core.display.Markdown object>"
      ]
     },
     "metadata": {},
     "output_type": "display_data"
    },
    {
     "data": {
      "text/markdown": [
       "- (1) Kdor hudo zanemarja družinske\r\n",
       "obveznosti, ki jih ima po zakonu, in tako pusti v težkem položaju družinskega\r\n",
       "člana, ki ne more sam skrbeti zase, se kaznuje z zaporom do dveh let.  "
      ],
      "text/plain": [
       "<IPython.core.display.Markdown object>"
      ]
     },
     "metadata": {},
     "output_type": "display_data"
    },
    {
     "data": {
      "text/markdown": [
       "- (2) Če sodišče izreče pogojno obsodbo,\r\n",
       "lahko naloži storilcu, da mora redno izpolnjevati svoje dolžnosti skrbi, vzgoje\r\n",
       "in preživljanja.  "
      ],
      "text/plain": [
       "<IPython.core.display.Markdown object>"
      ]
     },
     "metadata": {},
     "output_type": "display_data"
    },
    {
     "data": {
      "text/markdown": [
       "## kršitev enakopravnosti:  "
      ],
      "text/plain": [
       "<IPython.core.display.Markdown object>"
      ]
     },
     "metadata": {},
     "output_type": "display_data"
    },
    {
     "data": {
      "text/markdown": [
       "- (1) Kdor zaradi razlike v narodnosti,\r\n",
       "rasi, barvi, veroizpovedi, etnični pripadnosti, spolu, jeziku, političnem ali\r\n",
       "drugačnem prepričanju, spolni usmerjenosti, premoženjskem stanju, rojstvu,\r\n",
       "genetski dediščini, izobrazbi, družbenem položaju ali kakšni drugi okoliščini\r\n",
       "prikrajša koga za katero izmed človekovih pravic ali temeljnih svoboščin, ki so\r\n",
       "priznane od mednarodne skupnosti ali določene z ustavo ali zakonom, ali mu\r\n",
       "takšno pravico ali svoboščino omeji ali kdor na podlagi takšnega razlikovanja\r\n",
       "komu da kakšno posebno pravico ali ugodnost, se kaznuje z denarno kaznijo ali z\r\n",
       "zaporom do enega leta.  "
      ],
      "text/plain": [
       "<IPython.core.display.Markdown object>"
      ]
     },
     "metadata": {},
     "output_type": "display_data"
    },
    {
     "data": {
      "text/markdown": [
       "- (2) Enako se kaznuje, kdor preganja\r\n",
       "posameznika ali organizacijo zaradi zavzemanja za enakopravnost ljudi.  "
      ],
      "text/plain": [
       "<IPython.core.display.Markdown object>"
      ]
     },
     "metadata": {},
     "output_type": "display_data"
    },
    {
     "data": {
      "text/markdown": [
       "- (3) Če stori dejanje iz prvega ali\r\n",
       "drugega odstavka tega člena uradna oseba z zlorabo uradnega položaja ali\r\n",
       "uradnih pravic, se kaznuje z zaporom do treh let.  "
      ],
      "text/plain": [
       "<IPython.core.display.Markdown object>"
      ]
     },
     "metadata": {},
     "output_type": "display_data"
    },
    {
     "data": {
      "text/markdown": [
       "## kršitev materialnih avtorskih pravic:  "
      ],
      "text/plain": [
       "<IPython.core.display.Markdown object>"
      ]
     },
     "metadata": {},
     "output_type": "display_data"
    },
    {
     "data": {
      "text/markdown": [
       "- (1) Kdor neupravičeno uporabi eno ali\r\n",
       "več avtorskih del ali njihovih primerkov, katerih skupna tržna cena pomeni\r\n",
       "večjo premoženjsko vrednost, se kaznuje z zaporom do treh let.  "
      ],
      "text/plain": [
       "<IPython.core.display.Markdown object>"
      ]
     },
     "metadata": {},
     "output_type": "display_data"
    },
    {
     "data": {
      "text/markdown": [
       "- (2) Če tržna cena avtorskih del iz\r\n",
       "prejšnjega odstavka pomeni veliko premoženjsko vrednost, se storilec kaznuje z\r\n",
       "zaporom do petih let.  "
      ],
      "text/plain": [
       "<IPython.core.display.Markdown object>"
      ]
     },
     "metadata": {},
     "output_type": "display_data"
    },
    {
     "data": {
      "text/markdown": [
       "- (3) Če je bila z dejanjem iz prvega\r\n",
       "ali drugega odstavka tega člena pridobljena velika protipravna premoženjska\r\n",
       "korist in je šlo storilcu za to, da sebi ali komu drugemu pridobi tako\r\n",
       "premoženjsko korist, se kaznuje z zaporom od enega do osmih let.  "
      ],
      "text/plain": [
       "<IPython.core.display.Markdown object>"
      ]
     },
     "metadata": {},
     "output_type": "display_data"
    },
    {
     "data": {
      "text/markdown": [
       "- (4) Primerki avtorskih del in naprave\r\n",
       "za njihovo reproduciranje se vzamejo.  "
      ],
      "text/plain": [
       "<IPython.core.display.Markdown object>"
      ]
     },
     "metadata": {},
     "output_type": "display_data"
    },
    {
     "data": {
      "text/markdown": [
       "- (5) Pri ugotavljanju premoženjske vrednosti\r\n",
       "po določbah tega člena in 149. člena tega zakonika se upošteva korist iz\r\n",
       "neupravičene uporabe materialnih avtorskih pravic oziroma neupravičenega\r\n",
       "reproduciranja, dajanja na voljo javnosti, razširjanja ali dajanja v najem\r\n",
       "avtorski sorodnih pravic v pridobitne namene.   "
      ],
      "text/plain": [
       "<IPython.core.display.Markdown object>"
      ]
     },
     "metadata": {},
     "output_type": "display_data"
    },
    {
     "data": {
      "text/markdown": [
       "## kršitev moralnih avtorskih pravic:  "
      ],
      "text/plain": [
       "<IPython.core.display.Markdown object>"
      ]
     },
     "metadata": {},
     "output_type": "display_data"
    },
    {
     "data": {
      "text/markdown": [
       "- (1) Kdor s svojim imenom ali imenom\r\n",
       "koga drugega objavi, prikaže, izvede ali prenese tuje avtorsko delo ali njegov\r\n",
       "del ali dovoli to storiti, se kaznuje z denarno kaznijo ali zaporom do enega\r\n",
       "leta.  "
      ],
      "text/plain": [
       "<IPython.core.display.Markdown object>"
      ]
     },
     "metadata": {},
     "output_type": "display_data"
    },
    {
     "data": {
      "text/markdown": [
       "- (2) Kdor skazi, okrni ali kako drugače\r\n",
       "neupravičeno poseže v tuje avtorsko delo, se kaznuje z denarno kaznijo ali\r\n",
       "zaporom do šestih mesecev.  "
      ],
      "text/plain": [
       "<IPython.core.display.Markdown object>"
      ]
     },
     "metadata": {},
     "output_type": "display_data"
    },
    {
     "data": {
      "text/markdown": [
       "- (3) Pregon se začne na predlog.  "
      ],
      "text/plain": [
       "<IPython.core.display.Markdown object>"
      ]
     },
     "metadata": {},
     "output_type": "display_data"
    },
    {
     "data": {
      "text/markdown": [
       "## kršitev nedotakljivosti stanovanja:  "
      ],
      "text/plain": [
       "<IPython.core.display.Markdown object>"
      ]
     },
     "metadata": {},
     "output_type": "display_data"
    },
    {
     "data": {
      "text/markdown": [
       "- (1) Kdor neupravičeno vstopi v tuje\r\n",
       "stanovanje ali zaprte prostore ali kdor se na zahtevo upravičenca od tam ne odstrani\r\n",
       "ali mu na drug način onemogoči njihovo uporabo, se kaznuje z denarno kaznijo\r\n",
       "ali zaporom do enega leta.  "
      ],
      "text/plain": [
       "<IPython.core.display.Markdown object>"
      ]
     },
     "metadata": {},
     "output_type": "display_data"
    },
    {
     "data": {
      "text/markdown": [
       "- (2) Enako se kaznuje, kdor\r\n",
       "neupravičeno preišče stanovanje ali prostore iz prvega odstavka tega člena.  "
      ],
      "text/plain": [
       "<IPython.core.display.Markdown object>"
      ]
     },
     "metadata": {},
     "output_type": "display_data"
    },
    {
     "data": {
      "text/markdown": [
       "- (3) Če stori dejanje iz prvega ali\r\n",
       "drugega odstavka tega člena uradna oseba z zlorabo uradnega položaja ali\r\n",
       "uradnih pravic, se kaznuje z zaporom od treh mesecev do petih let.  "
      ],
      "text/plain": [
       "<IPython.core.display.Markdown object>"
      ]
     },
     "metadata": {},
     "output_type": "display_data"
    },
    {
     "data": {
      "text/markdown": [
       "- (4) Poskus dejanj iz prvega, drugega\r\n",
       "in tretjega odstavka tega člena je kazniv.  "
      ],
      "text/plain": [
       "<IPython.core.display.Markdown object>"
      ]
     },
     "metadata": {},
     "output_type": "display_data"
    },
    {
     "data": {
      "text/markdown": [
       "- (5) Če izreče sodišče pogojno obsodbo,\r\n",
       "lahko naloži storilcu, da mora v določenem roku izprazniti stanovanje ali\r\n",
       "prostore.  "
      ],
      "text/plain": [
       "<IPython.core.display.Markdown object>"
      ]
     },
     "metadata": {},
     "output_type": "display_data"
    },
    {
     "data": {
      "text/markdown": [
       "- (6) Pregon za dejanji iz prvega in\r\n",
       "drugega odstavka tega člena se začne na predlog.  "
      ],
      "text/plain": [
       "<IPython.core.display.Markdown object>"
      ]
     },
     "metadata": {},
     "output_type": "display_data"
    },
    {
     "data": {
      "text/markdown": [
       "## kršitev omejevalnih ukrepov:  "
      ],
      "text/plain": [
       "<IPython.core.display.Markdown object>"
      ]
     },
     "metadata": {},
     "output_type": "display_data"
    },
    {
     "data": {
      "text/markdown": [
       "- (1) Kdor v nasprotju z omejitvami, ki so\r\n",
       "določene v predpisih o izvrševanju omejevalnih ukrepov, sprejetih na podlagi\r\n",
       "pravnih aktov in odločitev mednarodnih organizacij, ali omejitvami, ki se v\r\n",
       "skladu s pravno ureditvijo mednarodnih organizacij v Republiki Sloveniji\r\n",
       "uporabljajo neposredno, ponudi, proda, nakaže, prenese, menja, dostavi, uvozi,\r\n",
       "izvozi, vnese v državo ali iznese iz nje blago, tehnologijo, denar ali\r\n",
       "premoženje ali pri tem posreduje ali omogoči dostop do takega blaga,\r\n",
       "tehnologije, denarja ali premoženja ali do koristi od njih ali tega ne\r\n",
       "onemogoči ali kdor tako blago, tehnologijo, denar ali premoženje protipravno\r\n",
       "pridobi ali hrani in si tako pridobi veliko premoženjsko korist, se kaznuje z\r\n",
       "zaporom od šestih mesecev do petih let.   "
      ],
      "text/plain": [
       "<IPython.core.display.Markdown object>"
      ]
     },
     "metadata": {},
     "output_type": "display_data"
    },
    {
     "data": {
      "text/markdown": [
       "- (2) Blago, tehnologijo, denar in premoženje\r\n",
       "iz prejšnjega odstavka se vzame.   "
      ],
      "text/plain": [
       "<IPython.core.display.Markdown object>"
      ]
     },
     "metadata": {},
     "output_type": "display_data"
    },
    {
     "data": {
      "text/markdown": [
       "## kršitev pravic do sodelovanja pri upravljanju in kršitev sindikalnih pravic:  "
      ],
      "text/plain": [
       "<IPython.core.display.Markdown object>"
      ]
     },
     "metadata": {},
     "output_type": "display_data"
    },
    {
     "data": {
      "text/markdown": [
       "- (1) Kdor s kršitvijo predpisov ali\r\n",
       "splošnih aktov prepreči ali onemogoči delavcem uresničevanje pravic do\r\n",
       "sodelovanja pri upravljanju ali te pravice zlorabi ali ovira njihovo uresničevanje,\r\n",
       "se kaznuje z denarno kaznijo ali zaporom do enega leta.  "
      ],
      "text/plain": [
       "<IPython.core.display.Markdown object>"
      ]
     },
     "metadata": {},
     "output_type": "display_data"
    },
    {
     "data": {
      "text/markdown": [
       "- (2) Enako se kaznuje, kdor s kršitvijo\r\n",
       "predpisov ali splošnih aktov prepreči ali onemogoči delavcem svobodno\r\n",
       "združevanje in sindikalne dejavnosti ali ovira uresničevanje sindikalnih pravic\r\n",
       "ali prevzame sindikat.  "
      ],
      "text/plain": [
       "<IPython.core.display.Markdown object>"
      ]
     },
     "metadata": {},
     "output_type": "display_data"
    },
    {
     "data": {
      "text/markdown": [
       "## kršitev pravic iz socialnega zavarovanja:  "
      ],
      "text/plain": [
       "<IPython.core.display.Markdown object>"
      ]
     },
     "metadata": {},
     "output_type": "display_data"
    },
    {
     "data": {
      "text/markdown": [
       "- Kdor ne ravna po predpisih o socialnem zavarovanju\r\n",
       "in s tem koga prikrajša za pravico, ki mu pripada, ali mu jo omeji, se kaznuje\r\n",
       "z denarno kaznijo ali zaporom do enega leta.  "
      ],
      "text/plain": [
       "<IPython.core.display.Markdown object>"
      ]
     },
     "metadata": {},
     "output_type": "display_data"
    },
    {
     "data": {
      "text/markdown": [
       "## kršitev pravic pri zaposlovanju ali brezposelnosti:  "
      ],
      "text/plain": [
       "<IPython.core.display.Markdown object>"
      ]
     },
     "metadata": {},
     "output_type": "display_data"
    },
    {
     "data": {
      "text/markdown": [
       "- (1) Kdor komu odreče ali omeji pravico\r\n",
       "do svobodne zaposlitve pod takimi pogoji, kot so določeni s predpisi, se\r\n",
       "kaznuje z denarno kaznijo ali zaporom do enega leta.  "
      ],
      "text/plain": [
       "<IPython.core.display.Markdown object>"
      ]
     },
     "metadata": {},
     "output_type": "display_data"
    },
    {
     "data": {
      "text/markdown": [
       "- (2) Enako se kaznuje, kdor zavestno ne\r\n",
       "ravna po predpisih o pravicah brezposelnih oseb in tako brezposelno osebo\r\n",
       "prikrajša za pravico, ki ji pripada ali ji jo omeji.  "
      ],
      "text/plain": [
       "<IPython.core.display.Markdown object>"
      ]
     },
     "metadata": {},
     "output_type": "display_data"
    },
    {
     "data": {
      "text/markdown": [
       "## kršitev pravice do pravnega sredstva ali peticije:  "
      ],
      "text/plain": [
       "<IPython.core.display.Markdown object>"
      ]
     },
     "metadata": {},
     "output_type": "display_data"
    },
    {
     "data": {
      "text/markdown": [
       "- (1) Kdor pri opravljanju svojega dela\r\n",
       "prepreči drugemu, da bi uporabil svojo pravico do pritožbe, ugovora ali kakšnega\r\n",
       "drugega pravnega sredstva, do vloge ali predloga, ali da bi dal politične ali\r\n",
       "druge pobude splošnega pomena, se kaznuje z denarno kaznijo ali zaporom do\r\n",
       "enega leta.  "
      ],
      "text/plain": [
       "<IPython.core.display.Markdown object>"
      ]
     },
     "metadata": {},
     "output_type": "display_data"
    },
    {
     "data": {
      "text/markdown": [
       "- (2) Če stori dejanje iz prejšnjega\r\n",
       "odstavka uradna oseba z zlorabo svojega položaja ali pravic, se kaznuje z zaporom\r\n",
       "do dveh let.  "
      ],
      "text/plain": [
       "<IPython.core.display.Markdown object>"
      ]
     },
     "metadata": {},
     "output_type": "display_data"
    },
    {
     "data": {
      "text/markdown": [
       "## kršitev proste odločitve volivcev:  "
      ],
      "text/plain": [
       "<IPython.core.display.Markdown object>"
      ]
     },
     "metadata": {},
     "output_type": "display_data"
    },
    {
     "data": {
      "text/markdown": [
       "- (1) Kdor koga s silo, resno grožnjo,\r\n",
       "podkupovanjem, preslepitvijo ali na drug nedovoljen način prisili ali nanj\r\n",
       "vpliva, da pri volitvah ali glasovanju glasuje ali ne glasuje ali da ne glasuje\r\n",
       "veljavno ali da glasuje za ali proti določenemu predlogu, se kaznuje z denarno\r\n",
       "kaznijo ali zaporom do enega leta.  "
      ],
      "text/plain": [
       "<IPython.core.display.Markdown object>"
      ]
     },
     "metadata": {},
     "output_type": "display_data"
    },
    {
     "data": {
      "text/markdown": [
       "- (2) Če stori dejanje iz prejšnjega odstavka\r\n",
       "uradna oseba pri opravljanju svoje dolžnosti v zvezi z volitvami ali glasovanjem,\r\n",
       "se kaznuje z zaporom do dveh let.  "
      ],
      "text/plain": [
       "<IPython.core.display.Markdown object>"
      ]
     },
     "metadata": {},
     "output_type": "display_data"
    },
    {
     "data": {
      "text/markdown": [
       "- (3) Dana podkupnina se vzame.  "
      ],
      "text/plain": [
       "<IPython.core.display.Markdown object>"
      ]
     },
     "metadata": {},
     "output_type": "display_data"
    },
    {
     "data": {
      "text/markdown": [
       "## kršitev spolne nedotakljivosti z zlorabo položaja:  "
      ],
      "text/plain": [
       "<IPython.core.display.Markdown object>"
      ]
     },
     "metadata": {},
     "output_type": "display_data"
    },
    {
     "data": {
      "text/markdown": [
       "- (1) Kdor zlorabi svoj položaj in tako\r\n",
       "pripravi osebo drugega ali istega spola, ki mu je podrejena ali od njega\r\n",
       "odvisna, k spolnemu občevanju, ali da stori oziroma trpi kakšno drugo spolno\r\n",
       "dejanje, se kaznuje z zaporom do petih let.  "
      ],
      "text/plain": [
       "<IPython.core.display.Markdown object>"
      ]
     },
     "metadata": {},
     "output_type": "display_data"
    },
    {
     "data": {
      "text/markdown": [
       "- (2) Učitelj, vzgojitelj, skrbnik,\r\n",
       "posvojitelj, roditelj ali druga oseba, ki z zlorabo svojega položaja spolno\r\n",
       "občuje ali stori kakšno drugo spolno dejanje z osebo, staro nad petnajst let,\r\n",
       "ki mu je zaupana v učenje, vzgojo, varstvo in oskrbo, se kaznuje z zaporom od\r\n",
       "enega do osmih let.  "
      ],
      "text/plain": [
       "<IPython.core.display.Markdown object>"
      ]
     },
     "metadata": {},
     "output_type": "display_data"
    },
    {
     "data": {
      "text/markdown": [
       "## kršitev svobodne opredelitve:  "
      ],
      "text/plain": [
       "<IPython.core.display.Markdown object>"
      ]
     },
     "metadata": {},
     "output_type": "display_data"
    },
    {
     "data": {
      "text/markdown": [
       "- Kdor pokliče glasovalca pri volitvah ali\r\n",
       "glasovanju na odgovor zaradi glasovanja ali od njega zahteva, naj pove, kako je\r\n",
       "glasoval ali zakaj ni glasoval, se kaznuje z denarno kaznijo ali zaporom do\r\n",
       "enega leta.  "
      ],
      "text/plain": [
       "<IPython.core.display.Markdown object>"
      ]
     },
     "metadata": {},
     "output_type": "display_data"
    },
    {
     "data": {
      "text/markdown": [
       "## kršitev tajnosti občil:  "
      ],
      "text/plain": [
       "<IPython.core.display.Markdown object>"
      ]
     },
     "metadata": {},
     "output_type": "display_data"
    },
    {
     "data": {
      "text/markdown": [
       "- (1) Kdor neupravičeno odpre tuje\r\n",
       "pismo, tujo brzojavko ali kakšno drugo tuje zaprto pisanje ali pošiljko, se\r\n",
       "kaznuje z denarno kaznijo ali zaporom do šestih mesecev.  "
      ],
      "text/plain": [
       "<IPython.core.display.Markdown object>"
      ]
     },
     "metadata": {},
     "output_type": "display_data"
    },
    {
     "data": {
      "text/markdown": [
       "- (2) Z denarno kaznijo ali zaporom do\r\n",
       "enega leta se kaznuje:  "
      ],
      "text/plain": [
       "<IPython.core.display.Markdown object>"
      ]
     },
     "metadata": {},
     "output_type": "display_data"
    },
    {
     "data": {
      "text/markdown": [
       "- 1)    \r\n",
       "kdor se z uporabo tehničnih ali kemičnih sredstev, ne da bi odprl tuje\r\n",
       "pismo, tujo brzojavko ali kakšno drugo tujo zaprto pošiljko, neupravičeno\r\n",
       "seznani z njihovo vsebino;  "
      ],
      "text/plain": [
       "<IPython.core.display.Markdown object>"
      ]
     },
     "metadata": {},
     "output_type": "display_data"
    },
    {
     "data": {
      "text/markdown": [
       "- 2)    \r\n",
       "kdor se z uporabo tehničnih sredstev neupravičeno seznani s sporočilom,\r\n",
       "ki se prenaša po telefonu ali s kakšnim drugim elektronskim komunikacijskim\r\n",
       "sredstvom;  "
      ],
      "text/plain": [
       "<IPython.core.display.Markdown object>"
      ]
     },
     "metadata": {},
     "output_type": "display_data"
    },
    {
     "data": {
      "text/markdown": [
       "- 3)    \r\n",
       "kdor neupravičeno odpre zaprt predmet, ki varuje sporočilo, in se\r\n",
       "neupravičeno seznani s sporočilom v njem.  "
      ],
      "text/plain": [
       "<IPython.core.display.Markdown object>"
      ]
     },
     "metadata": {},
     "output_type": "display_data"
    },
    {
     "data": {
      "text/markdown": [
       "- (3) Enako kot v prejšnjem odstavku se\r\n",
       "kaznuje, kdor s katerim od dejanj, ki so navedena v prvem in drugem odstavku\r\n",
       "tega člena, omogoči drugemu, da se neposredno seznani z vsebino sporočila ali\r\n",
       "pošiljke.  "
      ],
      "text/plain": [
       "<IPython.core.display.Markdown object>"
      ]
     },
     "metadata": {},
     "output_type": "display_data"
    },
    {
     "data": {
      "text/markdown": [
       "- (4) Kdor neupravičeno obdrži, skrije,\r\n",
       "uniči ali komu drugemu izroči tuje pismo, brzojavko ali kakšno drugo pošiljko,\r\n",
       "preden se je prejemnik seznanil z njeno vsebino, se kaznuje z denarno kaznijo\r\n",
       "ali zaporom do enega leta.  "
      ],
      "text/plain": [
       "<IPython.core.display.Markdown object>"
      ]
     },
     "metadata": {},
     "output_type": "display_data"
    },
    {
     "data": {
      "text/markdown": [
       "- (5) Če stori dejanje iz prejšnjih\r\n",
       "odstavkov tega člena uradna oseba z zlorabo uradnega položaja ali uradnih pravic,\r\n",
       "poštni ali drug delavec, ki mu je zaupano prevzemanje, prenos ali predaja tujih\r\n",
       "pisem, tujih brzojavk ali kakšnih drugih pisanj ali pošiljk, se kaznuje z\r\n",
       "zaporom od treh mesecev do petih let.  "
      ],
      "text/plain": [
       "<IPython.core.display.Markdown object>"
      ]
     },
     "metadata": {},
     "output_type": "display_data"
    },
    {
     "data": {
      "text/markdown": [
       "- (6) Pregon za dejanja iz prvega do\r\n",
       "četrtega odstavka tega člena se začne na predlog.  "
      ],
      "text/plain": [
       "<IPython.core.display.Markdown object>"
      ]
     },
     "metadata": {},
     "output_type": "display_data"
    },
    {
     "data": {
      "text/markdown": [
       "## kršitev tajnosti postopka:  "
      ],
      "text/plain": [
       "<IPython.core.display.Markdown object>"
      ]
     },
     "metadata": {},
     "output_type": "display_data"
    },
    {
     "data": {
      "text/markdown": [
       "- (1) Kdor neupravičeno izda, kar je\r\n",
       "izvedel v postopku pred glavno obravnavo ali na obravnavi pred sodiščem, na\r\n",
       "ustni obravnavi v upravnem postopku ali postopku o prekršku ali postopku\r\n",
       "parlamentarne preiskave ali v postopku pred Komisijo za preprečevanje\r\n",
       "korupcije, za kar je z zakonom določeno, da se ne sme\r\n",
       "objaviti, ali pa je bilo z odločbo pristojnega organa ali sodišča odločeno, da\r\n",
       "ostane tajno, se kaznuje z denarno kaznijo ali z zaporom do enega leta.  "
      ],
      "text/plain": [
       "<IPython.core.display.Markdown object>"
      ]
     },
     "metadata": {},
     "output_type": "display_data"
    },
    {
     "data": {
      "text/markdown": [
       "- (2) Kdor objavi osebne podatke mladoletne\r\n",
       "osebe, ki je udeleženec v sodnem, upravnem ali v kakršnemkoli\r\n",
       "drugem postopku, ali objavi druge informacije, na podlagi katerih bi bilo\r\n",
       "mogoče prepoznati njegovo identiteto, se kaznuje z denarno kaznijo ali z\r\n",
       "zaporom do 3 let.  "
      ],
      "text/plain": [
       "<IPython.core.display.Markdown object>"
      ]
     },
     "metadata": {},
     "output_type": "display_data"
    },
    {
     "data": {
      "text/markdown": [
       "- (3) Kdor razkrije identiteto ali posamezne osebne ali druge podatke,\r\n",
       "ki bi lahko pripeljali do razkritja identitete\r\n",
       "zaščitene priče, ogrožene osebe ali osebe s prirejeno identiteto, se kaznuje z\r\n",
       "zaporom do treh let.  "
      ],
      "text/plain": [
       "<IPython.core.display.Markdown object>"
      ]
     },
     "metadata": {},
     "output_type": "display_data"
    },
    {
     "data": {
      "text/markdown": [
       "- (4) S kaznijo iz prejšnjega odstavka se\r\n",
       "kaznuje, kdor razkrije identiteto ali posamezne osebne ali druge podatke, ki bi lahko pripeljali do\r\n",
       "razkritja identitete zaščitenega prijavitelja korupcije, če so s tem razkritjem prijavitelju\r\n",
       "povzročene hujše posledice.   "
      ],
      "text/plain": [
       "<IPython.core.display.Markdown object>"
      ]
     },
     "metadata": {},
     "output_type": "display_data"
    },
    {
     "data": {
      "text/markdown": [
       "- (5) Če stori dejanje iz tretjega ali\r\n",
       "četrtega odstavka tega člena uradna oseba, se kaznuje z zaporom do petih let.   "
      ],
      "text/plain": [
       "<IPython.core.display.Markdown object>"
      ]
     },
     "metadata": {},
     "output_type": "display_data"
    },
    {
     "data": {
      "text/markdown": [
       "## kršitev temeljnih pravic delavcev:  "
      ],
      "text/plain": [
       "<IPython.core.display.Markdown object>"
      ]
     },
     "metadata": {},
     "output_type": "display_data"
    },
    {
     "data": {
      "text/markdown": [
       "- (1) Kdor ne ravna po predpisih o\r\n",
       "sklenitvi pogodbe o zaposlitvi in o prenehanju delovnega razmerja, plači in\r\n",
       "drugih prejemkih iz delovnega razmerja, delovnem času, odmoru, počitku, letnem\r\n",
       "dopustu ali odsotnosti z dela, varstvu žensk, mladine in invalidov, varstvu\r\n",
       "delavcev zaradi nosečnosti in starševstva, varstva starejših delavcev,\r\n",
       "prepovedi nadurnega ali nočnega dela ali plačilu predpisanih prispevkov in tako\r\n",
       "prikrajša enega ali več delavcev ali iskalcev\r\n",
       "zaposlitve za pravice, ki jim pripadajo, ali jim jih omeji, se kaznuje z\r\n",
       "zaporom do treh let in denarno kaznijo.  "
      ],
      "text/plain": [
       "<IPython.core.display.Markdown object>"
      ]
     },
     "metadata": {},
     "output_type": "display_data"
    },
    {
     "data": {
      "text/markdown": [
       "- (2) Če so\r\n",
       "bile z dejanjem iz prejšnjega odstavka kršene pravice najmanj dvajsetih\r\n",
       "delavcev ali če so enemu ali več delavcem kršene pravice v obdobju najmanj dveh\r\n",
       "let, se storilec kaznuje z zaporom do petih let in denarno kaznijo.  "
      ],
      "text/plain": [
       "<IPython.core.display.Markdown object>"
      ]
     },
     "metadata": {},
     "output_type": "display_data"
    },
    {
     "data": {
      "text/markdown": [
       "- (3) S kaznijo iz prvega odstavka tega člena se kaznuje,\r\n",
       "kdor pogojuje sklenitev pogodbe o zaposlitvi s tem, da delavka med zaposlitvijo\r\n",
       "ne bo zanosila ali rodila otroka ali od delavke med zaposlitvijo zahteva\r\n",
       "izjavo, da bo v takem primeru dala odpoved delovnega razmerja ali sprejela\r\n",
       "sporazumno prenehanje delovnega razmerja.  "
      ],
      "text/plain": [
       "<IPython.core.display.Markdown object>"
      ]
     },
     "metadata": {},
     "output_type": "display_data"
    },
    {
     "data": {
      "text/markdown": [
       "## kršitev volilne pravice:  "
      ],
      "text/plain": [
       "<IPython.core.display.Markdown object>"
      ]
     },
     "metadata": {},
     "output_type": "display_data"
    },
    {
     "data": {
      "text/markdown": [
       "- Uradna oseba, ki koga z namenom, da bi mu\r\n",
       "onemogočila uresničevanje volilne pravice, nezakonito ne vpiše v volilni imenik\r\n",
       "ali ga črta iz njega, se kaznuje z denarno kaznijo ali zaporom do enega leta.  "
      ],
      "text/plain": [
       "<IPython.core.display.Markdown object>"
      ]
     },
     "metadata": {},
     "output_type": "display_data"
    },
    {
     "data": {
      "text/markdown": [
       "## kršitev človeškega dostojanstva z zlorabo uradnega položaja ali uradnih pravic:  "
      ],
      "text/plain": [
       "<IPython.core.display.Markdown object>"
      ]
     },
     "metadata": {},
     "output_type": "display_data"
    },
    {
     "data": {
      "text/markdown": [
       "- Uradna oseba, ki pri opravljanju službe z\r\n",
       "zlorabo svojega uradnega položaja ali uradnih pravic s kom grdo ravna, ga žali,\r\n",
       "ga lahko telesno poškoduje ali sploh ravna z njim tako, da prizadene njegovo\r\n",
       "človeško dostojanstvo, se kaznuje z zaporom do treh let.  "
      ],
      "text/plain": [
       "<IPython.core.display.Markdown object>"
      ]
     },
     "metadata": {},
     "output_type": "display_data"
    },
    {
     "data": {
      "text/markdown": [
       "## lahka telesna poškodba:  "
      ],
      "text/plain": [
       "<IPython.core.display.Markdown object>"
      ]
     },
     "metadata": {},
     "output_type": "display_data"
    },
    {
     "data": {
      "text/markdown": [
       "- (1) Kdor koga tako telesno poškoduje,\r\n",
       "da je bil zaradi tega začasno okvarjen ali oslabljen kakšen del njegovega\r\n",
       "telesa ali njegov organ, ali je poškodovančeva zmožnost za delo začasno\r\n",
       "zmanjšana ali je prizadeta njegova zunanjost ali je začasno okvarjeno njegovo\r\n",
       "zdravje, se kaznuje z denarno kaznijo ali z zaporom do enega leta.  "
      ],
      "text/plain": [
       "<IPython.core.display.Markdown object>"
      ]
     },
     "metadata": {},
     "output_type": "display_data"
    },
    {
     "data": {
      "text/markdown": [
       "- (2) Če je poškodba iz prejšnjega\r\n",
       "odstavka prizadejana z orožjem, nevarnim orodjem, drugim sredstvom ali na tak\r\n",
       "način, da se lahko telo hudo poškoduje ali zdravje hudo okvari, se storilec\r\n",
       "kaznuje z zaporom do treh let.  "
      ],
      "text/plain": [
       "<IPython.core.display.Markdown object>"
      ]
     },
     "metadata": {},
     "output_type": "display_data"
    },
    {
     "data": {
      "text/markdown": [
       "- (3) Sodišče sme storilcu dejanja iz\r\n",
       "prejšnjega odstavka izreči sodni opomin, zlasti če je bil storilec izzvan z\r\n",
       "nedostojnim ali surovim obnašanjem poškodovanca.  "
      ],
      "text/plain": [
       "<IPython.core.display.Markdown object>"
      ]
     },
     "metadata": {},
     "output_type": "display_data"
    },
    {
     "data": {
      "text/markdown": [
       "- (4) Pregon za dejanje iz prvega\r\n",
       "odstavka tega člena se začne na predlog.  "
      ],
      "text/plain": [
       "<IPython.core.display.Markdown object>"
      ]
     },
     "metadata": {},
     "output_type": "display_data"
    },
    {
     "data": {
      "text/markdown": [
       "## lažno izdajanje za uradno ali vojaško osebo:  "
      ],
      "text/plain": [
       "<IPython.core.display.Markdown object>"
      ]
     },
     "metadata": {},
     "output_type": "display_data"
    },
    {
     "data": {
      "text/markdown": [
       "- (1) Kdor se, zato da bi sebi ali\r\n",
       "drugemu pridobil kakšno korist ali da bi komu prizadejal škodo, lažno izdaja za\r\n",
       "uradno ali vojaško osebo ali neupravičeno nosi oznake uradne ali vojaške osebe,\r\n",
       "se kaznuje z denarno kaznijo ali zaporom do enega leta.  "
      ],
      "text/plain": [
       "<IPython.core.display.Markdown object>"
      ]
     },
     "metadata": {},
     "output_type": "display_data"
    },
    {
     "data": {
      "text/markdown": [
       "- (2) Enako se kaznuje, kdor opravi\r\n",
       "kakšno dejanje, ki ga je upravičena opraviti samo uradna ali vojaška oseba.  "
      ],
      "text/plain": [
       "<IPython.core.display.Markdown object>"
      ]
     },
     "metadata": {},
     "output_type": "display_data"
    },
    {
     "data": {
      "text/markdown": [
       "## malomarno opravljanje lekarniške dejavnosti:  "
      ],
      "text/plain": [
       "<IPython.core.display.Markdown object>"
      ]
     },
     "metadata": {},
     "output_type": "display_data"
    },
    {
     "data": {
      "text/markdown": [
       "- Lekarnar ali druga oseba, pooblaščena za\r\n",
       "izdajanje zdravil, ki iz malomarnosti ne pripravi zdravila v predpisanem\r\n",
       "razmerju ali količini ali izda namesto predpisanega ali zahtevanega zdravila\r\n",
       "drugo zdravilo ali snov ali pri pripravljanju ali izdajanju zdravil kako\r\n",
       "drugače ravna v nasprotju s pravili znanosti in stroke in tako povzroči, da se\r\n",
       "komu občutno poslabša zdravje, se kaznuje z zaporom do dveh let.  "
      ],
      "text/plain": [
       "<IPython.core.display.Markdown object>"
      ]
     },
     "metadata": {},
     "output_type": "display_data"
    },
    {
     "data": {
      "text/markdown": [
       "## malomarno zdravljenje in opravljanje zdravilske dejavnosti:  "
      ],
      "text/plain": [
       "<IPython.core.display.Markdown object>"
      ]
     },
     "metadata": {},
     "output_type": "display_data"
    },
    {
     "data": {
      "text/markdown": [
       "- (1) Zdravnik, ki pri opravljanju\r\n",
       "zdravniške dejavnosti iz malomarnosti ravna v nasprotju s pravili zdravniške\r\n",
       "znanosti in stroke in tako povzroči, da se komu občutno poslabša zdravje, se\r\n",
       "kaznuje z zaporom do treh let.  "
      ],
      "text/plain": [
       "<IPython.core.display.Markdown object>"
      ]
     },
     "metadata": {},
     "output_type": "display_data"
    },
    {
     "data": {
      "text/markdown": [
       "- (2) Enako se kaznuje  "
      ],
      "text/plain": [
       "<IPython.core.display.Markdown object>"
      ]
     },
     "metadata": {},
     "output_type": "display_data"
    },
    {
     "data": {
      "text/markdown": [
       "## mazaštvo:  "
      ],
      "text/plain": [
       "<IPython.core.display.Markdown object>"
      ]
     },
     "metadata": {},
     "output_type": "display_data"
    },
    {
     "data": {
      "text/markdown": [
       "- (1) Kdor se ukvarja z zdravljenjem ali\r\n",
       "opravljanjem zdravilske dejavnosti, čeprav nima predpisane kvalifikacije, in\r\n",
       "pri tem odvrne bolnika od pravočasnega iskanja zdravniške pomoči, se kaznuje z\r\n",
       "zaporom od šestih mesecev do petih let.  "
      ],
      "text/plain": [
       "<IPython.core.display.Markdown object>"
      ]
     },
     "metadata": {},
     "output_type": "display_data"
    },
    {
     "data": {
      "text/markdown": [
       "- (2) Storilec dejanja iz prejšnjega odstavka,\r\n",
       "ki povzroči pomembno škodo na zdravju osebe, ki v postopke zdravljenja ni\r\n",
       "privolila ali ni bila sposobna privoliti, se kaznuje z zaporom od šestih\r\n",
       "mesecev do osmih let.  "
      ],
      "text/plain": [
       "<IPython.core.display.Markdown object>"
      ]
     },
     "metadata": {},
     "output_type": "display_data"
    },
    {
     "data": {
      "text/markdown": [
       "- (3) Če ima dejanje iz prvega odstavka\r\n",
       "za posledico smrt bolnika, se storilec kaznuje z zaporom od enega do desetih\r\n",
       "let.  "
      ],
      "text/plain": [
       "<IPython.core.display.Markdown object>"
      ]
     },
     "metadata": {},
     "output_type": "display_data"
    },
    {
     "data": {
      "text/markdown": [
       "- (4) Pripomočki, namenjeni ali\r\n",
       "uporabljeni za zdravljenje po prvem odstavku tega člena, se odvzamejo.  "
      ],
      "text/plain": [
       "<IPython.core.display.Markdown object>"
      ]
     },
     "metadata": {},
     "output_type": "display_data"
    },
    {
     "data": {
      "text/markdown": [
       "## mučenje:  "
      ],
      "text/plain": [
       "<IPython.core.display.Markdown object>"
      ]
     },
     "metadata": {},
     "output_type": "display_data"
    },
    {
     "data": {
      "text/markdown": [
       "- (1) Kdor komu namenoma povzroči hudo\r\n",
       "bolečino ali trpljenje, bodisi telesno ali duševno, da si od njega ali tretje\r\n",
       "osebe pridobi informacijo oziroma priznanje, da ga kaznuje za dejanje, ki ga je\r\n",
       "storil on ali tretja oseba ali je za to dejanje osumljen on ali tretja oseba,\r\n",
       "da bi ga ustrahoval ali nanj izvajal pritisk ali da bi ustrahoval tretjo osebo\r\n",
       "ali nanjo izvajal pritisk ali iz katerega drugega razloga, ki temelji na kateri\r\n",
       "koli obliki kršitve enakopravnosti, se kaznuje z zaporom od enega do desetih\r\n",
       "let.   "
      ],
      "text/plain": [
       "<IPython.core.display.Markdown object>"
      ]
     },
     "metadata": {},
     "output_type": "display_data"
    },
    {
     "data": {
      "text/markdown": [
       "- (2) Če bolečino ali trpljenje iz prejšnjega\r\n",
       "odstavka povzroči ali prizadene uradna oseba ali kdo drug, ki nastopa z uradnim\r\n",
       "statusom ali pooblastilom ali na pobudo take osebe ali z njeno izrecno ali tiho\r\n",
       "privolitvijo, se kaznuje z zaporom od treh do dvanajstih let.   "
      ],
      "text/plain": [
       "<IPython.core.display.Markdown object>"
      ]
     },
     "metadata": {},
     "output_type": "display_data"
    },
    {
     "data": {
      "text/markdown": [
       "## mučenje živali:  "
      ],
      "text/plain": [
       "<IPython.core.display.Markdown object>"
      ]
     },
     "metadata": {},
     "output_type": "display_data"
    },
    {
     "data": {
      "text/markdown": [
       "- (1) Kdor surovo ravna z živaljo ali ji po\r\n",
       "nepotrebnem povzroča trpljenje, se kaznuje z denarno kaznijo ali zaporom do\r\n",
       "enega leta.  "
      ],
      "text/plain": [
       "<IPython.core.display.Markdown object>"
      ]
     },
     "metadata": {},
     "output_type": "display_data"
    },
    {
     "data": {
      "text/markdown": [
       "- (2) Kdor se ukvarja z organizacijo borb\r\n",
       "živali ali stav v zvezi z borbo živali ali se ukvarja z vzrejo in vzgojo živali\r\n",
       "z namenom uporabe za borbo živali, se kaznuje z zaporom do dveh let in denarno\r\n",
       "kaznijo.  "
      ],
      "text/plain": [
       "<IPython.core.display.Markdown object>"
      ]
     },
     "metadata": {},
     "output_type": "display_data"
    },
    {
     "data": {
      "text/markdown": [
       "- (3) Kdor z dejanjem iz prvega odstavka tega\r\n",
       "člena muči več živali ali mučeno žival trajno pohabi ali na krut način povzroči\r\n",
       "njen pogin, se kaznuje z zaporom do treh let.  "
      ],
      "text/plain": [
       "<IPython.core.display.Markdown object>"
      ]
     },
     "metadata": {},
     "output_type": "display_data"
    },
    {
     "data": {
      "text/markdown": [
       "- (4) Če je zaradi dejanja iz drugega\r\n",
       "odstavka tega člena žival trajno hudo pohabljena ali pogine, se storilec\r\n",
       "kaznuje z zaporom do treh let in denarno kaznijo.  "
      ],
      "text/plain": [
       "<IPython.core.display.Markdown object>"
      ]
     },
     "metadata": {},
     "output_type": "display_data"
    },
    {
     "data": {
      "text/markdown": [
       "## napad na informacijski sistem:  "
      ],
      "text/plain": [
       "<IPython.core.display.Markdown object>"
      ]
     },
     "metadata": {},
     "output_type": "display_data"
    },
    {
     "data": {
      "text/markdown": [
       "- (1) Kdor neupravičeno vstopi\r\n",
       "ali vdre v informacijski sistem ali kdor neupravičeno\r\n",
       "prestreže podatek ob nejavnem prenosu v informacijski sistem ali iz njega, se\r\n",
       "kaznuje z zaporom do dveh let.  "
      ],
      "text/plain": [
       "<IPython.core.display.Markdown object>"
      ]
     },
     "metadata": {},
     "output_type": "display_data"
    },
    {
     "data": {
      "text/markdown": [
       "- (2) Kdor podatke v informacijskem\r\n",
       "sistemu neupravičeno uporabi, spremeni, preslika, prenaša, uniči ali v\r\n",
       "informacijski sistem neupravičeno vnese kakšen podatek, ovira prenos ali dostop do podatkov ali ovira delovanje informacijskega sistema, se kaznuje z zaporom do treh let.  "
      ],
      "text/plain": [
       "<IPython.core.display.Markdown object>"
      ]
     },
     "metadata": {},
     "output_type": "display_data"
    },
    {
     "data": {
      "text/markdown": [
       "- (3) Če je\r\n",
       "bilo z dejanjem iz prejšnjega odstavka z uporabo pripomočkov iz tretjega\r\n",
       "odstavka 306. člena tega zakonika ovirano delovanje ali so bili drugače\r\n",
       "prizadeti trije ali več informacijskih sistemov, se storilec kaznuje z zaporom\r\n",
       "od treh mesecev do štirih let.  "
      ],
      "text/plain": [
       "<IPython.core.display.Markdown object>"
      ]
     },
     "metadata": {},
     "output_type": "display_data"
    },
    {
     "data": {
      "text/markdown": [
       "- (4) Če je z dejanjem iz drugega odstavka\r\n",
       "tega člena povzročena velika škoda ali je bilo dejanje storjeno v hudodelski združbi ali nad\r\n",
       "informacijskim sistemom upravljavca kritične infrastrukture ali nad\r\n",
       "informacijskim sistemom zavezanca po zakonu, ki ureja informacijsko varnost, se storilec kaznuje z zaporom od treh mesecev do petih let.  "
      ],
      "text/plain": [
       "<IPython.core.display.Markdown object>"
      ]
     },
     "metadata": {},
     "output_type": "display_data"
    },
    {
     "data": {
      "text/markdown": [
       "## napad na uradno osebo, ko opravlja naloge varnosti:  "
      ],
      "text/plain": [
       "<IPython.core.display.Markdown object>"
      ]
     },
     "metadata": {},
     "output_type": "display_data"
    },
    {
     "data": {
      "text/markdown": [
       "- (1) Kdor napade ali resno zagrozi, da\r\n",
       "bo napadel uradno osebo ali drugo osebo, za katero ve, da pomaga uradni osebi,\r\n",
       "ko ta opravlja naloge policije ali državne varnosti ali varuje javni red, ali\r\n",
       "osebo, ki opravlja naloge v zvezi z izvrševanjem kazenskih sankcij, se kaznuje\r\n",
       "z zaporom od šestih mesecev do treh let.  "
      ],
      "text/plain": [
       "<IPython.core.display.Markdown object>"
      ]
     },
     "metadata": {},
     "output_type": "display_data"
    },
    {
     "data": {
      "text/markdown": [
       "- (2) Če storilec ob storitvi dejanja iz\r\n",
       "prejšnjega odstavka uradni osebi ali drugi osebi, za katero ve, da ji pomaga,\r\n",
       "grozi z orožjem ali nevarnim predmetom ali sredstvom ali z njo grdo ravna ali\r\n",
       "jo lahko telesno poškoduje, se kaznuje z zaporom od šestih mesec do petih let.  "
      ],
      "text/plain": [
       "<IPython.core.display.Markdown object>"
      ]
     },
     "metadata": {},
     "output_type": "display_data"
    },
    {
     "data": {
      "text/markdown": [
       "- (3) S kaznijo iz prejšnjega odstavka\r\n",
       "se kaznuje, kdor stori dejanje iz prvega odstavka tega člena proti dvema ali\r\n",
       "več osebam.  "
      ],
      "text/plain": [
       "<IPython.core.display.Markdown object>"
      ]
     },
     "metadata": {},
     "output_type": "display_data"
    },
    {
     "data": {
      "text/markdown": [
       "## napad na varnost zračnega prometa:  "
      ],
      "text/plain": [
       "<IPython.core.display.Markdown object>"
      ]
     },
     "metadata": {},
     "output_type": "display_data"
    },
    {
     "data": {
      "text/markdown": [
       "- (1) Kdor spravi v nevarnost let zrakoplova,\r\n",
       "tako da položi ali prinese v zrakoplov razstrelivo ali druge podobne naprave\r\n",
       "ali snovi, uniči ali poškoduje navigacijske naprave na zrakoplovu ali napravi\r\n",
       "na njem kakšno drugo škodo ali daje napačna obvestila v zvezi z letom ali z\r\n",
       "napadom na posadko civilnega zrakoplova omejuje ali zmanjšuje sposobnost\r\n",
       "opravljanja dolžnosti članov posadke, ali s kršitvijo varnostnih navodil, ki so\r\n",
       "vidno označena ali jih potnikom posreduje vodja zrakoplova ali ostali člani\r\n",
       "posadke, se kaznuje z zaporom od enega do desetih let.   "
      ],
      "text/plain": [
       "<IPython.core.display.Markdown object>"
      ]
     },
     "metadata": {},
     "output_type": "display_data"
    },
    {
     "data": {
      "text/markdown": [
       "- (2) Enako se kaznuje, kdor ogrozi varnost\r\n",
       "na letališču tako, da s silo ali grožnjo z uporabo sile prisili osebje\r\n",
       "letališča, da prekine poslovanje v zvezi s poleti zrakoplovov, ali z\r\n",
       "razstrelivom ali drugo podobno napravo ali snovjo uniči ali poškoduje zrakoplov\r\n",
       "ali naprave, namenjene za varnost zračnega prometa.   "
      ],
      "text/plain": [
       "<IPython.core.display.Markdown object>"
      ]
     },
     "metadata": {},
     "output_type": "display_data"
    },
    {
     "data": {
      "text/markdown": [
       "- (3) Če ima dejanje iz prvega ali drugega\r\n",
       "odstavka tega člena za posledico smrt ene ali več oseb ali uničenje zrakoplova\r\n",
       "ali letališča, se storilec kaznuje z zaporom od treh do petnajstih let.   "
      ],
      "text/plain": [
       "<IPython.core.display.Markdown object>"
      ]
     },
     "metadata": {},
     "output_type": "display_data"
    },
    {
     "data": {
      "text/markdown": [
       "## napeljevanje k samomoru in pomoč pri samomoru:  "
      ],
      "text/plain": [
       "<IPython.core.display.Markdown object>"
      ]
     },
     "metadata": {},
     "output_type": "display_data"
    },
    {
     "data": {
      "text/markdown": [
       "- (1) Kdor koga naklepoma napelje k\r\n",
       "samomoru ali mu pomaga pri njem in ga ta stori, se kaznuje z zaporom od šestih\r\n",
       "mesecev do petih let.  "
      ],
      "text/plain": [
       "<IPython.core.display.Markdown object>"
      ]
     },
     "metadata": {},
     "output_type": "display_data"
    },
    {
     "data": {
      "text/markdown": [
       "- (2) Kdor stori dejanje iz prejšnjega\r\n",
       "odstavka proti mladoletni osebi, ki je že stara štirinajst let, ali proti\r\n",
       "osebi, katere sposobnost razumeti pomen svojega dejanja ali imeti v oblasti\r\n",
       "svoje ravnanje je bila bistveno zmanjšana, se kaznuje z zaporom od enega do\r\n",
       "desetih let.  "
      ],
      "text/plain": [
       "<IPython.core.display.Markdown object>"
      ]
     },
     "metadata": {},
     "output_type": "display_data"
    },
    {
     "data": {
      "text/markdown": [
       "- (3) Če je dejanje iz prvega odstavka\r\n",
       "tega člena storjeno proti mladoletni osebi, ki še ni stara štirinajst let, ali\r\n",
       "proti osebi, ki ni mogla razumeti pomena svojega dejanja ali imeti v oblasti\r\n",
       "svojega ravnanja, se storilec kaznuje kot za uboj ali\r\n",
       "umor.  "
      ],
      "text/plain": [
       "<IPython.core.display.Markdown object>"
      ]
     },
     "metadata": {},
     "output_type": "display_data"
    },
    {
     "data": {
      "text/markdown": [
       "- (4) Kdor surovo ali nečloveško ravna s\r\n",
       "kom, ki mu je podrejen ali od njega odvisen in zaradi takega ravnanja stori\r\n",
       "samomor, se kaznuje z zaporom od šestih mesecev do petih let.  "
      ],
      "text/plain": [
       "<IPython.core.display.Markdown object>"
      ]
     },
     "metadata": {},
     "output_type": "display_data"
    },
    {
     "data": {
      "text/markdown": [
       "- (5) Kdor komu pomaga pri samomoru in\r\n",
       "ga ta stori, pa so pri tem dane posebne olajševalne okoliščine, se kaznuje z\r\n",
       "zaporom do treh let.  "
      ],
      "text/plain": [
       "<IPython.core.display.Markdown object>"
      ]
     },
     "metadata": {},
     "output_type": "display_data"
    },
    {
     "data": {
      "text/markdown": [
       "- (6) Če je kdo zaradi kakšnega dejanja\r\n",
       "iz prejšnjih odstavkov samomor samo poskušal, sme sodišče storilca kaznovati\r\n",
       "mileje.  "
      ],
      "text/plain": [
       "<IPython.core.display.Markdown object>"
      ]
     },
     "metadata": {},
     "output_type": "display_data"
    },
    {
     "data": {
      "text/markdown": [
       "## nasilje v družini:  "
      ],
      "text/plain": [
       "<IPython.core.display.Markdown object>"
      ]
     },
     "metadata": {},
     "output_type": "display_data"
    },
    {
     "data": {
      "text/markdown": [
       "- (1) Kdor v družinski skupnosti z\r\n",
       "drugim grdo ravna, ga pretepa ali drugače boleče ali ponižujoče ravna, ga z\r\n",
       "grožnjo z neposrednim napadom na življenje ali telo preganja iz skupnega\r\n",
       "prebivališča ali mu omejuje svobodo gibanja, ga zalezuje, ga prisiljuje k delu\r\n",
       "ali opuščanju dela ali ga kako drugače z nasilnim omejevanjem njegovih enakih pravic\r\n",
       "spravlja v skupnosti v podrejen položaj, se kaznuje z zaporom do petih let.  "
      ],
      "text/plain": [
       "<IPython.core.display.Markdown object>"
      ]
     },
     "metadata": {},
     "output_type": "display_data"
    },
    {
     "data": {
      "text/markdown": [
       "- (2) Enako se kaznuje, kdor stori\r\n",
       "dejanje iz prejšnjega odstavka v kakšni drugi trajnejši življenjski skupnosti.  "
      ],
      "text/plain": [
       "<IPython.core.display.Markdown object>"
      ]
     },
     "metadata": {},
     "output_type": "display_data"
    },
    {
     "data": {
      "text/markdown": [
       "- (3) Če je dejanje iz prvega odstavka\r\n",
       "storjeno proti osebi, s katero je storilec živel v družinski ali drugi\r\n",
       "trajnejši skupnosti, ki je razpadla, je pa dejanje s to skupnostjo povezano, se\r\n",
       "storilec kaznuje z zaporom do treh let.  "
      ],
      "text/plain": [
       "<IPython.core.display.Markdown object>"
      ]
     },
     "metadata": {},
     "output_type": "display_data"
    },
    {
     "data": {
      "text/markdown": [
       "## nasilništvo:  "
      ],
      "text/plain": [
       "<IPython.core.display.Markdown object>"
      ]
     },
     "metadata": {},
     "output_type": "display_data"
    },
    {
     "data": {
      "text/markdown": [
       "- (1) Kdor z drugim grdo ravna, ga\r\n",
       "pretepa ali drugače boleče ali ponižujoče kaznuje, ga s silo ali grožnjo z neposrednim\r\n",
       "napadom na življenje ali telo preganja ali mu jemlje svobodo gibanja, ga\r\n",
       "prisiljuje k delu ali opuščanju dela ali ga kako drugače z nasilnim omejevanjem\r\n",
       "njegovih enakih pravic spravlja v podrejen položaj, se kaznuje z zaporom do\r\n",
       "dveh let.  "
      ],
      "text/plain": [
       "<IPython.core.display.Markdown object>"
      ]
     },
     "metadata": {},
     "output_type": "display_data"
    },
    {
     "data": {
      "text/markdown": [
       "- (2) Če dejanje iz prejšnjega odstavka\r\n",
       "storita dve ali več oseb ali če je bilo hudo ponižanih več oseb ali če storilec\r\n",
       "drugega lahko telesno poškoduje, se storilec kaznuje z zaporom do treh let.  "
      ],
      "text/plain": [
       "<IPython.core.display.Markdown object>"
      ]
     },
     "metadata": {},
     "output_type": "display_data"
    },
    {
     "data": {
      "text/markdown": [
       "- (3) Enako kot v prejšnjem odstavku se\r\n",
       "kaznuje, kdor povzroča nasilje ali ogroža varnost drugih na športnih prireditvah\r\n",
       "ali v zvezi s temi prireditvami.  "
      ],
      "text/plain": [
       "<IPython.core.display.Markdown object>"
      ]
     },
     "metadata": {},
     "output_type": "display_data"
    },
    {
     "data": {
      "text/markdown": [
       "## nedovoljena proizvodnja in promet orožja ali eksploziva:  "
      ],
      "text/plain": [
       "<IPython.core.display.Markdown object>"
      ]
     },
     "metadata": {},
     "output_type": "display_data"
    },
    {
     "data": {
      "text/markdown": [
       "- (1) Kdor protipravno sestavi, izdela,\r\n",
       "ponuja, proda, menja, dostavi, uvozi, izvozi, vnese v državo ali iznese iz nje\r\n",
       "strelno, kemično, biološko ali jedrsko orožje, strelivo ali eksploziv ali\r\n",
       "vojaško orožje in vojaško opremo, katerih promet, nabava in posest\r\n",
       "posameznikom, pravnim osebam in podjetnikom niso dovoljeni ali so omejeni, ali\r\n",
       "pri tem posreduje, ali kdor tako orožje, strelivo ali eksploziv, razen\r\n",
       "strelnega orožja ali streliva, za katero se lahko izda orožna listina,\r\n",
       "protipravno pridobi ali hrani, se kaznuje z zaporom od šestih mesecev do petih\r\n",
       "let.   "
      ],
      "text/plain": [
       "<IPython.core.display.Markdown object>"
      ]
     },
     "metadata": {},
     "output_type": "display_data"
    },
    {
     "data": {
      "text/markdown": [
       "- (2) Če gre pri dejanju iz prejšnjega\r\n",
       "odstavka za orožje, strelivo ali eksplozivne snovi ali kakšno drugo bojno\r\n",
       "sredstvo v veliki količini ali vrednosti ali pomeni nevarnost ali če je dejanje\r\n",
       "storjeno v hudodelski združbi, se storilec kaznuje z zaporom od enega do\r\n",
       "desetih let.  "
      ],
      "text/plain": [
       "<IPython.core.display.Markdown object>"
      ]
     },
     "metadata": {},
     "output_type": "display_data"
    },
    {
     "data": {
      "text/markdown": [
       "- (3) Če gre pri dejanju iz prvega\r\n",
       "odstavka tega člena za posamezno strelno orožje ali manjšo količino streliva za\r\n",
       "tako orožje ali če storilec z\r\n",
       "namenom nedovoljene prodaje pridobi ali hrani strelno orožje ali strelivo, za\r\n",
       "katero se lahko izda orožna listina, ali če ga hrani v veliki količini ali\r\n",
       "vrednosti, se storilec kaznuje z zaporom do enega leta.  "
      ],
      "text/plain": [
       "<IPython.core.display.Markdown object>"
      ]
     },
     "metadata": {},
     "output_type": "display_data"
    },
    {
     "data": {
      "text/markdown": [
       "- (4) Enako kot v prejšnjem odstavku se\r\n",
       "kaznuje, kdor ponareja ali nedovoljeno uničuje, odstranjuje ali spreminja oznake\r\n",
       "na strelnem orožju.  "
      ],
      "text/plain": [
       "<IPython.core.display.Markdown object>"
      ]
     },
     "metadata": {},
     "output_type": "display_data"
    },
    {
     "data": {
      "text/markdown": [
       "- (5) Kdor protipravno izdela, pridobi,\r\n",
       "ponuja, proda, menja, pošilja, dostavi, uvozi, izvozi, vnese v državo ali\r\n",
       "iznese iz nje sestavne oziroma rezervne dele orožja, streliva, eksploziva,\r\n",
       "eksplozivnih naprav in eksplozivnega orožja ali vojaškega orožja in vojaške\r\n",
       "opreme, snov, sestavine, programsko opremo ali tehnologijo, za katere ve, da\r\n",
       "bodo uporabljene za proizvodnjo ali delovanje predmetov iz prejšnjih odstavkov,\r\n",
       "jih s tem namenom hrani ali pri tem posreduje, se kaznuje z zaporom do petih\r\n",
       "let.   "
      ],
      "text/plain": [
       "<IPython.core.display.Markdown object>"
      ]
     },
     "metadata": {},
     "output_type": "display_data"
    },
    {
     "data": {
      "text/markdown": [
       "## nedovoljeno dajanje daril:  "
      ],
      "text/plain": [
       "<IPython.core.display.Markdown object>"
      ]
     },
     "metadata": {},
     "output_type": "display_data"
    },
    {
     "data": {
      "text/markdown": [
       "- (1) Kdor osebi, ki opravlja\r\n",
       "gospodarsko dejavnost, obljubi, ponudi ali da nedovoljeno nagrado, darilo ali\r\n",
       "kakšno drugo korist zanjo ali za koga drugega, da bi sebi ali komu drugemu\r\n",
       "pridobil kakšno neupravičeno ugodnost pri pridobitvi ali ohranitvi posla ali\r\n",
       "druge nedovoljene koristi iz prvega odstavka 241. člena, se kaznuje z zaporom\r\n",
       "od šestih mesecev do šestih let in denarno kaznijo.  "
      ],
      "text/plain": [
       "<IPython.core.display.Markdown object>"
      ]
     },
     "metadata": {},
     "output_type": "display_data"
    },
    {
     "data": {
      "text/markdown": [
       "- (2) Kdor osebi, ki opravlja\r\n",
       "gospodarsko dejavnost, obljubi, ponudi ali da nedovoljeno nagrado, darilo ali\r\n",
       "kakšno drugo korist zanjo ali za koga drugega kot protiuslugo za pridobitev ali\r\n",
       "ohranitev posla ali druge koristi, se kaznuje z zaporom do štirih let in\r\n",
       "denarno kaznijo.  "
      ],
      "text/plain": [
       "<IPython.core.display.Markdown object>"
      ]
     },
     "metadata": {},
     "output_type": "display_data"
    },
    {
     "data": {
      "text/markdown": [
       "- (3) Storilcu iz prejšnjih odstavkov,\r\n",
       "ki je dal nedovoljeno nagrado, darilo ali kakšno drugo korist na zahtevo, pa je\r\n",
       "dejanje naznanil, preden je bilo odkrito ali preden je izvedel, da je bilo odkrito,\r\n",
       "se sme kazen odpustiti, če to ne nasprotuje pravilom\r\n",
       "mednarodnega prava.  "
      ],
      "text/plain": [
       "<IPython.core.display.Markdown object>"
      ]
     },
     "metadata": {},
     "output_type": "display_data"
    },
    {
     "data": {
      "text/markdown": [
       "- (4) Dana nagrada, darilo ali kakšna\r\n",
       "druga korist se vzamejo, v primeru iz prejšnjega odstavka pa se smejo vrniti\r\n",
       "tistemu, ki jih je dal.  "
      ],
      "text/plain": [
       "<IPython.core.display.Markdown object>"
      ]
     },
     "metadata": {},
     "output_type": "display_data"
    },
    {
     "data": {
      "text/markdown": [
       "## nedovoljeno sprejemanje daril:  "
      ],
      "text/plain": [
       "<IPython.core.display.Markdown object>"
      ]
     },
     "metadata": {},
     "output_type": "display_data"
    },
    {
     "data": {
      "text/markdown": [
       "- (1) Kdor pri opravljanju gospodarske\r\n",
       "dejavnosti zase ali za koga drugega zahteva ali sprejme nedovoljeno nagrado,\r\n",
       "darilo ali kakšno drugo korist ali obljubo oziroma ponudbo take koristi, da bi\r\n",
       "zaradi pridobitve ali ohranitve posla ali druge nedovoljene koristi zanemaril\r\n",
       "koristi svoje organizacije ali druge fizične osebe ali ji povzročil škodo, se\r\n",
       "kaznuje z zaporom od šestih mesecev do šestih let in denarno kaznijo.  "
      ],
      "text/plain": [
       "<IPython.core.display.Markdown object>"
      ]
     },
     "metadata": {},
     "output_type": "display_data"
    },
    {
     "data": {
      "text/markdown": [
       "- (2) Storilec dejanja iz prejšnjega\r\n",
       "odstavka, ki zahteva ali sprejme nedovoljeno nagrado, darilo ali kakšno drugo\r\n",
       "korist ali obljubo oziroma ponudbo take koristi zase ali za koga drugega kot\r\n",
       "protiuslugo zaradi pridobitve ali ohranitve posla ali druge koristi, se kaznuje\r\n",
       "za zaporom od treh mesecev do petih let in denarno kaznijo.  "
      ],
      "text/plain": [
       "<IPython.core.display.Markdown object>"
      ]
     },
     "metadata": {},
     "output_type": "display_data"
    },
    {
     "data": {
      "text/markdown": [
       "- (3) Storilec dejanja iz prvega\r\n",
       "odstavka tega člena, ki po sklenitvi posla ali opravljeni storitvi ali\r\n",
       "pridobitvi druge nedovoljene koristi zase ali za koga drugega zahteva ali\r\n",
       "sprejme nedovoljeno nagrado, darilo ali kakšno drugo korist, se kaznuje z\r\n",
       "zaporom do štirih let in denarno kaznijo.  "
      ],
      "text/plain": [
       "<IPython.core.display.Markdown object>"
      ]
     },
     "metadata": {},
     "output_type": "display_data"
    },
    {
     "data": {
      "text/markdown": [
       "- (4) Sprejeta nagrada, darilo ali\r\n",
       "kakšna druga korist se vzamejo.  "
      ],
      "text/plain": [
       "<IPython.core.display.Markdown object>"
      ]
     },
     "metadata": {},
     "output_type": "display_data"
    },
    {
     "data": {
      "text/markdown": [
       "## neodvrnitev nevarnosti:  "
      ],
      "text/plain": [
       "<IPython.core.display.Markdown object>"
      ]
     },
     "metadata": {},
     "output_type": "display_data"
    },
    {
     "data": {
      "text/markdown": [
       "- (1) Kdor ne naznani pravočasno\r\n",
       "pristojnemu organu ali organizaciji ali sicer ne stori vsega, kar je potrebno,\r\n",
       "da se odvrne požar, povodenj, eksplozija, prometna nesreča, ekološka nesreča\r\n",
       "ali kakšna druga nevarnost za življenje ljudi ali čezmerno obremenitev okolja\r\n",
       "ali premoženje večje vrednosti, čeprav bi to lahko storil brez nevarnosti zase\r\n",
       "ali za koga drugega, se kaznuje z denarno kaznijo ali zaporom do enega leta.  "
      ],
      "text/plain": [
       "<IPython.core.display.Markdown object>"
      ]
     },
     "metadata": {},
     "output_type": "display_data"
    },
    {
     "data": {
      "text/markdown": [
       "- (2) Kdor komu s silo, grožnjo ali\r\n",
       "preslepitvijo prepreči, da bi storil, kar je potrebno, da se odvrne nevarnost\r\n",
       "za življenje ljudi, okolje ali premoženje večje vrednosti, se kaznuje z zaporom\r\n",
       "do dveh let.  "
      ],
      "text/plain": [
       "<IPython.core.display.Markdown object>"
      ]
     },
     "metadata": {},
     "output_type": "display_data"
    },
    {
     "data": {
      "text/markdown": [
       "## neplačevanje preživnine:  "
      ],
      "text/plain": [
       "<IPython.core.display.Markdown object>"
      ]
     },
     "metadata": {},
     "output_type": "display_data"
    },
    {
     "data": {
      "text/markdown": [
       "- (1) Kdor ne daje preživnine za osebo,\r\n",
       "ki jo po zakonu mora preživljati in za katero je višina njegove preživninske\r\n",
       "obveznosti določena z izvršilnim naslovom, čeprav bi to zmogel, se kaznuje z\r\n",
       "zaporom do enega leta.  "
      ],
      "text/plain": [
       "<IPython.core.display.Markdown object>"
      ]
     },
     "metadata": {},
     "output_type": "display_data"
    },
    {
     "data": {
      "text/markdown": [
       "- (2) Če je zaradi dejanja iz prejšnjega\r\n",
       "odstavka ogroženo ali bi lahko bilo ogroženo preživljanje upravičenca ali če se\r\n",
       "storilec izmika dajati preživnino, se kaznuje z zaporom do treh let.  "
      ],
      "text/plain": [
       "<IPython.core.display.Markdown object>"
      ]
     },
     "metadata": {},
     "output_type": "display_data"
    },
    {
     "data": {
      "text/markdown": [
       "- (3) Če sodišče izreče pogojno obsodbo,\r\n",
       "lahko naloži storilcu dejanja iz prvega ali drugega odstavka tega člena, da\r\n",
       "mora redno plačevati preživnino, lahko pa tudi, da mora poravnati zaostalo\r\n",
       "preživnino ali druge prisojene obveznosti, nastale s preživljanjem.  "
      ],
      "text/plain": [
       "<IPython.core.display.Markdown object>"
      ]
     },
     "metadata": {},
     "output_type": "display_data"
    },
    {
     "data": {
      "text/markdown": [
       "## neupravičena izdaja poklicne skrivnosti:  "
      ],
      "text/plain": [
       "<IPython.core.display.Markdown object>"
      ]
     },
     "metadata": {},
     "output_type": "display_data"
    },
    {
     "data": {
      "text/markdown": [
       "- (1) Kdor neupravičeno izda skrivnost,\r\n",
       "za katero je izvedel kot zagovornik, odvetnik, zdravnik, duhovnik, socialni\r\n",
       "delavec, psiholog ali kot kakšna druga oseba pri opravljanju svojega poklica,\r\n",
       "se kaznuje z denarno kaznijo ali zaporom do enega leta.  "
      ],
      "text/plain": [
       "<IPython.core.display.Markdown object>"
      ]
     },
     "metadata": {},
     "output_type": "display_data"
    },
    {
     "data": {
      "text/markdown": [
       "- (2) Za dejanje iz prejšnjega odstavka\r\n",
       "se ne kaznuje, kdor izda skrivnost zaradi splošne koristi ali upravičenega\r\n",
       "interesa javnosti ali zaradi koristi koga drugega, če je ta korist večja kakor\r\n",
       "ohranitev skrivnosti ali če je z zakonom določena odveza dolžnosti varovanja\r\n",
       "skrivnosti.  "
      ],
      "text/plain": [
       "<IPython.core.display.Markdown object>"
      ]
     },
     "metadata": {},
     "output_type": "display_data"
    },
    {
     "data": {
      "text/markdown": [
       "- (3) Pregon se začne na zasebno tožbo.  "
      ],
      "text/plain": [
       "<IPython.core.display.Markdown object>"
      ]
     },
     "metadata": {},
     "output_type": "display_data"
    },
    {
     "data": {
      "text/markdown": [
       "## neupravičena osebna preiskava:  "
      ],
      "text/plain": [
       "<IPython.core.display.Markdown object>"
      ]
     },
     "metadata": {},
     "output_type": "display_data"
    },
    {
     "data": {
      "text/markdown": [
       "- (1) Kdor neupravičeno preišče drugega\r\n",
       "ali stvari, ki jih ima ta na sebi ali s seboj, se kaznuje z denarno kaznijo ali\r\n",
       "zaporom do enega leta.  "
      ],
      "text/plain": [
       "<IPython.core.display.Markdown object>"
      ]
     },
     "metadata": {},
     "output_type": "display_data"
    },
    {
     "data": {
      "text/markdown": [
       "- (2) Če stori dejanje iz prejšnjega\r\n",
       "odstavka uradna oseba z zlorabo uradnega položaja ali uradnih pravic, se\r\n",
       "kaznuje z zaporom do dveh let.  "
      ],
      "text/plain": [
       "<IPython.core.display.Markdown object>"
      ]
     },
     "metadata": {},
     "output_type": "display_data"
    },
    {
     "data": {
      "text/markdown": [
       "- (3) Poskus dejanj iz prvega in drugega\r\n",
       "odstavka tega člena je kazniv.  "
      ],
      "text/plain": [
       "<IPython.core.display.Markdown object>"
      ]
     },
     "metadata": {},
     "output_type": "display_data"
    },
    {
     "data": {
      "text/markdown": [
       "- (4) Pregon za dejanje iz prvega\r\n",
       "odstavka tega člena se začne na predlog.  "
      ],
      "text/plain": [
       "<IPython.core.display.Markdown object>"
      ]
     },
     "metadata": {},
     "output_type": "display_data"
    },
    {
     "data": {
      "text/markdown": [
       "## neupravičena proizvodnja in promet s prepovedanimi drogami, nedovoljenimi snovmi v športu in predhod:  "
      ],
      "text/plain": [
       "<IPython.core.display.Markdown object>"
      ]
     },
     "metadata": {},
     "output_type": "display_data"
    },
    {
     "data": {
      "text/markdown": [
       "* No data available *"
      ],
      "text/plain": [
       "<IPython.core.display.Markdown object>"
      ]
     },
     "metadata": {},
     "output_type": "display_data"
    },
    {
     "data": {
      "text/markdown": [
       "## neupravičena uporaba tuje oznake ali modela:  "
      ],
      "text/plain": [
       "<IPython.core.display.Markdown object>"
      ]
     },
     "metadata": {},
     "output_type": "display_data"
    },
    {
     "data": {
      "text/markdown": [
       "- (1) Kdor pri gospodarskem poslovanju\r\n",
       "neupravičeno uporabi tujo firmo, znamko, geografsko označbo ali drugo posebno\r\n",
       "oznako za blago ali storitev ali uporabi bistveni del te oznake kot svojo\r\n",
       "firmo, znamko ali drug znak za označevanje blaga ali storitev, se kaznuje z\r\n",
       "zaporom do treh let.  "
      ],
      "text/plain": [
       "<IPython.core.display.Markdown object>"
      ]
     },
     "metadata": {},
     "output_type": "display_data"
    },
    {
     "data": {
      "text/markdown": [
       "- (2) Enako se kaznuje, kdor pri\r\n",
       "gospodarskem poslovanju neupravičeno uporabi tuji model.  "
      ],
      "text/plain": [
       "<IPython.core.display.Markdown object>"
      ]
     },
     "metadata": {},
     "output_type": "display_data"
    },
    {
     "data": {
      "text/markdown": [
       "- (3) Predmeti iz prvega in drugega\r\n",
       "odstavka tega člena ter orodja in naprave, ki se uporabljajo za njihovo\r\n",
       "izdelovanje, se vzamejo.  "
      ],
      "text/plain": [
       "<IPython.core.display.Markdown object>"
      ]
     },
     "metadata": {},
     "output_type": "display_data"
    },
    {
     "data": {
      "text/markdown": [
       "## neupravičena uporaba tujega izuma ali topografije:  "
      ],
      "text/plain": [
       "<IPython.core.display.Markdown object>"
      ]
     },
     "metadata": {},
     "output_type": "display_data"
    },
    {
     "data": {
      "text/markdown": [
       "- (1) Kdor pri gospodarskem poslovanju\r\n",
       "neupravičeno uporabi tuji izum, zavarovan s patentom ali dodatnim varstvenim\r\n",
       "certifikatom, ali registrirano topografijo polprevodniškega vezja, ali novo\r\n",
       "rastlinsko sorto, zavarovano z žlahtniteljsko pravico, se kaznuje z zaporom do\r\n",
       "treh let.  "
      ],
      "text/plain": [
       "<IPython.core.display.Markdown object>"
      ]
     },
     "metadata": {},
     "output_type": "display_data"
    },
    {
     "data": {
      "text/markdown": [
       "- (2) Proizvodi, izdelani na podlagi\r\n",
       "neupravičene uporabe iz prejšnjega odstavka, se vzamejo.  "
      ],
      "text/plain": [
       "<IPython.core.display.Markdown object>"
      ]
     },
     "metadata": {},
     "output_type": "display_data"
    },
    {
     "data": {
      "text/markdown": [
       "## neupravičeno prisluškovanje in zvočno snemanje:  "
      ],
      "text/plain": [
       "<IPython.core.display.Markdown object>"
      ]
     },
     "metadata": {},
     "output_type": "display_data"
    },
    {
     "data": {
      "text/markdown": [
       "- (1) Kdor neupravičeno s posebnimi\r\n",
       "napravami prisluškuje pogovoru ali izjavi, ki mu ni namenjena, ali jo zvočno snema,\r\n",
       "ali kdor tak pogovor ali tako izjavo neposredno prenaša tretji osebi ali ji tak\r\n",
       "posnetek predvaja ali kako drugače omogoči, da se z njim neposredno seznani, se\r\n",
       "kaznuje z denarno kaznijo ali zaporom do enega leta.  "
      ],
      "text/plain": [
       "<IPython.core.display.Markdown object>"
      ]
     },
     "metadata": {},
     "output_type": "display_data"
    },
    {
     "data": {
      "text/markdown": [
       "- (2) Enako se kaznuje, kdor zvočno\r\n",
       "snema njemu namenjeno zaupno izjavo drugega brez njegovega soglasja z namenom,\r\n",
       "da bi tako izjavo zlorabil, ali kdor tako izjavo neposredno prenaša tretji\r\n",
       "osebi ali ji tak posnetek predvaja ali ji kako drugače omogoči, da se z njim\r\n",
       "neposredno seznani.  "
      ],
      "text/plain": [
       "<IPython.core.display.Markdown object>"
      ]
     },
     "metadata": {},
     "output_type": "display_data"
    },
    {
     "data": {
      "text/markdown": [
       "- (3) Če stori dejanje iz prvega ali\r\n",
       "drugega odstavka tega člena uradna oseba z zlorabo uradnega položaja ali\r\n",
       "uradnih pravic, se kaznuje z zaporom od treh mesecev do petih let.  "
      ],
      "text/plain": [
       "<IPython.core.display.Markdown object>"
      ]
     },
     "metadata": {},
     "output_type": "display_data"
    },
    {
     "data": {
      "text/markdown": [
       "- (4) Pregon za dejanje iz prvega\r\n",
       "odstavka tega člena se začne na predlog, za dejanje iz drugega odstavka pa na\r\n",
       "zasebno tožbo.  "
      ],
      "text/plain": [
       "<IPython.core.display.Markdown object>"
      ]
     },
     "metadata": {},
     "output_type": "display_data"
    },
    {
     "data": {
      "text/markdown": [
       "## neupravičeno slikovno snemanje:  "
      ],
      "text/plain": [
       "<IPython.core.display.Markdown object>"
      ]
     },
     "metadata": {},
     "output_type": "display_data"
    },
    {
     "data": {
      "text/markdown": [
       "- (1) Kdor neupravičeno slikovno snema\r\n",
       "ali naredi slikovni posnetek drugega ali njegovih prostorov brez njegovega\r\n",
       "soglasja in pri tem občutno poseže v njegovo zasebnost ali kdor tako snemanje\r\n",
       "neposredno prenaša tretji osebi ali ji tak posnetek prikazuje ali kako drugače\r\n",
       "omogoči, da se z njim neposredno seznani, se kaznuje z denarno kaznijo ali zaporom\r\n",
       "do enega leta.  "
      ],
      "text/plain": [
       "<IPython.core.display.Markdown object>"
      ]
     },
     "metadata": {},
     "output_type": "display_data"
    },
    {
     "data": {
      "text/markdown": [
       "- (2) Če stori dejanje iz prejšnjega\r\n",
       "odstavka uradna oseba z zlorabo uradnega položaja ali uradnih pravic, se\r\n",
       "kaznuje z zaporom od treh mesecev do petih let.  "
      ],
      "text/plain": [
       "<IPython.core.display.Markdown object>"
      ]
     },
     "metadata": {},
     "output_type": "display_data"
    },
    {
     "data": {
      "text/markdown": [
       "- (3) Pregon za dejanje iz prvega\r\n",
       "odstavka tega člena se začne na predlog.  "
      ],
      "text/plain": [
       "<IPython.core.display.Markdown object>"
      ]
     },
     "metadata": {},
     "output_type": "display_data"
    },
    {
     "data": {
      "text/markdown": [
       "## nevarna vožnja v cestnem prometu:  "
      ],
      "text/plain": [
       "<IPython.core.display.Markdown object>"
      ]
     },
     "metadata": {},
     "output_type": "display_data"
    },
    {
     "data": {
      "text/markdown": [
       "- (1) Voznik motornega vozila, ki v cestnem\r\n",
       "prometu povzroči neposredno nevarnost za življenje ali telo kakšne osebe s tem,\r\n",
       "da   "
      ],
      "text/plain": [
       "<IPython.core.display.Markdown object>"
      ]
     },
     "metadata": {},
     "output_type": "display_data"
    },
    {
     "data": {
      "text/markdown": [
       "- 1)    \r\n",
       "vozi pod vplivom alkohola z več kot 1,10 grama alkohola na kilogram krvi\r\n",
       "ali več kot 0,52 miligrama alkohola v litru izdihanega zraka ali vozi pod\r\n",
       "vplivom prepovedanih drog, psihoaktivnih zdravil ali drugih psihoaktivnih snovi,\r\n",
       "ali   "
      ],
      "text/plain": [
       "<IPython.core.display.Markdown object>"
      ]
     },
     "metadata": {},
     "output_type": "display_data"
    },
    {
     "data": {
      "text/markdown": [
       "- 2)    \r\n",
       "prekorači hitrost za več kot 30 km/h od dovoljene na območju za pešce,\r\n",
       "na območju umirjenega prometa ali na območju omejene hitrosti ali za več kot 50\r\n",
       "km/h od dovoljene na cesti, ali   "
      ],
      "text/plain": [
       "<IPython.core.display.Markdown object>"
      ]
     },
     "metadata": {},
     "output_type": "display_data"
    },
    {
     "data": {
      "text/markdown": [
       "- 3)    \r\n",
       "vozi predrzno ali brezobzirno ali vozi motorno vozilo, ki ga nima\r\n",
       "pravice voziti, in pri tem:   "
      ],
      "text/plain": [
       "<IPython.core.display.Markdown object>"
      ]
     },
     "metadata": {},
     "output_type": "display_data"
    },
    {
     "data": {
      "text/markdown": [
       "## nevestna veterinarska pomoč:  "
      ],
      "text/plain": [
       "<IPython.core.display.Markdown object>"
      ]
     },
     "metadata": {},
     "output_type": "display_data"
    },
    {
     "data": {
      "text/markdown": [
       "- Veterinar ali drug veterinarski delavec, ki\r\n",
       "pri opravljanju veterinarske dejavnosti iz malomarnosti ravna v očitnem\r\n",
       "nasprotju s pravili veterinarske znanosti in stroke in tako povzroči pogin\r\n",
       "živali večje vrednosti, se kaznuje z denarno kaznijo ali zaporom do enega leta.  "
      ],
      "text/plain": [
       "<IPython.core.display.Markdown object>"
      ]
     },
     "metadata": {},
     "output_type": "display_data"
    },
    {
     "data": {
      "text/markdown": [
       "## nevestno delo v službi:  "
      ],
      "text/plain": [
       "<IPython.core.display.Markdown object>"
      ]
     },
     "metadata": {},
     "output_type": "display_data"
    },
    {
     "data": {
      "text/markdown": [
       "- Uradna oseba ali javni uslužbenec, ki zavestno krši zakone ali druge predpise, opušča svoje\r\n",
       "nadzorstvo ali kako drugače očitno nevestno ravna v službi, čeprav predvideva\r\n",
       "ali bi morala in mogla predvidevati, da lahko nastane zaradi tega hujša kršitev\r\n",
       "pravic drugega ali škoda na javni dobrini ali premoženjska škoda, in res\r\n",
       "nastane kršitev oziroma večja škoda, se kaznuje z denarno kaznijo ali zaporom\r\n",
       "do treh let.  "
      ],
      "text/plain": [
       "<IPython.core.display.Markdown object>"
      ]
     },
     "metadata": {},
     "output_type": "display_data"
    },
    {
     "data": {
      "text/markdown": [
       "## nezakonit lov:  "
      ],
      "text/plain": [
       "<IPython.core.display.Markdown object>"
      ]
     },
     "metadata": {},
     "output_type": "display_data"
    },
    {
     "data": {
      "text/markdown": [
       "- (1) Kdor brez dovoljenja ali sicer\r\n",
       "neupravičeno lovi in ubije ali rani divjo žival ali jo ujame živo, se kaznuje z\r\n",
       "denarno kaznijo ali zaporom do šestih mesecev.  "
      ],
      "text/plain": [
       "<IPython.core.display.Markdown object>"
      ]
     },
     "metadata": {},
     "output_type": "display_data"
    },
    {
     "data": {
      "text/markdown": [
       "- (2) Če gre pri dejanju iz prejšnjega\r\n",
       "odstavka za divjad večje vrednosti ali divjad, pomembno po predpisih o lovstvu,\r\n",
       "ali je dejanje storjeno med varstveno dobo ali v skupini, se storilec kaznuje z\r\n",
       "denarno kaznijo ali zaporom do enega leta.  "
      ],
      "text/plain": [
       "<IPython.core.display.Markdown object>"
      ]
     },
     "metadata": {},
     "output_type": "display_data"
    },
    {
     "data": {
      "text/markdown": [
       "- (3) Kdor lovi ogrožene ali zredčene\r\n",
       "vrste divjadi, katerih lov je prepovedan, kdor lovi brez posebnega dovoljenja\r\n",
       "divjad posamezne vrste, za katero je potrebno tako dovoljenje, kdor lovi na\r\n",
       "način ali s sredstvi, s katerimi se divjad množično pokončuje ali kdor lovi s\r\n",
       "pomočjo motornega vozila ali žarometa, se kaznuje z denarno kaznijo ali zaporom\r\n",
       "do dveh let.  "
      ],
      "text/plain": [
       "<IPython.core.display.Markdown object>"
      ]
     },
     "metadata": {},
     "output_type": "display_data"
    },
    {
     "data": {
      "text/markdown": [
       "## nezakonit ribolov:  "
      ],
      "text/plain": [
       "<IPython.core.display.Markdown object>"
      ]
     },
     "metadata": {},
     "output_type": "display_data"
    },
    {
     "data": {
      "text/markdown": [
       "* No data available *"
      ],
      "text/plain": [
       "<IPython.core.display.Markdown object>"
      ]
     },
     "metadata": {},
     "output_type": "display_data"
    },
    {
     "data": {
      "text/markdown": [
       "## nezakonito dajanje pravne pomoči:  "
      ],
      "text/plain": [
       "<IPython.core.display.Markdown object>"
      ]
     },
     "metadata": {},
     "output_type": "display_data"
    },
    {
     "data": {
      "text/markdown": [
       "- (1) Kdor se brez ustrezne izobrazbe\r\n",
       "ali brez ustreznih izpolnjenih pogojev za plačilo ukvarja s tem, da v sodnih\r\n",
       "ali upravnih postopkih daje pravno pomoč, se kaznuje z denarno kaznijo ali z\r\n",
       "zaporom do enega leta.  "
      ],
      "text/plain": [
       "<IPython.core.display.Markdown object>"
      ]
     },
     "metadata": {},
     "output_type": "display_data"
    },
    {
     "data": {
      "text/markdown": [
       "- (2) Pridobljena premoženjska korist se\r\n",
       "vzame.  "
      ],
      "text/plain": [
       "<IPython.core.display.Markdown object>"
      ]
     },
     "metadata": {},
     "output_type": "display_data"
    },
    {
     "data": {
      "text/markdown": [
       "## nezakonito ravnanje z zaščitenimi živalmi in rastlinami:  "
      ],
      "text/plain": [
       "<IPython.core.display.Markdown object>"
      ]
     },
     "metadata": {},
     "output_type": "display_data"
    },
    {
     "data": {
      "text/markdown": [
       "* No data available *"
      ],
      "text/plain": [
       "<IPython.core.display.Markdown object>"
      ]
     },
     "metadata": {},
     "output_type": "display_data"
    },
    {
     "data": {
      "text/markdown": [
       "## oborožen upor:  "
      ],
      "text/plain": [
       "<IPython.core.display.Markdown object>"
      ]
     },
     "metadata": {},
     "output_type": "display_data"
    },
    {
     "data": {
      "text/markdown": [
       "- (1) Kdor organizira ali vodi oborožen\r\n",
       "upor, da bi ogrozil obstoj Republike Slovenije, spremenil njeno ustavno\r\n",
       "ureditev ali strmoglavil njene najvišje državne organe, se kaznuje z zaporom\r\n",
       "najmanj petnajstih let.  "
      ],
      "text/plain": [
       "<IPython.core.display.Markdown object>"
      ]
     },
     "metadata": {},
     "output_type": "display_data"
    },
    {
     "data": {
      "text/markdown": [
       "- (2) Kdor sodeluje v oboroženem uporu\r\n",
       "iz prejšnjega odstavka, se kaznuje z zaporom do petih let.  "
      ],
      "text/plain": [
       "<IPython.core.display.Markdown object>"
      ]
     },
     "metadata": {},
     "output_type": "display_data"
    },
    {
     "data": {
      "text/markdown": [
       "## obrekovanje:  "
      ],
      "text/plain": [
       "<IPython.core.display.Markdown object>"
      ]
     },
     "metadata": {},
     "output_type": "display_data"
    },
    {
     "data": {
      "text/markdown": [
       "- (1) Kdor o kom trdi ali raznaša kaj\r\n",
       "neresničnega, kar lahko škoduje njegovi časti ali dobremu imenu, čeprav ve, da\r\n",
       "je to, kar trdi ali raznaša, neresnično, se kaznuje z denarno kaznijo ali\r\n",
       "zaporom do šestih mesecev.  "
      ],
      "text/plain": [
       "<IPython.core.display.Markdown object>"
      ]
     },
     "metadata": {},
     "output_type": "display_data"
    },
    {
     "data": {
      "text/markdown": [
       "- (2) Če je dejanje iz prejšnjega\r\n",
       "odstavka storjeno s tiskom, po radiu, televiziji ali z drugim sredstvom javnega\r\n",
       "obveščanja ali na spletnih straneh ali na javnem\r\n",
       "shodu, se storilec kaznuje z denarno kaznijo ali zaporom do enega leta.  "
      ],
      "text/plain": [
       "<IPython.core.display.Markdown object>"
      ]
     },
     "metadata": {},
     "output_type": "display_data"
    },
    {
     "data": {
      "text/markdown": [
       "- (3) Če je tisto, kar se neresnično\r\n",
       "trdi ali raznaša, take narave, da ima hude posledice za oškodovanca, se\r\n",
       "storilec kaznuje z zaporom do dveh let.  "
      ],
      "text/plain": [
       "<IPython.core.display.Markdown object>"
      ]
     },
     "metadata": {},
     "output_type": "display_data"
    },
    {
     "data": {
      "text/markdown": [
       "## obremenjevanje in uničevanje okolja:  "
      ],
      "text/plain": [
       "<IPython.core.display.Markdown object>"
      ]
     },
     "metadata": {},
     "output_type": "display_data"
    },
    {
     "data": {
      "text/markdown": [
       "- (1) Kdor s kršitvijo predpisov:   "
      ],
      "text/plain": [
       "<IPython.core.display.Markdown object>"
      ]
     },
     "metadata": {},
     "output_type": "display_data"
    },
    {
     "data": {
      "text/markdown": [
       "- 1)    \r\n",
       "z izpusti, emisijami ali vnosi količin snovi ali ionizirajočega sevanja\r\n",
       "v zrak, zemljo ali vodo spravi v nevarnost življenje ene ali več oseb ali\r\n",
       "povzroči nevarnost nastanka hude telesne poškodbe ali dejanske škode kakovosti\r\n",
       "zraka, zemlje ali vode ali živalim ali rastlinam;   "
      ],
      "text/plain": [
       "<IPython.core.display.Markdown object>"
      ]
     },
     "metadata": {},
     "output_type": "display_data"
    },
    {
     "data": {
      "text/markdown": [
       "- 2)    \r\n",
       "zbira, prevaža, predeluje ali odstranjuje odpadke ali opravlja nadzor\r\n",
       "nad takimi postopki ali dejavnostmi po prenehanju obratovanja naprave za\r\n",
       "odstranjevanje odpadkov, ali trguje z odpadki ali jih posreduje tako, da spravi\r\n",
       "v nevarnost življenje ene ali več oseb ali povzroči nevarnost nastanka hude\r\n",
       "telesne poškodbe ali dejanske škode kakovosti zraka, zemlje ali vode ali\r\n",
       "živalim ali rastlinam;   "
      ],
      "text/plain": [
       "<IPython.core.display.Markdown object>"
      ]
     },
     "metadata": {},
     "output_type": "display_data"
    },
    {
     "data": {
      "text/markdown": [
       "- 3)    \r\n",
       "iz 35. točke 2. člena Uredbe (ES) Evropskega parlamenta in Sveta z dne\r\n",
       "14. junija 2006 o pošiljkah odpadkov, pošilja nezanemarljive količine odpadkov\r\n",
       "v eni pošiljki ali v več pošiljkah, ki se zdijo povezane;   "
      ],
      "text/plain": [
       "<IPython.core.display.Markdown object>"
      ]
     },
     "metadata": {},
     "output_type": "display_data"
    },
    {
     "data": {
      "text/markdown": [
       "- 4)    \r\n",
       "upravlja obrat, v katerem se opravlja nevarna dejavnost ali se v njem\r\n",
       "skladiščijo nevarne snovi ali pripravki, kar bi zunaj obrata lahko povzročilo\r\n",
       "smrt ene ali več oseb ali hudo telesno poškodbo ali dejansko škodo kakovosti\r\n",
       "zraka, zemlje ali vode ali živalim ali rastlinam;   "
      ],
      "text/plain": [
       "<IPython.core.display.Markdown object>"
      ]
     },
     "metadata": {},
     "output_type": "display_data"
    },
    {
     "data": {
      "text/markdown": [
       "- 5)    \r\n",
       "povzroči nevarnost bistvenega poslabšanja habitata znotraj zaščitenega\r\n",
       "območja;   "
      ],
      "text/plain": [
       "<IPython.core.display.Markdown object>"
      ]
     },
     "metadata": {},
     "output_type": "display_data"
    },
    {
     "data": {
      "text/markdown": [
       "- 6)    \r\n",
       "proizvaja, uvaža, izvaža, daje na trg ali uporablja snovi, ki tanjšajo\r\n",
       "ozonski plašč, se kaznuje z zaporom do petih let.   "
      ],
      "text/plain": [
       "<IPython.core.display.Markdown object>"
      ]
     },
     "metadata": {},
     "output_type": "display_data"
    },
    {
     "data": {
      "text/markdown": [
       "- (2) Če ima dejanje iz točke 1), 2), 4) ali\r\n",
       "5) prejšnjega odstavka za posledico hudo telesno poškodbo ali dejansko škodo\r\n",
       "kakovosti zraka, zemlje ali vode ali živalim ali rastlinam, se storilec kaznuje\r\n",
       "z zaporom do osmih let.   "
      ],
      "text/plain": [
       "<IPython.core.display.Markdown object>"
      ]
     },
     "metadata": {},
     "output_type": "display_data"
    },
    {
     "data": {
      "text/markdown": [
       "- (3) Če ima dejanje iz točke 1), 2) ali 4)\r\n",
       "prvega odstavka tega člena za posledico smrt ene ali več oseb, se storilec\r\n",
       "kaznuje z zaporom od enega do dvanajstih let.   "
      ],
      "text/plain": [
       "<IPython.core.display.Markdown object>"
      ]
     },
     "metadata": {},
     "output_type": "display_data"
    },
    {
     "data": {
      "text/markdown": [
       "- (4) Če je dejanje storjeno iz malomarnosti,\r\n",
       "se storilec za dejanje iz prvega odstavka tega člena kaznuje z denarno kaznijo\r\n",
       "ali zaporom do dveh let, za dejanje iz drugega odstavka tega člena z zaporom do\r\n",
       "treh let, za dejanje iz tretjega odstavka tega člena pa z zaporom od enega do\r\n",
       "osmih let.   "
      ],
      "text/plain": [
       "<IPython.core.display.Markdown object>"
      ]
     },
     "metadata": {},
     "output_type": "display_data"
    },
    {
     "data": {
      "text/markdown": [
       "- (5) Če je dejanje iz prvega, drugega ali\r\n",
       "tretjega odstavka tega člena storjeno v hudodelski družbi za izvedbo teh\r\n",
       "dejanj, se storilec kaznuje z zaporom od enega do dvanajstih let.   "
      ],
      "text/plain": [
       "<IPython.core.display.Markdown object>"
      ]
     },
     "metadata": {},
     "output_type": "display_data"
    },
    {
     "data": {
      "text/markdown": [
       "## oderuštvo:  "
      ],
      "text/plain": [
       "<IPython.core.display.Markdown object>"
      ]
     },
     "metadata": {},
     "output_type": "display_data"
    },
    {
     "data": {
      "text/markdown": [
       "- Kdor sprejme ali si za uslugo, ki jo nekomu\r\n",
       "stori, zase ali za koga drugega zagotovi očitno nesorazmerno premoženjsko\r\n",
       "korist, s tem da izrabi njegovo slabo premoženjsko stanje, hude stanovanjske razmere,\r\n",
       "stisko, nezadostno izkušenost ali lahkomiselnost, se kaznuje z zaporom do treh\r\n",
       "let in z denarno kaznijo.  "
      ],
      "text/plain": [
       "<IPython.core.display.Markdown object>"
      ]
     },
     "metadata": {},
     "output_type": "display_data"
    },
    {
     "data": {
      "text/markdown": [
       "## odklonitev sodelovanja pri odvračanju splošne nevarnosti:  "
      ],
      "text/plain": [
       "<IPython.core.display.Markdown object>"
      ]
     },
     "metadata": {},
     "output_type": "display_data"
    },
    {
     "data": {
      "text/markdown": [
       "- Kdor v nasprotju z odredbo pristojnega\r\n",
       "organa ali organizacije brez upravičenega razloga ne sodeluje pri odvračanju\r\n",
       "splošne nevarnosti ali odpravljanju posledic, se kaznuje z denarno kaznijo ali\r\n",
       "zaporom do šestih mesecev.  "
      ],
      "text/plain": [
       "<IPython.core.display.Markdown object>"
      ]
     },
     "metadata": {},
     "output_type": "display_data"
    },
    {
     "data": {
      "text/markdown": [
       "## odstranitev ali poškodovanje uradnega pečata ali znamenja:  "
      ],
      "text/plain": [
       "<IPython.core.display.Markdown object>"
      ]
     },
     "metadata": {},
     "output_type": "display_data"
    },
    {
     "data": {
      "text/markdown": [
       "- Kdor odstrani ali poškoduje uradni pečat\r\n",
       "ali znamenje, ki ga je upravičena uradna oseba uporabila za to, da zavaruje\r\n",
       "predmete ali prostore, ali kdor brez odstranitve ali poškodbe pečata ali\r\n",
       "znamenja vstopi v tak prostor, se kaznuje z denarno kaznijo ali zaporom do\r\n",
       "šestih mesecev.  "
      ],
      "text/plain": [
       "<IPython.core.display.Markdown object>"
      ]
     },
     "metadata": {},
     "output_type": "display_data"
    },
    {
     "data": {
      "text/markdown": [
       "## odvzem ali uničenje uradnega pečata ali uradnih spisov:  "
      ],
      "text/plain": [
       "<IPython.core.display.Markdown object>"
      ]
     },
     "metadata": {},
     "output_type": "display_data"
    },
    {
     "data": {
      "text/markdown": [
       "- (1) Kdor protipravno vzame, skrije,\r\n",
       "uniči ali poškoduje ali kako drugače napravi neuporaben uradni pečat, uradno\r\n",
       "knjigo, spis ali listino, ki pripada ali je pri državnemu organu, gospodarski\r\n",
       "družbi, drugi pravni osebi ali posamezniku, ki izvaja javna pooblastila, se\r\n",
       "kaznuje z zaporom do dveh let.  "
      ],
      "text/plain": [
       "<IPython.core.display.Markdown object>"
      ]
     },
     "metadata": {},
     "output_type": "display_data"
    },
    {
     "data": {
      "text/markdown": [
       "- (2) Poskus je kazniv.  "
      ],
      "text/plain": [
       "<IPython.core.display.Markdown object>"
      ]
     },
     "metadata": {},
     "output_type": "display_data"
    },
    {
     "data": {
      "text/markdown": [
       "## odvzem mladoletne osebe:  "
      ],
      "text/plain": [
       "<IPython.core.display.Markdown object>"
      ]
     },
     "metadata": {},
     "output_type": "display_data"
    },
    {
     "data": {
      "text/markdown": [
       "- (1) Kdor protipravno odvzame\r\n",
       "mladoletno osebo roditelju, posvojitelju, skrbniku, zavodu ali osebi, ki ji je\r\n",
       "zaupana, ali jo zadržuje in preprečuje, da bi jo imel tisti, ki ima pravico do\r\n",
       "nje, ali kdor zlonamerno onemogoča, da bi se uresničila izvršljiva odločba\r\n",
       "glede mladoletne osebe, se kaznuje z denarno kaznijo ali zaporom do enega leta.  "
      ],
      "text/plain": [
       "<IPython.core.display.Markdown object>"
      ]
     },
     "metadata": {},
     "output_type": "display_data"
    },
    {
     "data": {
      "text/markdown": [
       "- (2) V primeru, da je dejanje\r\n",
       "povzročilo poslabšanje duševnega ali telesnega zdravja mladoletne osebe ali da\r\n",
       "je ogrozilo njen razvoj, se kaznuje z zaporom od enega do petih let.  "
      ],
      "text/plain": [
       "<IPython.core.display.Markdown object>"
      ]
     },
     "metadata": {},
     "output_type": "display_data"
    },
    {
     "data": {
      "text/markdown": [
       "- (3) Če izreče sodišče pogojno obsodbo,\r\n",
       "lahko naloži storilcu, da mora mladoletno osebo izročiti upravičencu ali\r\n",
       "omogočiti uresničitev izvršljive odločbe glede mladoletne osebe.  "
      ],
      "text/plain": [
       "<IPython.core.display.Markdown object>"
      ]
     },
     "metadata": {},
     "output_type": "display_data"
    },
    {
     "data": {
      "text/markdown": [
       "- (4) Če je storilec dejanja iz prvega\r\n",
       "odstavka tega člena prostovoljno izročil mladoletno osebo upravičencu ali omogočil\r\n",
       "uresničitev izvršljive odločbe, se mu kazen lahko odpusti.  "
      ],
      "text/plain": [
       "<IPython.core.display.Markdown object>"
      ]
     },
     "metadata": {},
     "output_type": "display_data"
    },
    {
     "data": {
      "text/markdown": [
       "## odvzem motornega vozila:  "
      ],
      "text/plain": [
       "<IPython.core.display.Markdown object>"
      ]
     },
     "metadata": {},
     "output_type": "display_data"
    },
    {
     "data": {
      "text/markdown": [
       "- (1) Kdor vzame tuje motorno vozilo z\r\n",
       "namenom, da ga protipravno uporabi za vožnjo, se kaznuje z zaporom do dveh let.  "
      ],
      "text/plain": [
       "<IPython.core.display.Markdown object>"
      ]
     },
     "metadata": {},
     "output_type": "display_data"
    },
    {
     "data": {
      "text/markdown": [
       "- (2) Poskus je kazniv.  "
      ],
      "text/plain": [
       "<IPython.core.display.Markdown object>"
      ]
     },
     "metadata": {},
     "output_type": "display_data"
    },
    {
     "data": {
      "text/markdown": [
       "- (3) Če storilec kaznivega dejanja iz\r\n",
       "prvega odstavka tega člena motorno vozilo uniči, ga napravi nerabnega, ali ga\r\n",
       "zapusti na neznanem kraju, se kaznuje z zaporom do treh let.  "
      ],
      "text/plain": [
       "<IPython.core.display.Markdown object>"
      ]
     },
     "metadata": {},
     "output_type": "display_data"
    },
    {
     "data": {
      "text/markdown": [
       "## ogrožanje javnega prometa z nevarnim dejanjem ali sredstvom:  "
      ],
      "text/plain": [
       "<IPython.core.display.Markdown object>"
      ]
     },
     "metadata": {},
     "output_type": "display_data"
    },
    {
     "data": {
      "text/markdown": [
       "- (1) Kdor uniči ali poškoduje prometne\r\n",
       "naprave, prometna sredstva, prometne znake in naprave za signalizacijo,\r\n",
       "prometne varnostne naprave, daje napačne signale ali znamenja, postavlja ovire\r\n",
       "na prometnih poteh ali ravna na drug podoben način in tako povzroči nevarnost\r\n",
       "za življenje ljudi ali premoženje velike vrednosti, se kaznuje z zaporom do\r\n",
       "treh let.  "
      ],
      "text/plain": [
       "<IPython.core.display.Markdown object>"
      ]
     },
     "metadata": {},
     "output_type": "display_data"
    },
    {
     "data": {
      "text/markdown": [
       "- (2) Če je dejanje iz prejšnjega\r\n",
       "odstavka storjeno iz malomarnosti, se storilec kaznuje z zaporom do enega leta.  "
      ],
      "text/plain": [
       "<IPython.core.display.Markdown object>"
      ]
     },
     "metadata": {},
     "output_type": "display_data"
    },
    {
     "data": {
      "text/markdown": [
       "- (3) Če ima dejanje iz prvega ali\r\n",
       "drugega odstavka tega člena za posledico hudo telesno poškodbo ene ali več oseb\r\n",
       "ali veliko premoženjsko škodo, se storilec kaznuje za dejanje iz prvega\r\n",
       "odstavka z zaporom do petih let, za dejanje iz drugega odstavka pa z zaporom do\r\n",
       "treh let.  "
      ],
      "text/plain": [
       "<IPython.core.display.Markdown object>"
      ]
     },
     "metadata": {},
     "output_type": "display_data"
    },
    {
     "data": {
      "text/markdown": [
       "- (4) Če ima dejanje iz prvega ali\r\n",
       "drugega odstavka tega člena za posledico smrt ene ali več oseb, se storilec\r\n",
       "kaznuje za dejanje iz prvega odstavka z zaporom od enega do dvanajstih let, za\r\n",
       "dejanje iz drugega odstavka pa z zaporom do osmih let.  "
      ],
      "text/plain": [
       "<IPython.core.display.Markdown object>"
      ]
     },
     "metadata": {},
     "output_type": "display_data"
    },
    {
     "data": {
      "text/markdown": [
       "## ogrožanje okolja s hrupom ali svetlobo:  "
      ],
      "text/plain": [
       "<IPython.core.display.Markdown object>"
      ]
     },
     "metadata": {},
     "output_type": "display_data"
    },
    {
     "data": {
      "text/markdown": [
       "- (1) Kdor s kršitvijo predpisov\r\n",
       "povzroča čezmeren hrup ali premočno osvetlitev, s katero se lahko povzročijo\r\n",
       "hujše okvare zdravja ljudi, se kaznuje z denarno kaznijo ali zaporom do dveh\r\n",
       "let.  "
      ],
      "text/plain": [
       "<IPython.core.display.Markdown object>"
      ]
     },
     "metadata": {},
     "output_type": "display_data"
    },
    {
     "data": {
      "text/markdown": [
       "- (2) Če je dejanje iz prejšnjega\r\n",
       "odstavka storjeno iz malomarnosti, se storilec kaznuje z denarno kaznijo ali\r\n",
       "zaporom do enega leta.  "
      ],
      "text/plain": [
       "<IPython.core.display.Markdown object>"
      ]
     },
     "metadata": {},
     "output_type": "display_data"
    },
    {
     "data": {
      "text/markdown": [
       "## ogrožanje oseb pod mednarodnim varstvom:  "
      ],
      "text/plain": [
       "<IPython.core.display.Markdown object>"
      ]
     },
     "metadata": {},
     "output_type": "display_data"
    },
    {
     "data": {
      "text/markdown": [
       "- (1) Kdor ogrozi varnost osebe, ki je\r\n",
       "pod mednarodnim pravnim varstvom, z resno grožnjo, da bo napadel njo, njene\r\n",
       "uradne prostore, zasebno stanovanje ali prevozno sredstvo, se kaznuje z zaporom\r\n",
       "od enega do desetih let.  "
      ],
      "text/plain": [
       "<IPython.core.display.Markdown object>"
      ]
     },
     "metadata": {},
     "output_type": "display_data"
    },
    {
     "data": {
      "text/markdown": [
       "- (2) Kdor osebo, ki je pod mednarodnim\r\n",
       "pravnim varstvom, ugrabi ali stori zoper njo kakšno drugo nasilje ali napade\r\n",
       "njene uradne prostore, zasebno stanovanje ali prevozno sredstvo, se kaznuje z\r\n",
       "zaporom najmanj enega leta.  "
      ],
      "text/plain": [
       "<IPython.core.display.Markdown object>"
      ]
     },
     "metadata": {},
     "output_type": "display_data"
    },
    {
     "data": {
      "text/markdown": [
       "- (3) Če ima dejanje iz prvega ali\r\n",
       "drugega odstavka tega člena za posledico smrt ene ali več oseb, se storilec\r\n",
       "kaznuje z zaporom od petih do petnajstih let.  "
      ],
      "text/plain": [
       "<IPython.core.display.Markdown object>"
      ]
     },
     "metadata": {},
     "output_type": "display_data"
    },
    {
     "data": {
      "text/markdown": [
       "- (4) Če storilec pri storitvi dejanja\r\n",
       "iz prvega ali drugega odstavka tega člena naklepoma vzame življenje eni ali več\r\n",
       "osebam, se kaznuje z zaporom najmanj petnajstih let.  "
      ],
      "text/plain": [
       "<IPython.core.display.Markdown object>"
      ]
     },
     "metadata": {},
     "output_type": "display_data"
    },
    {
     "data": {
      "text/markdown": [
       "## ogrožanje posebnih vrst javnega prometa:  "
      ],
      "text/plain": [
       "<IPython.core.display.Markdown object>"
      ]
     },
     "metadata": {},
     "output_type": "display_data"
    },
    {
     "data": {
      "text/markdown": [
       "- (1) Kdor s kršitvijo predpisov o\r\n",
       "varnosti železniškega, ladijskega, zračnega prometa ali prometa na žičnicah ali\r\n",
       "javnem prevozu potnikov v cestnem prometu s kršitvijo predpisov o varnosti\r\n",
       "cestnega prometa iz malomarnosti povzroči nesrečo, se kaznuje z denarno kaznijo\r\n",
       "ali zaporom do dveh let.  "
      ],
      "text/plain": [
       "<IPython.core.display.Markdown object>"
      ]
     },
     "metadata": {},
     "output_type": "display_data"
    },
    {
     "data": {
      "text/markdown": [
       "- (2) Če ima dejanje iz prejšnjega\r\n",
       "odstavka za posledico hudo telesno poškodbo kakšne osebe, se storilec kaznuje z\r\n",
       "zaporom do petih let in s prepovedjo vožnje motornega vozila.  "
      ],
      "text/plain": [
       "<IPython.core.display.Markdown object>"
      ]
     },
     "metadata": {},
     "output_type": "display_data"
    },
    {
     "data": {
      "text/markdown": [
       "- (3) Če ima dejanje iz prvega odstavka\r\n",
       "tega člena za posledico smrt ene ali več oseb, se storilec kaznuje z zaporom do\r\n",
       "osmih let in s prepovedjo vožnje motornega vozila.  "
      ],
      "text/plain": [
       "<IPython.core.display.Markdown object>"
      ]
     },
     "metadata": {},
     "output_type": "display_data"
    },
    {
     "data": {
      "text/markdown": [
       "## ogrožanje varnosti pri delu:  "
      ],
      "text/plain": [
       "<IPython.core.display.Markdown object>"
      ]
     },
     "metadata": {},
     "output_type": "display_data"
    },
    {
     "data": {
      "text/markdown": [
       "- (1) Kdor v rudniku, tovarni, na\r\n",
       "gradbišču ali kakšnem drugem delovnem kraju uniči, poškoduje ali odstrani\r\n",
       "varnostne naprave in tako povzroči nevarnost za življenje ljudi, se kaznuje z\r\n",
       "zaporom do treh let.  "
      ],
      "text/plain": [
       "<IPython.core.display.Markdown object>"
      ]
     },
     "metadata": {},
     "output_type": "display_data"
    },
    {
     "data": {
      "text/markdown": [
       "- (2) Oseba, ki je odgovorna za varnost\r\n",
       "in zdravje pri delu v rudnikih, tovarnah, delavnicah, na gradbiščih ali drugih\r\n",
       "delovnih krajih in ne postavi varnostnih naprav ali ne skrbi za njihovo brezhibnost\r\n",
       "ali ne poskrbi za njihovo delovanje, kadar je potrebno, ali sicer ne ravna po\r\n",
       "predpisih ali tehničnih pravilih o varnostnih ukrepih in tako povzroči\r\n",
       "nevarnost za življenje ljudi, se kaznuje z zaporom do dveh let.  "
      ],
      "text/plain": [
       "<IPython.core.display.Markdown object>"
      ]
     },
     "metadata": {},
     "output_type": "display_data"
    },
    {
     "data": {
      "text/markdown": [
       "- (3) Če je dejanje iz prvega ali drugega\r\n",
       "odstavka tega člena storjeno iz malomarnosti, se storilec kaznuje z zaporom do\r\n",
       "enega leta.  "
      ],
      "text/plain": [
       "<IPython.core.display.Markdown object>"
      ]
     },
     "metadata": {},
     "output_type": "display_data"
    },
    {
     "data": {
      "text/markdown": [
       "- (4) Če ima dejanje iz prvega, drugega\r\n",
       "ali tretjega odstavka tega člena za posledico hudo telesno poškodbo ene ali več\r\n",
       "oseb, se storilec za dejanje iz prvega ali drugega odstavka tega člena kaznuje\r\n",
       "z zaporom do petih let, za dejanje iz tretjega odstavka pa z zaporom do treh\r\n",
       "let.  "
      ],
      "text/plain": [
       "<IPython.core.display.Markdown object>"
      ]
     },
     "metadata": {},
     "output_type": "display_data"
    },
    {
     "data": {
      "text/markdown": [
       "- (5) Če ima dejanje iz prvega, drugega\r\n",
       "ali tretjega odstavka tega člena za posledico smrt ene ali več oseb, se\r\n",
       "storilec za dejanje iz prvega ali drugega odstavka kaznuje z zaporom od enega\r\n",
       "do dvanajstih let, za dejanje iz tretjega odstavka pa z zaporom od enega do\r\n",
       "osmih let.  "
      ],
      "text/plain": [
       "<IPython.core.display.Markdown object>"
      ]
     },
     "metadata": {},
     "output_type": "display_data"
    },
    {
     "data": {
      "text/markdown": [
       "## ogrožanje z nevarnim orodjem pri pretepu ali prepiru:  "
      ],
      "text/plain": [
       "<IPython.core.display.Markdown object>"
      ]
     },
     "metadata": {},
     "output_type": "display_data"
    },
    {
     "data": {
      "text/markdown": [
       "- (1) Kdor pri pretepu ali prepiru seže\r\n",
       "po orožju, nevarnem orodju ali kakšnem drugem sredstvu, s katerim se lahko telo\r\n",
       "hudo poškoduje ali zdravje hudo okvari, se kaznuje z denarno kaznijo ali z\r\n",
       "zaporom do šestih mesecev.  "
      ],
      "text/plain": [
       "<IPython.core.display.Markdown object>"
      ]
     },
     "metadata": {},
     "output_type": "display_data"
    },
    {
     "data": {
      "text/markdown": [
       "- (2) Pregon se začne na predlog.  "
      ],
      "text/plain": [
       "<IPython.core.display.Markdown object>"
      ]
     },
     "metadata": {},
     "output_type": "display_data"
    },
    {
     "data": {
      "text/markdown": [
       "## omogočanje bega osebi, ki ji je vzeta prostost:  "
      ],
      "text/plain": [
       "<IPython.core.display.Markdown object>"
      ]
     },
     "metadata": {},
     "output_type": "display_data"
    },
    {
     "data": {
      "text/markdown": [
       "- (1) Kdor s silo, grožnjo,\r\n",
       "preslepitvijo ali kako drugače omogoči beg komu, ki prestaja kazen v zaporu,\r\n",
       "ali komu, ki je priprt, ali ki prestaja varnostni ukrep obveznega\r\n",
       "psihiatričnega zdravljenja in varstva v zdravstvenem zavodu,\r\n",
       "ali mladoletniku, ki je v prevzgojnem domu, se kaznuje z zaporom do treh let.  "
      ],
      "text/plain": [
       "<IPython.core.display.Markdown object>"
      ]
     },
     "metadata": {},
     "output_type": "display_data"
    },
    {
     "data": {
      "text/markdown": [
       "- (2) Če je dejanje iz prejšnjega\r\n",
       "odstavka storjeno v organizirani skupini, se storilec kaznuje z zaporom do\r\n",
       "petih let.  "
      ],
      "text/plain": [
       "<IPython.core.display.Markdown object>"
      ]
     },
     "metadata": {},
     "output_type": "display_data"
    },
    {
     "data": {
      "text/markdown": [
       "## omogočanje uživanja prepovedanih drog ali nedovoljenih snovi v športu:  "
      ],
      "text/plain": [
       "<IPython.core.display.Markdown object>"
      ]
     },
     "metadata": {},
     "output_type": "display_data"
    },
    {
     "data": {
      "text/markdown": [
       "* No data available *"
      ],
      "text/plain": [
       "<IPython.core.display.Markdown object>"
      ]
     },
     "metadata": {},
     "output_type": "display_data"
    },
    {
     "data": {
      "text/markdown": [
       "## onesnaženje pitne vode:  "
      ],
      "text/plain": [
       "<IPython.core.display.Markdown object>"
      ]
     },
     "metadata": {},
     "output_type": "display_data"
    },
    {
     "data": {
      "text/markdown": [
       "- (1) Kdor s kakšno škodljivo snovjo\r\n",
       "onesnaži vodo, ki jo ljudje uporabljajo kot pitno vodo in tako povzroči\r\n",
       "nevarnost za življenje ali zdravje ljudi, se kaznuje z zaporom do treh let.  "
      ],
      "text/plain": [
       "<IPython.core.display.Markdown object>"
      ]
     },
     "metadata": {},
     "output_type": "display_data"
    },
    {
     "data": {
      "text/markdown": [
       "- (2) Če je dejanje iz prejšnjega\r\n",
       "odstavka storjeno iz malomarnosti, se storilec kaznuje z denarno kaznijo ali\r\n",
       "zaporom do treh mesecev.  "
      ],
      "text/plain": [
       "<IPython.core.display.Markdown object>"
      ]
     },
     "metadata": {},
     "output_type": "display_data"
    },
    {
     "data": {
      "text/markdown": [
       "- (3) Če ima dejanje iz prvega ali\r\n",
       "drugega odstavka tega člena za posledico hudo telesno poškodbo ene ali več\r\n",
       "oseb, se storilec kaznuje za dejanje iz prvega odstavka z zaporom do petih let,\r\n",
       "za dejanje iz drugega odstavka pa z zaporom do treh let.  "
      ],
      "text/plain": [
       "<IPython.core.display.Markdown object>"
      ]
     },
     "metadata": {},
     "output_type": "display_data"
    },
    {
     "data": {
      "text/markdown": [
       "- (4) Če ima dejanje iz prvega ali\r\n",
       "drugega odstavka tega člena za posledico smrt ene ali več oseb, se storilec\r\n",
       "kaznuje za dejanje iz prvega odstavka z zaporom od enega do dvanajstih let, za\r\n",
       "dejanje iz drugega odstavka pa z zaporom od enega do osmih let.  "
      ],
      "text/plain": [
       "<IPython.core.display.Markdown object>"
      ]
     },
     "metadata": {},
     "output_type": "display_data"
    },
    {
     "data": {
      "text/markdown": [
       "- (5) Kdor s kakšno škodljivo snovjo\r\n",
       "onesnaži vodo, ki je namenjena za napajanje živali in tako povzroči nevarnost\r\n",
       "za življenje in zdravje živali, se kaznuje z denarno kaznijo ali zaporom do\r\n",
       "enega leta.  "
      ],
      "text/plain": [
       "<IPython.core.display.Markdown object>"
      ]
     },
     "metadata": {},
     "output_type": "display_data"
    },
    {
     "data": {
      "text/markdown": [
       "- (6) Če ima dejanje iz petega odstavka\r\n",
       "za posledico pogin živali večje vrednosti ali večjega števila živali, se storilec\r\n",
       "kaznuje z zaporom do treh let.  "
      ],
      "text/plain": [
       "<IPython.core.display.Markdown object>"
      ]
     },
     "metadata": {},
     "output_type": "display_data"
    },
    {
     "data": {
      "text/markdown": [
       "## onesnaženje živil ali krme:  "
      ],
      "text/plain": [
       "<IPython.core.display.Markdown object>"
      ]
     },
     "metadata": {},
     "output_type": "display_data"
    },
    {
     "data": {
      "text/markdown": [
       "- (1) Kdor s kakšno škodljivo snovjo\r\n",
       "onesnaži živila in tako povzroči nevarnost za življenje ali zdravje ljudi, se\r\n",
       "kaznuje z zaporom do treh let.  "
      ],
      "text/plain": [
       "<IPython.core.display.Markdown object>"
      ]
     },
     "metadata": {},
     "output_type": "display_data"
    },
    {
     "data": {
      "text/markdown": [
       "- (2) Če je dejanje iz prejšnjega\r\n",
       "odstavka storjeno iz malomarnosti, se storilec kaznuje z denarno kaznijo ali\r\n",
       "zaporom do treh mesecev.  "
      ],
      "text/plain": [
       "<IPython.core.display.Markdown object>"
      ]
     },
     "metadata": {},
     "output_type": "display_data"
    },
    {
     "data": {
      "text/markdown": [
       "- (3) Če ima dejanje iz prvega ali\r\n",
       "drugega odstavka tega člena za posledico hudo telesno poškodbo ene ali več\r\n",
       "oseb, se storilec kaznuje za dejanje iz prvega odstavka z zaporom do petih let,\r\n",
       "za dejanje iz drugega odstavka pa z zaporom do treh let.  "
      ],
      "text/plain": [
       "<IPython.core.display.Markdown object>"
      ]
     },
     "metadata": {},
     "output_type": "display_data"
    },
    {
     "data": {
      "text/markdown": [
       "- (4) Če ima dejanje iz prvega ali\r\n",
       "drugega odstavka tega člena za posledico smrt ene ali več oseb, se storilec\r\n",
       "kaznuje za dejanje iz prvega odstavka z zaporom od enega do dvanajstih let, za\r\n",
       "dejanje iz drugega odstavka pa z zaporom od enega do osmih let.  "
      ],
      "text/plain": [
       "<IPython.core.display.Markdown object>"
      ]
     },
     "metadata": {},
     "output_type": "display_data"
    },
    {
     "data": {
      "text/markdown": [
       "- (5) Kdor s kakšno škodljivo snovjo\r\n",
       "onesnaži živalsko krmo ali druga krmila, ki so namenjena za prehrano živali in\r\n",
       "tako povzroči nevarnost za življenje ali zdravje živali, se kaznuje z denarno\r\n",
       "kaznijo ali zaporom do enega leta.  "
      ],
      "text/plain": [
       "<IPython.core.display.Markdown object>"
      ]
     },
     "metadata": {},
     "output_type": "display_data"
    },
    {
     "data": {
      "text/markdown": [
       "- (6) Če ima dejanje iz prejšnjega\r\n",
       "odstavka za posledico pogin živali večje vrednosti ali večjega števila živali,\r\n",
       "se storilec kaznuje z zaporom do treh let.  "
      ],
      "text/plain": [
       "<IPython.core.display.Markdown object>"
      ]
     },
     "metadata": {},
     "output_type": "display_data"
    },
    {
     "data": {
      "text/markdown": [
       "## opravljanje:  "
      ],
      "text/plain": [
       "<IPython.core.display.Markdown object>"
      ]
     },
     "metadata": {},
     "output_type": "display_data"
    },
    {
     "data": {
      "text/markdown": [
       "- (1) Kdor trdi ali raznaša kaj iz\r\n",
       "osebnega ali družinskega življenja kakšne osebe, kar lahko škoduje njenemu\r\n",
       "dobremu imenu, se kaznuje z denarno kaznijo ali zaporom do treh mesecev.  "
      ],
      "text/plain": [
       "<IPython.core.display.Markdown object>"
      ]
     },
     "metadata": {},
     "output_type": "display_data"
    },
    {
     "data": {
      "text/markdown": [
       "- (2) Če je dejanje iz prejšnjega\r\n",
       "odstavka storjeno s tiskom, po radiu, televiziji ali z drugim sredstvom javnega\r\n",
       "obveščanja ali na spletnih straneh ali na javnem\r\n",
       "shodu, se storilec kaznuje z denarno kaznijo ali zaporom do šestih mesecev.  "
      ],
      "text/plain": [
       "<IPython.core.display.Markdown object>"
      ]
     },
     "metadata": {},
     "output_type": "display_data"
    },
    {
     "data": {
      "text/markdown": [
       "- (3) Če je tisto, kar kdo trdi ali\r\n",
       "raznaša, take narave, da ima hude posledice za oškodovanca, se storilec kaznuje\r\n",
       "z denarno kaznijo ali zaporom do enega leta.  "
      ],
      "text/plain": [
       "<IPython.core.display.Markdown object>"
      ]
     },
     "metadata": {},
     "output_type": "display_data"
    },
    {
     "data": {
      "text/markdown": [
       "- (4) Resničnosti ali neresničnosti\r\n",
       "tistega, kar se trdi ali raznaša iz osebnega ali družinskega življenja koga\r\n",
       "drugega, ni mogoče dokazovati, razen v primerih iz petega odstavka tega člena.  "
      ],
      "text/plain": [
       "<IPython.core.display.Markdown object>"
      ]
     },
     "metadata": {},
     "output_type": "display_data"
    },
    {
     "data": {
      "text/markdown": [
       "- (5) Kdor trdi ali raznaša kaj iz\r\n",
       "osebnega ali družinskega življenja drugega pri opravljanju uradne dolžnosti,\r\n",
       "politične ali druge družbene dejavnosti, pri obrambi kakšne pravice ali varstvu\r\n",
       "upravičenih koristi, se ne kaznuje, če dokaže resničnost svoje trditve ali če\r\n",
       "dokaže, da je imel utemeljen razlog verjeti v resničnost tistega, kar je trdil\r\n",
       "ali raznašal.  "
      ],
      "text/plain": [
       "<IPython.core.display.Markdown object>"
      ]
     },
     "metadata": {},
     "output_type": "display_data"
    },
    {
     "data": {
      "text/markdown": [
       "## opustitev nadzorstva v javnem prometu:  "
      ],
      "text/plain": [
       "<IPython.core.display.Markdown object>"
      ]
     },
     "metadata": {},
     "output_type": "display_data"
    },
    {
     "data": {
      "text/markdown": [
       "- (1) Oseba, ki ji je zaupano nadzorstvo\r\n",
       "nad vzdrževanjem cest, mostov, nad prevoznimi sredstvi ali javnim prometom ali\r\n",
       "vodstvo ali usmerjanje vožnje, pa s kršitvijo svoje dolžnosti povzroči\r\n",
       "nevarnost za življenje ljudi ali premoženje velike vrednosti, se kaznuje z\r\n",
       "zaporom do treh let.  "
      ],
      "text/plain": [
       "<IPython.core.display.Markdown object>"
      ]
     },
     "metadata": {},
     "output_type": "display_data"
    },
    {
     "data": {
      "text/markdown": [
       "- (2) Enako se kaznuje oseba, ki da\r\n",
       "nalog za vožnjo, čeprav ve, da voznik zaradi utrujenosti ali iz kakšnega\r\n",
       "drugega vzroka ni zmožen voziti vozila ali da prevozno sredstvo ni brezhibno,\r\n",
       "in tako povzroči nevarnost za življenje ljudi ali premoženje velike vrednosti.  "
      ],
      "text/plain": [
       "<IPython.core.display.Markdown object>"
      ]
     },
     "metadata": {},
     "output_type": "display_data"
    },
    {
     "data": {
      "text/markdown": [
       "- (3) Če je dejanje iz prvega ali\r\n",
       "drugega odstavka tega člena storjeno iz malomarnosti, se storilec kaznuje z\r\n",
       "zaporom do enega leta.  "
      ],
      "text/plain": [
       "<IPython.core.display.Markdown object>"
      ]
     },
     "metadata": {},
     "output_type": "display_data"
    },
    {
     "data": {
      "text/markdown": [
       "- (4) Če ima dejanje iz prvega, drugega\r\n",
       "ali tretjega odstavka tega člena za posledico hudo telesno poškodbo ene ali več\r\n",
       "oseb ali veliko premoženjsko škodo, se storilec za dejanje iz prvega in drugega\r\n",
       "odstavka kaznuje z zaporom do petih let, za dejanje iz tretjega odstavka pa z\r\n",
       "zaporom do treh let.  "
      ],
      "text/plain": [
       "<IPython.core.display.Markdown object>"
      ]
     },
     "metadata": {},
     "output_type": "display_data"
    },
    {
     "data": {
      "text/markdown": [
       "- (5) Če ima dejanje iz prvega, drugega\r\n",
       "ali tretjega odstavka tega člena za posledico smrt ene ali več oseb, se\r\n",
       "storilec za dejanje iz prvega in drugega odstavka kaznuje z zaporom od enega do\r\n",
       "dvanajstih let, za dejanje iz tretjega odstavka pa z zaporom do osmih let.  "
      ],
      "text/plain": [
       "<IPython.core.display.Markdown object>"
      ]
     },
     "metadata": {},
     "output_type": "display_data"
    },
    {
     "data": {
      "text/markdown": [
       "## opustitev ovadbe kaznivega dejanja ali storilca:  "
      ],
      "text/plain": [
       "<IPython.core.display.Markdown object>"
      ]
     },
     "metadata": {},
     "output_type": "display_data"
    },
    {
     "data": {
      "text/markdown": [
       "- (1) Kdor ve za storilca kaznivega\r\n",
       "dejanja, za katero je z zakonom predpisana kazen najmanj petnajstih let zapora\r\n",
       "ali dosmrtnega zapora, ali kdor samo ve, da je bilo tako dejanje storjeno, pa\r\n",
       "tega ne naznani, čeprav je od take ovadbe odvisno, da se storilec ali dejanje\r\n",
       "pravočasno odkrije, se kaznuje z zaporom do treh let.  "
      ],
      "text/plain": [
       "<IPython.core.display.Markdown object>"
      ]
     },
     "metadata": {},
     "output_type": "display_data"
    },
    {
     "data": {
      "text/markdown": [
       "- (2) Uradna oseba, ki zavestno opusti\r\n",
       "ovadbo kaznivega dejanja, za katero zve pri opravljanju svoje službe, če je\r\n",
       "zanj z zakonom predpisana kazen treh ali več let zapora, storilec pa se\r\n",
       "preganja po uradni dolžnosti, se kaznuje z zaporom do treh let.  "
      ],
      "text/plain": [
       "<IPython.core.display.Markdown object>"
      ]
     },
     "metadata": {},
     "output_type": "display_data"
    },
    {
     "data": {
      "text/markdown": [
       "- (3) Kdor opusti ovadbo, se ne kaznuje,\r\n",
       "če je storilec zakonec, oseba, s katero živi v zunajzakonski skupnosti ali\r\n",
       "registrirani istospolni partnerski skupnosti, krvni sorodnik v ravni vrsti,\r\n",
       "brat ali sestra, posvojitelj ali posvojenec ali če je zagovornik, zdravnik ali\r\n",
       "spovednik storilca. Ker se katera od oseb iz tega odstavka razen zagovornika,\r\n",
       "zdravnika ali spovednika ne kaznuje za opustitev ovadbe iz prvega odstavka tega\r\n",
       "člena, se za opustitev ovadbe ne kaznuje niti njen zakonec niti oseba, s katero\r\n",
       "živi v zunajzakonski skupnosti niti partner iz registrirane istospolne\r\n",
       "partnerske skupnosti.  "
      ],
      "text/plain": [
       "<IPython.core.display.Markdown object>"
      ]
     },
     "metadata": {},
     "output_type": "display_data"
    },
    {
     "data": {
      "text/markdown": [
       "## opustitev ovadbe, da se pripravlja kaznivo dejanje:  "
      ],
      "text/plain": [
       "<IPython.core.display.Markdown object>"
      ]
     },
     "metadata": {},
     "output_type": "display_data"
    },
    {
     "data": {
      "text/markdown": [
       "- (1) Kdor ve, da se pripravlja kaznivo\r\n",
       "dejanje, za katero je z zakonom predpisana kazen treh ali več let zapora, pa ga\r\n",
       "v času, ko se je dalo še preprečiti, ne naznani in je bilo dejanje poskušeno\r\n",
       "ali dokončano, se kaznuje z zaporom do enega leta.  "
      ],
      "text/plain": [
       "<IPython.core.display.Markdown object>"
      ]
     },
     "metadata": {},
     "output_type": "display_data"
    },
    {
     "data": {
      "text/markdown": [
       "- (2) Če je šlo pri dejanju iz\r\n",
       "prejšnjega odstavka za kaznivo dejanje, za katero je z zakonom predpisana kazen\r\n",
       "najmanj petnajst let zapora ali dosmrtni zapor, se storilec kaznuje z zaporom\r\n",
       "do treh let.  "
      ],
      "text/plain": [
       "<IPython.core.display.Markdown object>"
      ]
     },
     "metadata": {},
     "output_type": "display_data"
    },
    {
     "data": {
      "text/markdown": [
       "- (3) Kdor ne naznani, da se pripravlja\r\n",
       "kaznivo dejanje iz prvega odstavka tega člena, se ne kaznuje, če je storilec\r\n",
       "zakonec, oseba, s katero živi v zunajzakonski skupnosti ali registrirani\r\n",
       "istospolni partnerski skupnosti, krvni sorodnik v ravni vrsti, brat ali sestra,\r\n",
       "posvojitelj ali posvojenec. Če se katera od oseb, navedenih v tem odstavku, ne\r\n",
       "kaznuje za opustitev ovadbe iz prvega odstavka tega člena, se za opustitev\r\n",
       "ovadbe ne kaznuje niti njen zakonec ali oseba, s katero živi v zunajzakonski\r\n",
       "skupnosti niti partner iz registrirane istospolne partnerske skupnosti.  "
      ],
      "text/plain": [
       "<IPython.core.display.Markdown object>"
      ]
     },
     "metadata": {},
     "output_type": "display_data"
    },
    {
     "data": {
      "text/markdown": [
       "## opustitev pomoči:  "
      ],
      "text/plain": [
       "<IPython.core.display.Markdown object>"
      ]
     },
     "metadata": {},
     "output_type": "display_data"
    },
    {
     "data": {
      "text/markdown": [
       "- Kdor ne pomaga osebi, ki je v neposredni\r\n",
       "smrtni nevarnosti, čeprav bi to lahko storil brez nevarnosti zase ali za koga\r\n",
       "drugega, se kaznuje z zaporom do enega leta.  "
      ],
      "text/plain": [
       "<IPython.core.display.Markdown object>"
      ]
     },
     "metadata": {},
     "output_type": "display_data"
    },
    {
     "data": {
      "text/markdown": [
       "## opustitev zdravstvene pomoči:  "
      ],
      "text/plain": [
       "<IPython.core.display.Markdown object>"
      ]
     },
     "metadata": {},
     "output_type": "display_data"
    },
    {
     "data": {
      "text/markdown": [
       "- (1) Zdravnik ali drug zdravstveni delavec,\r\n",
       "ki v nasprotju s svojo poklicno dolžnostjo ne pomaga bolniku ali komu drugemu,\r\n",
       "ki je v nevarnosti za življenje, se kaznuje z zaporom do enega leta.  "
      ],
      "text/plain": [
       "<IPython.core.display.Markdown object>"
      ]
     },
     "metadata": {},
     "output_type": "display_data"
    },
    {
     "data": {
      "text/markdown": [
       "- (2) Dejanje iz prejšnjega odstavka ni\r\n",
       "protipravno, če zdravnik opusti določen način zdravljenja, poseg ali medicinski\r\n",
       "postopek na izrecno pisno zahtevo bolnika ali druge osebe, ki je sposobna\r\n",
       "odločati o sebi in pomoč zavrača tudi še potem, ko je poučena o nujnosti pomoči\r\n",
       "ter o mogočih posledicah zavrnitve in tudi potem, ko jo je zdravnik ponovno\r\n",
       "poskusil prepričati, naj spremeni svojo odločitev.   "
      ],
      "text/plain": [
       "<IPython.core.display.Markdown object>"
      ]
     },
     "metadata": {},
     "output_type": "display_data"
    },
    {
     "data": {
      "text/markdown": [
       "## organiziranje denarnih verig in nedovoljeno prirejanje iger na srečo:  "
      ],
      "text/plain": [
       "<IPython.core.display.Markdown object>"
      ]
     },
     "metadata": {},
     "output_type": "display_data"
    },
    {
     "data": {
      "text/markdown": [
       "* No data available *"
      ],
      "text/plain": [
       "<IPython.core.display.Markdown object>"
      ]
     },
     "metadata": {},
     "output_type": "display_data"
    },
    {
     "data": {
      "text/markdown": [
       "## overitev lažne vsebine:  "
      ],
      "text/plain": [
       "<IPython.core.display.Markdown object>"
      ]
     },
     "metadata": {},
     "output_type": "display_data"
    },
    {
     "data": {
      "text/markdown": [
       "- (1) Kdor spravi pristojni organ ali\r\n",
       "notarja v zmoto in s tem doseže, da ta v javni listini, zapisniku, knjigi ali\r\n",
       "poslovni listini potrdi kar koli lažnega, kar naj bi bil dokaz v pravnem\r\n",
       "prometu, se kaznuje z zaporom do treh let.  "
      ],
      "text/plain": [
       "<IPython.core.display.Markdown object>"
      ]
     },
     "metadata": {},
     "output_type": "display_data"
    },
    {
     "data": {
      "text/markdown": [
       "- (2) Enako se kaznuje tudi, kdor\r\n",
       "uporabi javno listino, zapisnik, knjigo ali poslovno listino iz prejšnjega\r\n",
       "odstavka, čeprav ve, da je lažna.  "
      ],
      "text/plain": [
       "<IPython.core.display.Markdown object>"
      ]
     },
     "metadata": {},
     "output_type": "display_data"
    },
    {
     "data": {
      "text/markdown": [
       "## oviranje pogreba in skrunitev groba:  "
      ],
      "text/plain": [
       "<IPython.core.display.Markdown object>"
      ]
     },
     "metadata": {},
     "output_type": "display_data"
    },
    {
     "data": {
      "text/markdown": [
       "- (1) Kdor ovira, prepreči ali moti\r\n",
       "pogreb, se kaznuje z zaporom do enega leta.  "
      ],
      "text/plain": [
       "<IPython.core.display.Markdown object>"
      ]
     },
     "metadata": {},
     "output_type": "display_data"
    },
    {
     "data": {
      "text/markdown": [
       "- (2) Enako se kaznuje, kdor\r\n",
       "neupravičeno prekoplje ali razdre grob ali kakšen drug kraj, na katerem so\r\n",
       "pokopani umrli, ali ga sicer hudo oskruni.  "
      ],
      "text/plain": [
       "<IPython.core.display.Markdown object>"
      ]
     },
     "metadata": {},
     "output_type": "display_data"
    },
    {
     "data": {
      "text/markdown": [
       "- (3) Če dejanja iz prejšnjih odstavkov\r\n",
       "storita dve ali več oseb ali če sta bila oskrunjena dva ali več grobov, se kaznujeta\r\n",
       "z zaporom do treh let.  "
      ],
      "text/plain": [
       "<IPython.core.display.Markdown object>"
      ]
     },
     "metadata": {},
     "output_type": "display_data"
    },
    {
     "data": {
      "text/markdown": [
       "## oviranje pravosodnih in drugih državnih organov:  "
      ],
      "text/plain": [
       "<IPython.core.display.Markdown object>"
      ]
     },
     "metadata": {},
     "output_type": "display_data"
    },
    {
     "data": {
      "text/markdown": [
       "- (1) Kdor z namenom, da bi v sodnem ali\r\n",
       "upravnem postopku ali v postopku parlamentarne preiskave ali v postopku\r\n",
       "pred Komisijo za preprečevanje korupcije vplival na pričanje\r\n",
       "ali izvajanje dokazov ali kdor z namenom, da bi v predkazenskem postopku\r\n",
       "vplival na zbiranje obvestil, uporabi zoper drugega fizično\r\n",
       "silo, grožnjo ali ustrahovanje, mu ponuja ali daje nedovoljene koristi, se\r\n",
       "kaznuje z zaporom do petih let.  "
      ],
      "text/plain": [
       "<IPython.core.display.Markdown object>"
      ]
     },
     "metadata": {},
     "output_type": "display_data"
    },
    {
     "data": {
      "text/markdown": [
       "- (2) Enako se kaznuje, kdor z namenom,\r\n",
       "da bi vplival na opravljanje uradnih dolžnosti uradnih oseb v pravosodju, v\r\n",
       "organih odkrivanja in pregona v zvezi s kazenskim postopkom, uporabi zoper\r\n",
       "uradno osebo fizično silo, grožnjo ali ustrahovanje.  "
      ],
      "text/plain": [
       "<IPython.core.display.Markdown object>"
      ]
     },
     "metadata": {},
     "output_type": "display_data"
    },
    {
     "data": {
      "text/markdown": [
       "## oviranje verskih obredov:  "
      ],
      "text/plain": [
       "<IPython.core.display.Markdown object>"
      ]
     },
     "metadata": {},
     "output_type": "display_data"
    },
    {
     "data": {
      "text/markdown": [
       "- Kdor ovira, prepreči ali moti verski obred\r\n",
       "ali kdor se na kraju, ki je temu namenjen, žaljivo obnaša, se kaznuje z denarno\r\n",
       "kaznijo ali zaporom do enega leta.  "
      ],
      "text/plain": [
       "<IPython.core.display.Markdown object>"
      ]
     },
     "metadata": {},
     "output_type": "display_data"
    },
    {
     "data": {
      "text/markdown": [
       "## očitanje kaznivega dejanja z namenom zaničevanja:  "
      ],
      "text/plain": [
       "<IPython.core.display.Markdown object>"
      ]
     },
     "metadata": {},
     "output_type": "display_data"
    },
    {
     "data": {
      "text/markdown": [
       "- (1) Kdor z namenom zaničevanja komu\r\n",
       "očita, da je storil kaznivo dejanje ali da je bil obsojen zaradi kaznivega\r\n",
       "dejanja ali to z istim namenom komu pove, se kaznuje z denarno kaznijo ali\r\n",
       "zaporom do treh mesecev.  "
      ],
      "text/plain": [
       "<IPython.core.display.Markdown object>"
      ]
     },
     "metadata": {},
     "output_type": "display_data"
    },
    {
     "data": {
      "text/markdown": [
       "- (2) Če je dejanje iz prejšnjega\r\n",
       "odstavka storjeno s tiskom, po radiu, televiziji ali z drugim sredstvom javnega\r\n",
       "obveščanja ali na spletnih straneh ali na javnem\r\n",
       "shodu, se storilec kaznuje z denarno kaznijo ali zaporom do šestih mesecev.  "
      ],
      "text/plain": [
       "<IPython.core.display.Markdown object>"
      ]
     },
     "metadata": {},
     "output_type": "display_data"
    },
    {
     "data": {
      "text/markdown": [
       "## oškodovanje javnih sredstev:  "
      ],
      "text/plain": [
       "<IPython.core.display.Markdown object>"
      ]
     },
     "metadata": {},
     "output_type": "display_data"
    },
    {
     "data": {
      "text/markdown": [
       "* No data available *"
      ],
      "text/plain": [
       "<IPython.core.display.Markdown object>"
      ]
     },
     "metadata": {},
     "output_type": "display_data"
    },
    {
     "data": {
      "text/markdown": [
       "## oškodovanje tujih pravic:  "
      ],
      "text/plain": [
       "<IPython.core.display.Markdown object>"
      ]
     },
     "metadata": {},
     "output_type": "display_data"
    },
    {
     "data": {
      "text/markdown": [
       "- (1) Kdor, zato da bi komu preprečil\r\n",
       "uveljavitev stvarne pravice, odtuji, uniči, poškoduje ali vzame svojo stvar, na kateri ima ta zastavno pravico\r\n",
       "ali pravico užitka, in ga s tem oškoduje, se kaznuje z denarno kaznijo ali\r\n",
       "zaporom do enega leta.  "
      ],
      "text/plain": [
       "<IPython.core.display.Markdown object>"
      ]
     },
     "metadata": {},
     "output_type": "display_data"
    },
    {
     "data": {
      "text/markdown": [
       "- (2) Enako se kaznuje tudi, kdor, zato\r\n",
       "da bi preprečil plačilo upnika, med prisilno izvršbo uniči, poškoduje, odtuji\r\n",
       "ali skrije dele svojega premoženja in s tem upnika oškoduje.  "
      ],
      "text/plain": [
       "<IPython.core.display.Markdown object>"
      ]
     },
     "metadata": {},
     "output_type": "display_data"
    },
    {
     "data": {
      "text/markdown": [
       "- (3) Pregon za dejanje iz prvega in\r\n",
       "drugega odstavka tega člena se začne na predlog.  "
      ],
      "text/plain": [
       "<IPython.core.display.Markdown object>"
      ]
     },
     "metadata": {},
     "output_type": "display_data"
    },
    {
     "data": {
      "text/markdown": [
       "## oškodovanje upnikov:  "
      ],
      "text/plain": [
       "<IPython.core.display.Markdown object>"
      ]
     },
     "metadata": {},
     "output_type": "display_data"
    },
    {
     "data": {
      "text/markdown": [
       "* No data available *"
      ],
      "text/plain": [
       "<IPython.core.display.Markdown object>"
      ]
     },
     "metadata": {},
     "output_type": "display_data"
    },
    {
     "data": {
      "text/markdown": [
       "## pomoč storilcu po storitvi kaznivega dejanja:  "
      ],
      "text/plain": [
       "<IPython.core.display.Markdown object>"
      ]
     },
     "metadata": {},
     "output_type": "display_data"
    },
    {
     "data": {
      "text/markdown": [
       "- (1) Kdor skriva storilca kaznivega\r\n",
       "dejanja, ki se preganja po uradni dolžnosti, ali mu s skrivanjem orodja, sledov\r\n",
       "ali kako drugače pomaga, da ga ne odkrijejo, ali kdor skriva obsojenca ali\r\n",
       "stori kaj drugega, da se ne bi izvršila kazen ali izrečeni varnostni ukrep ali\r\n",
       "da se ne bi uporabil vzgojni ukrep oddaje v vzgojni zavod ali prevzgojni dom,\r\n",
       "se kaznuje z zaporom do enega leta.  "
      ],
      "text/plain": [
       "<IPython.core.display.Markdown object>"
      ]
     },
     "metadata": {},
     "output_type": "display_data"
    },
    {
     "data": {
      "text/markdown": [
       "- (2) Če gre za pomoč storilcu kaznivega\r\n",
       "dejanja po prejšnjem odstavku, za katero je predpisana kazen zapora najmanj\r\n",
       "petnajstih let ali dosmrtnega zapora, se storilec kaznuje z zaporom do petih\r\n",
       "let.  "
      ],
      "text/plain": [
       "<IPython.core.display.Markdown object>"
      ]
     },
     "metadata": {},
     "output_type": "display_data"
    },
    {
     "data": {
      "text/markdown": [
       "- (3) Kazen za dejanje iz prvega\r\n",
       "odstavka tega člena ne sme biti ne po vrsti ne po višini hujša od kazni, ki je\r\n",
       "predpisana za kaznivo dejanje osebe, ki ji je storilec pomagal.  "
      ],
      "text/plain": [
       "<IPython.core.display.Markdown object>"
      ]
     },
     "metadata": {},
     "output_type": "display_data"
    },
    {
     "data": {
      "text/markdown": [
       "- (4) Za dejanje iz prvega ali drugega\r\n",
       "odstavka tega člena se ne kaznuje zakonec storilca, oseba, s katero živi v\r\n",
       "zunajzakonski skupnosti ali v registrirani istospolni partnerski skupnosti, ali\r\n",
       "krvni sorodnik v ravni vrsti, brat ali sestra, posvojitelj ali posvojenec. Ker\r\n",
       "se katera od oseb iz tega odstavka ne kaznuje za kaznivo dejanje iz prvega ali\r\n",
       "drugega odstavka, se za pomoč storilcu pri storitvi kaznivega dejanja iz prvega\r\n",
       "ali drugega odstavka tega člena ne kaznuje niti njegov zakonec ali oseba, s\r\n",
       "katero živi v zunajzakonski skupnosti niti partner iz registrirane istospolne\r\n",
       "partnerske skupnosti.  "
      ],
      "text/plain": [
       "<IPython.core.display.Markdown object>"
      ]
     },
     "metadata": {},
     "output_type": "display_data"
    },
    {
     "data": {
      "text/markdown": [
       "- (5) Če se pregon storilca kaznivega\r\n",
       "dejanja začne na predlog, se tudi storilec kaznivega dejanja iz prvega odstavka\r\n",
       "tega člena preganja na predlog.  "
      ],
      "text/plain": [
       "<IPython.core.display.Markdown object>"
      ]
     },
     "metadata": {},
     "output_type": "display_data"
    },
    {
     "data": {
      "text/markdown": [
       "## ponareditev ali uničenje poslovnih listin:  "
      ],
      "text/plain": [
       "<IPython.core.display.Markdown object>"
      ]
     },
     "metadata": {},
     "output_type": "display_data"
    },
    {
     "data": {
      "text/markdown": [
       "- (1) Kdor v poslovne knjige, spise ali\r\n",
       "druge poslovne listine in evidence, ki jih mora voditi po zakonu ali na podlagi\r\n",
       "drugih predpisov, izdanih na podlagi zakona, in so pomembne za poslovni promet\r\n",
       "z drugimi pravnimi ali fizičnimi osebami ali so namenjene za odločitve v zvezi\r\n",
       "z gospodarsko ali finančno dejavnostjo ali kot podlaga za davčni nadzor, vpiše\r\n",
       "lažne podatke ali ne vpiše kakšnega pomembnega podatka ali s svojim podpisom\r\n",
       "potrdi tako knjigo, listino ali spis z lažno vsebino ali omogoči sestavo\r\n",
       "knjige, listine ali spisa z lažno vsebino, se kaznuje z zaporom do dveh let.  "
      ],
      "text/plain": [
       "<IPython.core.display.Markdown object>"
      ]
     },
     "metadata": {},
     "output_type": "display_data"
    },
    {
     "data": {
      "text/markdown": [
       "- (2) Enako se kaznuje, kdor lažno\r\n",
       "poslovno knjigo, listino ali spis uporabi kot resnično ali kdor uniči, skrije,\r\n",
       "precej poškoduje ali kako drugače napravi neuporabne poslovne knjige, listine\r\n",
       "ali spise iz prejšnjega odstavka.  "
      ],
      "text/plain": [
       "<IPython.core.display.Markdown object>"
      ]
     },
     "metadata": {},
     "output_type": "display_data"
    },
    {
     "data": {
      "text/markdown": [
       "- (3) Poskus dejanj iz prvega in drugega\r\n",
       "odstavka tega člena je kazniv.  "
      ],
      "text/plain": [
       "<IPython.core.display.Markdown object>"
      ]
     },
     "metadata": {},
     "output_type": "display_data"
    },
    {
     "data": {
      "text/markdown": [
       "## ponareditev ali uničenje uradne listine, knjige, spisa ali arhivskega gradiva:  "
      ],
      "text/plain": [
       "<IPython.core.display.Markdown object>"
      ]
     },
     "metadata": {},
     "output_type": "display_data"
    },
    {
     "data": {
      "text/markdown": [
       "- (1) Uradna oseba, ki v uradno listino,\r\n",
       "knjigo, ali spis vpiše lažne podatke ali ne vpiše kakšnega pomembnega podatka\r\n",
       "ali s svojim podpisom oziroma pečatom potrdi uradno listino, knjigo ali spis z\r\n",
       "lažno vsebino ali s svojim podpisom oziroma uradnim pečatom omogoči sestavo\r\n",
       "uradne listine, knjige ali spisa z lažno vsebino, se kaznuje z zaporom do treh\r\n",
       "let.  "
      ],
      "text/plain": [
       "<IPython.core.display.Markdown object>"
      ]
     },
     "metadata": {},
     "output_type": "display_data"
    },
    {
     "data": {
      "text/markdown": [
       "- (2) Enako se kaznuje tudi uradna\r\n",
       "oseba, ki uradno listino, knjigo ali spis z lažno vsebino uporabi v službi kot\r\n",
       "resnične ali ki uradno listino, knjigo ali spis uniči, skrije, jih precej\r\n",
       "poškoduje ali kako drugače napravi neuporabne.  "
      ],
      "text/plain": [
       "<IPython.core.display.Markdown object>"
      ]
     },
     "metadata": {},
     "output_type": "display_data"
    },
    {
     "data": {
      "text/markdown": [
       "- (3) Kdor protipravno odtuji, uniči ali\r\n",
       "prikriva arhivsko gradivo, ali ga napravi neuporabnega, se kaznuje z zaporom od\r\n",
       "treh mesecev do treh let.  "
      ],
      "text/plain": [
       "<IPython.core.display.Markdown object>"
      ]
     },
     "metadata": {},
     "output_type": "display_data"
    },
    {
     "data": {
      "text/markdown": [
       "## ponareditev volilnih izidov:  "
      ],
      "text/plain": [
       "<IPython.core.display.Markdown object>"
      ]
     },
     "metadata": {},
     "output_type": "display_data"
    },
    {
     "data": {
      "text/markdown": [
       "- Uradna oseba, ki pri volitvah ali\r\n",
       "glasovanju spremeni število oddanih glasov z dodajanjem ali odvzemanjem glasovnic\r\n",
       "ali glasov pri štetju ali objavi izid volitev ali glasovanja, ki se ne ujema z\r\n",
       "opravljenim glasovanjem, se kaznuje z zaporom do dveh let.  "
      ],
      "text/plain": [
       "<IPython.core.display.Markdown object>"
      ]
     },
     "metadata": {},
     "output_type": "display_data"
    },
    {
     "data": {
      "text/markdown": [
       "## ponarejanje denarja:  "
      ],
      "text/plain": [
       "<IPython.core.display.Markdown object>"
      ]
     },
     "metadata": {},
     "output_type": "display_data"
    },
    {
     "data": {
      "text/markdown": [
       "- (1) Kdor ponaredi denar, da bi ga\r\n",
       "spravil v obtok kot pravega, ali kdor spremeni pravi denar, da bi ga spravil v\r\n",
       "obtok, ali kdor tak ponarejeni denar spravi v obtok, se kaznuje z zaporom od\r\n",
       "šestih mesecev do osmih let.  "
      ],
      "text/plain": [
       "<IPython.core.display.Markdown object>"
      ]
     },
     "metadata": {},
     "output_type": "display_data"
    },
    {
     "data": {
      "text/markdown": [
       "- (2) Enako se\r\n",
       "kaznuje kdor uvozi, izvozi, prevaža, prejme ali si drugače preskrbi ponarejen\r\n",
       "denar, da bi ga spravil v obtok kot pravega.  "
      ],
      "text/plain": [
       "<IPython.core.display.Markdown object>"
      ]
     },
     "metadata": {},
     "output_type": "display_data"
    },
    {
     "data": {
      "text/markdown": [
       "- (3) Enako se kaznuje, kdor z zakonitimi\r\n",
       "napravami ali materiali organa, pristojnega za izdajo denarja, denar izdela s\r\n",
       "kršitvijo pravic ali pogojev, v skladu s katerimi lahko pristojni organi izdajo\r\n",
       "denar.  "
      ],
      "text/plain": [
       "<IPython.core.display.Markdown object>"
      ]
     },
     "metadata": {},
     "output_type": "display_data"
    },
    {
     "data": {
      "text/markdown": [
       "- (4) Če gre\r\n",
       "pri dejanju iz prvega ali drugega odstavka tega člena za veliko količino\r\n",
       "ali veliko premoženjsko vrednost ponarejenega denarja, se\r\n",
       "storilec kaznuje z zaporom od enega do desetih let.  "
      ],
      "text/plain": [
       "<IPython.core.display.Markdown object>"
      ]
     },
     "metadata": {},
     "output_type": "display_data"
    },
    {
     "data": {
      "text/markdown": [
       "- (5) Kdor da v\r\n",
       "obtok ponarejen denar, ki ga je prejel kot pravega, ali kdor ve, da je bil\r\n",
       "denar ponarejen ali da je bil tak denar spravljen v obtok, pa tega ne naznani,\r\n",
       "se kaznuje z denarno kaznijo ali zaporom do šestih mesecev.  "
      ],
      "text/plain": [
       "<IPython.core.display.Markdown object>"
      ]
     },
     "metadata": {},
     "output_type": "display_data"
    },
    {
     "data": {
      "text/markdown": [
       "- (6) Ponarejeni\r\n",
       "denar se vzame.  "
      ],
      "text/plain": [
       "<IPython.core.display.Markdown object>"
      ]
     },
     "metadata": {},
     "output_type": "display_data"
    },
    {
     "data": {
      "text/markdown": [
       "- (7) Denar je\r\n",
       "kovan ali papirnat denar, ki je na podlagi zakona v obtoku ali je namenjen v obtok v Republiki Sloveniji ali drugi državi.  "
      ],
      "text/plain": [
       "<IPython.core.display.Markdown object>"
      ]
     },
     "metadata": {},
     "output_type": "display_data"
    },
    {
     "data": {
      "text/markdown": [
       "## ponarejanje in uporaba ponarejenih vrednotnic ali vrednostnih papirjev:  "
      ],
      "text/plain": [
       "<IPython.core.display.Markdown object>"
      ]
     },
     "metadata": {},
     "output_type": "display_data"
    },
    {
     "data": {
      "text/markdown": [
       "- (1) Kdor ponaredi kolke ali poštne znamke\r\n",
       "ali druge vrednotnice ali kdor spremeni kakšno tako pravo vrednotnico, da bi jo\r\n",
       "uporabil kot pravo ali jo dal v uporabo komu drugemu, ali kdor ponarejene\r\n",
       "vrednotnice uporabi kot prave ali si jih s tem namenom pridobi, se kaznuje z\r\n",
       "zaporom do treh let.  "
      ],
      "text/plain": [
       "<IPython.core.display.Markdown object>"
      ]
     },
     "metadata": {},
     "output_type": "display_data"
    },
    {
     "data": {
      "text/markdown": [
       "- (2) Kdor ponaredi vrednostne papirje\r\n",
       "ali kdor spremeni kakšen tak pravi vrednostni papir, da bi ga uporabil kot\r\n",
       "pravega ali ga dal v uporabo komu drugemu, ali kdor take ponarejene vrednostne\r\n",
       "papirje uporabi kot prave ali jih s tem namenom pridobi, se kaznuje z zaporom\r\n",
       "od enega do osmih let.  "
      ],
      "text/plain": [
       "<IPython.core.display.Markdown object>"
      ]
     },
     "metadata": {},
     "output_type": "display_data"
    },
    {
     "data": {
      "text/markdown": [
       "- (3) Če gre pri dejanju iz prejšnjih\r\n",
       "odstavkov za veliko količino vrednotnic ali vrednostnih papirjev, se storilec\r\n",
       "kaznuje z zaporom od enega do desetih let.  "
      ],
      "text/plain": [
       "<IPython.core.display.Markdown object>"
      ]
     },
     "metadata": {},
     "output_type": "display_data"
    },
    {
     "data": {
      "text/markdown": [
       "- (4) Kdor odstrani žig, s katerim se\r\n",
       "vrednotnice iz prvega odstavka tega člena uničujejo, ali kdor si kako drugače\r\n",
       "prizadeva napraviti te vrednotnice, kakor da ne bi bile uporabljene, ali kdor\r\n",
       "že uporabljene take vrednotnice znova uporabi ali proda, kakor da bi bile\r\n",
       "veljavne, se kaznuje z denarno kaznijo ali zaporom do enega leta.  "
      ],
      "text/plain": [
       "<IPython.core.display.Markdown object>"
      ]
     },
     "metadata": {},
     "output_type": "display_data"
    },
    {
     "data": {
      "text/markdown": [
       "- (5) Ponarejene vrednotnice in\r\n",
       "ponarejeni vrednostni papirji se vzamejo.  "
      ],
      "text/plain": [
       "<IPython.core.display.Markdown object>"
      ]
     },
     "metadata": {},
     "output_type": "display_data"
    },
    {
     "data": {
      "text/markdown": [
       "- (6) Za vrednotnice po tem zakoniku se\r\n",
       "štejejo kolki in druge vrednotnice, izdane in v obtoku na podlagi zakona\r\n",
       "Republike Slovenije, ter tuje vrednotnice.  "
      ],
      "text/plain": [
       "<IPython.core.display.Markdown object>"
      ]
     },
     "metadata": {},
     "output_type": "display_data"
    },
    {
     "data": {
      "text/markdown": [
       "## ponarejanje listin:  "
      ],
      "text/plain": [
       "<IPython.core.display.Markdown object>"
      ]
     },
     "metadata": {},
     "output_type": "display_data"
    },
    {
     "data": {
      "text/markdown": [
       "- (1) Kdor ponaredi listino ali spremeni\r\n",
       "pravo listino, zato da bi se taka listina uporabila kot prava, ali kdor\r\n",
       "ponarejeno ali spremenjeno listino uporabi kot pravo, se kaznuje z zaporom do dveh\r\n",
       "let.  "
      ],
      "text/plain": [
       "<IPython.core.display.Markdown object>"
      ]
     },
     "metadata": {},
     "output_type": "display_data"
    },
    {
     "data": {
      "text/markdown": [
       "- (2) Poskus je kazniv.  "
      ],
      "text/plain": [
       "<IPython.core.display.Markdown object>"
      ]
     },
     "metadata": {},
     "output_type": "display_data"
    },
    {
     "data": {
      "text/markdown": [
       "- (3) Kdor ponaredi javno listino,\r\n",
       "oporoko, javno ali uradno knjigo ali kakšno drugo knjigo, ki se mora voditi na\r\n",
       "podlagi zakona, spremeni tako pravo listino ali kdor tako ponarejeno ali\r\n",
       "spremenjeno listino hrani zaradi uporabe ali jo uporabi kot pravo, se kaznuje z\r\n",
       "zaporom do treh let.  "
      ],
      "text/plain": [
       "<IPython.core.display.Markdown object>"
      ]
     },
     "metadata": {},
     "output_type": "display_data"
    },
    {
     "data": {
      "text/markdown": [
       "## ponarejanje znamenj za zaznamovanje blaga, mer in uteži:  "
      ],
      "text/plain": [
       "<IPython.core.display.Markdown object>"
      ]
     },
     "metadata": {},
     "output_type": "display_data"
    },
    {
     "data": {
      "text/markdown": [
       "- (1) Kdor, zato da bi jih uporabil kot\r\n",
       "prave, ponaredi znamenja za zaznamovanje domačega ali tujega blaga, kot so\r\n",
       "pečati, žigi, znamke ali druge predpisane oznake, s katerimi se zaznamujejo\r\n",
       "zlato, srebro, živina, les ali kakšno drugo blago, ali prava taka znamenja\r\n",
       "spremeni ali odstrani ali uporabi ponarejena znamenja kot prava, se kaznuje z\r\n",
       "denarno kaznijo ali zaporom do dveh let.  "
      ],
      "text/plain": [
       "<IPython.core.display.Markdown object>"
      ]
     },
     "metadata": {},
     "output_type": "display_data"
    },
    {
     "data": {
      "text/markdown": [
       "- (2) Enako se kaznuje, kdor ponaredi\r\n",
       "mere ali uteži ali kdor jih uporabi pri merjenju kot prave.  "
      ],
      "text/plain": [
       "<IPython.core.display.Markdown object>"
      ]
     },
     "metadata": {},
     "output_type": "display_data"
    },
    {
     "data": {
      "text/markdown": [
       "- (3) Kdor neupravičeno izdela, si\r\n",
       "pridobi, proda ali da v uporabo pripomočke za izdelovanje znamenj za zaznamovanje\r\n",
       "ali označevanje blaga kakor tudi ponarejene mere in uteži, se kaznuje z zaporom\r\n",
       "do enega leta.  "
      ],
      "text/plain": [
       "<IPython.core.display.Markdown object>"
      ]
     },
     "metadata": {},
     "output_type": "display_data"
    },
    {
     "data": {
      "text/markdown": [
       "- (4) Ponarejena znamenja, mere in uteži\r\n",
       "kakor tudi pripomočki za njihovo ponarejanje se vzamejo.  "
      ],
      "text/plain": [
       "<IPython.core.display.Markdown object>"
      ]
     },
     "metadata": {},
     "output_type": "display_data"
    },
    {
     "data": {
      "text/markdown": [
       "## poneverba in neupravičena uporaba tujega premoženja:  "
      ],
      "text/plain": [
       "<IPython.core.display.Markdown object>"
      ]
     },
     "metadata": {},
     "output_type": "display_data"
    },
    {
     "data": {
      "text/markdown": [
       "- (1) Kdor si protipravno prilasti\r\n",
       "denar, premično stvar ali drug del tujega premoženja, ki mu je zaupano v zvezi\r\n",
       "z zaposlitvijo ali pri opravljanju gospodarske,\r\n",
       "finančne ali poslovne\r\n",
       "dejavnosti ali pri opravljanju dolžnosti skrbnika ali mu je prepuščeno kot\r\n",
       "uradni osebi v službi, se kaznuje z zaporom do treh let.  "
      ],
      "text/plain": [
       "<IPython.core.display.Markdown object>"
      ]
     },
     "metadata": {},
     "output_type": "display_data"
    },
    {
     "data": {
      "text/markdown": [
       "- (2) Če stori dejanje iz prejšnjega odstavka uradna oseba proti tujemu premoženju, ki ji je dosegljivo ob\r\n",
       "preiskavi stanovanja, prostorov ali oseb, ob izvršbi v sodnem ali upravnem\r\n",
       "postopku ali v zvezi z nalogami varovanja oseb ali premoženja, se kaznuje z\r\n",
       "zaporom do petih let.  "
      ],
      "text/plain": [
       "<IPython.core.display.Markdown object>"
      ]
     },
     "metadata": {},
     "output_type": "display_data"
    },
    {
     "data": {
      "text/markdown": [
       "- (3) Če gre pri dejanju iz prvega\r\n",
       "odstavka tega člena za premoženje majhne vrednosti, pa si je storilec hotel\r\n",
       "prilastiti tako vrednost, se kaznuje z denarno kaznijo ali zaporom do enega\r\n",
       "leta.  "
      ],
      "text/plain": [
       "<IPython.core.display.Markdown object>"
      ]
     },
     "metadata": {},
     "output_type": "display_data"
    },
    {
     "data": {
      "text/markdown": [
       "- (4) Če gre pri dejanju iz prvega ali\r\n",
       "drugega odstavka tega člena za premoženje velike vrednosti in si je storilec\r\n",
       "hotel pridobiti tako premoženjsko korist, se storilec kaznuje z zaporom od\r\n",
       "enega do osmih let.  "
      ],
      "text/plain": [
       "<IPython.core.display.Markdown object>"
      ]
     },
     "metadata": {},
     "output_type": "display_data"
    },
    {
     "data": {
      "text/markdown": [
       "- (5) Če storilec zaupane ali dosegljive\r\n",
       "stvari iz prvega ali drugega odstavka tega člena neupravičeno uporabi, se kaznuje\r\n",
       "z denarno kaznijo ali zaporom do treh let.  "
      ],
      "text/plain": [
       "<IPython.core.display.Markdown object>"
      ]
     },
     "metadata": {},
     "output_type": "display_data"
    },
    {
     "data": {
      "text/markdown": [
       "## posebni primeri ponarejanja listin:  "
      ],
      "text/plain": [
       "<IPython.core.display.Markdown object>"
      ]
     },
     "metadata": {},
     "output_type": "display_data"
    },
    {
     "data": {
      "text/markdown": [
       "- (1) Za ponarejanje listin se kaznuje\r\n",
       "po prvem odstavku, če gre za listino iz tretjega odstavka prejšnjega\r\n",
       "člena, pa po tretjem odstavku prejšnjega člena:  "
      ],
      "text/plain": [
       "<IPython.core.display.Markdown object>"
      ]
     },
     "metadata": {},
     "output_type": "display_data"
    },
    {
     "data": {
      "text/markdown": [
       "- 1)    \r\n",
       "kdor kakšen papir, golico ali kakšno drugo listino, ki jo je kdo\r\n",
       "podpisal, neupravičeno izpolni s kakšno izjavo, ki ima pomen za pravna\r\n",
       "razmerja;  "
      ],
      "text/plain": [
       "<IPython.core.display.Markdown object>"
      ]
     },
     "metadata": {},
     "output_type": "display_data"
    },
    {
     "data": {
      "text/markdown": [
       "- 2)    \r\n",
       "kdor koga preslepi o vsebini kakšne listine in jo ta podpiše, misleč, da\r\n",
       "se podpisuje pod kakšno drugo listino ali pod kakšno drugo vsebino;  "
      ],
      "text/plain": [
       "<IPython.core.display.Markdown object>"
      ]
     },
     "metadata": {},
     "output_type": "display_data"
    },
    {
     "data": {
      "text/markdown": [
       "- 3)    \r\n",
       "kdor izda listino v imenu kakšne osebe brez njenega pooblastila ali v\r\n",
       "imenu osebe, ki je ni;  "
      ],
      "text/plain": [
       "<IPython.core.display.Markdown object>"
      ]
     },
     "metadata": {},
     "output_type": "display_data"
    },
    {
     "data": {
      "text/markdown": [
       "- 4)    \r\n",
       "kdor kot izdajatelj listine doda k svojemu podpisu kakšen položaj ali\r\n",
       "naziv, čeprav nima takega položaja ali naziva, pa to bistveno vpliva na\r\n",
       "dokazilno moč listine;  "
      ],
      "text/plain": [
       "<IPython.core.display.Markdown object>"
      ]
     },
     "metadata": {},
     "output_type": "display_data"
    },
    {
     "data": {
      "text/markdown": [
       "- 5)    \r\n",
       "kdor napravi listino tako, da neupravičeno uporabi pravi pečat ali\r\n",
       "znamenje.  "
      ],
      "text/plain": [
       "<IPython.core.display.Markdown object>"
      ]
     },
     "metadata": {},
     "output_type": "display_data"
    },
    {
     "data": {
      "text/markdown": [
       "- (2) S kaznijo iz tretjega\r\n",
       "odstavka prejšnjega člena se kaznuje, kdor kot tržno blago\r\n",
       "napravi za drugega doktorsko disertacijo, magistrsko, diplomsko, izpitno,\r\n",
       "maturitetno ali seminarsko nalogo ali sestavi za drugega kakšno drugo pisno\r\n",
       "nalogo, potrebno za pridobitev izobrazbe, ali kdor tako nalogo uporabi kot\r\n",
       "svojo.  "
      ],
      "text/plain": [
       "<IPython.core.display.Markdown object>"
      ]
     },
     "metadata": {},
     "output_type": "display_data"
    },
    {
     "data": {
      "text/markdown": [
       "## posebno huda telesna poškodba:  "
      ],
      "text/plain": [
       "<IPython.core.display.Markdown object>"
      ]
     },
     "metadata": {},
     "output_type": "display_data"
    },
    {
     "data": {
      "text/markdown": [
       "- (1) Kdor koga tako hudo telesno\r\n",
       "poškoduje ali mu prizadene tako hudo škodo na zdravju, da je bilo zaradi tega v\r\n",
       "nevarnosti življenje poškodovanca, ali je uničen ali za vselej in zelo\r\n",
       "oslabljen pomemben del njegovega telesa ali pomemben organ ali je postal\r\n",
       "poškodovani zaradi tega za vselej nezmožen za vsakršno delo ali je ostal skažen\r\n",
       "ali mu je bilo za vselej hudo okvarjeno zdravje, se kaznuje z zaporom od enega\r\n",
       "do desetih let.  "
      ],
      "text/plain": [
       "<IPython.core.display.Markdown object>"
      ]
     },
     "metadata": {},
     "output_type": "display_data"
    },
    {
     "data": {
      "text/markdown": [
       "- (2) Če poškodovani zaradi poškodbe iz\r\n",
       "prejšnjega odstavka umre, se storilec kaznuje z zaporom od treh do petnajstih\r\n",
       "let.  "
      ],
      "text/plain": [
       "<IPython.core.display.Markdown object>"
      ]
     },
     "metadata": {},
     "output_type": "display_data"
    },
    {
     "data": {
      "text/markdown": [
       "- (3) Kdor stori dejanje iz prvega\r\n",
       "odstavka tega člena iz malomarnosti, se kaznuje z zaporom do treh let.  "
      ],
      "text/plain": [
       "<IPython.core.display.Markdown object>"
      ]
     },
     "metadata": {},
     "output_type": "display_data"
    },
    {
     "data": {
      "text/markdown": [
       "- (4) Če je storilec dejanje iz prvega\r\n",
       "ali drugega odstavka tega člena storil na mah, ker ga je poškodovanec brez njegove\r\n",
       "krivde z napadom ali hudimi žalitvami močno razdražil, se kaznuje z zaporom od\r\n",
       "šestih mesecev do petih let.  "
      ],
      "text/plain": [
       "<IPython.core.display.Markdown object>"
      ]
     },
     "metadata": {},
     "output_type": "display_data"
    },
    {
     "data": {
      "text/markdown": [
       "## posilstvo:  "
      ],
      "text/plain": [
       "<IPython.core.display.Markdown object>"
      ]
     },
     "metadata": {},
     "output_type": "display_data"
    },
    {
     "data": {
      "text/markdown": [
       "- (1) Kdor brez privolitve druge osebe\r\n",
       "doseže, da ta spolno občuje ali s tem izenačeno spolno ravna, se kaznuje z\r\n",
       "zaporom od šestih mesecev do petih let.  "
      ],
      "text/plain": [
       "<IPython.core.display.Markdown object>"
      ]
     },
     "metadata": {},
     "output_type": "display_data"
    },
    {
     "data": {
      "text/markdown": [
       "- (2) Privolitev iz prejšnjega odstavka tega\r\n",
       "člena je podana, če je oseba po svoji navzven zaznavni, nedvoumni in svobodni\r\n",
       "volji privolila v spolno občevanje ali s tem izenačeno spolno ravnanje in je\r\n",
       "bila sposobna sprejeti tako odločitev.  "
      ],
      "text/plain": [
       "<IPython.core.display.Markdown object>"
      ]
     },
     "metadata": {},
     "output_type": "display_data"
    },
    {
     "data": {
      "text/markdown": [
       "- (3) Kdor\r\n",
       "prisili drugo osebo k\r\n",
       "spolnemu občevanju ali s tem izenačenemu spolnemu ravnanju, tako da uporabi silo ali\r\n",
       "zagrozi z neposrednim napadom na življenje ali telo,\r\n",
       "se kaznuje z zaporom od enega do desetih let.  "
      ],
      "text/plain": [
       "<IPython.core.display.Markdown object>"
      ]
     },
     "metadata": {},
     "output_type": "display_data"
    },
    {
     "data": {
      "text/markdown": [
       "- (4) Če je\r\n",
       "dejanje iz prejšnjega odstavka storjeno grozovito ali posebno poniževalno ali\r\n",
       "če je dejanje storilo več oseb zaporedoma ali nad obsojenci ali drugimi\r\n",
       "osebami, ki jim je vzeta prostost, se storilec kaznuje z zaporom od treh do\r\n",
       "petnajstih let.  "
      ],
      "text/plain": [
       "<IPython.core.display.Markdown object>"
      ]
     },
     "metadata": {},
     "output_type": "display_data"
    },
    {
     "data": {
      "text/markdown": [
       "- (5) Kdor\r\n",
       "prisili drugo osebo k\r\n",
       "spolnemu občevanju ali s tem izenačenemu spolnemu ravnanju, tako da ji zagrozi, da bo o njej ali njenih\r\n",
       "bližnjih odkril, kar bi škodovalo njeni ali njihovi časti ali dobremu imenu,\r\n",
       "ali da bo njej ali njenim bližnjim povzročil veliko premoženjsko škodo, se\r\n",
       "kaznuje z zaporom od šestih mesecev do petih let.  "
      ],
      "text/plain": [
       "<IPython.core.display.Markdown object>"
      ]
     },
     "metadata": {},
     "output_type": "display_data"
    },
    {
     "data": {
      "text/markdown": [
       "- (6) Če so bila dejanja iz prvega, tretjega ali petega odstavka tega člena storjeni proti osebi, s katero storilec živi v zakonski,\r\n",
       "zunajzakonski skupnosti ali registrirani istospolni skupnosti, se pregon začne\r\n",
       "na predlog.  "
      ],
      "text/plain": [
       "<IPython.core.display.Markdown object>"
      ]
     },
     "metadata": {},
     "output_type": "display_data"
    },
    {
     "data": {
      "text/markdown": [
       "## poslovna goljufija:  "
      ],
      "text/plain": [
       "<IPython.core.display.Markdown object>"
      ]
     },
     "metadata": {},
     "output_type": "display_data"
    },
    {
     "data": {
      "text/markdown": [
       "- (1) Kdor pri opravljanju gospodarske\r\n",
       "dejavnosti pri sklenitvi ali izvajanju pogodbe ali posla preslepi drugega s\r\n",
       "prikazovanjem, da bodo obveznosti izpolnjene, ali s prikrivanjem, da obveznosti\r\n",
       "ne bodo ali ne bodo mogle biti izpolnjene, zaradi delne ali celotne\r\n",
       "neizpolnitve obveznosti pa si pridobi premoženjsko korist ali nastane za\r\n",
       "stranko ali koga drugega premoženjska škoda, se kaznuje z zaporom do petih let.  "
      ],
      "text/plain": [
       "<IPython.core.display.Markdown object>"
      ]
     },
     "metadata": {},
     "output_type": "display_data"
    },
    {
     "data": {
      "text/markdown": [
       "- (2) Če je zaradi dejanja iz prejšnjega\r\n",
       "odstavka pridobljena velika premoženjska korist ali nastala velika premoženjska\r\n",
       "škoda, se storilec kaznuje z zaporom od enega do desetih let.  "
      ],
      "text/plain": [
       "<IPython.core.display.Markdown object>"
      ]
     },
     "metadata": {},
     "output_type": "display_data"
    },
    {
     "data": {
      "text/markdown": [
       "- (3) Če je zaradi dejanja iz prvega\r\n",
       "odstavka tega člena pridobljena majhna premoženjska korist ali nastala majhna\r\n",
       "premoženjska škoda, se storilec kaznuje z denarno kaznijo ali zaporom do enega\r\n",
       "leta.  "
      ],
      "text/plain": [
       "<IPython.core.display.Markdown object>"
      ]
     },
     "metadata": {},
     "output_type": "display_data"
    },
    {
     "data": {
      "text/markdown": [
       "## povzročitev nevarnosti:  "
      ],
      "text/plain": [
       "<IPython.core.display.Markdown object>"
      ]
     },
     "metadata": {},
     "output_type": "display_data"
    },
    {
     "data": {
      "text/markdown": [
       "- Kdor pusti koga brez pomoči v smrtni\r\n",
       "nevarnosti, ki jo je sam povzročil, se kaznuje z zaporom do dveh let.  "
      ],
      "text/plain": [
       "<IPython.core.display.Markdown object>"
      ]
     },
     "metadata": {},
     "output_type": "display_data"
    },
    {
     "data": {
      "text/markdown": [
       "## povzročitev nevarnosti pri gradbeni dejavnosti:  "
      ],
      "text/plain": [
       "<IPython.core.display.Markdown object>"
      ]
     },
     "metadata": {},
     "output_type": "display_data"
    },
    {
     "data": {
      "text/markdown": [
       "- (1) Oseba, ki je odgovorna za\r\n",
       "načrtovanje ali nadzor načrtov za pripravo ali vodenje zidave ali gradbenih\r\n",
       "del, pa pri tem ravna v nasprotju s predpisi ali splošno priznanimi tehničnimi\r\n",
       "pravili in tako povzroči nevarnost za življenje ljudi ali premoženje velike\r\n",
       "vrednosti, se kaznuje z zaporom do treh let.  "
      ],
      "text/plain": [
       "<IPython.core.display.Markdown object>"
      ]
     },
     "metadata": {},
     "output_type": "display_data"
    },
    {
     "data": {
      "text/markdown": [
       "- (2) Če je dejanje iz prejšnjega\r\n",
       "odstavka storjeno iz malomarnosti, se storilec kaznuje z denarno kaznijo ali\r\n",
       "zaporom do enega leta.  "
      ],
      "text/plain": [
       "<IPython.core.display.Markdown object>"
      ]
     },
     "metadata": {},
     "output_type": "display_data"
    },
    {
     "data": {
      "text/markdown": [
       "- (3) Če ima dejanje iz prvega ali\r\n",
       "drugega odstavka tega člena za posledico hudo telesno poškodbo ene ali več oseb\r\n",
       "ali veliko premoženjsko škodo, se storilec za dejanje iz prvega odstavka\r\n",
       "kaznuje z zaporom od enega do petih let, za dejanje iz drugega odstavka pa z\r\n",
       "zaporom do treh let.  "
      ],
      "text/plain": [
       "<IPython.core.display.Markdown object>"
      ]
     },
     "metadata": {},
     "output_type": "display_data"
    },
    {
     "data": {
      "text/markdown": [
       "- (4) Če ima dejanje iz prvega ali\r\n",
       "drugega odstavka tega člena za posledico smrt ene ali več oseb, se storilec za\r\n",
       "dejanje iz prvega odstavka kaznuje z zaporom od enega do dvanajstih let, za\r\n",
       "dejanje iz drugega odstavka pa z zaporom do osmih let.  "
      ],
      "text/plain": [
       "<IPython.core.display.Markdown object>"
      ]
     },
     "metadata": {},
     "output_type": "display_data"
    },
    {
     "data": {
      "text/markdown": [
       "## povzročitev prometne nesreče iz malomarnosti:  "
      ],
      "text/plain": [
       "<IPython.core.display.Markdown object>"
      ]
     },
     "metadata": {},
     "output_type": "display_data"
    },
    {
     "data": {
      "text/markdown": [
       "- (1) Udeleženec v prometu, ki s\r\n",
       "kršitvijo predpisov o varnosti cestnega prometa iz malomarnosti povzroči\r\n",
       "prometno nesrečo, v kateri je bila kakšna oseba hudo telesno poškodovana, se\r\n",
       "kaznuje z denarno kaznijo ali zaporom do treh let.  "
      ],
      "text/plain": [
       "<IPython.core.display.Markdown object>"
      ]
     },
     "metadata": {},
     "output_type": "display_data"
    },
    {
     "data": {
      "text/markdown": [
       "- (2) Če ima dejanje iz prejšnjega\r\n",
       "odstavka za posledico smrt ene ali več oseb, se storilec kaznuje z zaporom do\r\n",
       "osmih let in s prepovedjo vožnje motornega vozila.  "
      ],
      "text/plain": [
       "<IPython.core.display.Markdown object>"
      ]
     },
     "metadata": {},
     "output_type": "display_data"
    },
    {
     "data": {
      "text/markdown": [
       "- (3) Storilcu, ki ni imel pravice voziti\r\n",
       "motornega vozila, s katerim je bilo storjeno kaznivo dejanje iz prvega ali\r\n",
       "drugega odstavka tega člena, se to motorno vozilo vzame. Motorno vozilo, ki je\r\n",
       "last druge osebe, se vzame, če je ta oseba omogočila, dopustila ali dovolila\r\n",
       "vožnjo storilcu, za katerega je vedela ali bi bila mogla vedeti, da nima\r\n",
       "pravice voziti.   "
      ],
      "text/plain": [
       "<IPython.core.display.Markdown object>"
      ]
     },
     "metadata": {},
     "output_type": "display_data"
    },
    {
     "data": {
      "text/markdown": [
       "## povzročitev smrti iz malomarnosti:  "
      ],
      "text/plain": [
       "<IPython.core.display.Markdown object>"
      ]
     },
     "metadata": {},
     "output_type": "display_data"
    },
    {
     "data": {
      "text/markdown": [
       "- Kdor povzroči smrt drugega iz malomarnosti,\r\n",
       "se kaznuje z zaporom od šestih mesecev do petih let.  "
      ],
      "text/plain": [
       "<IPython.core.display.Markdown object>"
      ]
     },
     "metadata": {},
     "output_type": "display_data"
    },
    {
     "data": {
      "text/markdown": [
       "## povzročitev splošne nevarnosti:  "
      ],
      "text/plain": [
       "<IPython.core.display.Markdown object>"
      ]
     },
     "metadata": {},
     "output_type": "display_data"
    },
    {
     "data": {
      "text/markdown": [
       "- (1) Kdor s požarom, povodnjo,\r\n",
       "eksplozijo, strupom ali strupenim plinom, ionizirajočim sevanjem, motorno silo,\r\n",
       "električno ali kakšno drugo energijo ali kakšnim drugim splošno nevarnim\r\n",
       "dejanjem ali sredstvom ali opustitvijo dejanja, ki bi ga moral storiti za\r\n",
       "zagotovitev splošne varnosti ljudi in premoženja, povzroči nevarnost za\r\n",
       "življenje ljudi ali premoženje velike vrednosti, se kaznuje z zaporom do petih\r\n",
       "let.  "
      ],
      "text/plain": [
       "<IPython.core.display.Markdown object>"
      ]
     },
     "metadata": {},
     "output_type": "display_data"
    },
    {
     "data": {
      "text/markdown": [
       "- (2) Kdor z eksplozivom ali drugim\r\n",
       "nevarnim dejanjem in sredstvom, z namenom izsiljevanja, zastraševanja,\r\n",
       "prisiljenja k storitvi ali opustitvi nekega drugega dejanja, maščevanja ali\r\n",
       "pridobitve premoženjske ali nepremoženjske koristi sebi ali komu drugemu,\r\n",
       "načrtuje, poskusi ali izvede nevarno dejanje, pri katerem je ali bi bila\r\n",
       "ogrožena varnost ljudi ali premoženja večje vrednosti, se kaznuje z zaporom od\r\n",
       "enega do osmih let.  "
      ],
      "text/plain": [
       "<IPython.core.display.Markdown object>"
      ]
     },
     "metadata": {},
     "output_type": "display_data"
    },
    {
     "data": {
      "text/markdown": [
       "- (3) Kdor stori dejanje iz prvega\r\n",
       "odstavka iz malomarnosti, se kaznuje z denarno kaznijo ali zaporom do enega\r\n",
       "leta.  "
      ],
      "text/plain": [
       "<IPython.core.display.Markdown object>"
      ]
     },
     "metadata": {},
     "output_type": "display_data"
    },
    {
     "data": {
      "text/markdown": [
       "- (4) Če ima dejanje iz prvega, drugega\r\n",
       "ali tretjega odstavka tega člena za posledico hudo telesno poškodbo ene ali več\r\n",
       "oseb ali veliko premoženjsko škodo, se storilec kaznuje za dejanje iz prvega in\r\n",
       "drugega odstavka z zaporom do desetih let, za dejanje iz tretjega odstavka pa z\r\n",
       "zaporom do petih let.  "
      ],
      "text/plain": [
       "<IPython.core.display.Markdown object>"
      ]
     },
     "metadata": {},
     "output_type": "display_data"
    },
    {
     "data": {
      "text/markdown": [
       "- (5) Če ima dejanje iz prvega, drugega\r\n",
       "ali tretjega odstavka tega člena za posledico smrt ene ali več oseb, se storilec\r\n",
       "kaznuje za dejanje iz prvega odstavka z zaporom od enega do petnajstih let, za\r\n",
       "dejanje iz drugega odstavka z zaporom najmanj petnajstih let, za dejanje iz\r\n",
       "tretjega odstavka pa z zaporom do osmih let.  "
      ],
      "text/plain": [
       "<IPython.core.display.Markdown object>"
      ]
     },
     "metadata": {},
     "output_type": "display_data"
    },
    {
     "data": {
      "text/markdown": [
       "## povzročitev stečaja z goljufijo ali nevestnim poslovanjem:  "
      ],
      "text/plain": [
       "<IPython.core.display.Markdown object>"
      ]
     },
     "metadata": {},
     "output_type": "display_data"
    },
    {
     "data": {
      "text/markdown": [
       "* No data available *"
      ],
      "text/plain": [
       "<IPython.core.display.Markdown object>"
      ]
     },
     "metadata": {},
     "output_type": "display_data"
    },
    {
     "data": {
      "text/markdown": [
       "## poškodovanje ali uničenje javnih naprav:  "
      ],
      "text/plain": [
       "<IPython.core.display.Markdown object>"
      ]
     },
     "metadata": {},
     "output_type": "display_data"
    },
    {
     "data": {
      "text/markdown": [
       "- (1) Kdor uniči, poškoduje ali odstrani\r\n",
       "električne vode, plinovode, vodovode, toplovode, naftovode, telekomunikacijske\r\n",
       "naprave, podmorske kable, kanalizacijske naprave in naprave za varstvo okolja\r\n",
       "ali druge podobne javne naprave in tako povzroči motnje v preskrbi prebivalstva\r\n",
       "ali gospodarstva, se kaznuje z zaporom do petih let.  "
      ],
      "text/plain": [
       "<IPython.core.display.Markdown object>"
      ]
     },
     "metadata": {},
     "output_type": "display_data"
    },
    {
     "data": {
      "text/markdown": [
       "- (2) Če je dejanje iz prejšnjega\r\n",
       "odstavka storjeno iz malomarnosti, se storilec kaznuje z denarno kaznijo ali\r\n",
       "zaporom do enega leta.  "
      ],
      "text/plain": [
       "<IPython.core.display.Markdown object>"
      ]
     },
     "metadata": {},
     "output_type": "display_data"
    },
    {
     "data": {
      "text/markdown": [
       "## poškodovanje ali uničenje stvari, ki so posebnega kulturnega pomena ali naravne vrednote:  "
      ],
      "text/plain": [
       "<IPython.core.display.Markdown object>"
      ]
     },
     "metadata": {},
     "output_type": "display_data"
    },
    {
     "data": {
      "text/markdown": [
       "* No data available *"
      ],
      "text/plain": [
       "<IPython.core.display.Markdown object>"
      ]
     },
     "metadata": {},
     "output_type": "display_data"
    },
    {
     "data": {
      "text/markdown": [
       "## poškodovanje tuje stvari:  "
      ],
      "text/plain": [
       "<IPython.core.display.Markdown object>"
      ]
     },
     "metadata": {},
     "output_type": "display_data"
    },
    {
     "data": {
      "text/markdown": [
       "- (1) Kdor tujo stvar poškoduje, uniči\r\n",
       "ali napravi neuporabno, se kaznuje z denarno kaznijo ali zaporom do dveh let.  "
      ],
      "text/plain": [
       "<IPython.core.display.Markdown object>"
      ]
     },
     "metadata": {},
     "output_type": "display_data"
    },
    {
     "data": {
      "text/markdown": [
       "- (2) Če je povzročena škoda velika, se\r\n",
       "storilec kaznuje z zaporom do petih let.  "
      ],
      "text/plain": [
       "<IPython.core.display.Markdown object>"
      ]
     },
     "metadata": {},
     "output_type": "display_data"
    },
    {
     "data": {
      "text/markdown": [
       "- (3) Pregon za dejanje iz prvega\r\n",
       "odstavka tega člena se začne na predlog.  "
      ],
      "text/plain": [
       "<IPython.core.display.Markdown object>"
      ]
     },
     "metadata": {},
     "output_type": "display_data"
    },
    {
     "data": {
      "text/markdown": [
       "## požig:  "
      ],
      "text/plain": [
       "<IPython.core.display.Markdown object>"
      ]
     },
     "metadata": {},
     "output_type": "display_data"
    },
    {
     "data": {
      "text/markdown": [
       "- (1) Kdor požge tujo hišo ali drugo\r\n",
       "stavbo, namenjeno za prebivanje, gospodarsko poslopje ali poslovno stavbo,\r\n",
       "stavbo ali drugo nepremičnino, ki je v javni rabi, se kaznuje z zaporom od\r\n",
       "enega do osmih let.  "
      ],
      "text/plain": [
       "<IPython.core.display.Markdown object>"
      ]
     },
     "metadata": {},
     "output_type": "display_data"
    },
    {
     "data": {
      "text/markdown": [
       "- (2) Če so požgane stvari iz prejšnjega\r\n",
       "odstavka last tistega, ki je požgal, ravnal pa je iz zlobnih ali drugih\r\n",
       "nizkotnih nagibov, se kaznuje z zaporom do petih let.  "
      ],
      "text/plain": [
       "<IPython.core.display.Markdown object>"
      ]
     },
     "metadata": {},
     "output_type": "display_data"
    },
    {
     "data": {
      "text/markdown": [
       "- (3) Če je dejanje iz prvega odstavka\r\n",
       "tega člena storjeno iz malomarnosti, se storilec kaznuje z zaporom do treh let.  "
      ],
      "text/plain": [
       "<IPython.core.display.Markdown object>"
      ]
     },
     "metadata": {},
     "output_type": "display_data"
    },
    {
     "data": {
      "text/markdown": [
       "- (4) Če sta dejanje iz prvega odstavka\r\n",
       "tega člena storili dve ali več oseb ali če je požgana stvar posebnega kulturnega\r\n",
       "pomena, naravna vrednota ali velike vrednosti, se storilec kaznuje z zaporom od\r\n",
       "enega do desetih let.  "
      ],
      "text/plain": [
       "<IPython.core.display.Markdown object>"
      ]
     },
     "metadata": {},
     "output_type": "display_data"
    },
    {
     "data": {
      "text/markdown": [
       "## pranje denarja:  "
      ],
      "text/plain": [
       "<IPython.core.display.Markdown object>"
      ]
     },
     "metadata": {},
     "output_type": "display_data"
    },
    {
     "data": {
      "text/markdown": [
       "- (1) Kdor denar ali premoženje, za\r\n",
       "katero ve, da je bilo pridobljeno s kaznivim dejanjem, sprejme, zamenja, hrani,\r\n",
       "z njim razpolaga, ga uporabi pri gospodarski dejavnosti ali na drug način,\r\n",
       "določen z zakonom o preprečevanju pranja denarja, s pranjem zakrije ali poskusi\r\n",
       "zakriti njegov izvor, se kaznuje z zaporom do petih let.  "
      ],
      "text/plain": [
       "<IPython.core.display.Markdown object>"
      ]
     },
     "metadata": {},
     "output_type": "display_data"
    },
    {
     "data": {
      "text/markdown": [
       "- (2) Enako se kaznuje, kdor stori\r\n",
       "dejanje iz prejšnjega odstavka, pa je hkrati storilec ali udeleženec pri\r\n",
       "kaznivem dejanju, s katerim je bil pridobljen denar ali premoženje iz\r\n",
       "prejšnjega odstavka.  "
      ],
      "text/plain": [
       "<IPython.core.display.Markdown object>"
      ]
     },
     "metadata": {},
     "output_type": "display_data"
    },
    {
     "data": {
      "text/markdown": [
       "- (3) Če je denar ali premoženje iz\r\n",
       "prvega ali drugega odstavka tega člena velike vrednosti, se storilec kaznuje z\r\n",
       "zaporom do osmih let in denarno kaznijo.  "
      ],
      "text/plain": [
       "<IPython.core.display.Markdown object>"
      ]
     },
     "metadata": {},
     "output_type": "display_data"
    },
    {
     "data": {
      "text/markdown": [
       "- (4) Če je dejanje iz prejšnjih\r\n",
       "odstavkov storjeno v hudodelski združbi za izvedbo takih dejanj, se storilec\r\n",
       "kaznuje z zaporom od enega do desetih let in denarno kaznijo.  "
      ],
      "text/plain": [
       "<IPython.core.display.Markdown object>"
      ]
     },
     "metadata": {},
     "output_type": "display_data"
    },
    {
     "data": {
      "text/markdown": [
       "- (5) Kdor bi moral in mogel vedeti, da\r\n",
       "je bil denar ali premoženje pridobljeno s kaznivim dejanjem, pa stori dejanje\r\n",
       "iz prvega ali tretjega odstavka tega člena, se kaznuje z zaporom do dveh let.  "
      ],
      "text/plain": [
       "<IPython.core.display.Markdown object>"
      ]
     },
     "metadata": {},
     "output_type": "display_data"
    },
    {
     "data": {
      "text/markdown": [
       "- (6) Denar in premoženje iz prejšnjih\r\n",
       "odstavkov se vzameta.  "
      ],
      "text/plain": [
       "<IPython.core.display.Markdown object>"
      ]
     },
     "metadata": {},
     "output_type": "display_data"
    },
    {
     "data": {
      "text/markdown": [
       "## prenašanje kužnih bolezni pri živalih in:  "
      ],
      "text/plain": [
       "<IPython.core.display.Markdown object>"
      ]
     },
     "metadata": {},
     "output_type": "display_data"
    },
    {
     "data": {
      "text/markdown": [
       "* No data available *"
      ],
      "text/plain": [
       "<IPython.core.display.Markdown object>"
      ]
     },
     "metadata": {},
     "output_type": "display_data"
    },
    {
     "data": {
      "text/markdown": [
       "## prenašanje nalezljivih bolezni:  "
      ],
      "text/plain": [
       "<IPython.core.display.Markdown object>"
      ]
     },
     "metadata": {},
     "output_type": "display_data"
    },
    {
     "data": {
      "text/markdown": [
       "- (1) Kdor se ne ravna po predpisih ali\r\n",
       "odredbah, s katerimi pristojni organ odredi pregled, razkuženje, izločitev bolnikov\r\n",
       "ali kakšne druge ukrepe za zatiranje ali preprečevanje nalezljivih bolezni pri\r\n",
       "ljudeh in s tem povzroči, da se nalezljiva bolezen razširi, se kaznuje z\r\n",
       "denarno kaznijo ali zaporom do enega leta.  "
      ],
      "text/plain": [
       "<IPython.core.display.Markdown object>"
      ]
     },
     "metadata": {},
     "output_type": "display_data"
    },
    {
     "data": {
      "text/markdown": [
       "- (2) Enako se kaznuje, kdor se ne ravna\r\n",
       "po predpisih ali odredbah, s katerimi pristojni organi določijo ukrepe za zatiranje\r\n",
       "ali preprečevanje kužnih bolezni pri živalih, ki se lahko prenesejo na ljudi,\r\n",
       "in s tem povzroči, da se kužna bolezen prenese na ljudi.  "
      ],
      "text/plain": [
       "<IPython.core.display.Markdown object>"
      ]
     },
     "metadata": {},
     "output_type": "display_data"
    },
    {
     "data": {
      "text/markdown": [
       "- (3) Kdor stori dejanje iz prvega ali\r\n",
       "drugega odstavka tega člena iz malomarnosti, se kaznuje z denarno kaznijo ali\r\n",
       "zaporom do šestih mesecev.  "
      ],
      "text/plain": [
       "<IPython.core.display.Markdown object>"
      ]
     },
     "metadata": {},
     "output_type": "display_data"
    },
    {
     "data": {
      "text/markdown": [
       "- (4) Če ima dejanje iz prvega, drugega\r\n",
       "ali tretjega odstavka tega člena za posledico smrt ene ali več oseb, se\r\n",
       "storilec kaznuje za dejanje iz prvega ali drugega odstavka z zaporom do osmih\r\n",
       "let, za dejanja iz tretjega odstavka pa z zaporom do petih let.  "
      ],
      "text/plain": [
       "<IPython.core.display.Markdown object>"
      ]
     },
     "metadata": {},
     "output_type": "display_data"
    },
    {
     "data": {
      "text/markdown": [
       "## prepovedano prehajanje meje ali ozemlja države:  "
      ],
      "text/plain": [
       "<IPython.core.display.Markdown object>"
      ]
     },
     "metadata": {},
     "output_type": "display_data"
    },
    {
     "data": {
      "text/markdown": [
       "- (1) Kdor nasilno prekorači državno\r\n",
       "mejo Republike Slovenije ali oborožen nezakonito vstopi na njeno ozemlje, se\r\n",
       "kaznuje z zaporom od treh mesecev do treh let ali z denarno kaznijo.  "
      ],
      "text/plain": [
       "<IPython.core.display.Markdown object>"
      ]
     },
     "metadata": {},
     "output_type": "display_data"
    },
    {
     "data": {
      "text/markdown": [
       "- (2) Enako se kaznuje tujec, ki nima\r\n",
       "dovoljenja za prebivanje v Republiki Sloveniji, če se na način iz prejšnjega\r\n",
       "odstavka zadržuje na njenem ozemlju ali se upre zakoniti odstranitvi z njega.  "
      ],
      "text/plain": [
       "<IPython.core.display.Markdown object>"
      ]
     },
     "metadata": {},
     "output_type": "display_data"
    },
    {
     "data": {
      "text/markdown": [
       "- (3) Kdor se ukvarja s tem, da tujce,\r\n",
       "ki nimajo dovoljenja za vstop v Republiko Slovenijo ali prebivanje v njej,\r\n",
       "nezakonito spravlja na njeno ozemlje, jih po njem prevaža ali jim pomaga pri\r\n",
       "skrivanju ali kdor enega ali več takih tujcev z namenom pridobitve premoženjske koristi zase ali za koga drugega nezakonito spravi čez mejo ali ozemlje države, jih po njem prevaža ali omogoči nezakonito prebivanje na njem,\r\n",
       "se kaznuje z zaporom od treh do desetih let in denarno kaznijo.  "
      ],
      "text/plain": [
       "<IPython.core.display.Markdown object>"
      ]
     },
     "metadata": {},
     "output_type": "display_data"
    },
    {
     "data": {
      "text/markdown": [
       "- (4) S kaznijo iz prejšnjega odstavka\r\n",
       "se kaznuje uradna oseba, ki omogoči tujcu nezakonit vstop na ozemlje Republike\r\n",
       "Slovenije ali nezakonito prebivanje na njem.  "
      ],
      "text/plain": [
       "<IPython.core.display.Markdown object>"
      ]
     },
     "metadata": {},
     "output_type": "display_data"
    },
    {
     "data": {
      "text/markdown": [
       "- (5) Kdor pridobiva ali zbira ljudi za\r\n",
       "nezakonito preseljevanje, jim preskrbuje ponarejene dokumente ali prevoz ali\r\n",
       "kako drugače organizira nezakonito preseljevanje ali organizira preseljevanje s\r\n",
       "preslepitvijo pristojnih organov glede pravega namena vstopa na ozemlje\r\n",
       "Republike Slovenije, se kaznuje z zaporom od treh do desetih let in denarno kaznijo.   "
      ],
      "text/plain": [
       "<IPython.core.display.Markdown object>"
      ]
     },
     "metadata": {},
     "output_type": "display_data"
    },
    {
     "data": {
      "text/markdown": [
       "- (6) Če storilec z dejanji iz tretjega,\r\n",
       "četrtega ali petega odstavka tega člena sebi ali komu drugemu pridobi\r\n",
       "nesorazmerno premoženjsko korist ali priskrbi brezpravno delovno silo ali koga izpostavi nevarnosti za življenje ali zdravje ali taka dejanja stori kot član hudodelske združbe, se kaznuje z\r\n",
       "zaporom od treh do petnajstih\r\n",
       "let in denarno kaznijo.   "
      ],
      "text/plain": [
       "<IPython.core.display.Markdown object>"
      ]
     },
     "metadata": {},
     "output_type": "display_data"
    },
    {
     "data": {
      "text/markdown": [
       "- (7) Prejšnji odstavki se uporabljajo\r\n",
       "tudi za kazniva dejanja, storjena v tujini, če je država, v kateri so bila\r\n",
       "storjena, enako kot Republika Slovenija sprejela skupno mednarodnopravno\r\n",
       "obveznost preprečevati taka kazniva dejanja, ne glede na to, kje so storjena,\r\n",
       "ter je dejanja v svojem zakonu ustrezno enako določila kot kazniva dejanja. Če\r\n",
       "je bilo kaznivo dejanje storjeno na območju Evropske unije, se državljani\r\n",
       "njenih članic pri uporabi drugega, tretjega, četrtega in petega odstavka tega\r\n",
       "člena ne štejejo za tujce.  "
      ],
      "text/plain": [
       "<IPython.core.display.Markdown object>"
      ]
     },
     "metadata": {},
     "output_type": "display_data"
    },
    {
     "data": {
      "text/markdown": [
       "- (8) Prevozno sredstvo, uporabljeno za\r\n",
       "prevoz ene ali več oseb, ki prepovedano prehajajo mejo ali ozemlje države, se\r\n",
       "odvzame, če je storilčeva last. Če prevozno sredstvo ni storilčeva last, se\r\n",
       "poleg primerov iz drugega odstavka 73. člena tega zakonika to odvzame\r\n",
       "tudi, če je posebej prirejeno, predelano ali prilagojeno za prevoz takih oseb,\r\n",
       "ali če je lastnik ali izročitelj prevoznega sredstva vedel ali bi bil mogel\r\n",
       "vedeti, da bo vozilo uporabljeno za tak namen.  "
      ],
      "text/plain": [
       "<IPython.core.display.Markdown object>"
      ]
     },
     "metadata": {},
     "output_type": "display_data"
    },
    {
     "data": {
      "text/markdown": [
       "## preprečitev ali oviranje javnega shoda:  "
      ],
      "text/plain": [
       "<IPython.core.display.Markdown object>"
      ]
     },
     "metadata": {},
     "output_type": "display_data"
    },
    {
     "data": {
      "text/markdown": [
       "- (1) Kdor s silo, resno grožnjo,\r\n",
       "preslepitvijo ali kako drugače protipravno prepreči ali ovira sklicanje ali\r\n",
       "potek mirnega javnega shoda, se kaznuje z denarno kaznijo ali zaporom do enega\r\n",
       "leta.  "
      ],
      "text/plain": [
       "<IPython.core.display.Markdown object>"
      ]
     },
     "metadata": {},
     "output_type": "display_data"
    },
    {
     "data": {
      "text/markdown": [
       "- (2) Če stori dejanje iz prvega\r\n",
       "odstavka tega člena uradna oseba z zlorabo svojega uradnega položaja ali uradnih\r\n",
       "pravic, se kaznuje z zaporom do dveh let.  "
      ],
      "text/plain": [
       "<IPython.core.display.Markdown object>"
      ]
     },
     "metadata": {},
     "output_type": "display_data"
    },
    {
     "data": {
      "text/markdown": [
       "## preprečitev dokazovanja:  "
      ],
      "text/plain": [
       "<IPython.core.display.Markdown object>"
      ]
     },
     "metadata": {},
     "output_type": "display_data"
    },
    {
     "data": {
      "text/markdown": [
       "- (1) Kdor, zato da bi preprečil ali\r\n",
       "otežil dokazovanje, skrije, uniči ali poškoduje tujo listino ali drugo stvar,\r\n",
       "predlagano za dokazovanje, ali jo napravi delno ali popolnoma neuporabno, se\r\n",
       "kaznuje z zaporom do treh let.  "
      ],
      "text/plain": [
       "<IPython.core.display.Markdown object>"
      ]
     },
     "metadata": {},
     "output_type": "display_data"
    },
    {
     "data": {
      "text/markdown": [
       "- (2) Enako se kaznuje tudi, kdor z\r\n",
       "namenom iz prejšnjega odstavka odstrani, uniči, pokvari, premakne ali prestavi\r\n",
       "mejnik, zemljemersko znamenje ali sploh kakšno znamenje o lastninski pravici na\r\n",
       "nepremičnini ali pravici do uporabe vode ali kdor z enakim namenom tako\r\n",
       "znamenje postavi napačno.  "
      ],
      "text/plain": [
       "<IPython.core.display.Markdown object>"
      ]
     },
     "metadata": {},
     "output_type": "display_data"
    },
    {
     "data": {
      "text/markdown": [
       "- (3) Kdor, zato da bi preprečil ali\r\n",
       "otežil dokazovanje v kazenskem postopku, predloži dokaze, za katere ve, da so\r\n",
       "lažni ali ponarejeni, se kaznuje z zaporom do petih let.  "
      ],
      "text/plain": [
       "<IPython.core.display.Markdown object>"
      ]
     },
     "metadata": {},
     "output_type": "display_data"
    },
    {
     "data": {
      "text/markdown": [
       "## preprečitev uradnega dejanja ali maščevanje uradni osebi:  "
      ],
      "text/plain": [
       "<IPython.core.display.Markdown object>"
      ]
     },
     "metadata": {},
     "output_type": "display_data"
    },
    {
     "data": {
      "text/markdown": [
       "- (1) Kdor s silo ali grožnjo, da bo\r\n",
       "neposredno uporabil silo, prepreči ali poskusi preprečiti uradni osebi uradno dejanje, ki ga je nameravala opraviti v okviru\r\n",
       "svojih pravic, ali jo na enak način prisili, da opravi uradno dejanje, se\r\n",
       "kaznuje z zaporom od treh mesecev do dveh let.  "
      ],
      "text/plain": [
       "<IPython.core.display.Markdown object>"
      ]
     },
     "metadata": {},
     "output_type": "display_data"
    },
    {
     "data": {
      "text/markdown": [
       "- (2) Če storilec ob storitvi dejanja iz\r\n",
       "prvega odstavka tega člena huje razžali uradno osebo,\r\n",
       "grdo ravna z njo ali ji prizadene lahko telesno poškodbo ali pa ji grozi z\r\n",
       "uporabo orožja ali nevarnega predmeta ali sredstva, se kaznuje z zaporom od\r\n",
       "šestih mesecev do petih let.  "
      ],
      "text/plain": [
       "<IPython.core.display.Markdown object>"
      ]
     },
     "metadata": {},
     "output_type": "display_data"
    },
    {
     "data": {
      "text/markdown": [
       "- (3) Kdor stori dejanje iz prvega ali drugega odstavka tega člena proti uradni osebi, ko ta opravlja naloge\r\n",
       "policije ali državne varnosti, zasleduje storilca kaznivega dejanja ali pazi na\r\n",
       "koga, ki mu je vzeta prostost ali opravlja dejanja kazenskega pregona, dejanja\r\n",
       "upravnega inšpekcijskega nadzora, vodi preiskavo ali sodi v kazenskem postopku,\r\n",
       "se kaznuje z zaporom od enega do petih let.  "
      ],
      "text/plain": [
       "<IPython.core.display.Markdown object>"
      ]
     },
     "metadata": {},
     "output_type": "display_data"
    },
    {
     "data": {
      "text/markdown": [
       "- (4) Enako kot v prejšnjem odstavku se\r\n",
       "kaznuje, kdor se uradni osebi, ki opravlja ali je opravljala dejanja v postopku\r\n",
       "o prekršku ali kazenskem pregonu, naloge policije, dejanja upravnega\r\n",
       "inšpekcijskega nadzora, vodi ali je vodila preiskavo, ali sodi ali je sodila v\r\n",
       "kazenskem postopku, maščuje zaradi dejanj, ki jih je opravila sama ali druga\r\n",
       "uradna oseba v okviru svojih pravic, tako da je ogroženo življenje, telo,\r\n",
       "osebna varnost ali premoženje uradne osebe ali njenih bližnjih sorodnikov.  "
      ],
      "text/plain": [
       "<IPython.core.display.Markdown object>"
      ]
     },
     "metadata": {},
     "output_type": "display_data"
    },
    {
     "data": {
      "text/markdown": [
       "- (5) Če je storilec dejanja iz prvega\r\n",
       "do četrtega odstavka tega člena izzvan z nezakonitim ravnanjem uradne osebe, se\r\n",
       "kaznuje z denarno kaznijo ali zaporom do šestih mesecev, sme pa se mu kazen\r\n",
       "odpustiti.  "
      ],
      "text/plain": [
       "<IPython.core.display.Markdown object>"
      ]
     },
     "metadata": {},
     "output_type": "display_data"
    },
    {
     "data": {
      "text/markdown": [
       "## preprečitev vrnitve na delo:  "
      ],
      "text/plain": [
       "<IPython.core.display.Markdown object>"
      ]
     },
     "metadata": {},
     "output_type": "display_data"
    },
    {
     "data": {
      "text/markdown": [
       "- Kdor zavestno ne ravna po pravnomočni sodni\r\n",
       "odločbi, s katero je bilo odločeno o vrnitvi delavca na delo, se kaznuje z\r\n",
       "denarno kaznijo ali zaporom do enega leta.  "
      ],
      "text/plain": [
       "<IPython.core.display.Markdown object>"
      ]
     },
     "metadata": {},
     "output_type": "display_data"
    },
    {
     "data": {
      "text/markdown": [
       "## preslepitev kupcev:  "
      ],
      "text/plain": [
       "<IPython.core.display.Markdown object>"
      ]
     },
     "metadata": {},
     "output_type": "display_data"
    },
    {
     "data": {
      "text/markdown": [
       "- (1) Kdor, zato da bi preslepil kupce,\r\n",
       "v večjem obsegu razpečava izdelke z oznako, v kateri so podatki, ki ne ustrezajo\r\n",
       "vsebini, vrsti, izvoru ali kakovosti blaga, ali razpečava izdelke, ki niso\r\n",
       "toliko težki ali take kakovosti, kot se pri njih navadno domneva, ali razpečava\r\n",
       "izdelke brez oznake o vsebini, vrsti, izvoru, kakovosti ali trajanju izdelka,\r\n",
       "če je taka oznaka predpisana, se kaznuje z denarno kaznijo ali zaporom do dveh\r\n",
       "let.  "
      ],
      "text/plain": [
       "<IPython.core.display.Markdown object>"
      ]
     },
     "metadata": {},
     "output_type": "display_data"
    },
    {
     "data": {
      "text/markdown": [
       "- (2) Enako se kaznuje, kdor sklepa\r\n",
       "pogodbe z lažnimi navedbami o dobavnem roku ali načinu izpolnitve obveznosti\r\n",
       "kot bistvenem sestavnem delu pogodbe.  "
      ],
      "text/plain": [
       "<IPython.core.display.Markdown object>"
      ]
     },
     "metadata": {},
     "output_type": "display_data"
    },
    {
     "data": {
      "text/markdown": [
       "- (3) Kdor, zato da bi preslepil kupce\r\n",
       "ali uporabnike storitev, lažno objavi, da je znižana cena blaga ali da se blago\r\n",
       "razprodaja ali da se bodo cene zvišale ali uporablja kakšen drug lažen oglas,\r\n",
       "se kaznuje z denarno kaznijo.  "
      ],
      "text/plain": [
       "<IPython.core.display.Markdown object>"
      ]
     },
     "metadata": {},
     "output_type": "display_data"
    },
    {
     "data": {
      "text/markdown": [
       "## preslepitev pri poslovanju z vrednostnimi papirji:  "
      ],
      "text/plain": [
       "<IPython.core.display.Markdown object>"
      ]
     },
     "metadata": {},
     "output_type": "display_data"
    },
    {
     "data": {
      "text/markdown": [
       "- (1) Kdor zaradi trgovanja z delnicami, drugimi vrednostnimi papirji ali drugimi finančnimi\r\n",
       "instrumenti lažno prikaže premoženjsko stanje, podatke o dobičku ali izgubi ali\r\n",
       "druge podatke v prospektu, pri objavi letnega poročila ali na drug način, ki\r\n",
       "pomembno vplivajo na njihovo vrednost, in s tem zapelje eno ali več oseb, da\r\n",
       "jih kupijo, prodajo ali z njimi na drug način poslujejo, se kaznuje z denarno\r\n",
       "kaznijo ali zaporom do dveh\r\n",
       "let.  "
      ],
      "text/plain": [
       "<IPython.core.display.Markdown object>"
      ]
     },
     "metadata": {},
     "output_type": "display_data"
    },
    {
     "data": {
      "text/markdown": [
       "- (2) Če je šlo pri dejanju iz\r\n",
       "prejšnjega odstavka za vrednostne papirje ali druge finančne instrumente velike\r\n",
       "vrednosti, se storilec kaznuje z zaporom do petih let.  "
      ],
      "text/plain": [
       "<IPython.core.display.Markdown object>"
      ]
     },
     "metadata": {},
     "output_type": "display_data"
    },
    {
     "data": {
      "text/markdown": [
       "## preslepitev pri pridobitvi in uporabi posojila ali ugodnosti:  "
      ],
      "text/plain": [
       "<IPython.core.display.Markdown object>"
      ]
     },
     "metadata": {},
     "output_type": "display_data"
    },
    {
     "data": {
      "text/markdown": [
       "* No data available *"
      ],
      "text/plain": [
       "<IPython.core.display.Markdown object>"
      ]
     },
     "metadata": {},
     "output_type": "display_data"
    },
    {
     "data": {
      "text/markdown": [
       "## pridobivanje oseb, mlajših od petnajst let, za spole namene:  "
      ],
      "text/plain": [
       "<IPython.core.display.Markdown object>"
      ]
     },
     "metadata": {},
     "output_type": "display_data"
    },
    {
     "data": {
      "text/markdown": [
       "* No data available *"
      ],
      "text/plain": [
       "<IPython.core.display.Markdown object>"
      ]
     },
     "metadata": {},
     "output_type": "display_data"
    },
    {
     "data": {
      "text/markdown": [
       "## prikazovanje, izdelava, posest in posredovanje pornografskega gradiva:  "
      ],
      "text/plain": [
       "<IPython.core.display.Markdown object>"
      ]
     },
     "metadata": {},
     "output_type": "display_data"
    },
    {
     "data": {
      "text/markdown": [
       "- (1) Kdor osebi, mlajši od petnajst\r\n",
       "let, proda, prikaže ali z javnim razstavljanjem ali kako drugače omogoči, da so\r\n",
       "ji dostopni spisi, slike, avdiovizualni ali drugi predmeti pornografske\r\n",
       "vsebine, ali ji prikaže pornografsko ali drugačno\r\n",
       "seksualno predstavo, se kaznuje z denarno kaznijo ali zaporom do dveh let.  "
      ],
      "text/plain": [
       "<IPython.core.display.Markdown object>"
      ]
     },
     "metadata": {},
     "output_type": "display_data"
    },
    {
     "data": {
      "text/markdown": [
       "- (2) Kdor s silo, grožnjo, preslepitvijo,\r\n",
       "prekoračitvijo ali zlorabo pooblastil, novačenjem, nagovarjanjem ali zaradi\r\n",
       "izkoriščanja navede, pridobi ali spodbudi mladoletno osebo za izdelavo slik,\r\n",
       "avdiovizualnih ali drugih predmetov pornografske ali drugačne seksualne\r\n",
       "vsebine, za sodelovanje v pornografski ali drugačni seksualni predstavi ali\r\n",
       "kdor taki predstavi vedoma prisostvuje, se kaznuje z zaporom od šestih mesecev\r\n",
       "do osmih let.   "
      ],
      "text/plain": [
       "<IPython.core.display.Markdown object>"
      ]
     },
     "metadata": {},
     "output_type": "display_data"
    },
    {
     "data": {
      "text/markdown": [
       "- (3) Enako kot v prejšnjem odstavku se\r\n",
       "kaznuje, kdor zase ali za drugega pridobiva, izdela, razširi, proda, uvozi, izvozi ali drugače ponudi pornografsko ali\r\n",
       "drugačno seksualno gradivo, ki vključuje mladoletne osebe ali njihove\r\n",
       "realistične podobe, ali kdor poseduje tako gradivo, pridobi\r\n",
       "dostop ali namerno dostopa do takega gradiva s pomočjo\r\n",
       "informacijskih ali komunikacijskih tehnologij, ali razkriva identiteto mladoletne\r\n",
       "osebe v takem gradivu.   "
      ],
      "text/plain": [
       "<IPython.core.display.Markdown object>"
      ]
     },
     "metadata": {},
     "output_type": "display_data"
    },
    {
     "data": {
      "text/markdown": [
       "- (4) Če je bilo dejanje iz drugega ali\r\n",
       "tretjega odstavka tega člena storjeno v hudodelski združbi za izvrševanje takih\r\n",
       "kaznivih dejanj, se storilec kaznuje z zaporom od enega do osmih let.  "
      ],
      "text/plain": [
       "<IPython.core.display.Markdown object>"
      ]
     },
     "metadata": {},
     "output_type": "display_data"
    },
    {
     "data": {
      "text/markdown": [
       "- (5) Dejanje iz tretjega odstavka tega člena\r\n",
       "v delu, ki pomeni pridobivanje, izdelavo, posedovanje ali pridobivanje dostopa\r\n",
       "s pomočjo informacijskih ali komunikacijskih tehnologij do pornografskega ali\r\n",
       "drugačnega seksualnega gradiva, ni protipravno, če je bilo storjeno med\r\n",
       "mladoletnimi osebami primerljive starosti, ki so se z dejanjem strinjale,\r\n",
       "ustreza stopnji njihove duševne in telesne zrelosti ter prikazuje take osebe.  "
      ],
      "text/plain": [
       "<IPython.core.display.Markdown object>"
      ]
     },
     "metadata": {},
     "output_type": "display_data"
    },
    {
     "data": {
      "text/markdown": [
       "- (6) Pornografsko\r\n",
       "ali drugačno seksualno gradivo iz drugega, tretjega in četrtega odstavka tega\r\n",
       "člena se vzame ali njegova uporaba ustrezno onemogoči.  "
      ],
      "text/plain": [
       "<IPython.core.display.Markdown object>"
      ]
     },
     "metadata": {},
     "output_type": "display_data"
    },
    {
     "data": {
      "text/markdown": [
       "## prikrivanje:  "
      ],
      "text/plain": [
       "<IPython.core.display.Markdown object>"
      ]
     },
     "metadata": {},
     "output_type": "display_data"
    },
    {
     "data": {
      "text/markdown": [
       "- (1) Kdor premično ali nepremično\r\n",
       "stvar, za katero ve, da je bila pridobljena s kaznivim dejanjem, kupi, sprejme\r\n",
       "v zastavo, si kako drugače pridobi, prikrije ali razpeča, se kaznuje z zaporom\r\n",
       "do dveh let.  "
      ],
      "text/plain": [
       "<IPython.core.display.Markdown object>"
      ]
     },
     "metadata": {},
     "output_type": "display_data"
    },
    {
     "data": {
      "text/markdown": [
       "- (2) Kdor stori dejanje iz prejšnjega\r\n",
       "odstavka, pa bi moral in mogel vedeti, da je bila stvar pridobljena s kaznivim\r\n",
       "dejanjem, se kaznuje z denarno kaznijo ali zaporom do enega leta.  "
      ],
      "text/plain": [
       "<IPython.core.display.Markdown object>"
      ]
     },
     "metadata": {},
     "output_type": "display_data"
    },
    {
     "data": {
      "text/markdown": [
       "- (3) Če sta dejanje iz prvega ali\r\n",
       "drugega odstavka tega člena storili dve ali več oseb, ki so se združile zaradi\r\n",
       "prikrivanja ali je vrednost stvari iz prvega ali drugega odstavka tega člena\r\n",
       "večja ali je stvar posebnega kulturnega pomena ali naravna vrednota, se\r\n",
       "storilec kaznuje za dejanje iz prvega odstavka z zaporom do treh let, za\r\n",
       "dejanje iz drugega odstavka pa z zaporom do dveh let.  "
      ],
      "text/plain": [
       "<IPython.core.display.Markdown object>"
      ]
     },
     "metadata": {},
     "output_type": "display_data"
    },
    {
     "data": {
      "text/markdown": [
       "- (4) Če je bila prikrita stvar\r\n",
       "pridobljena s kaznivim dejanjem, za katero se storilec preganja na zasebno\r\n",
       "tožbo ali predlog, se storilec dejanj iz prvega in drugega odstavka tega člena\r\n",
       "preganja na zasebno tožbo oziroma na predlog.  "
      ],
      "text/plain": [
       "<IPython.core.display.Markdown object>"
      ]
     },
     "metadata": {},
     "output_type": "display_data"
    },
    {
     "data": {
      "text/markdown": [
       "- (5) Če je bilo dejanje iz prvega,\r\n",
       "drugega ali tretjega odstavka tega člena storjeno v hudodelski združbi za\r\n",
       "izvedbo kaznivih dejanj, se storilec kaznuje z zaporom do petih let.  "
      ],
      "text/plain": [
       "<IPython.core.display.Markdown object>"
      ]
     },
     "metadata": {},
     "output_type": "display_data"
    },
    {
     "data": {
      "text/markdown": [
       "## prisiljenje:  "
      ],
      "text/plain": [
       "<IPython.core.display.Markdown object>"
      ]
     },
     "metadata": {},
     "output_type": "display_data"
    },
    {
     "data": {
      "text/markdown": [
       "- (1) Kdor koga s silo ali resno grožnjo\r\n",
       "prisili, da kaj stori ali opusti ali da kaj trpi, se kaznuje z zaporom do enega\r\n",
       "leta.  "
      ],
      "text/plain": [
       "<IPython.core.display.Markdown object>"
      ]
     },
     "metadata": {},
     "output_type": "display_data"
    },
    {
     "data": {
      "text/markdown": [
       "- (2) Kdor stori dejanje iz prejšnjega\r\n",
       "odstavka zoper uradno osebo z namenom ustrahovanja, tako da uradna oseba v\r\n",
       "mejah svojih uradnih pravic opravi uradno dejanje, ki ga ne bi smela opraviti,\r\n",
       "ali ne opravi dejanja, ki bi ga morala ali smela opraviti, se kaznuje z zaporom\r\n",
       "do dveh let.  "
      ],
      "text/plain": [
       "<IPython.core.display.Markdown object>"
      ]
     },
     "metadata": {},
     "output_type": "display_data"
    },
    {
     "data": {
      "text/markdown": [
       "- (3) Pregon za dejanje iz prvega odstavka tega člena se začne na\r\n",
       "predlog, za dejanje iz prejšnjega odstavka pa po uradni dolžnosti.  "
      ],
      "text/plain": [
       "<IPython.core.display.Markdown object>"
      ]
     },
     "metadata": {},
     "output_type": "display_data"
    },
    {
     "data": {
      "text/markdown": [
       "## prisilna sklenitev zakonske zveze ali vzpostavitev podobne skupnosti:  "
      ],
      "text/plain": [
       "<IPython.core.display.Markdown object>"
      ]
     },
     "metadata": {},
     "output_type": "display_data"
    },
    {
     "data": {
      "text/markdown": [
       "* No data available *"
      ],
      "text/plain": [
       "<IPython.core.display.Markdown object>"
      ]
     },
     "metadata": {},
     "output_type": "display_data"
    },
    {
     "data": {
      "text/markdown": [
       "## proizvodnja in promet škodljivih sredstev za zdravljenje:  "
      ],
      "text/plain": [
       "<IPython.core.display.Markdown object>"
      ]
     },
     "metadata": {},
     "output_type": "display_data"
    },
    {
     "data": {
      "text/markdown": [
       "- (1) Kdor\r\n",
       "proizvaja, pripravlja, izdeluje, prodaja ali ponuja naprodaj ali zaradi prodaje\r\n",
       "ali dajanja v promet kupuje ali hrani, ali posreduje pri prodaji ali nakupu,\r\n",
       "uvaža ali izvaža, vnaša ali iznaša ali kako drugače daje v promet zdravila,\r\n",
       "zdravilne učinkovine, pomožne snovi, medicinske pripomočke ali njihove dele ali\r\n",
       "dodatke ali druga sredstva za zdravljenje, ki so škodljiva za zdravje, se\r\n",
       "kaznuje z zaporom od enega do osmih let.  "
      ],
      "text/plain": [
       "<IPython.core.display.Markdown object>"
      ]
     },
     "metadata": {},
     "output_type": "display_data"
    },
    {
     "data": {
      "text/markdown": [
       "- (2) Enako se\r\n",
       "kaznuje, kdor pridobiva, pripravlja, izdeluje, predeluje, prodaja ali ponuja\r\n",
       "naprodaj ali zaradi prodaje ali dajanja v promet kupuje ali hrani, ali\r\n",
       "posreduje pri prodaji ali nakupu, uvaža ali izvaža, vnaša ali iznaša ali kako\r\n",
       "drugače daje v promet okuženo kri ali drugo tkivo ali iz tega izdelano snov za\r\n",
       "zdravljenje.  "
      ],
      "text/plain": [
       "<IPython.core.display.Markdown object>"
      ]
     },
     "metadata": {},
     "output_type": "display_data"
    },
    {
     "data": {
      "text/markdown": [
       "- (3) Kdor stori dejanje iz prvega ali drugega\r\n",
       "odstavka tega člena iz malomarnosti, se kaznuje z zaporom do enega leta.  "
      ],
      "text/plain": [
       "<IPython.core.display.Markdown object>"
      ]
     },
     "metadata": {},
     "output_type": "display_data"
    },
    {
     "data": {
      "text/markdown": [
       "- (4) Če ima\r\n",
       "dejanje iz prvega, drugega ali tretjega odstavka tega člena za posledico hudo\r\n",
       "ali posebno hudo telesno poškodbo ali temu ustrezno okvaro zdravja ene ali več\r\n",
       "oseb, ali če dejanje stori oseba, ki je zlorabila dano zaupanje, se storilec\r\n",
       "kaznuje za dejanje iz prvega ali drugega odstavka tega člena z zaporom od enega\r\n",
       "do desetih let, za dejanje iz prejšnjega odstavka pa z zaporom do petih let.  "
      ],
      "text/plain": [
       "<IPython.core.display.Markdown object>"
      ]
     },
     "metadata": {},
     "output_type": "display_data"
    },
    {
     "data": {
      "text/markdown": [
       "- (5) Če ima dejanje iz prvega, drugega\r\n",
       "ali tretjega odstavka tega člena za posledico smrt ene ali več oseb, se\r\n",
       "storilec kaznuje za dejanje iz prvega ali drugega odstavka z zaporom od dveh do petnajstih let, za dejanje iz tretjega odstavka pa z zaporom od\r\n",
       "enega do desetih let.  "
      ],
      "text/plain": [
       "<IPython.core.display.Markdown object>"
      ]
     },
     "metadata": {},
     "output_type": "display_data"
    },
    {
     "data": {
      "text/markdown": [
       "- (6) Škodljiva zdravila, zdravilne\r\n",
       "učinkovine, pomožne snovi, medicinski pripomočki, njihovi deli, dodatki ali\r\n",
       "druga sredstva za zdravljenje, okužena kri, drugo tkivo ali iz tega izdelana\r\n",
       "snov za zdravljenje se vzamejo.  "
      ],
      "text/plain": [
       "<IPython.core.display.Markdown object>"
      ]
     },
     "metadata": {},
     "output_type": "display_data"
    },
    {
     "data": {
      "text/markdown": [
       "## proizvodnja in promet škodljivih živil in drugih izdelkov:  "
      ],
      "text/plain": [
       "<IPython.core.display.Markdown object>"
      ]
     },
     "metadata": {},
     "output_type": "display_data"
    },
    {
     "data": {
      "text/markdown": [
       "* No data available *"
      ],
      "text/plain": [
       "<IPython.core.display.Markdown object>"
      ]
     },
     "metadata": {},
     "output_type": "display_data"
    },
    {
     "data": {
      "text/markdown": [
       "## protipraven odvzem prostosti:  "
      ],
      "text/plain": [
       "<IPython.core.display.Markdown object>"
      ]
     },
     "metadata": {},
     "output_type": "display_data"
    },
    {
     "data": {
      "text/markdown": [
       "- (1) Kdor koga protipravno zapre, ima\r\n",
       "zaprtega ali mu kako drugače omeji svobodo gibanja, se kaznuje z zaporom do\r\n",
       "enega leta.  "
      ],
      "text/plain": [
       "<IPython.core.display.Markdown object>"
      ]
     },
     "metadata": {},
     "output_type": "display_data"
    },
    {
     "data": {
      "text/markdown": [
       "- (2) Če stori dejanje iz prejšnjega\r\n",
       "odstavka uradna oseba z zlorabo svojega položaja ali svojih pravic, se kaznuje\r\n",
       "z zaporom do treh let.  "
      ],
      "text/plain": [
       "<IPython.core.display.Markdown object>"
      ]
     },
     "metadata": {},
     "output_type": "display_data"
    },
    {
     "data": {
      "text/markdown": [
       "- (3) Poskus dejanja iz prvega odstavka\r\n",
       "tega člena je kazniv.  "
      ],
      "text/plain": [
       "<IPython.core.display.Markdown object>"
      ]
     },
     "metadata": {},
     "output_type": "display_data"
    },
    {
     "data": {
      "text/markdown": [
       "- (4) Kdor komu protipravno odvzame\r\n",
       "prostost za več kot teden dni ali če to stori na grozovit način, se kaznuje z\r\n",
       "zaporom od treh mesecev do petih let.  "
      ],
      "text/plain": [
       "<IPython.core.display.Markdown object>"
      ]
     },
     "metadata": {},
     "output_type": "display_data"
    },
    {
     "data": {
      "text/markdown": [
       "## protipravna prilastitev stvari ob preiskavi ali izvršbi:  "
      ],
      "text/plain": [
       "<IPython.core.display.Markdown object>"
      ]
     },
     "metadata": {},
     "output_type": "display_data"
    },
    {
     "data": {
      "text/markdown": [
       "- (1) Uradna oseba, ki ob preiskavi\r\n",
       "stanovanja, prostorov ali oseb ali ob izvršbi v sodnem ali upravnem postopku\r\n",
       "vzame stvar zato, da si jo protipravno prilasti, se kaznuje z zaporom od šestih\r\n",
       "mesecev do petih let.  "
      ],
      "text/plain": [
       "<IPython.core.display.Markdown object>"
      ]
     },
     "metadata": {},
     "output_type": "display_data"
    },
    {
     "data": {
      "text/markdown": [
       "- (2) Če gre za stvar velike vrednosti\r\n",
       "in je storilec hotel, da si prilasti stvar take vrednosti, se kaznuje z zaporom\r\n",
       "od enega do osmih let.  "
      ],
      "text/plain": [
       "<IPython.core.display.Markdown object>"
      ]
     },
     "metadata": {},
     "output_type": "display_data"
    },
    {
     "data": {
      "text/markdown": [
       "## protipravno omejevanje konkurence:  "
      ],
      "text/plain": [
       "<IPython.core.display.Markdown object>"
      ]
     },
     "metadata": {},
     "output_type": "display_data"
    },
    {
     "data": {
      "text/markdown": [
       "- (1) Kdor pri opravljanju gospodarske\r\n",
       "dejavnosti v nasprotju s predpisi, ki urejajo varstvo konkurence, krši prepoved\r\n",
       "omejevalnih sporazumov med podjetji, zlorabi prevladujoči položaj enega ali več\r\n",
       "podjetij ali ustvari prepovedano koncentracijo podjetij in s tem prepreči ali\r\n",
       "pomembno ovira ali izkrivlja konkurenco v Republiki Sloveniji ali na trgu\r\n",
       "Evropske unije ali njenem pomembnem delu, ali pomembno vpliva na trgovino med\r\n",
       "državami članicami, kar ima za posledico veliko premoženjsko korist za to\r\n",
       "podjetje ali za ta podjetja ali veliko premoženjsko škodo za drugo podjetje, se\r\n",
       "kaznuje z zaporom od šestih mesecev do petih let.  "
      ],
      "text/plain": [
       "<IPython.core.display.Markdown object>"
      ]
     },
     "metadata": {},
     "output_type": "display_data"
    },
    {
     "data": {
      "text/markdown": [
       "- (2) Storilcu kaznivega dejanja kršitve\r\n",
       "prepovedi omejevalnih sporazumov iz prejšnjega odstavka, ki je dejanje\r\n",
       "naznanil, preden je bilo odkrito ali preden je izvedel, da je odkrito in je\r\n",
       "sodeloval pri njegovem preiskovanju in odpravljanju posledic ter ni prisilil\r\n",
       "drugih k udeležbi pri omejevanju konkurence, niti jih ni prisilil, da so v njej\r\n",
       "še naprej udeleženi, se sme kazen odpustiti.   "
      ],
      "text/plain": [
       "<IPython.core.display.Markdown object>"
      ]
     },
     "metadata": {},
     "output_type": "display_data"
    },
    {
     "data": {
      "text/markdown": [
       "## protipravno zavzetje nepremičnine:  "
      ],
      "text/plain": [
       "<IPython.core.display.Markdown object>"
      ]
     },
     "metadata": {},
     "output_type": "display_data"
    },
    {
     "data": {
      "text/markdown": [
       "- (1) Kdor zavzame tuje zemljišče, ki je\r\n",
       "po predpisih določeno za zavarovano zemljišče ali območje, naravno vrednoto ali\r\n",
       "javno dobro, se kaznuje z denarno kaznijo ali zaporom do enega leta.  "
      ],
      "text/plain": [
       "<IPython.core.display.Markdown object>"
      ]
     },
     "metadata": {},
     "output_type": "display_data"
    },
    {
     "data": {
      "text/markdown": [
       "- (2) Enako se kaznuje, kdor zavzame\r\n",
       "tuje zemljišče z namenom, da ga uporabi za gradnjo.  "
      ],
      "text/plain": [
       "<IPython.core.display.Markdown object>"
      ]
     },
     "metadata": {},
     "output_type": "display_data"
    },
    {
     "data": {
      "text/markdown": [
       "## protizakonito, pristransko in krivično sojenje:  "
      ],
      "text/plain": [
       "<IPython.core.display.Markdown object>"
      ]
     },
     "metadata": {},
     "output_type": "display_data"
    },
    {
     "data": {
      "text/markdown": [
       "- (1) Sodnik, ki pri vodenju sodnega\r\n",
       "postopka ali izrekanju sodne odločbe zavestno krši zakon ali izkrivlja pravo,\r\n",
       "da bi stranki v postopku škodoval ali ji neupravičeno dal prednost, se kaznuje\r\n",
       "z zaporom do treh let.  "
      ],
      "text/plain": [
       "<IPython.core.display.Markdown object>"
      ]
     },
     "metadata": {},
     "output_type": "display_data"
    },
    {
     "data": {
      "text/markdown": [
       "- (2) Enako se kaznuje sodnik, ki z\r\n",
       "namenom iz prejšnjega odstavka tega člena opre sodno odločbo na dejstva, za\r\n",
       "katera ve, da ne obstojijo ali se krivo podtikajo z lažnimi ali nedovoljenimi\r\n",
       "dokazi.  "
      ],
      "text/plain": [
       "<IPython.core.display.Markdown object>"
      ]
     },
     "metadata": {},
     "output_type": "display_data"
    },
    {
     "data": {
      "text/markdown": [
       "## razžalitev:  "
      ],
      "text/plain": [
       "<IPython.core.display.Markdown object>"
      ]
     },
     "metadata": {},
     "output_type": "display_data"
    },
    {
     "data": {
      "text/markdown": [
       "- (1) Kdor koga razžali, se kaznuje z\r\n",
       "denarno kaznijo ali zaporom do treh mesecev.  "
      ],
      "text/plain": [
       "<IPython.core.display.Markdown object>"
      ]
     },
     "metadata": {},
     "output_type": "display_data"
    },
    {
     "data": {
      "text/markdown": [
       "- (2) Če je dejanje iz prejšnjega\r\n",
       "odstavka storjeno s tiskom, po radiu, televiziji ali z drugim sredstvom javnega\r\n",
       "obveščanja ali na spletnih straneh ali na javnem\r\n",
       "shodu, se storilec kaznuje z denarno kaznijo ali zaporom do šestih mesecev.  "
      ],
      "text/plain": [
       "<IPython.core.display.Markdown object>"
      ]
     },
     "metadata": {},
     "output_type": "display_data"
    },
    {
     "data": {
      "text/markdown": [
       "- (3) Ne kaznuje se, kdor se o kom\r\n",
       "žaljivo izrazi v znanstvenem, književnem ali umetniškem delu, v resni kritiki,\r\n",
       "pri izpolnjevanju uradne dolžnosti, časnikarskega poklica, politične ali druge\r\n",
       "družbene dejavnosti, obrambi kakšne pravice ali varstvu upravičenih koristi, če\r\n",
       "se iz načina izražanja ali iz drugih okoliščin vidi, da tega ni storil z\r\n",
       "namenom zaničevanja.  "
      ],
      "text/plain": [
       "<IPython.core.display.Markdown object>"
      ]
     },
     "metadata": {},
     "output_type": "display_data"
    },
    {
     "data": {
      "text/markdown": [
       "- (4) Če je razžaljenec razžalitev\r\n",
       "vrnil, sme sodišče obe stranki ali eno od njiju kaznovati ali kazen odpustiti.  "
      ],
      "text/plain": [
       "<IPython.core.display.Markdown object>"
      ]
     },
     "metadata": {},
     "output_type": "display_data"
    },
    {
     "data": {
      "text/markdown": [
       "## rop:  "
      ],
      "text/plain": [
       "<IPython.core.display.Markdown object>"
      ]
     },
     "metadata": {},
     "output_type": "display_data"
    },
    {
     "data": {
      "text/markdown": [
       "- (1) Kdor vzame tujo premično stvar, da\r\n",
       "bi si jo protipravno prilastil, tako da uporabi silo zoper kakšno osebo ali ji\r\n",
       "zagrozi z neposrednim napadom na življenje ali telo, se kaznuje z zaporom od\r\n",
       "enega do desetih let.  "
      ],
      "text/plain": [
       "<IPython.core.display.Markdown object>"
      ]
     },
     "metadata": {},
     "output_type": "display_data"
    },
    {
     "data": {
      "text/markdown": [
       "- (2) Če sta storili rop dve ali več\r\n",
       "oseb, ki so se združile zato, da bi ropale, ali če je vrednost ukradene stvari\r\n",
       "velika in si je storilec hotel prilastiti stvar take vrednosti, se storilec\r\n",
       "kaznuje z zaporom od treh do petnajstih let.  "
      ],
      "text/plain": [
       "<IPython.core.display.Markdown object>"
      ]
     },
     "metadata": {},
     "output_type": "display_data"
    },
    {
     "data": {
      "text/markdown": [
       "- (3) Če je bilo dejanje iz prvega ali\r\n",
       "drugega odstavka tega člena storjeno v hudodelski združbi, se storilec kaznuje\r\n",
       "z zaporom od petih do petnajstih let.  "
      ],
      "text/plain": [
       "<IPython.core.display.Markdown object>"
      ]
     },
     "metadata": {},
     "output_type": "display_data"
    },
    {
     "data": {
      "text/markdown": [
       "## roparska tatvina:  "
      ],
      "text/plain": [
       "<IPython.core.display.Markdown object>"
      ]
     },
     "metadata": {},
     "output_type": "display_data"
    },
    {
     "data": {
      "text/markdown": [
       "- (1) Kdor je zaloten pri tatvini, pa\r\n",
       "zato, da bi ukradeno stvar obdržal, uporabi proti komu silo ali mu zagrozi z\r\n",
       "neposrednim napadom na življenje ali telo, se kaznuje z zaporom od enega do\r\n",
       "desetih let.  "
      ],
      "text/plain": [
       "<IPython.core.display.Markdown object>"
      ]
     },
     "metadata": {},
     "output_type": "display_data"
    },
    {
     "data": {
      "text/markdown": [
       "- (2) Če je vrednost ukradene stvari\r\n",
       "velika in si je storilec hotel prilastiti stvar take vrednosti, se kaznuje z\r\n",
       "zaporom od treh do petnajstih let.  "
      ],
      "text/plain": [
       "<IPython.core.display.Markdown object>"
      ]
     },
     "metadata": {},
     "output_type": "display_data"
    },
    {
     "data": {
      "text/markdown": [
       "## samovoljnost:  "
      ],
      "text/plain": [
       "<IPython.core.display.Markdown object>"
      ]
     },
     "metadata": {},
     "output_type": "display_data"
    },
    {
     "data": {
      "text/markdown": [
       "- (1) Kdor si samovoljno vzame svojo\r\n",
       "pravico ali pravico, za katero misli, da mu pripada, se kaznuje z denarno\r\n",
       "kaznijo ali zaporom do šestih mesecev.  "
      ],
      "text/plain": [
       "<IPython.core.display.Markdown object>"
      ]
     },
     "metadata": {},
     "output_type": "display_data"
    },
    {
     "data": {
      "text/markdown": [
       "- (2) Kdor si samovoljno vzame svojo\r\n",
       "pravico ali pravico, za katero misli, da mu pripada, z uporabo sile ali resne\r\n",
       "grožnje z napadom na življenje ali telo, se kaznuje z zaporom do dveh let.  "
      ],
      "text/plain": [
       "<IPython.core.display.Markdown object>"
      ]
     },
     "metadata": {},
     "output_type": "display_data"
    },
    {
     "data": {
      "text/markdown": [
       "- (3) Enako kot v prejšnjem odstavku se\r\n",
       "kaznuje, kdor stori dejanje iz prejšnjega odstavka za drugega.  "
      ],
      "text/plain": [
       "<IPython.core.display.Markdown object>"
      ]
     },
     "metadata": {},
     "output_type": "display_data"
    },
    {
     "data": {
      "text/markdown": [
       "- (4) Kdor zase ali koga drugega z\r\n",
       "dejanjem iz drugega odstavka tega člena izterja dolg, se kaznuje z zaporom do\r\n",
       "treh let.  "
      ],
      "text/plain": [
       "<IPython.core.display.Markdown object>"
      ]
     },
     "metadata": {},
     "output_type": "display_data"
    },
    {
     "data": {
      "text/markdown": [
       "- (5) Pregon za dejanje iz prvega\r\n",
       "odstavka tega člena se začne na zasebno tožbo, za dejanji iz drugega in tretjega\r\n",
       "odstavka pa na predlog.  "
      ],
      "text/plain": [
       "<IPython.core.display.Markdown object>"
      ]
     },
     "metadata": {},
     "output_type": "display_data"
    },
    {
     "data": {
      "text/markdown": [
       "## skrunitev trupla:  "
      ],
      "text/plain": [
       "<IPython.core.display.Markdown object>"
      ]
     },
     "metadata": {},
     "output_type": "display_data"
    },
    {
     "data": {
      "text/markdown": [
       "- Kdor neupravičeno skrije, odnese,\r\n",
       "poškoduje, uniči ali kako drugače oskruni truplo, del trupla ali posmrtne\r\n",
       "ostanke, se kaznuje z zaporom do dveh let.  "
      ],
      "text/plain": [
       "<IPython.core.display.Markdown object>"
      ]
     },
     "metadata": {},
     "output_type": "display_data"
    },
    {
     "data": {
      "text/markdown": [
       "## sodelovanje pri pretepu:  "
      ],
      "text/plain": [
       "<IPython.core.display.Markdown object>"
      ]
     },
     "metadata": {},
     "output_type": "display_data"
    },
    {
     "data": {
      "text/markdown": [
       "- Kdor sodeluje pri pretepu, v katerem je kdo\r\n",
       "ubit ali hudo telesno poškodovan, se za samo sodelovanje kaznuje z zaporom do\r\n",
       "enega leta.  "
      ],
      "text/plain": [
       "<IPython.core.display.Markdown object>"
      ]
     },
     "metadata": {},
     "output_type": "display_data"
    },
    {
     "data": {
      "text/markdown": [
       "## sodelovanje v skupini, ki prepreči uradni osebi uradno dejanje:  "
      ],
      "text/plain": [
       "<IPython.core.display.Markdown object>"
      ]
     },
     "metadata": {},
     "output_type": "display_data"
    },
    {
     "data": {
      "text/markdown": [
       "- (1) Kdor sodeluje v skupini, ki s\r\n",
       "skupnim delovanjem prepreči ali poskusi preprečiti uradni osebi uradno dejanje\r\n",
       "ali jo na enak način prisili, da opravi uradno dejanje, se kaznuje za samo\r\n",
       "sodelovanje z zaporom od treh mesecev do dveh let.  "
      ],
      "text/plain": [
       "<IPython.core.display.Markdown object>"
      ]
     },
     "metadata": {},
     "output_type": "display_data"
    },
    {
     "data": {
      "text/markdown": [
       "- (2) Vodja skupine, ki je storila\r\n",
       "dejanje iz prejšnjega odstavka, se kaznuje z zaporom od šestih mesec do treh\r\n",
       "let.  "
      ],
      "text/plain": [
       "<IPython.core.display.Markdown object>"
      ]
     },
     "metadata": {},
     "output_type": "display_data"
    },
    {
     "data": {
      "text/markdown": [
       "## sodelovanje v skupini, ki stori kaznivo dejanje:  "
      ],
      "text/plain": [
       "<IPython.core.display.Markdown object>"
      ]
     },
     "metadata": {},
     "output_type": "display_data"
    },
    {
     "data": {
      "text/markdown": [
       "- (1) Kdor sodeluje v skupini, ki s\r\n",
       "skupnim delovanjem stori kakšno nasilje proti ljudem, uniči ali poškoduje premoženje\r\n",
       "večje vrednosti ali poskusi storiti tako kaznivo dejanje, se kaznuje za samo\r\n",
       "sodelovanje z zaporom do dveh let.  "
      ],
      "text/plain": [
       "<IPython.core.display.Markdown object>"
      ]
     },
     "metadata": {},
     "output_type": "display_data"
    },
    {
     "data": {
      "text/markdown": [
       "- (2) Če je bil pri delovanju skupine iz\r\n",
       "prejšnjega odstavka kdo ubit ali hudo telesno poškodovan, se udeleženec skupine\r\n",
       "za samo sodelovanje kaznuje z zaporom do treh let.  "
      ],
      "text/plain": [
       "<IPython.core.display.Markdown object>"
      ]
     },
     "metadata": {},
     "output_type": "display_data"
    },
    {
     "data": {
      "text/markdown": [
       "- (3) Vodja skupine, ki je storila\r\n",
       "dejanje iz prvega ali drugega odstavka tega člena, se kaznuje z zaporom od\r\n",
       "šestih mesecev do petih let.  "
      ],
      "text/plain": [
       "<IPython.core.display.Markdown object>"
      ]
     },
     "metadata": {},
     "output_type": "display_data"
    },
    {
     "data": {
      "text/markdown": [
       "## spolna zloraba slabotne osebe:  "
      ],
      "text/plain": [
       "<IPython.core.display.Markdown object>"
      ]
     },
     "metadata": {},
     "output_type": "display_data"
    },
    {
     "data": {
      "text/markdown": [
       "- (1) Kdor spolno občuje ali stori kakšno\r\n",
       "drugo spolno dejanje z drugo osebo brez njene privolitve, tako da zlorabi njeno\r\n",
       "duševno bolezen, začasno duševno motnjo ali hujšo duševno manjrazvitost, zaradi\r\n",
       "katere ta ni sposobna podati privolitve, se kaznuje z zaporom od enega do osmih\r\n",
       "let.  "
      ],
      "text/plain": [
       "<IPython.core.display.Markdown object>"
      ]
     },
     "metadata": {},
     "output_type": "display_data"
    },
    {
     "data": {
      "text/markdown": [
       "- (2) Privolitev iz prejšnjega odstavka je\r\n",
       "podana, če je oseba po svoji navzven zaznavni, nedvoumni in svobodni volji\r\n",
       "privolila v spolno občevanje ali kakšno drugo spolno dejanje in je bila sposobna\r\n",
       "sprejeti tako odločitev.  "
      ],
      "text/plain": [
       "<IPython.core.display.Markdown object>"
      ]
     },
     "metadata": {},
     "output_type": "display_data"
    },
    {
     "data": {
      "text/markdown": [
       "- (3) Kdor v okoliščinah iz prvega odstavka\r\n",
       "tega člena kako drugače prizadene spolno nedotakljivost slabotne osebe, se\r\n",
       "kaznuje z zaporom do petih let.  "
      ],
      "text/plain": [
       "<IPython.core.display.Markdown object>"
      ]
     },
     "metadata": {},
     "output_type": "display_data"
    },
    {
     "data": {
      "text/markdown": [
       "## spolni napad na osebo mlajšo od 14 let:  "
      ],
      "text/plain": [
       "<IPython.core.display.Markdown object>"
      ]
     },
     "metadata": {},
     "output_type": "display_data"
    },
    {
     "data": {
      "text/markdown": [
       "* No data available *"
      ],
      "text/plain": [
       "<IPython.core.display.Markdown object>"
      ]
     },
     "metadata": {},
     "output_type": "display_data"
    },
    {
     "data": {
      "text/markdown": [
       "## spolni napad na osebo,  mlajšo od petnajst let:  "
      ],
      "text/plain": [
       "<IPython.core.display.Markdown object>"
      ]
     },
     "metadata": {},
     "output_type": "display_data"
    },
    {
     "data": {
      "text/markdown": [
       "* No data available *"
      ],
      "text/plain": [
       "<IPython.core.display.Markdown object>"
      ]
     },
     "metadata": {},
     "output_type": "display_data"
    },
    {
     "data": {
      "text/markdown": [
       "## spolni napad na osebo,mlajšo od petnajst let:  "
      ],
      "text/plain": [
       "<IPython.core.display.Markdown object>"
      ]
     },
     "metadata": {},
     "output_type": "display_data"
    },
    {
     "data": {
      "text/markdown": [
       "* No data available *"
      ],
      "text/plain": [
       "<IPython.core.display.Markdown object>"
      ]
     },
     "metadata": {},
     "output_type": "display_data"
    },
    {
     "data": {
      "text/markdown": [
       "## spolno nasilje:  "
      ],
      "text/plain": [
       "<IPython.core.display.Markdown object>"
      ]
     },
     "metadata": {},
     "output_type": "display_data"
    },
    {
     "data": {
      "text/markdown": [
       "- (1) Kdor brez privolitve druge osebe\r\n",
       "doseže, da ta stori ali trpi kakšno spolno dejanje, ki ni zajeto v prejšnjem\r\n",
       "členu, se kaznuje z zaporom do petih let.  "
      ],
      "text/plain": [
       "<IPython.core.display.Markdown object>"
      ]
     },
     "metadata": {},
     "output_type": "display_data"
    },
    {
     "data": {
      "text/markdown": [
       "- (2) Privolitev iz prejšnjega odstavka je\r\n",
       "podana, če je oseba po svoji navzven zaznavni, nedvoumni in svobodni volji\r\n",
       "privolila v spolno dejanje iz prejšnjega odstavka in je bila sposobna sprejeti\r\n",
       "tako odločitev.  "
      ],
      "text/plain": [
       "<IPython.core.display.Markdown object>"
      ]
     },
     "metadata": {},
     "output_type": "display_data"
    },
    {
     "data": {
      "text/markdown": [
       "- (3) Kdor\r\n",
       "uporabi silo ali zagrozi drugi osebi z neposrednim napadom na življenje ali telo in jo tako prisili, da\r\n",
       "stori ali trpi kakšno spolno dejanje iz prvega\r\n",
       "odstavka tega člena, se kaznuje z zaporom od šestih\r\n",
       "mesecev do desetih let.  "
      ],
      "text/plain": [
       "<IPython.core.display.Markdown object>"
      ]
     },
     "metadata": {},
     "output_type": "display_data"
    },
    {
     "data": {
      "text/markdown": [
       "- (4) Če je\r\n",
       "dejanje iz prejšnjega odstavka storjeno grozovito ali posebno poniževalno ali\r\n",
       "če je dejanje storilo več oseb zaporedoma ali nad obsojenci ali drugimi\r\n",
       "osebami, ki jim je vzeta prostost, se kaznuje z zaporom od treh do petnajstih\r\n",
       "let.  "
      ],
      "text/plain": [
       "<IPython.core.display.Markdown object>"
      ]
     },
     "metadata": {},
     "output_type": "display_data"
    },
    {
     "data": {
      "text/markdown": [
       "- (5) Kdor drugo osebo prisili, da stori ali trpi\r\n",
       "kakšno spolno dejanje iz prvega odstavka tega člena, tako da ji zagrozi, da bo\r\n",
       "o njej ali njenih bližnjih odkril, kar bi škodovalo njeni ali njihovi časti ali\r\n",
       "dobremu imenu, ali da bo njej ali njenim bližnjim povzročil veliko premoženjsko\r\n",
       "škodo, se kaznuje z zaporom do petih let.  "
      ],
      "text/plain": [
       "<IPython.core.display.Markdown object>"
      ]
     },
     "metadata": {},
     "output_type": "display_data"
    },
    {
     "data": {
      "text/markdown": [
       "- (6) Če so bila dejanja iz prvega, tretjega ali petega odstavka tega člena storjeni proti osebi, s katero storilec ali storilka\r\n",
       "živi v zakonski, zunajzakonski skupnosti ali registrirani istospolni partnerski\r\n",
       "skupnosti, se pregon začne na predlog.  "
      ],
      "text/plain": [
       "<IPython.core.display.Markdown object>"
      ]
     },
     "metadata": {},
     "output_type": "display_data"
    },
    {
     "data": {
      "text/markdown": [
       "## sprejemanje koristi za nezakonito posredovanje:  "
      ],
      "text/plain": [
       "<IPython.core.display.Markdown object>"
      ]
     },
     "metadata": {},
     "output_type": "display_data"
    },
    {
     "data": {
      "text/markdown": [
       "- (1) Kdor zase ali za koga drugega\r\n",
       "zahteva ali sprejme nagrado, darilo ali kakšno drugo korist ali obljubo oziroma\r\n",
       "ponudbo take koristi, da bi izkoristil svoj položaj ali svoj resnični ali\r\n",
       "domnevni vpliv in posredoval, da se opravi ali ne opravi kakšno uradno dejanje,\r\n",
       "se kaznuje z zaporom do štirih let in denarno kaznijo.  "
      ],
      "text/plain": [
       "<IPython.core.display.Markdown object>"
      ]
     },
     "metadata": {},
     "output_type": "display_data"
    },
    {
     "data": {
      "text/markdown": [
       "- (2) Enako se kaznuje, kdor izrabi svoj\r\n",
       "položaj ali svoj resnični ali domnevni vpliv in posreduje, da bi se opravilo\r\n",
       "uradno dejanje, ki se ne bi smelo opraviti, ali da se ne bi opravilo uradno\r\n",
       "dejanje, ki bi se moralo ali smelo opraviti.  "
      ],
      "text/plain": [
       "<IPython.core.display.Markdown object>"
      ]
     },
     "metadata": {},
     "output_type": "display_data"
    },
    {
     "data": {
      "text/markdown": [
       "- (3) Če storilec za posredovanje iz\r\n",
       "prejšnjega odstavka pred posredovanjem ali po njem zase ali za koga drugega\r\n",
       "sprejme nagrado, darilo ali kakšno drugo korist, se kaznuje z zaporom od enega\r\n",
       "do šestih let in denarno kaznijo.  "
      ],
      "text/plain": [
       "<IPython.core.display.Markdown object>"
      ]
     },
     "metadata": {},
     "output_type": "display_data"
    },
    {
     "data": {
      "text/markdown": [
       "- (4) Sprejeta nagrada, darilo ali\r\n",
       "kakšna druga korist se vzamejo.  "
      ],
      "text/plain": [
       "<IPython.core.display.Markdown object>"
      ]
     },
     "metadata": {},
     "output_type": "display_data"
    },
    {
     "data": {
      "text/markdown": [
       "## sprememba rodbinskega stanja:  "
      ],
      "text/plain": [
       "<IPython.core.display.Markdown object>"
      ]
     },
     "metadata": {},
     "output_type": "display_data"
    },
    {
     "data": {
      "text/markdown": [
       "- Kdor podtakne ali zamenja otroka ali kako\r\n",
       "drugače spremeni njegovo rodbinsko stanje, se kaznuje z zaporom do treh let.  "
      ],
      "text/plain": [
       "<IPython.core.display.Markdown object>"
      ]
     },
     "metadata": {},
     "output_type": "display_data"
    },
    {
     "data": {
      "text/markdown": [
       "## sramotitev:  "
      ],
      "text/plain": [
       "<IPython.core.display.Markdown object>"
      ]
     },
     "metadata": {},
     "output_type": "display_data"
    },
    {
     "data": {
      "text/markdown": [
       "* No data available *"
      ],
      "text/plain": [
       "<IPython.core.display.Markdown object>"
      ]
     },
     "metadata": {},
     "output_type": "display_data"
    },
    {
     "data": {
      "text/markdown": [
       "## sramotitev slovenskega naroda ali narodnih skupnosti:  "
      ],
      "text/plain": [
       "<IPython.core.display.Markdown object>"
      ]
     },
     "metadata": {},
     "output_type": "display_data"
    },
    {
     "data": {
      "text/markdown": [
       "- Kdor javno stori dejanje iz 158. do 160.\r\n",
       "člena tega zakonika proti slovenskemu narodu ali proti italijanski ali\r\n",
       "madžarski narodni skupnosti ali proti romski skupnosti, ki živijo v Republiki\r\n",
       "Sloveniji, se kaznuje z denarno kaznijo ali zaporom do enega leta.  "
      ],
      "text/plain": [
       "<IPython.core.display.Markdown object>"
      ]
     },
     "metadata": {},
     "output_type": "display_data"
    },
    {
     "data": {
      "text/markdown": [
       "## tatvina:  "
      ],
      "text/plain": [
       "<IPython.core.display.Markdown object>"
      ]
     },
     "metadata": {},
     "output_type": "display_data"
    },
    {
     "data": {
      "text/markdown": [
       "- (1) Kdor vzame komu tujo premično\r\n",
       "stvar, da bi si jo protipravno prilastil, se kaznuje z zaporom do treh let.  "
      ],
      "text/plain": [
       "<IPython.core.display.Markdown object>"
      ]
     },
     "metadata": {},
     "output_type": "display_data"
    },
    {
     "data": {
      "text/markdown": [
       "- (2) Če je vrednost ukradene stvari\r\n",
       "majhna in si je storilec hotel prilastiti stvar take vrednosti, se kaznuje z\r\n",
       "denarno kaznijo ali zaporom do enega leta.  "
      ],
      "text/plain": [
       "<IPython.core.display.Markdown object>"
      ]
     },
     "metadata": {},
     "output_type": "display_data"
    },
    {
     "data": {
      "text/markdown": [
       "- (3) Pregon za dejanje iz prejšnjega\r\n",
       "odstavka se začne na predlog.  "
      ],
      "text/plain": [
       "<IPython.core.display.Markdown object>"
      ]
     },
     "metadata": {},
     "output_type": "display_data"
    },
    {
     "data": {
      "text/markdown": [
       "- (4) Če je storilec vrnil oškodovancu\r\n",
       "ukradeno stvar, preden je zvedel, da je uveden kazenski postopek, se mu sme\r\n",
       "kazen odpustiti.  "
      ],
      "text/plain": [
       "<IPython.core.display.Markdown object>"
      ]
     },
     "metadata": {},
     "output_type": "display_data"
    },
    {
     "data": {
      "text/markdown": [
       "## terorizem:  "
      ],
      "text/plain": [
       "<IPython.core.display.Markdown object>"
      ]
     },
     "metadata": {},
     "output_type": "display_data"
    },
    {
     "data": {
      "text/markdown": [
       "- (1) Kdor z namenom, da bi uničil ali\r\n",
       "hudo ogrozil ustavne, gospodarske, socialne ali politične temelje Republike\r\n",
       "Slovenije ali druge države ali mednarodne organizacije, da bi hudo zastrašil\r\n",
       "prebivalstvo oziroma da bi prisilil vlado Republike Slovenije ali druge države\r\n",
       "ali mednarodno organizacijo, da nekaj stori ali opusti, stori ali grozi, da bo\r\n",
       "storil, eno ali več od naslednjih dejanj:  "
      ],
      "text/plain": [
       "<IPython.core.display.Markdown object>"
      ]
     },
     "metadata": {},
     "output_type": "display_data"
    },
    {
     "data": {
      "text/markdown": [
       "## tihotapstvo:  "
      ],
      "text/plain": [
       "<IPython.core.display.Markdown object>"
      ]
     },
     "metadata": {},
     "output_type": "display_data"
    },
    {
     "data": {
      "text/markdown": [
       "- (1) Kdor prenese, izogibajoč se\r\n",
       "ukrepom carinskega nadzorstva, čez carinsko črto Evropske unije blago velike premoženjske vrednosti, ali ga prenese z uporabo sile\r\n",
       "ali grožnje, se kaznuje z zaporom do petih let in denarno kaznijo.  "
      ],
      "text/plain": [
       "<IPython.core.display.Markdown object>"
      ]
     },
     "metadata": {},
     "output_type": "display_data"
    },
    {
     "data": {
      "text/markdown": [
       "- (2) Kdor se ukvarja s prenašanjem\r\n",
       "blaga na carinsko območje Evropske unije in se pri tem\r\n",
       "izogiba ukrepom carinskega nadzorstva, ga po njem prevaža, nudi skrivališča ali\r\n",
       "skladišča, ga ponuja ali doseže prodajo, pa gre za blago, ki skupaj\r\n",
       "dosega večjo premoženjsko vrednost, se kaznuje z zaporom od\r\n",
       "enega do desetih let zapora in denarno kaznijo.  "
      ],
      "text/plain": [
       "<IPython.core.display.Markdown object>"
      ]
     },
     "metadata": {},
     "output_type": "display_data"
    },
    {
     "data": {
      "text/markdown": [
       "- (3) S kaznijo iz prejšnjega odstavka\r\n",
       "se kaznuje uradna oseba, ki z zlorabo uradnega položaja ali pravic omogoči\r\n",
       "tihotapstvo blaga na carinsko območje Evropske unije\r\n",
       "ali prevoz po njem.  "
      ],
      "text/plain": [
       "<IPython.core.display.Markdown object>"
      ]
     },
     "metadata": {},
     "output_type": "display_data"
    },
    {
     "data": {
      "text/markdown": [
       "- (4) Če storilec z dejanji iz drugega\r\n",
       "ali tretjega odstavka tega člena sebi ali komu drugemu pridobi veliko premoženjsko\r\n",
       "korist ali povzroči nevarnost za življenje ali zdravje ljudi ali podpira\r\n",
       "teroristično dejavnost ali taka dejanja stori kot član hudodelske združbe, se\r\n",
       "kaznuje z zaporom od treh do petnajstih let in z denarno kaznijo.  "
      ],
      "text/plain": [
       "<IPython.core.display.Markdown object>"
      ]
     },
     "metadata": {},
     "output_type": "display_data"
    },
    {
     "data": {
      "text/markdown": [
       "- (5) Kdor pridobiva ali zbira\r\n",
       "tihotapsko blago velike premoženjske vrednosti za prenos na carinsko območje\r\n",
       "Evropske unije, preskrbuje ponarejene dokumente ali\r\n",
       "prevoz na in po carinskem območju Evropske unije ali\r\n",
       "kako drugače organizira skrivanje, skladiščenje ali prodajo tihotapskega blaga,\r\n",
       "se kaznuje z zaporom od treh do dvanajstih let in denarno kaznijo.  "
      ],
      "text/plain": [
       "<IPython.core.display.Markdown object>"
      ]
     },
     "metadata": {},
     "output_type": "display_data"
    },
    {
     "data": {
      "text/markdown": [
       "- (6) Prejšnji odstavki se uporabljajo\r\n",
       "tudi za kazniva dejanja, storjena v tujini, če je država, v kateri so bila\r\n",
       "storjena, enako kot Republika Slovenija sprejela skupno mednarodnopravno\r\n",
       "obveznost preprečevati taka kazniva dejanja, ne glede na to, kje so storjena,\r\n",
       "ter je dejanja v svojem zakonu ustrezno enako določila kot kazniva dejanja.  "
      ],
      "text/plain": [
       "<IPython.core.display.Markdown object>"
      ]
     },
     "metadata": {},
     "output_type": "display_data"
    },
    {
     "data": {
      "text/markdown": [
       "- (7) Vrednost blaga po tem členu se določa\r\n",
       "po njegovi tržni vrednosti na območju Republike Slovenije.   "
      ],
      "text/plain": [
       "<IPython.core.display.Markdown object>"
      ]
     },
     "metadata": {},
     "output_type": "display_data"
    },
    {
     "data": {
      "text/markdown": [
       "- (8) Tihotapsko\r\n",
       "blago se vzame.  "
      ],
      "text/plain": [
       "<IPython.core.display.Markdown object>"
      ]
     },
     "metadata": {},
     "output_type": "display_data"
    },
    {
     "data": {
      "text/markdown": [
       "## trgovina z ljudmi:  "
      ],
      "text/plain": [
       "<IPython.core.display.Markdown object>"
      ]
     },
     "metadata": {},
     "output_type": "display_data"
    },
    {
     "data": {
      "text/markdown": [
       "- (1) Kdor zaradi izkoriščanja\r\n",
       "prostitucije ali drugih oblik spolnih zlorab, prisilnega dela, suženjstva,\r\n",
       "služabništva, storitve kaznivih dejanj ali trgovine z\r\n",
       "organi, človeškimi tkivi ali krvjo drugo osebo kupi, prevzame, nastani,\r\n",
       "prepelje, proda, izroči oziroma z njo kako drugače razpolaga ali tako\r\n",
       "osebo novači, menjava ali prenaša nadzor nad njo ali pri teh\r\n",
       "ravnanjih posreduje, se, ne glede na morebitno privolitev te osebe, kaznuje z zaporom od enega do desetih let in denarno\r\n",
       "kaznijo.  "
      ],
      "text/plain": [
       "<IPython.core.display.Markdown object>"
      ]
     },
     "metadata": {},
     "output_type": "display_data"
    },
    {
     "data": {
      "text/markdown": [
       "- (2) Če je dejanje iz prejšnjega\r\n",
       "odstavka storjeno proti mladoletni osebi ali pa s silo, grožnjo, preslepitvijo, ugrabitvijo ali zlorabo\r\n",
       "podrejenega ali odvisnega položaja ali z dajanjem ali prejemanjem plačil\r\n",
       "ali koristi, da se doseže soglasje osebe, ki ima nadzor nad drugo osebo, ali z namenom prisiljevanja k nosečnosti ali umetni oploditvi, se\r\n",
       "storilec kaznuje z zaporom od treh do petnajstih let.  "
      ],
      "text/plain": [
       "<IPython.core.display.Markdown object>"
      ]
     },
     "metadata": {},
     "output_type": "display_data"
    },
    {
     "data": {
      "text/markdown": [
       "- (3) Kdor z namenom izvršitve dejanja iz\r\n",
       "prvega ali drugega odstavka tega člena zadrži, odvzame, skrije, poškoduje ali\r\n",
       "uniči javno listino, s katero se izkazuje identiteta žrtve trgovine z ljudmi,\r\n",
       "se kaznuje z zaporom do treh let in denarno kaznijo.  "
      ],
      "text/plain": [
       "<IPython.core.display.Markdown object>"
      ]
     },
     "metadata": {},
     "output_type": "display_data"
    },
    {
     "data": {
      "text/markdown": [
       "- (4) Kdor ve, da je oseba žrtev trgovine z\r\n",
       "ljudmi, pa uporablja njene storitve, ki so posledica izkoriščanja te osebe,\r\n",
       "opisanega v prvem in drugem odstavku tega člena, se kaznuje z zaporom do treh\r\n",
       "let in denarno kaznijo.  "
      ],
      "text/plain": [
       "<IPython.core.display.Markdown object>"
      ]
     },
     "metadata": {},
     "output_type": "display_data"
    },
    {
     "data": {
      "text/markdown": [
       "- (5) Kdor stori dejanje iz prvega, drugega\r\n",
       "ali tretjega odstavka tega člena kot član hudodelske združbe za izvedbo takih\r\n",
       "dejanj ali če je bila s tem dejanjem pridobljena velika premoženjska korist, se\r\n",
       "kaznuje z zaporom od treh do petnajstih let in denarno kaznijo.  "
      ],
      "text/plain": [
       "<IPython.core.display.Markdown object>"
      ]
     },
     "metadata": {},
     "output_type": "display_data"
    },
    {
     "data": {
      "text/markdown": [
       "## uboj:  "
      ],
      "text/plain": [
       "<IPython.core.display.Markdown object>"
      ]
     },
     "metadata": {},
     "output_type": "display_data"
    },
    {
     "data": {
      "text/markdown": [
       "- (1) Kdor komu vzame življenje, se\r\n",
       "kaznuje z zaporom od petih do petnajstih let.  "
      ],
      "text/plain": [
       "<IPython.core.display.Markdown object>"
      ]
     },
     "metadata": {},
     "output_type": "display_data"
    },
    {
     "data": {
      "text/markdown": [
       "- (2) Če stori dejanje iz prejšnjega\r\n",
       "odstavka dvoje ali več oseb, ki so se združile zato, da bi storile uboj, se storilec kaznuje s kaznijo od desetih do petnajstih let.  "
      ],
      "text/plain": [
       "<IPython.core.display.Markdown object>"
      ]
     },
     "metadata": {},
     "output_type": "display_data"
    },
    {
     "data": {
      "text/markdown": [
       "## ugrabitev:  "
      ],
      "text/plain": [
       "<IPython.core.display.Markdown object>"
      ]
     },
     "metadata": {},
     "output_type": "display_data"
    },
    {
     "data": {
      "text/markdown": [
       "* No data available *"
      ],
      "text/plain": [
       "<IPython.core.display.Markdown object>"
      ]
     },
     "metadata": {},
     "output_type": "display_data"
    },
    {
     "data": {
      "text/markdown": [
       "## umor:  "
      ],
      "text/plain": [
       "<IPython.core.display.Markdown object>"
      ]
     },
     "metadata": {},
     "output_type": "display_data"
    },
    {
     "data": {
      "text/markdown": [
       "- Kdor koga umori s tem, da mu vzame\r\n",
       "življenje  "
      ],
      "text/plain": [
       "<IPython.core.display.Markdown object>"
      ]
     },
     "metadata": {},
     "output_type": "display_data"
    },
    {
     "data": {
      "text/markdown": [
       "- 1)    \r\n",
       "na grozovit ali zahrbten način;  "
      ],
      "text/plain": [
       "<IPython.core.display.Markdown object>"
      ]
     },
     "metadata": {},
     "output_type": "display_data"
    },
    {
     "data": {
      "text/markdown": [
       "- 2)    \r\n",
       "zaradi ukrepanja pri uradnih dejanjih varovanja javne varnosti ali v\r\n",
       "predkazenskem postopku ali zaradi odločitev državnih tožilcev ali zaradi\r\n",
       "postopka in odločitev sodnikov ali zaradi ovadbe ali pričanja v sodnem\r\n",
       "postopku;  "
      ],
      "text/plain": [
       "<IPython.core.display.Markdown object>"
      ]
     },
     "metadata": {},
     "output_type": "display_data"
    },
    {
     "data": {
      "text/markdown": [
       "- 3)    \r\n",
       "zaradi kršitve enakopravnosti;  "
      ],
      "text/plain": [
       "<IPython.core.display.Markdown object>"
      ]
     },
     "metadata": {},
     "output_type": "display_data"
    },
    {
     "data": {
      "text/markdown": [
       "- 4)    \r\n",
       "iz morilske sle, iz koristoljubnosti, zato da bi storil ali prikril\r\n",
       "kakšno drugo kaznivo dejanje, iz brezobzirnega maščevanja ali iz kakšnih drugih\r\n",
       "nizkotnih nagibov;  "
      ],
      "text/plain": [
       "<IPython.core.display.Markdown object>"
      ]
     },
     "metadata": {},
     "output_type": "display_data"
    },
    {
     "data": {
      "text/markdown": [
       "- 5)    \r\n",
       "z dejanjem, storjenim v hudodelski združbi za storitev takih dejanj,  "
      ],
      "text/plain": [
       "<IPython.core.display.Markdown object>"
      ]
     },
     "metadata": {},
     "output_type": "display_data"
    },
    {
     "data": {
      "text/markdown": [
       "- se kaznuje z zaporom najmanj petnajstih let.  "
      ],
      "text/plain": [
       "<IPython.core.display.Markdown object>"
      ]
     },
     "metadata": {},
     "output_type": "display_data"
    },
    {
     "data": {
      "text/markdown": [
       "## uničenje ali ponareditev volilnih listin:  "
      ],
      "text/plain": [
       "<IPython.core.display.Markdown object>"
      ]
     },
     "metadata": {},
     "output_type": "display_data"
    },
    {
     "data": {
      "text/markdown": [
       "- (1) Kdor pri volitvah ali glasovanju\r\n",
       "uniči, poškoduje, prikrije ali ponaredi kakšno listino o volitvah ali\r\n",
       "glasovanju ali kakršen koli predmet, ki je dokaz za ugotavljanje izida volitev\r\n",
       "ali glasovanja, se kaznuje z denarno kaznijo ali zaporom do enega leta.  "
      ],
      "text/plain": [
       "<IPython.core.display.Markdown object>"
      ]
     },
     "metadata": {},
     "output_type": "display_data"
    },
    {
     "data": {
      "text/markdown": [
       "- (2) Če stori dejanje iz prejšnjega\r\n",
       "odstavka uradna oseba pri opravljanju svoje dolžnosti v zvezi z volitvami ali\r\n",
       "glasovanjem, se kaznuje z zaporom do dveh let.  "
      ],
      "text/plain": [
       "<IPython.core.display.Markdown object>"
      ]
     },
     "metadata": {},
     "output_type": "display_data"
    },
    {
     "data": {
      "text/markdown": [
       "## uničevanje gozdov:  "
      ],
      "text/plain": [
       "<IPython.core.display.Markdown object>"
      ]
     },
     "metadata": {},
     "output_type": "display_data"
    },
    {
     "data": {
      "text/markdown": [
       "- (1) Kdor zavestno v nasprotju s\r\n",
       "predpisi ali odredbami pristojnih organov v večjem obsegu krči ali seka na golo\r\n",
       "gozd ali ga kako drugače uničuje, pa pri tem niso dani znaki kakšnega drugega\r\n",
       "kaznivega dejanja, se kaznuje z zaporom do enega leta.  "
      ],
      "text/plain": [
       "<IPython.core.display.Markdown object>"
      ]
     },
     "metadata": {},
     "output_type": "display_data"
    },
    {
     "data": {
      "text/markdown": [
       "- (2) Kdor stori dejanje iz prejšnjega\r\n",
       "odstavka v varovalnem gozdu ali gozdu, ki ima poseben namen, se kaznuje z\r\n",
       "zaporom do treh let.  "
      ],
      "text/plain": [
       "<IPython.core.display.Markdown object>"
      ]
     },
     "metadata": {},
     "output_type": "display_data"
    },
    {
     "data": {
      "text/markdown": [
       "## upor oseb, ki jim je vzeta prostost:  "
      ],
      "text/plain": [
       "<IPython.core.display.Markdown object>"
      ]
     },
     "metadata": {},
     "output_type": "display_data"
    },
    {
     "data": {
      "text/markdown": [
       "- (1) Kdor sodeluje v skupini oseb, ki\r\n",
       "jim je vzeta prostost in so se zbrale, da bi se s silo osvobodile ali da bi\r\n",
       "združeno napadle osebe, katerih nadzorstvu so zaupane, ali da bi jih s silo ali\r\n",
       "grožnjo, da bodo neposredno uporabile silo, prisilile, da kaj storijo ali\r\n",
       "opustijo, kar je proti njihovi dolžnosti, se kaznuje z zaporom do dveh let.  "
      ],
      "text/plain": [
       "<IPython.core.display.Markdown object>"
      ]
     },
     "metadata": {},
     "output_type": "display_data"
    },
    {
     "data": {
      "text/markdown": [
       "- (2) Storilec dejanja iz prejšnjega\r\n",
       "odstavka, ki je uporabil silo ali grožnjo, se kaznuje z zaporom do treh let.  "
      ],
      "text/plain": [
       "<IPython.core.display.Markdown object>"
      ]
     },
     "metadata": {},
     "output_type": "display_data"
    },
    {
     "data": {
      "text/markdown": [
       "## uporaba ponarejenega negotovinskega plačilnega sredstva:  "
      ],
      "text/plain": [
       "<IPython.core.display.Markdown object>"
      ]
     },
     "metadata": {},
     "output_type": "display_data"
    },
    {
     "data": {
      "text/markdown": [
       "* No data available *"
      ],
      "text/plain": [
       "<IPython.core.display.Markdown object>"
      ]
     },
     "metadata": {},
     "output_type": "display_data"
    },
    {
     "data": {
      "text/markdown": [
       "## velika tatvina:  "
      ],
      "text/plain": [
       "<IPython.core.display.Markdown object>"
      ]
     },
     "metadata": {},
     "output_type": "display_data"
    },
    {
     "data": {
      "text/markdown": [
       "- (1) Storilec tatvine iz prvega\r\n",
       "odstavka prejšnjega člena se kaznuje z zaporom do petih let:  "
      ],
      "text/plain": [
       "<IPython.core.display.Markdown object>"
      ]
     },
     "metadata": {},
     "output_type": "display_data"
    },
    {
     "data": {
      "text/markdown": [
       "- 1)    \r\n",
       "če je storil tatvino tako, da je z vlomom, vdorom ali drugačnim\r\n",
       "premagovanjem večjih ovir prišel v zaprto stavbo, sobo, blagajno, omaro ali\r\n",
       "druge zaprte prostore;  "
      ],
      "text/plain": [
       "<IPython.core.display.Markdown object>"
      ]
     },
     "metadata": {},
     "output_type": "display_data"
    },
    {
     "data": {
      "text/markdown": [
       "- 2)    \r\n",
       "če sta storili tatvino dve ali več oseb, ki so se združile zato, da bi\r\n",
       "kradle;  "
      ],
      "text/plain": [
       "<IPython.core.display.Markdown object>"
      ]
     },
     "metadata": {},
     "output_type": "display_data"
    },
    {
     "data": {
      "text/markdown": [
       "- 3)    \r\n",
       "če je storil tatvino na posebno predrzen način;  "
      ],
      "text/plain": [
       "<IPython.core.display.Markdown object>"
      ]
     },
     "metadata": {},
     "output_type": "display_data"
    },
    {
     "data": {
      "text/markdown": [
       "- 4)    \r\n",
       "če je imel pri sebi kakšno orožje ali nevarno orodje za napad ali\r\n",
       "obrambo;  "
      ],
      "text/plain": [
       "<IPython.core.display.Markdown object>"
      ]
     },
     "metadata": {},
     "output_type": "display_data"
    },
    {
     "data": {
      "text/markdown": [
       "- 5)    \r\n",
       "če je storil tatvino ob požaru, povodnji ali podobni naravni nesreči;  "
      ],
      "text/plain": [
       "<IPython.core.display.Markdown object>"
      ]
     },
     "metadata": {},
     "output_type": "display_data"
    },
    {
     "data": {
      "text/markdown": [
       "- 6)    \r\n",
       "če je storil tatvino tako, da je izrabil nemoč ali nesrečo drugega.  "
      ],
      "text/plain": [
       "<IPython.core.display.Markdown object>"
      ]
     },
     "metadata": {},
     "output_type": "display_data"
    },
    {
     "data": {
      "text/markdown": [
       "- (2) Enako se kaznuje storilec tatvine,\r\n",
       "če je ukradena stvar posebnega kulturnega pomena ali naravna vrednota ali če je\r\n",
       "ukradena stvar velike vrednosti in si je storilec hotel prilastiti tako stvar\r\n",
       "ali stvar take vrednosti.  "
      ],
      "text/plain": [
       "<IPython.core.display.Markdown object>"
      ]
     },
     "metadata": {},
     "output_type": "display_data"
    },
    {
     "data": {
      "text/markdown": [
       "- (3) Če je bila z dejanjem iz prvega\r\n",
       "odstavka tega člena pridobljena stvar posebnega kulturnega pomena ali stvar\r\n",
       "velike vrednosti in si je storilec hotel prilastiti tako stvar ali stvar take\r\n",
       "vrednosti ali če je bilo dejanje iz drugega odstavka tega člena storjeno v\r\n",
       "hudodelski združbi, se kaznuje z zaporom od enega do osmih let.  "
      ],
      "text/plain": [
       "<IPython.core.display.Markdown object>"
      ]
     },
     "metadata": {},
     "output_type": "display_data"
    },
    {
     "data": {
      "text/markdown": [
       "## vojna hudodelstva:  "
      ],
      "text/plain": [
       "<IPython.core.display.Markdown object>"
      ]
     },
     "metadata": {},
     "output_type": "display_data"
    },
    {
     "data": {
      "text/markdown": [
       "- Kdor ukaže ali stori vojna hudodelstva,\r\n",
       "zlasti če so storjena kot sestavni del načrta ali politike ali kot del\r\n",
       "obsežnega izvrševanja takih hudodelstev, ki so:  "
      ],
      "text/plain": [
       "<IPython.core.display.Markdown object>"
      ]
     },
     "metadata": {},
     "output_type": "display_data"
    },
    {
     "data": {
      "text/markdown": [
       "- 1)    \r\n",
       "hude kršitve ženevskih konvencij z dne 12. avgusta 1949 (Akt o\r\n",
       "notifikaciji nasledstva glede konvencij Sveta Evrope, Ženevskih konvencij in\r\n",
       "dodatnih protokolov o zaščiti žrtev vojne in mednarodnih sporazumov s področja\r\n",
       "kontrole oborožitve, za katere so depozitarji tri glavne jedrske sile, (Uradni\r\n",
       "list RS, št. 14/1992)) in sicer katero koli navedeno dejanje zoper osebe ali\r\n",
       "premoženje, ki jih varujejo ustrezne ženevske konvencije:  "
      ],
      "text/plain": [
       "<IPython.core.display.Markdown object>"
      ]
     },
     "metadata": {},
     "output_type": "display_data"
    },
    {
     "data": {
      "text/markdown": [
       "## zalezovanje:  "
      ],
      "text/plain": [
       "<IPython.core.display.Markdown object>"
      ]
     },
     "metadata": {},
     "output_type": "display_data"
    },
    {
     "data": {
      "text/markdown": [
       "- (1) Kdor koga drugega ali njegovega\r\n",
       "bližnjega s ponavljajočim se opazovanjem, zasledovanjem ali vsiljivim\r\n",
       "prizadevanjem vzpostavitve neposrednega stika ali stika preko elektronskih\r\n",
       "komunikacijskih sredstev zalezuje in pri njem ali pri njegovem bližnjem s tem\r\n",
       "povzroči prestrašenost ali ogroženost, se kaznuje z denarno kaznijo ali zaporom\r\n",
       "do dveh let.  "
      ],
      "text/plain": [
       "<IPython.core.display.Markdown object>"
      ]
     },
     "metadata": {},
     "output_type": "display_data"
    },
    {
     "data": {
      "text/markdown": [
       "- (2) Če je zalezovana oseba mladoletna oseba\r\n",
       "ali slabotna oseba, se storilec kaznuje z denarno kaznijo ali z zaporom do treh\r\n",
       "let.  "
      ],
      "text/plain": [
       "<IPython.core.display.Markdown object>"
      ]
     },
     "metadata": {},
     "output_type": "display_data"
    },
    {
     "data": {
      "text/markdown": [
       "- (3) Pregon za dejanje iz prvega in drugega\r\n",
       "odstavka tega člena se začne na predlog.  "
      ],
      "text/plain": [
       "<IPython.core.display.Markdown object>"
      ]
     },
     "metadata": {},
     "output_type": "display_data"
    },
    {
     "data": {
      "text/markdown": [
       "## zanemarjanje mladoletne osebe in surovo ravnanje:  "
      ],
      "text/plain": [
       "<IPython.core.display.Markdown object>"
      ]
     },
     "metadata": {},
     "output_type": "display_data"
    },
    {
     "data": {
      "text/markdown": [
       "- (1) Starši, skrbnik, rejnik ali druga\r\n",
       "oseba, ki hudo krši svoje dolžnosti do mladoletne osebe, se kaznuje z zaporom\r\n",
       "do treh let.   "
      ],
      "text/plain": [
       "<IPython.core.display.Markdown object>"
      ]
     },
     "metadata": {},
     "output_type": "display_data"
    },
    {
     "data": {
      "text/markdown": [
       "- (2) Starši, skrbnik, rejnik ali druga\r\n",
       "oseba, ki sili mladoletno osebo k pretiranemu delu ali k delu, ki ni primerno\r\n",
       "njeni starosti ali k opuščanju dela, ali jo iz koristoljubnosti navaja k\r\n",
       "beračenju ali drugim dejanjem, ki so škodljiva za njen razvoj, ali z njo surovo\r\n",
       "ravna ali jo trpinči, se kaznuje z zaporom do petih let.   "
      ],
      "text/plain": [
       "<IPython.core.display.Markdown object>"
      ]
     },
     "metadata": {},
     "output_type": "display_data"
    },
    {
     "data": {
      "text/markdown": [
       "## zaposlovanje na črno:  "
      ],
      "text/plain": [
       "<IPython.core.display.Markdown object>"
      ]
     },
     "metadata": {},
     "output_type": "display_data"
    },
    {
     "data": {
      "text/markdown": [
       "- (1) Kdor v nasprotju s predpisi zaposli dva\r\n",
       "ali več delavcev in jih ne prijavi za ustrezno zavarovanje ali zaposli dva ali več tujcev ali oseb brez\r\n",
       "državljanstva brez ustreznih dovoljenj za delo, se kaznuje z denarno kaznijo\r\n",
       "ali zaporom do enega leta.   "
      ],
      "text/plain": [
       "<IPython.core.display.Markdown object>"
      ]
     },
     "metadata": {},
     "output_type": "display_data"
    },
    {
     "data": {
      "text/markdown": [
       "- (2) Kdor zaporedoma ali trajneje ali v\r\n",
       "znatnem številu zaposluje tujce, ki niso državljani države članice Evropske\r\n",
       "unije in nezakonito prebivajo na ozemlju Republike Slovenije, se kaznuje z\r\n",
       "zaporom do dveh let.   "
      ],
      "text/plain": [
       "<IPython.core.display.Markdown object>"
      ]
     },
     "metadata": {},
     "output_type": "display_data"
    },
    {
     "data": {
      "text/markdown": [
       "- (3) Če je dejanje iz prvega ali drugega\r\n",
       "odstavka tega člena storjeno z zaposlitvijo delavcev, ki niso usposobljeni za\r\n",
       "izvajanje del s posebnimi pooblastili ali s pravico poseganja v telesno ali\r\n",
       "duševno celovitost posameznika ali pod posebej izkoriščevalskimi delovnimi\r\n",
       "pogoji ali z izkoriščanjem žrtve trgovine z ljudmi ali z zaposlitvijo\r\n",
       "mladoletne osebe, se storilec kaznuje z zaporom do treh let.   "
      ],
      "text/plain": [
       "<IPython.core.display.Markdown object>"
      ]
     },
     "metadata": {},
     "output_type": "display_data"
    },
    {
     "data": {
      "text/markdown": [
       "## zapustitev poškodovanca v prometni nesreči brez pomoči:  "
      ],
      "text/plain": [
       "<IPython.core.display.Markdown object>"
      ]
     },
     "metadata": {},
     "output_type": "display_data"
    },
    {
     "data": {
      "text/markdown": [
       "- (1) Voznik motornega vozila ali\r\n",
       "drugega prevoznega sredstva, ki pusti brez pomoči koga, ki je bil s tem\r\n",
       "prevoznim sredstvom ali zaradi njega poškodovan, se kaznuje z zaporom do enega\r\n",
       "leta.  "
      ],
      "text/plain": [
       "<IPython.core.display.Markdown object>"
      ]
     },
     "metadata": {},
     "output_type": "display_data"
    },
    {
     "data": {
      "text/markdown": [
       "- (2) Če ima opustitev pomoči za\r\n",
       "posledico hudo telesno poškodbo ali smrt poškodovanega, se storilec kaznuje z\r\n",
       "zaporom od treh mesecev do petih let.  "
      ],
      "text/plain": [
       "<IPython.core.display.Markdown object>"
      ]
     },
     "metadata": {},
     "output_type": "display_data"
    },
    {
     "data": {
      "text/markdown": [
       "## zapustitev slabotne osebe:  "
      ],
      "text/plain": [
       "<IPython.core.display.Markdown object>"
      ]
     },
     "metadata": {},
     "output_type": "display_data"
    },
    {
     "data": {
      "text/markdown": [
       "- Kdor pusti osebo, ki mu je bila zaupana ali\r\n",
       "za katero sicer mora skrbeti, brez pomoči v razmerah, ki so nevarne za\r\n",
       "življenje ali zdravje, se kaznuje z zaporom do dveh let.  "
      ],
      "text/plain": [
       "<IPython.core.display.Markdown object>"
      ]
     },
     "metadata": {},
     "output_type": "display_data"
    },
    {
     "data": {
      "text/markdown": [
       "## zatajitev:  "
      ],
      "text/plain": [
       "<IPython.core.display.Markdown object>"
      ]
     },
     "metadata": {},
     "output_type": "display_data"
    },
    {
     "data": {
      "text/markdown": [
       "- (1) Kdor si protipravno prilasti tujo\r\n",
       "premično stvar, ki mu je zaupana, se kaznuje z zaporom do dveh let.  "
      ],
      "text/plain": [
       "<IPython.core.display.Markdown object>"
      ]
     },
     "metadata": {},
     "output_type": "display_data"
    },
    {
     "data": {
      "text/markdown": [
       "- (2) Če je vrednost zatajene stvari\r\n",
       "majhna in si je storilec hotel prilastiti stvar take vrednosti, se kaznuje z\r\n",
       "denarno kaznijo ali zaporom do šestih mesecev.  "
      ],
      "text/plain": [
       "<IPython.core.display.Markdown object>"
      ]
     },
     "metadata": {},
     "output_type": "display_data"
    },
    {
     "data": {
      "text/markdown": [
       "- (3) Če stori dejanje iz prvega\r\n",
       "odstavka tega člena skrbnik, se kaznuje z zaporom do treh let.  "
      ],
      "text/plain": [
       "<IPython.core.display.Markdown object>"
      ]
     },
     "metadata": {},
     "output_type": "display_data"
    },
    {
     "data": {
      "text/markdown": [
       "- (4) Če je zatajena stvar posebnega\r\n",
       "kulturnega pomena ali naravna vrednota ali če je zatajena stvar velike\r\n",
       "vrednosti in si je storilec hotel prilastiti tako stvar ali stvar take vrednosti,\r\n",
       "se kaznuje z zaporom do petih let.  "
      ],
      "text/plain": [
       "<IPython.core.display.Markdown object>"
      ]
     },
     "metadata": {},
     "output_type": "display_data"
    },
    {
     "data": {
      "text/markdown": [
       "- (5) Kdor si protipravno prilasti tujo\r\n",
       "premično stvar, ki jo je našel ali je do nje po naključju prišel, se kaznuje z\r\n",
       "denarno kaznijo ali zaporom do enega leta.  "
      ],
      "text/plain": [
       "<IPython.core.display.Markdown object>"
      ]
     },
     "metadata": {},
     "output_type": "display_data"
    },
    {
     "data": {
      "text/markdown": [
       "- (6) Pregon za dejanje iz prvega,\r\n",
       "drugega in petega odstavka tega člena se začne na predlog.  "
      ],
      "text/plain": [
       "<IPython.core.display.Markdown object>"
      ]
     },
     "metadata": {},
     "output_type": "display_data"
    },
    {
     "data": {
      "text/markdown": [
       "## zloraba informacijskega sistema:  "
      ],
      "text/plain": [
       "<IPython.core.display.Markdown object>"
      ]
     },
     "metadata": {},
     "output_type": "display_data"
    },
    {
     "data": {
      "text/markdown": [
       "* No data available *"
      ],
      "text/plain": [
       "<IPython.core.display.Markdown object>"
      ]
     },
     "metadata": {},
     "output_type": "display_data"
    },
    {
     "data": {
      "text/markdown": [
       "## zloraba izvršbe:  "
      ],
      "text/plain": [
       "<IPython.core.display.Markdown object>"
      ]
     },
     "metadata": {},
     "output_type": "display_data"
    },
    {
     "data": {
      "text/markdown": [
       "- (1) Kdor v izvršbi protipravno izterja\r\n",
       "več, kot je kdo dolžan plačati, ali si prilasti zmotno preplačilo dolga, se\r\n",
       "kaznuje z denarno kaznijo ali zaporom do dveh let.  "
      ],
      "text/plain": [
       "<IPython.core.display.Markdown object>"
      ]
     },
     "metadata": {},
     "output_type": "display_data"
    },
    {
     "data": {
      "text/markdown": [
       "- (2) Enako se kaznuje, kdor v izvršbi\r\n",
       "izigra upnika za njegovo terjatev z dogovorom z udeleženci dražbe.  "
      ],
      "text/plain": [
       "<IPython.core.display.Markdown object>"
      ]
     },
     "metadata": {},
     "output_type": "display_data"
    },
    {
     "data": {
      "text/markdown": [
       "- (3) Poskus je kazniv.  "
      ],
      "text/plain": [
       "<IPython.core.display.Markdown object>"
      ]
     },
     "metadata": {},
     "output_type": "display_data"
    },
    {
     "data": {
      "text/markdown": [
       "## zloraba negotovinskega plačilnega sredstva:  "
      ],
      "text/plain": [
       "<IPython.core.display.Markdown object>"
      ]
     },
     "metadata": {},
     "output_type": "display_data"
    },
    {
     "data": {
      "text/markdown": [
       "- (1) Kdor z zlorabo čeka, kreditne ali\r\n",
       "plačilne kartice ali drugega negotovinskega plačilnega sredstva, ki ga je upravičen\r\n",
       "uporabljati, banko ali drugega izdajatelja v nasprotju z dogovorom o uporabi\r\n",
       "tega sredstva zaveže k izplačilu zneska, za katerega ve, da nima kritja na\r\n",
       "računu, in tako pridobi premoženjsko korist, se kaznuje z zaporom do dveh let.  "
      ],
      "text/plain": [
       "<IPython.core.display.Markdown object>"
      ]
     },
     "metadata": {},
     "output_type": "display_data"
    },
    {
     "data": {
      "text/markdown": [
       "- (2) Kdor uporabi ček, kreditno ali plačilno\r\n",
       "kartico ali drugo negotovinsko plačilno sredstvo v izvorni obliki, ki ga ni\r\n",
       "upravičen uporabljati in je bilo pridobljeno na nezakonit način, ter s tem sebi\r\n",
       "ali komu drugemu pridobi protipravno premoženjsko korist, se kaznuje z zaporom\r\n",
       "do treh let.  "
      ],
      "text/plain": [
       "<IPython.core.display.Markdown object>"
      ]
     },
     "metadata": {},
     "output_type": "display_data"
    },
    {
     "data": {
      "text/markdown": [
       "- (3) Kdor z namenom nezakonite uporabe\r\n",
       "poseduje, kupi ali drugače pridobi zase ali za drugega, prenese, uvozi, izvozi,\r\n",
       "proda ali drugače razširi na nezakonit način pridobljeno negotovinsko plačilno\r\n",
       "sredstvo, se kaznuje z zaporom do enega leta.  "
      ],
      "text/plain": [
       "<IPython.core.display.Markdown object>"
      ]
     },
     "metadata": {},
     "output_type": "display_data"
    },
    {
     "data": {
      "text/markdown": [
       "- (4) Če je bila z\r\n",
       "dejanjem iz prvega, drugega ali tretjega odstavka tega\r\n",
       "člena pridobljena večja premoženjska korist, se\r\n",
       "storilec kaznuje z zaporom do petih let.  "
      ],
      "text/plain": [
       "<IPython.core.display.Markdown object>"
      ]
     },
     "metadata": {},
     "output_type": "display_data"
    },
    {
     "data": {
      "text/markdown": [
       "- (5) Če je bila z\r\n",
       "dejanjem iz prvega, drugega ali tretjega odstavka tega člena pridobljena velika premoženjska korist ali če je bilo storjeno v hudodelski\r\n",
       "združbi, se storilec kaznuje z zaporom od enega do\r\n",
       "osmih let.  "
      ],
      "text/plain": [
       "<IPython.core.display.Markdown object>"
      ]
     },
     "metadata": {},
     "output_type": "display_data"
    },
    {
     "data": {
      "text/markdown": [
       "- (6) Pregon za\r\n",
       "dejanje iz prvega odstavka tega člena se začne na predlog.  "
      ],
      "text/plain": [
       "<IPython.core.display.Markdown object>"
      ]
     },
     "metadata": {},
     "output_type": "display_data"
    },
    {
     "data": {
      "text/markdown": [
       "- (1) Kdor\r\n",
       "namesti na bančni avtomat ali aparat za vplačila s kartico napravo za\r\n",
       "preslikavanje podatkov plačilnih, kreditnih ali drugih kartic ali drugega\r\n",
       "negotovinskega plačilnega sredstva ali njihove podatke pridobi na celotnem\r\n",
       "medmrežju ali na drug način ali negotovinsko plačilno sredstvo ponaredi, se\r\n",
       "kaznuje z zaporom do petih let.  "
      ],
      "text/plain": [
       "<IPython.core.display.Markdown object>"
      ]
     },
     "metadata": {},
     "output_type": "display_data"
    },
    {
     "data": {
      "text/markdown": [
       "- (2) Enako se\r\n",
       "kaznuje, kdor uporabi ponarejeno plačilno, kreditno ali drugo kartico ali drugo\r\n",
       "negotovinsko plačilno sredstvo ali njihove podatke in si pridobi premoženjsko\r\n",
       "korist.  "
      ],
      "text/plain": [
       "<IPython.core.display.Markdown object>"
      ]
     },
     "metadata": {},
     "output_type": "display_data"
    },
    {
     "data": {
      "text/markdown": [
       "- (3) Kdor z namenom nezakonite uporabe\r\n",
       "poseduje, kupi ali drugače pridobi zase ali za drugega, prenese, uvozi, izvozi,\r\n",
       "proda ali drugače razširi ponarejeno negotovinsko plačilno sredstvo ali njegove\r\n",
       "podatke, se kaznuje z zaporom do enega leta.  "
      ],
      "text/plain": [
       "<IPython.core.display.Markdown object>"
      ]
     },
     "metadata": {},
     "output_type": "display_data"
    },
    {
     "data": {
      "text/markdown": [
       "- (4) Če je\r\n",
       "bila z dejanjem iz prvega, drugega ali tretjega odstavka tega člena pridobljena velika premoženjska korist ali če je bilo storjeno v hudodelski\r\n",
       "združbi, se storilec kaznuje z zaporom od enega do\r\n",
       "osmih let.  "
      ],
      "text/plain": [
       "<IPython.core.display.Markdown object>"
      ]
     },
     "metadata": {},
     "output_type": "display_data"
    },
    {
     "data": {
      "text/markdown": [
       "## zloraba notranje informacije:  "
      ],
      "text/plain": [
       "<IPython.core.display.Markdown object>"
      ]
     },
     "metadata": {},
     "output_type": "display_data"
    },
    {
     "data": {
      "text/markdown": [
       "- (1) Kdor notranjo informacijo, ki bi\r\n",
       "lahko pomembno vplivala na ceno vrednostnega papirja ali drugega finančnega\r\n",
       "instrumenta, uvrščenega na organiziran trg ali drugo mesto trgovanja v Republiki Sloveniji\r\n",
       "ali v vsaj eni državi članici Evropske unije ali za katero je bil vložen\r\n",
       "predlog za uvrstitev na tak trg, ne glede na to, ali je bil posel sklenjen na\r\n",
       "tem trgu ali zunaj njega, pridobi v zvezi s svojim položajem pri izdajatelju\r\n",
       "vrednostnega papirja ali lastniškim deležem v kapitalu izdajatelja vrednostnega\r\n",
       "papirja, svojo zaposlitvijo ali pri opravljanju dejavnosti in jo izkoristi zase\r\n",
       "ali za koga drugega za posredno ali neposredno pridobitev ali odsvojitev tega\r\n",
       "vrednostnega papirja ali drugega finančnega instrumenta ali za preklic ali spremembo naročila za\r\n",
       "trgovanje, če je bilo naročilo oddano, preden je oseba imela notranje\r\n",
       "informacije, se kaznuje z zaporom do treh let.  "
      ],
      "text/plain": [
       "<IPython.core.display.Markdown object>"
      ]
     },
     "metadata": {},
     "output_type": "display_data"
    },
    {
     "data": {
      "text/markdown": [
       "- (2) Enako se kaznuje oseba, ki\r\n",
       "notranjo informacijo sporoči nepoklicani osebi ali na podlagi notranje\r\n",
       "informacije priporoči tretji osebi posredno ali neposredno pridobitev ali\r\n",
       "odsvojitev tega vrednostnega papirja ali drugega finančnega instrumenta.  "
      ],
      "text/plain": [
       "<IPython.core.display.Markdown object>"
      ]
     },
     "metadata": {},
     "output_type": "display_data"
    },
    {
     "data": {
      "text/markdown": [
       "- (3) Enako kot v prvem odstavku se\r\n",
       "kaznuje oseba, ki nepooblaščeno pride do notranje informacije in jo izkoristi\r\n",
       "za posredno ali neposredno pridobitev ali odsvojitev tega vrednostnega papirja\r\n",
       "ali drugega finančnega instrumenta zase ali za koga drugega.  "
      ],
      "text/plain": [
       "<IPython.core.display.Markdown object>"
      ]
     },
     "metadata": {},
     "output_type": "display_data"
    },
    {
     "data": {
      "text/markdown": [
       "- (4) Enako kot v prvem odstavku tega člena\r\n",
       "se kaznuje oseba, ki stori dejanje iz prvega odstavka tega člena z vrednostnimi\r\n",
       "papirji ali drugimi finančnimi instrumenti na prostem trgu, če je njihova cena\r\n",
       "ali vrednost odvisna od cene ali vrednosti finančnih instrumentov na trgih iz\r\n",
       "prvega odstavka tega člena ali vpliva nanjo.  "
      ],
      "text/plain": [
       "<IPython.core.display.Markdown object>"
      ]
     },
     "metadata": {},
     "output_type": "display_data"
    },
    {
     "data": {
      "text/markdown": [
       "- (5) Če je pri\r\n",
       "dejanjih iz prejšnjih odstavkov šlo za vrednostne papirje ali druge finančne\r\n",
       "instrumente velike vrednosti, se storilec kaznuje z zaporom do petih let.  "
      ],
      "text/plain": [
       "<IPython.core.display.Markdown object>"
      ]
     },
     "metadata": {},
     "output_type": "display_data"
    },
    {
     "data": {
      "text/markdown": [
       "## zloraba osebnih podatkov:  "
      ],
      "text/plain": [
       "<IPython.core.display.Markdown object>"
      ]
     },
     "metadata": {},
     "output_type": "display_data"
    },
    {
     "data": {
      "text/markdown": [
       "- (1) Kdor brez podlage v zakonu ali v\r\n",
       "osebni privolitvi posameznika, na katerega se osebni podatki nanašajo, osebne\r\n",
       "podatke, ki se obdelujejo na podlagi zakona ali osebne privolitve posameznika,\r\n",
       "posreduje v javno objavo ali jih javno objavi, se kaznuje z denarno kaznijo ali\r\n",
       "zaporom do enega leta.   "
      ],
      "text/plain": [
       "<IPython.core.display.Markdown object>"
      ]
     },
     "metadata": {},
     "output_type": "display_data"
    },
    {
     "data": {
      "text/markdown": [
       "- (2) Enako se kaznuje, kdor vdre ali\r\n",
       "nepooblaščeno vstopi v računalniško vodeno zbirko podatkov z namenom, da bi\r\n",
       "sebi ali komu drugemu pridobil kakšen osebni podatek.  "
      ],
      "text/plain": [
       "<IPython.core.display.Markdown object>"
      ]
     },
     "metadata": {},
     "output_type": "display_data"
    },
    {
     "data": {
      "text/markdown": [
       "- (3) Kdor na svetovnem medmrežju\r\n",
       "ali drugače javno objavi ali omogoči drugemu objavo osebnih\r\n",
       "podatkov žrtev kaznivih dejanj, žrtev kršitev pravic ali svoboščin, zaščitenih\r\n",
       "prič, ki se nahajajo v sodnih spisih sodnih postopkov, kjer po zakonu ali po\r\n",
       "odločitvi sodišča ni dovoljena prisotnost javnosti ali identifikacija žrtev ali\r\n",
       "zaščitenih prič ter osebnih zapisov o njih v zvezi s sodnim postopkom, na\r\n",
       "podlagi katerih se te osebe lahko določi ali so določljive, se kaznuje z\r\n",
       "zaporom do treh let.  "
      ],
      "text/plain": [
       "<IPython.core.display.Markdown object>"
      ]
     },
     "metadata": {},
     "output_type": "display_data"
    },
    {
     "data": {
      "text/markdown": [
       "- (4) Kdor s\r\n",
       "prevzemom identitete druge\r\n",
       "osebe ali z obdelavo njenih osebnih podatkov izkorišča njene pravice, si na\r\n",
       "njen račun pridobiva premoženjsko ali nepremoženjsko korist ali prizadene njeno\r\n",
       "osebno dostojanstvo, se kaznuje z zaporom od treh mesecev do treh let.   "
      ],
      "text/plain": [
       "<IPython.core.display.Markdown object>"
      ]
     },
     "metadata": {},
     "output_type": "display_data"
    },
    {
     "data": {
      "text/markdown": [
       "- (5) Kdor stori dejanje iz prvega odstavka\r\n",
       "tega člena tako, da posreduje v javno objavo ali javno objavi občutljive osebne\r\n",
       "podatke, se kaznuje z zaporom do dveh let.  "
      ],
      "text/plain": [
       "<IPython.core.display.Markdown object>"
      ]
     },
     "metadata": {},
     "output_type": "display_data"
    },
    {
     "data": {
      "text/markdown": [
       "- (6) Kdor javno objavi posnetke ali\r\n",
       "sporočila druge osebe s seksualno vsebino brez privolitve te osebe in s tem\r\n",
       "huje prizadene njeno zasebnost, se kaznuje z zaporom od treh mesecev do treh\r\n",
       "let.  "
      ],
      "text/plain": [
       "<IPython.core.display.Markdown object>"
      ]
     },
     "metadata": {},
     "output_type": "display_data"
    },
    {
     "data": {
      "text/markdown": [
       "- (7) Če stori\r\n",
       "dejanje iz prejšnjih odstavkov tega člena uradna oseba z zlorabo uradnega\r\n",
       "položaja ali uradnih pravic, se kaznuje z zaporom do petih let.  "
      ],
      "text/plain": [
       "<IPython.core.display.Markdown object>"
      ]
     },
     "metadata": {},
     "output_type": "display_data"
    },
    {
     "data": {
      "text/markdown": [
       "- (8) Pregon iz\r\n",
       "četrtega in šestega odstavka\r\n",
       "tega člena se začne na predlog.  "
      ],
      "text/plain": [
       "<IPython.core.display.Markdown object>"
      ]
     },
     "metadata": {},
     "output_type": "display_data"
    },
    {
     "data": {
      "text/markdown": [
       "## zloraba položaja ali zaupanja pri gospodarski dejavnosti:  "
      ],
      "text/plain": [
       "<IPython.core.display.Markdown object>"
      ]
     },
     "metadata": {},
     "output_type": "display_data"
    },
    {
     "data": {
      "text/markdown": [
       "- (1) Kdor pri opravljanju gospodarske\r\n",
       "dejavnosti zlorabi svoj položaj ali dano zaupanje, prekorači pravice ali opusti\r\n",
       "dolžnosti, ki jih ima na podlagi zakona, drugega predpisa, akta pravne osebe\r\n",
       "ali pravnega posla glede razpolaganja s tujim premoženjem ali koristmi,\r\n",
       "njihovega upravljanja ali zastopanja in s tem sebi ali komu drugemu pridobi protipravno premoženjsko\r\n",
       "korist ali povzroči premoženjsko škodo, se kaznuje z\r\n",
       "zaporom do petih let.   "
      ],
      "text/plain": [
       "<IPython.core.display.Markdown object>"
      ]
     },
     "metadata": {},
     "output_type": "display_data"
    },
    {
     "data": {
      "text/markdown": [
       "- (2) Če je bila z dejanjem iz\r\n",
       "prejšnjega odstavka pridobljena velika premoženjska korist ali povzročena\r\n",
       "velika premoženjska škoda in je storilec hotel sebi ali komu drugemu pridobiti\r\n",
       "tako premoženjsko korist ali drugemu povzročiti tako premoženjsko škodo, se\r\n",
       "kaznuje z zaporom od enega do osmih let.  "
      ],
      "text/plain": [
       "<IPython.core.display.Markdown object>"
      ]
     },
     "metadata": {},
     "output_type": "display_data"
    },
    {
     "data": {
      "text/markdown": [
       "- (3) Če je\r\n",
       "storilec z dejanjem iz prvega odstavka tega člena sebi ali komu drugemu\r\n",
       "pridobil nepremoženjsko korist, se kaznuje z zaporom do dveh let.  "
      ],
      "text/plain": [
       "<IPython.core.display.Markdown object>"
      ]
     },
     "metadata": {},
     "output_type": "display_data"
    },
    {
     "data": {
      "text/markdown": [
       "## zloraba pooblastil:  "
      ],
      "text/plain": [
       "<IPython.core.display.Markdown object>"
      ]
     },
     "metadata": {},
     "output_type": "display_data"
    },
    {
     "data": {
      "text/markdown": [
       "* No data available *"
      ],
      "text/plain": [
       "<IPython.core.display.Markdown object>"
      ]
     },
     "metadata": {},
     "output_type": "display_data"
    },
    {
     "data": {
      "text/markdown": [
       "## zloraba pravic iz socialnega zavarovanja:  "
      ],
      "text/plain": [
       "<IPython.core.display.Markdown object>"
      ]
     },
     "metadata": {},
     "output_type": "display_data"
    },
    {
     "data": {
      "text/markdown": [
       "- (1) Kdor hlini ali si povzroči bolezen\r\n",
       "ali delovno nezmožnost in s tem doseže, da se mu na podlagi socialnega zavarovanja\r\n",
       "prizna pravica, ki mu ne bi pripadala, se kaznuje z denarno kaznijo ali zaporom\r\n",
       "do enega leta.  "
      ],
      "text/plain": [
       "<IPython.core.display.Markdown object>"
      ]
     },
     "metadata": {},
     "output_type": "display_data"
    },
    {
     "data": {
      "text/markdown": [
       "- (2) Kdor pristojnemu organu predloži\r\n",
       "lažne listine ali da\r\n",
       "lažno izjavo in ga s tem preslepi, da izda odločbo o pokojnini,\r\n",
       "invalidnini ali denarnem socialnem dodatku, čeprav niso dani pogoji za izdajo\r\n",
       "take odločbe, se kaznuje z zaporom do dveh let.  "
      ],
      "text/plain": [
       "<IPython.core.display.Markdown object>"
      ]
     },
     "metadata": {},
     "output_type": "display_data"
    },
    {
     "data": {
      "text/markdown": [
       "## zloraba prostitucije:  "
      ],
      "text/plain": [
       "<IPython.core.display.Markdown object>"
      ]
     },
     "metadata": {},
     "output_type": "display_data"
    },
    {
     "data": {
      "text/markdown": [
       "- (1) Kdor zaradi izkoriščanja sodeluje\r\n",
       "pri prostituciji druge osebe ali kdor s silo, grožnjo ali preslepitvijo navede,\r\n",
       "pridobi ali spodbudi drugo osebo k prostituciji, se kaznuje z zaporom od treh\r\n",
       "mesecev do petih let.  "
      ],
      "text/plain": [
       "<IPython.core.display.Markdown object>"
      ]
     },
     "metadata": {},
     "output_type": "display_data"
    },
    {
     "data": {
      "text/markdown": [
       "- (2) Kdor zaradi izkoriščanja sodeluje pri\r\n",
       "prostituciji mladoletne osebe ali posega po prostituciji mladoletne osebe ali\r\n",
       "kdor s silo, grožnjo, preslepitvijo, novačenjem ali nagovarjanjem navede,\r\n",
       "pridobi ali spodbudi mladoletno osebo k prostituciji, se kaznuje z zaporom od\r\n",
       "enega do desetih let.   "
      ],
      "text/plain": [
       "<IPython.core.display.Markdown object>"
      ]
     },
     "metadata": {},
     "output_type": "display_data"
    },
    {
     "data": {
      "text/markdown": [
       "- (3) Če sta bili dejanji iz prvega ali\r\n",
       "drugega odstavka tega člena storjeni proti več osebam ali v okviru hudodelske\r\n",
       "združbe, se storilec kaznuje z zaporom od enega do dvanajstih let.   "
      ],
      "text/plain": [
       "<IPython.core.display.Markdown object>"
      ]
     },
     "metadata": {},
     "output_type": "display_data"
    },
    {
     "data": {
      "text/markdown": [
       "## zloraba uradnega položaja ali uradnih pravic:  "
      ],
      "text/plain": [
       "<IPython.core.display.Markdown object>"
      ]
     },
     "metadata": {},
     "output_type": "display_data"
    },
    {
     "data": {
      "text/markdown": [
       "- (1) Uradna\r\n",
       "oseba ali javni uslužbenec, ki izrabi svoj položaj ali prestopi meje uradnih\r\n",
       "pravic ali ne opravi uradne dolžnosti in s tem sebi ali komu drugemu pridobi kakšno\r\n",
       "nepremoženjsko korist ali komu prizadene škodo, se kaznuje z zaporom do dveh\r\n",
       "let.  "
      ],
      "text/plain": [
       "<IPython.core.display.Markdown object>"
      ]
     },
     "metadata": {},
     "output_type": "display_data"
    },
    {
     "data": {
      "text/markdown": [
       "- (2) Če storilec z dejanjem iz\r\n",
       "prejšnjega odstavka povzroči večjo škodo ali huje prekrši pravice drugega, se\r\n",
       "kaznuje z zaporom do treh let.  "
      ],
      "text/plain": [
       "<IPython.core.display.Markdown object>"
      ]
     },
     "metadata": {},
     "output_type": "display_data"
    },
    {
     "data": {
      "text/markdown": [
       "- (3) Uradna oseba ali javni uslužbenec,\r\n",
       "ki izrabi svoj uradni položaj ali prestopi meje uradnih pravic ali ne opravi\r\n",
       "uradne dolžnosti in s tem\r\n",
       "sebi ali komu drugemu pridobi protipravno premoženjsko korist, se kaznuje z zaporom od treh mesecev do petih let.  "
      ],
      "text/plain": [
       "<IPython.core.display.Markdown object>"
      ]
     },
     "metadata": {},
     "output_type": "display_data"
    },
    {
     "data": {
      "text/markdown": [
       "- (4) Enako kot v prejšnjem odstavku se\r\n",
       "kaznuje storilec iz prejšnjega odstavka, ki izkoristi svoj položaj ali vpliv za\r\n",
       "nezakonito povečanje lastnega premoženja v večji vrednosti.  "
      ],
      "text/plain": [
       "<IPython.core.display.Markdown object>"
      ]
     },
     "metadata": {},
     "output_type": "display_data"
    },
    {
     "data": {
      "text/markdown": [
       "- (5) Če je storilec z dejanjem iz\r\n",
       "tretjega in četrtega odstavka pridobil sebi ali komu drugemu veliko protipravno\r\n",
       "premoženjsko korist in je hotel pridobiti tako korist, se kaznuje z zaporom od\r\n",
       "enega do osmih let.  "
      ],
      "text/plain": [
       "<IPython.core.display.Markdown object>"
      ]
     },
     "metadata": {},
     "output_type": "display_data"
    },
    {
     "data": {
      "text/markdown": [
       "## zloraba volilne pravice:  "
      ],
      "text/plain": [
       "<IPython.core.display.Markdown object>"
      ]
     },
     "metadata": {},
     "output_type": "display_data"
    },
    {
     "data": {
      "text/markdown": [
       "- Kdor pri volitvah ali glasovanju glasuje\r\n",
       "namesto drugega pod njegovim imenom ali več kot enkrat glasuje pri istem glasovanju,\r\n",
       "se kaznuje z denarno kaznijo ali zaporom do enega leta.  "
      ],
      "text/plain": [
       "<IPython.core.display.Markdown object>"
      ]
     },
     "metadata": {},
     "output_type": "display_data"
    },
    {
     "data": {
      "text/markdown": [
       "## zloraba znamenj za pomoč in nevarnost:  "
      ],
      "text/plain": [
       "<IPython.core.display.Markdown object>"
      ]
     },
     "metadata": {},
     "output_type": "display_data"
    },
    {
     "data": {
      "text/markdown": [
       "- (1) Kdor zlorabi znamenje za pomoč ali\r\n",
       "znamenje za nevarnost ali neutemeljeno kliče na pomoč ali lažno sporoči, da\r\n",
       "grozi nevarnost in s tem povzroči, da so državni organi ali druge pristojne\r\n",
       "organizacije ukrepale brez potrebe ali neupravičeno uporabile sredstva sistema\r\n",
       "zaščite, reševanja in pomoči, se kaznuje z zaporom do treh let.  "
      ],
      "text/plain": [
       "<IPython.core.display.Markdown object>"
      ]
     },
     "metadata": {},
     "output_type": "display_data"
    },
    {
     "data": {
      "text/markdown": [
       "- (2) Če je bilo z dejanjem iz\r\n",
       "prejšnjega odstavka preprečeno ali ovirano delo pravosodnih ali drugih državnih\r\n",
       "organov in je bila s tem preprečena storitev uradnega dejanja ali povzročena\r\n",
       "večja premoženjska škoda, se storilec kaznuje z zaporom do petih let.  "
      ],
      "text/plain": [
       "<IPython.core.display.Markdown object>"
      ]
     },
     "metadata": {},
     "output_type": "display_data"
    },
    {
     "data": {
      "text/markdown": [
       "## šikaniranje na delovnem mestu:  "
      ],
      "text/plain": [
       "<IPython.core.display.Markdown object>"
      ]
     },
     "metadata": {},
     "output_type": "display_data"
    },
    {
     "data": {
      "text/markdown": [
       "- (1) Kdor na delovnem mestu ali v zvezi\r\n",
       "z delom s spolnim nadlegovanjem, psihičnim nasiljem, trpinčenjem ali neenakopravnim\r\n",
       "obravnavanjem povzroči drugemu zaposlenemu ponižanje ali prestrašenost, se\r\n",
       "kaznuje z zaporom do dveh let.  "
      ],
      "text/plain": [
       "<IPython.core.display.Markdown object>"
      ]
     },
     "metadata": {},
     "output_type": "display_data"
    },
    {
     "data": {
      "text/markdown": [
       "- (2) Če ima dejanje iz prejšnjega\r\n",
       "odstavka za posledico psihično, psihosomatsko ali fizično obolenje ali\r\n",
       "zmanjšanje delovne storilnosti zaposlenega, se storilec kaznuje z zaporom do\r\n",
       "treh let.  "
      ],
      "text/plain": [
       "<IPython.core.display.Markdown object>"
      ]
     },
     "metadata": {},
     "output_type": "display_data"
    },
    {
     "data": {
      "text/markdown": [
       "## ščuvanje in javno poveličevanje terorističnih dejanj:  "
      ],
      "text/plain": [
       "<IPython.core.display.Markdown object>"
      ]
     },
     "metadata": {},
     "output_type": "display_data"
    },
    {
     "data": {
      "text/markdown": [
       "- (1) Kdor ščuva k storitvi kaznivih\r\n",
       "dejanj iz 108. člena tega zakonika s tem da razširja sporočila ali jih daje na\r\n",
       "razpolago drugim osebam na kakšen drug način in tako povzroči nevarnost za storitev enega ali več takih kaznivih dejanj, se kaznuje z zaporom od enega\r\n",
       "do desetih let.  "
      ],
      "text/plain": [
       "<IPython.core.display.Markdown object>"
      ]
     },
     "metadata": {},
     "output_type": "display_data"
    },
    {
     "data": {
      "text/markdown": [
       "- (2) Enako se kaznuje, kdor neposredno\r\n",
       "ali posredno javno poveličuje ali zagovarja kazniva dejanja iz 108. člena ali\r\n",
       "kaznivo dejanje iz prejšnjega odstavka s tem, da razširja sporočila ali jih\r\n",
       "daje na razpolago javnosti in s tem povzroči nevarnost za storitev enega ali več takih dejanj.  "
      ],
      "text/plain": [
       "<IPython.core.display.Markdown object>"
      ]
     },
     "metadata": {},
     "output_type": "display_data"
    },
    {
     "data": {
      "text/markdown": [
       "- (3) Pregon za kazniva dejanja iz\r\n",
       "prejšnjih odstavkov se začne z dovoljenjem ministra za pravosodje.  "
      ],
      "text/plain": [
       "<IPython.core.display.Markdown object>"
      ]
     },
     "metadata": {},
     "output_type": "display_data"
    },
    {
     "data": {
      "text/markdown": [
       "## ščuvanje k nasilni spremembi ustavne ureditve:  "
      ],
      "text/plain": [
       "<IPython.core.display.Markdown object>"
      ]
     },
     "metadata": {},
     "output_type": "display_data"
    },
    {
     "data": {
      "text/markdown": [
       "- (1) Kdor, zato da bi ogrozil obstoj,\r\n",
       "ustavno ureditev ali varnost Republike Slovenije, poziva ali ščuva k neposredni\r\n",
       "storitvi kaznivih dejanj iz 348. do 357. člena tega zakonika, se kaznuje z\r\n",
       "zaporom do petih let.  "
      ],
      "text/plain": [
       "<IPython.core.display.Markdown object>"
      ]
     },
     "metadata": {},
     "output_type": "display_data"
    },
    {
     "data": {
      "text/markdown": [
       "- (2) Kdor stori dejanje iz prejšnjega\r\n",
       "odstavka z premoženjsko ali kako drugo pomočjo iz tujine, se kaznuje z zaporom\r\n",
       "od šestih mesecev do petih let.  "
      ],
      "text/plain": [
       "<IPython.core.display.Markdown object>"
      ]
     },
     "metadata": {},
     "output_type": "display_data"
    },
    {
     "data": {
      "text/markdown": [
       "- (3) Kdor izdeluje ali razmnožuje\r\n",
       "gradivo, s katerim se poziva ali ščuva k storitvi kaznivih dejanj iz prvega\r\n",
       "odstavka tega člena, zato da bi ga sam ali kdo drug razširjal, ali kdor z\r\n",
       "enakim namenom hrani večjo količino takega gradiva ali ga razširja, se kaznuje\r\n",
       "z zaporom do treh let.  "
      ],
      "text/plain": [
       "<IPython.core.display.Markdown object>"
      ]
     },
     "metadata": {},
     "output_type": "display_data"
    },
    {
     "data": {
      "text/markdown": [
       "## žaljiva obdolžitev:  "
      ],
      "text/plain": [
       "<IPython.core.display.Markdown object>"
      ]
     },
     "metadata": {},
     "output_type": "display_data"
    },
    {
     "data": {
      "text/markdown": [
       "- (1) Kdor o kom trdi ali raznaša kaj,\r\n",
       "kar lahko škoduje njegovi časti ali dobremu imenu, se kaznuje z denarno kaznijo\r\n",
       "ali zaporom do treh mesecev.  "
      ],
      "text/plain": [
       "<IPython.core.display.Markdown object>"
      ]
     },
     "metadata": {},
     "output_type": "display_data"
    },
    {
     "data": {
      "text/markdown": [
       "- (2) Če je dejanje iz prejšnjega\r\n",
       "odstavka storjeno s tiskom, po radiu, televiziji ali z drugim sredstvom javnega\r\n",
       "obveščanja ali na spletnih straneh ali na javnem\r\n",
       "shodu, se storilec kaznuje z denarno kaznijo ali zaporom do šestih mesecev.  "
      ],
      "text/plain": [
       "<IPython.core.display.Markdown object>"
      ]
     },
     "metadata": {},
     "output_type": "display_data"
    },
    {
     "data": {
      "text/markdown": [
       "- (3) Če je tisto, kar se trdi ali\r\n",
       "raznaša, take narave, da ima hude posledice za oškodovanca, se storilec kaznuje\r\n",
       "z denarno kaznijo ali zaporom do enega leta.  "
      ],
      "text/plain": [
       "<IPython.core.display.Markdown object>"
      ]
     },
     "metadata": {},
     "output_type": "display_data"
    },
    {
     "data": {
      "text/markdown": [
       "- (4) Če dokaže resničnost svoje trditve\r\n",
       "ali če dokaže, da je imel utemeljen razlog verjeti v resničnost tistega, kar je\r\n",
       "trdil ali raznašal, se storilec ne kaznuje za žaljivo obdolžitev, lahko pa se\r\n",
       "kaznuje za razžalitev (158. člen) ali očitanje kaznivega dejanja z namenom\r\n",
       "zaničevanja (162. člen).  "
      ],
      "text/plain": [
       "<IPython.core.display.Markdown object>"
      ]
     },
     "metadata": {},
     "output_type": "display_data"
    },
    {
     "data": {
      "text/markdown": [
       "- (5) Če kdo za koga trdi ali raznaša,\r\n",
       "da je storil kaznivo dejanje, za katero se storilec preganja po uradni\r\n",
       "dolžnosti, se sme resničnost, da je oškodovanec storil kaznivo dejanje,\r\n",
       "dokazovati le s pravnomočno sodbo, z drugimi dokazi pa le, če pregon ali\r\n",
       "sojenje ni mogoče ali ni dovoljeno.  "
      ],
      "text/plain": [
       "<IPython.core.display.Markdown object>"
      ]
     },
     "metadata": {},
     "output_type": "display_data"
    },
    {
     "data": {
      "text/markdown": [
       "- (6) Če je bila žaljiva obdolžitev, da\r\n",
       "je oškodovanec storil kaznivo dejanje, za katero se storilec preganja po uradni\r\n",
       "dolžnosti, storjena v okoliščinah iz tretjega odstavka 158. člena tega zakonika, se\r\n",
       "storilec ne kaznuje za žaljivo obdolžitev, čeprav ni pravnomočne sodbe, če\r\n",
       "dokaže, da je imel utemeljen razlog verjeti v resničnost tistega, kar je trdil\r\n",
       "ali raznašal.  "
      ],
      "text/plain": [
       "<IPython.core.display.Markdown object>"
      ]
     },
     "metadata": {},
     "output_type": "display_data"
    }
   ],
   "source": [
    "for KD, alineje in zakonik.items():\n",
    "    if KD == \"kršitev spolne nedotakljivost z zlorabo položaja\":\n",
    "        KD = \"kršitev spolne nedotakljivosti z zlorabo položaja\"\n",
    "    display(Markdown(f\"## {KD}:  \"))\n",
    "    if not alineje:\n",
    "        display(Markdown(f\"* No data available *\"))\n",
    "        continue\n",
    "    for alineja in alineje:\n",
    "        display(Markdown(f\"- {alineja}  \"))\n"
   ]
  },
  {
   "cell_type": "code",
   "execution_count": null,
   "metadata": {},
   "outputs": [],
   "source": []
  }
 ],
 "metadata": {
  "interpreter": {
   "hash": "19419c6bfb2b195f98a3b043847f1bbcae44e47f0c680028bca36c8637fb1768"
  },
  "kernelspec": {
   "display_name": "Python 3.10.1 64-bit",
   "language": "python",
   "name": "python3"
  },
  "language_info": {
   "codemirror_mode": {
    "name": "ipython",
    "version": 3
   },
   "file_extension": ".py",
   "mimetype": "text/x-python",
   "name": "python",
   "nbconvert_exporter": "python",
   "pygments_lexer": "ipython3",
   "version": "3.10.1"
  },
  "orig_nbformat": 4
 },
 "nbformat": 4,
 "nbformat_minor": 2
}
