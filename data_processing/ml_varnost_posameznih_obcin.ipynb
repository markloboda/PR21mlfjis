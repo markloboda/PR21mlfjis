{
 "cells": [
  {
   "cell_type": "markdown",
   "metadata": {},
   "source": [
    "## 1. Importi"
   ]
  },
  {
   "cell_type": "code",
   "execution_count": null,
   "metadata": {},
   "outputs": [],
   "source": [
    "import numpy as np\n",
    "import pandas as pd\n",
    "import matplotlib.pyplot as plt\n",
    "from datetime import datetime\n",
    "import csv\n",
    "import os.path"
   ]
  },
  {
   "cell_type": "markdown",
   "metadata": {},
   "source": [
    "## 2. Branje podatkov"
   ]
  },
  {
   "cell_type": "code",
   "execution_count": null,
   "metadata": {},
   "outputs": [],
   "source": [
    "with open('../data/kd2019.csv', 'rt') as csvfile:\n",
    "    reader = csv.reader(csvfile, delimiter=';')\n",
    "    head1 = next(reader)\n",
    "    none_handler = lambda i : i or None\n",
    "    main_data = np.array([none_handler(i) for i in [row for row in reader]])"
   ]
  },
  {
   "cell_type": "markdown",
   "metadata": {},
   "source": [
    "### 2.1 Priprava podatkov"
   ]
  },
  {
   "cell_type": "code",
   "execution_count": null,
   "metadata": {},
   "outputs": [],
   "source": [
    "cities, counts = np.unique(main_data[:, 19], return_counts=True)\n",
    "dict_id_city = dict((id, str.lower(city)) for id, city in enumerate(cities))\n",
    "dict_city_id = dict((str.lower(city), id) for id, city in enumerate(cities))"
   ]
  },
  {
   "cell_type": "markdown",
   "metadata": {},
   "source": [
    "## 3. Štetje zločinov v posamezni občini"
   ]
  },
  {
   "cell_type": "code",
   "execution_count": null,
   "metadata": {},
   "outputs": [],
   "source": [
    "# count number of occurences of each value in column\n",
    "dict_cityId_crimeCount = dict((dict_city_id[str.lower(cities[i])], counts[i]) for i in range(len(cities)))\n",
    "\n",
    "y_axis = np.array([str.capitalize(dict_id_city[cityId]) for cityId in dict_cityId_crimeCount.keys()])\n",
    "x_axis = np.array([dict_cityId_crimeCount[cityId] for cityId in dict_cityId_crimeCount.keys()])\n",
    "\n",
    "counts_argsort = np.argsort(x_axis)[::-1]\n",
    "\n",
    "# make graph of number of occurences of each value in column\n",
    "plt.figure(figsize=(20, 10))\n",
    "plt.xticks(rotation=90)\n",
    "plt.bar(y_axis[counts_argsort], x_axis[counts_argsort])\n",
    "plt.show()"
   ]
  },
  {
   "cell_type": "markdown",
   "metadata": {},
   "source": [
    "Že takoj na prvi pogled je razvidno, da se največ zločina zgodi v Ljubljani. Sigurno pa na podlagi teh rezultatov ne moremo odgovoriti na vprašanje, \"Katera občina je najbolj varna/nevarna?\". Dodal bom podatke za število prebivalcev v vsaki občini."
   ]
  },
  {
   "cell_type": "code",
   "execution_count": null,
   "metadata": {},
   "outputs": [],
   "source": [
    "with open('../data/stevilo_prebivalcev_po_obcinah_2019julij.csv', 'rt', encoding=\"utf-8\") as csvfile:\n",
    "    reader = csv.reader(csvfile, delimiter=';')\n",
    "    head2 = next(reader)\n",
    "    none_handler = lambda i : i or None\n",
    "    count_per_city = np.array([none_handler(i) for i in [row for row in reader]])"
   ]
  },
  {
   "cell_type": "code",
   "execution_count": null,
   "metadata": {},
   "outputs": [],
   "source": [
    "# if name contains / split by / and keep first part\n",
    "count_per_city = [(str.split(row[0], '/')[0], row[1]) for row in count_per_city]\n",
    "dict_cityId_popCount = dict([(dict_city_id[str.lower(count_per_city[i][0])], count_per_city[i][1]) for i in range(len(count_per_city)) if str.lower(count_per_city[i][0]) in dict_city_id.keys()])\n",
    "\n",
    "# delete unknown values from cities we are watching\n",
    "to_be_deleted = []\n",
    "for id in dict_id_city.keys():\n",
    "    if id not in dict_cityId_popCount.keys():\n",
    "        to_be_deleted.append(id)\n",
    "\n",
    "print(f\"Izbrisani so bili podatki {[dict_id_city[id] for id in to_be_deleted]}, saj za njih ne poznamo prave občine, ali pa le ne poznamo števila prebivalcev.\")\n",
    "\n",
    "for id in to_be_deleted:\n",
    "    del dict_city_id[dict_id_city[id]]\n",
    "    del dict_id_city[id]"
   ]
  },
  {
   "cell_type": "code",
   "execution_count": null,
   "metadata": {},
   "outputs": [],
   "source": [
    "# normalized data of crimes per city by population of city\n",
    "crime_per_city_norm0 = np.array([tuple([cityId, float(dict_cityId_crimeCount[cityId]) / float(dict_cityId_popCount[cityId])]) for cityId in dict_id_city.keys()])\n",
    "\n",
    "cityId, x_axis = zip(*crime_per_city_norm0)\n",
    "\n",
    "x_axis_argsort = np.argsort(x_axis)[::-1]\n",
    "x_axis = np.array(x_axis)\n",
    "y_axis = np.array([str.capitalize(dict_id_city[id]) for id in cityId])\n",
    "\n",
    "\n",
    "plt.figure(figsize=(20, 10))\n",
    "plt.xticks(rotation=90)\n",
    "plt.bar(y_axis[x_axis_argsort], x_axis[x_axis_argsort])\n",
    "plt.show()"
   ]
  },
  {
   "cell_type": "markdown",
   "metadata": {},
   "source": [
    "Murska sobota vrne največjo vrednost normaliziranega števila kriminala s številom prebivalcev. Zakaj?\n",
    "Vse primere zločina v Murski Soboti bom zapisal v datoteko."
   ]
  },
  {
   "cell_type": "code",
   "execution_count": null,
   "metadata": {},
   "outputs": [],
   "source": [
    "ms_crime = np.array([i for i in main_data if str.lower(i[19]) == 'murska sobota'])\n",
    "\n",
    "if (not os.path.exists('../data/kd2019_murska_sobota.csv')):\n",
    "    open('../data/kd2019_murska_sobota.csv', 'x')\n",
    "\n",
    "with open('../data/kd2019_murska_sobota.csv', 'w', encoding=\"utf-8\") as csvfile:\n",
    "    writer = csv.writer(csvfile)\n",
    "    writer.writerow(head1)\n",
    "    writer.writerows(ms_crime)"
   ]
  }
 ],
 "metadata": {
  "interpreter": {
   "hash": "f35621b5f5adf8bc7b76cd61c0e64075e09b8e2c83dd392c0c22200df920c13e"
  },
  "kernelspec": {
   "display_name": "Python 3.9.6 64-bit",
   "language": "python",
   "name": "python3"
  },
  "language_info": {
   "codemirror_mode": {
    "name": "ipython",
    "version": 3
   },
   "file_extension": ".py",
   "mimetype": "text/x-python",
   "name": "python",
   "nbconvert_exporter": "python",
   "pygments_lexer": "ipython3",
   "version": "3.9.6"
  },
  "orig_nbformat": 4
 },
 "nbformat": 4,
 "nbformat_minor": 2
}
