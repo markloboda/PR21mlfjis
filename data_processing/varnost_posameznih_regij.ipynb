{
 "cells": [
  {
   "cell_type": "markdown",
   "metadata": {},
   "source": [
    "## 1. Importi"
   ]
  },
  {
   "cell_type": "code",
   "execution_count": 1,
   "metadata": {},
   "outputs": [],
   "source": [
    "import numpy as np\n",
    "import pandas as pd\n",
    "import matplotlib.pyplot as plt\n",
    "from datetime import datetime\n",
    "import csv\n",
    "import os.path\n",
    "import json\n",
    "from collections import defaultdict\n"
   ]
  },
  {
   "cell_type": "markdown",
   "metadata": {},
   "source": [
    "## 2. Branje podatkov"
   ]
  },
  {
   "cell_type": "code",
   "execution_count": 2,
   "metadata": {},
   "outputs": [],
   "source": [
    "with open('../data/kd2018.csv', 'rt') as csvfile:\n",
    "    reader = csv.reader(csvfile, delimiter=';')\n",
    "    head0 = next(reader)\n",
    "    none_handler = lambda i : i or None\n",
    "    main_data18 = np.array([none_handler(i) for i in [row for row in reader]])"
   ]
  },
  {
   "cell_type": "code",
   "execution_count": 3,
   "metadata": {},
   "outputs": [],
   "source": [
    "with open('../data/kd2019.csv', 'rt') as csvfile:\n",
    "    reader = csv.reader(csvfile, delimiter=';')\n",
    "    head1 = next(reader)\n",
    "    none_handler = lambda i : i or None\n",
    "    main_data19 = np.array([none_handler(i) for i in [row for row in reader]])"
   ]
  },
  {
   "cell_type": "code",
   "execution_count": 4,
   "metadata": {},
   "outputs": [],
   "source": [
    "with open('../data/kd2020.csv', 'rt') as csvfile:\n",
    "    reader = csv.reader(csvfile, delimiter=';')\n",
    "    head2 = next(reader)\n",
    "    none_handler = lambda i : i or None\n",
    "    main_data20 = np.array([none_handler(i) for i in [row for row in reader]])"
   ]
  },
  {
   "cell_type": "code",
   "execution_count": 5,
   "metadata": {},
   "outputs": [],
   "source": [
    "with open('../data/kd2021.csv', 'rt') as csvfile:\n",
    "    reader = csv.reader(csvfile, delimiter=';')\n",
    "    head3 = next(reader)\n",
    "    none_handler = lambda i : i or None\n",
    "    main_data21 = np.array([none_handler(i) for i in [row for row in reader]])"
   ]
  },
  {
   "cell_type": "code",
   "execution_count": 6,
   "metadata": {},
   "outputs": [],
   "source": [
    "with open('../data/obcine_slovenije.csv', 'rt', encoding='utf8') as csvfile:\n",
    "    reader = csv.reader(csvfile, delimiter=',')\n",
    "    head_obcine = next(reader)\n",
    "    none_handler = lambda i : i or None\n",
    "    obcine = np.array([none_handler(i) for i in [row for row in reader]])"
   ]
  },
  {
   "cell_type": "markdown",
   "metadata": {},
   "source": [
    "## 3. Priprava podatkov"
   ]
  },
  {
   "cell_type": "code",
   "execution_count": 7,
   "metadata": {},
   "outputs": [],
   "source": [
    "dict_obcina_regija = dict((str.lower(x[0]), str.lower(x[7])) for x in obcine)"
   ]
  },
  {
   "cell_type": "markdown",
   "metadata": {},
   "source": [
    "Odstranjevanje duplikatov:"
   ]
  },
  {
   "cell_type": "code",
   "execution_count": 8,
   "metadata": {},
   "outputs": [],
   "source": [
    "found_ids = set()\n",
    "rows_to_keep = np.array([])\n",
    "for i in range(len(main_data18)):\n",
    "    if (main_data18[i][0] not in found_ids):\n",
    "        rows_to_keep = np.append(rows_to_keep, True)\n",
    "        found_ids.add(main_data18[i][0])\n",
    "    else:\n",
    "        rows_to_keep = np.append(rows_to_keep, False)\n",
    "\n",
    "main_data18_filtered = main_data18[np.ma.make_mask(rows_to_keep)]\n",
    "\n",
    "found_ids = set()\n",
    "rows_to_keep = np.array([])\n",
    "for i in range(len(main_data19)):\n",
    "    if (main_data19[i][0] not in found_ids):\n",
    "        rows_to_keep = np.append(rows_to_keep, True)\n",
    "        found_ids.add(main_data19[i][0])\n",
    "    else:\n",
    "        rows_to_keep = np.append(rows_to_keep, False)\n",
    "\n",
    "main_data19_filtered = main_data19[np.ma.make_mask(rows_to_keep)]\n",
    "\n",
    "found_ids = set()\n",
    "rows_to_keep = np.array([])\n",
    "for i in range(len(main_data20)):\n",
    "    if (main_data20[i][0] not in found_ids):\n",
    "        rows_to_keep = np.append(rows_to_keep, True)\n",
    "        found_ids.add(main_data20[i][0])\n",
    "    else:\n",
    "        rows_to_keep = np.append(rows_to_keep, False)\n",
    "\n",
    "main_data20_filtered = main_data20[np.ma.make_mask(rows_to_keep)]\n",
    "\n",
    "found_ids = set()\n",
    "rows_to_keep = np.array([])\n",
    "for i in range(len(main_data21)):\n",
    "    if (main_data21[i][0] not in found_ids):\n",
    "        rows_to_keep = np.append(rows_to_keep, True)\n",
    "        found_ids.add(main_data21[i][0])\n",
    "    else:\n",
    "        rows_to_keep = np.append(rows_to_keep, False)\n",
    "\n",
    "main_data21_filtered = main_data21[np.ma.make_mask(rows_to_keep)]\n",
    "\n",
    "main_data = np.concatenate((main_data18_filtered, main_data19_filtered, main_data20_filtered, main_data21_filtered))"
   ]
  },
  {
   "cell_type": "markdown",
   "metadata": {},
   "source": [
    "Izračunana vrednost \"nevarnosti\" za vse zločine s formulo: \n",
    "$$ x = ((max\\_jailtime + avg\\_actual\\_jailtime) * dangerousness) $$\n",
    "V primeru, da je avg_actual_jailtime = NaN, namesto tega dodam max_jailtime, saj to pomeni, da se v naših podatkih zločinov ta zločin ni nikoli zgodil in predpostavimo, da je to zelo hud zločin. Primer takega zločina je \"genocid\"."
   ]
  },
  {
   "cell_type": "code",
   "execution_count": 9,
   "metadata": {},
   "outputs": [],
   "source": [
    "# read json data from kazni_dict.json\n",
    "with open('../data/kazni_dict.json', 'r', encoding='utf8') as f:\n",
    "    kazni_dict = json.load(f)"
   ]
  },
  {
   "cell_type": "code",
   "execution_count": 10,
   "metadata": {},
   "outputs": [],
   "source": [
    "kazni_utezi = dict()\n",
    "for kd, values in kazni_dict.items():\n",
    "        if (pd.isna(values['average_actual_jailtime'])):\n",
    "            x = values['max_jailtime'] * 2 * values['dangerousness']\n",
    "        else:\n",
    "            x = (values['max_jailtime'] + values['average_actual_jailtime']) * values['dangerousness']\n",
    "        kazni_utezi[kd] = x"
   ]
  },
  {
   "cell_type": "code",
   "execution_count": 12,
   "metadata": {},
   "outputs": [],
   "source": [
    "regije = dict.fromkeys([str.lower(x) for x in np.unique(obcine[:, 7])], 0)\n",
    "city_errors = set()\n",
    "kd_errors_dict = defaultdict(int)\n",
    "\n",
    "\n",
    "for kd in main_data:\n",
    "    city = str.lower(kd[19])\n",
    "    kd = str.lower(str.strip(str.split(kd[6], '-')[-1]))\n",
    "    if (city == 'neznana ue' or city == 'neznana obč' or city == 'ni podatka' or kd == 'poneverba in neupravičena uporaba tujega premoženja' or kd == ''):\n",
    "        continue\n",
    "    if (city == 'šentjur pri celju'):\n",
    "        city = 'šentjur'\n",
    "    try:\n",
    "        regije[dict_obcina_regija[city]] += kazni_utezi[kd]\n",
    "    except KeyError:\n",
    "        if (city not in dict_obcina_regija):\n",
    "            city_errors.add(city)\n",
    "            print(f\"NAPAKA PRI \\\"{city}\\\"\")\n",
    "        else:\n",
    "            kd_errors_dict[kd] += 1\n",
    "            print(f\"NAPAKA PRI \\\"{kd}\\\"\")\n",
    "\n",
    "# kd_errors = np.array(list(kd_errors_dict.items()), dtype=object)\n",
    "# kd_errors = kd_errors[np.argsort(kd_errors[:, 1])[::-1]]\n",
    "# kd_errors"
   ]
  }
 ],
 "metadata": {
  "interpreter": {
   "hash": "3cc7452d59a4128c7da48b52ec3fb3fa0d01ea1f342cddc3c37340fefa791b1e"
  },
  "kernelspec": {
   "display_name": "Python 3.9.6 64-bit",
   "language": "python",
   "name": "python3"
  },
  "language_info": {
   "codemirror_mode": {
    "name": "ipython",
    "version": 3
   },
   "file_extension": ".py",
   "mimetype": "text/x-python",
   "name": "python",
   "nbconvert_exporter": "python",
   "pygments_lexer": "ipython3",
   "version": "3.9.6"
  },
  "orig_nbformat": 4
 },
 "nbformat": 4,
 "nbformat_minor": 2
}
