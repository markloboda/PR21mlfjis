{
 "cells": [
  {
   "cell_type": "markdown",
   "metadata": {},
   "source": [
    "## 1. Importi"
   ]
  },
  {
   "cell_type": "code",
   "execution_count": 1,
   "metadata": {},
   "outputs": [],
   "source": [
    "from collections import defaultdict\n",
    "import json\n",
    "import os.path\n",
    "import csv\n",
    "from datetime import datetime\n",
    "import numpy as np\n",
    "import pandas as pd\n",
    "import matplotlib.pyplot as plt\n",
    "import mplcyberpunk\n",
    "plt.style.use(\"cyberpunk\")\n"
   ]
  },
  {
   "cell_type": "markdown",
   "metadata": {},
   "source": [
    "## 2. Branje podatkov"
   ]
  },
  {
   "cell_type": "code",
   "execution_count": 2,
   "metadata": {},
   "outputs": [],
   "source": [
    "with open('../data/kd2018.csv', 'rt', encoding=\"cp1250\") as csvfile:\n",
    "    reader = csv.reader(csvfile, delimiter=';')\n",
    "    head0 = next(reader)\n",
    "    none_handler = lambda i : i or None\n",
    "    main_data18 = np.array([none_handler(i) for i in [row for row in reader]])"
   ]
  },
  {
   "cell_type": "code",
   "execution_count": 3,
   "metadata": {},
   "outputs": [],
   "source": [
    "with open('../data/kd2019.csv', 'rt', encoding=\"cp1250\") as csvfile:\n",
    "    reader = csv.reader(csvfile, delimiter=';')\n",
    "    head1 = next(reader)\n",
    "    none_handler = lambda i : i or None\n",
    "    main_data19 = np.array([none_handler(i) for i in [row for row in reader]])"
   ]
  },
  {
   "cell_type": "code",
   "execution_count": 4,
   "metadata": {},
   "outputs": [],
   "source": [
    "with open('../data/kd2020.csv', 'rt', encoding=\"cp1250\") as csvfile:\n",
    "    reader = csv.reader(csvfile, delimiter=';')\n",
    "    head2 = next(reader)\n",
    "    none_handler = lambda i : i or None\n",
    "    main_data20 = np.array([none_handler(i) for i in [row for row in reader]])"
   ]
  },
  {
   "cell_type": "code",
   "execution_count": 5,
   "metadata": {},
   "outputs": [],
   "source": [
    "with open('../data/kd2021.csv', 'rt', encoding=\"cp1250\") as csvfile:\n",
    "    reader = csv.reader(csvfile, delimiter=';')\n",
    "    head3 = next(reader)\n",
    "    none_handler = lambda i : i or None\n",
    "    main_data21 = np.array([none_handler(i) for i in [row for row in reader]])"
   ]
  },
  {
   "cell_type": "code",
   "execution_count": 6,
   "metadata": {},
   "outputs": [],
   "source": [
    "with open('../data/obcine_slovenije.csv', 'rt', encoding='utf8') as csvfile:\n",
    "    reader = csv.reader(csvfile, delimiter=',')\n",
    "    head_obcine = next(reader)\n",
    "    none_handler = lambda i : i or None\n",
    "    obcine = np.array([none_handler(i) for i in [row for row in reader]])"
   ]
  },
  {
   "cell_type": "markdown",
   "metadata": {},
   "source": [
    "## 3. Priprava podatkov"
   ]
  },
  {
   "cell_type": "code",
   "execution_count": 7,
   "metadata": {},
   "outputs": [],
   "source": [
    "dict_obcina_regija = dict((str.lower(x[0]), str.lower(x[7])) for x in obcine)"
   ]
  },
  {
   "cell_type": "markdown",
   "metadata": {},
   "source": [
    "Odstranjevanje duplikatov:"
   ]
  },
  {
   "cell_type": "code",
   "execution_count": 8,
   "metadata": {},
   "outputs": [],
   "source": [
    "found_ids = set()\n",
    "rows_to_keep = np.array([])\n",
    "for i in range(len(main_data18)):\n",
    "    if (main_data18[i][0] not in found_ids):\n",
    "        rows_to_keep = np.append(rows_to_keep, True)\n",
    "        found_ids.add(main_data18[i][0])\n",
    "    else:\n",
    "        rows_to_keep = np.append(rows_to_keep, False)\n",
    "\n",
    "main_data18_filtered = main_data18[np.ma.make_mask(rows_to_keep)]\n",
    "\n",
    "found_ids = set()\n",
    "rows_to_keep = np.array([])\n",
    "for i in range(len(main_data19)):\n",
    "    if (main_data19[i][0] not in found_ids):\n",
    "        rows_to_keep = np.append(rows_to_keep, True)\n",
    "        found_ids.add(main_data19[i][0])\n",
    "    else:\n",
    "        rows_to_keep = np.append(rows_to_keep, False)\n",
    "\n",
    "main_data19_filtered = main_data19[np.ma.make_mask(rows_to_keep)]\n",
    "\n",
    "found_ids = set()\n",
    "rows_to_keep = np.array([])\n",
    "for i in range(len(main_data20)):\n",
    "    if (main_data20[i][0] not in found_ids):\n",
    "        rows_to_keep = np.append(rows_to_keep, True)\n",
    "        found_ids.add(main_data20[i][0])\n",
    "    else:\n",
    "        rows_to_keep = np.append(rows_to_keep, False)\n",
    "\n",
    "main_data20_filtered = main_data20[np.ma.make_mask(rows_to_keep)]\n",
    "\n",
    "found_ids = set()\n",
    "rows_to_keep = np.array([])\n",
    "for i in range(len(main_data21)):\n",
    "    if (main_data21[i][0] not in found_ids):\n",
    "        rows_to_keep = np.append(rows_to_keep, True)\n",
    "        found_ids.add(main_data21[i][0])\n",
    "    else:\n",
    "        rows_to_keep = np.append(rows_to_keep, False)\n",
    "\n",
    "main_data21_filtered = main_data21[np.ma.make_mask(rows_to_keep)]\n",
    "\n",
    "main_data = np.concatenate((main_data18_filtered, main_data19_filtered, main_data20_filtered, main_data21_filtered))"
   ]
  },
  {
   "cell_type": "markdown",
   "metadata": {},
   "source": [
    "Izračunana vrednost \"nevarnosti\" za vse zločine s formulo: \n",
    "$$ x = ((max\\_jailtime + avg\\_actual\\_jailtime) * dangerousness) $$\n",
    "V primeru, da je avg_actual_jailtime = NaN, namesto tega dodam max_jailtime, saj to pomeni, da se v naših podatkih zločinov ta zločin ni nikoli zgodil in predpostavimo, da je to zelo hud zločin. Primer takega zločina je \"genocid\"."
   ]
  },
  {
   "cell_type": "code",
   "execution_count": 9,
   "metadata": {},
   "outputs": [],
   "source": [
    "# read json data from kazni_dict.json\n",
    "with open('../data/kazni_dict.json', 'r', encoding='utf8') as f:\n",
    "    kazni_dict = json.load(f)"
   ]
  },
  {
   "cell_type": "code",
   "execution_count": 10,
   "metadata": {},
   "outputs": [],
   "source": [
    "kazni_utezi = dict()\n",
    "for kd, values in kazni_dict.items():\n",
    "        if (pd.isna(values['average_actual_jailtime'])):\n",
    "            x = values['max_jailtime'] * 2 * values['dangerousness']\n",
    "        else:\n",
    "            x = (values['max_jailtime'] + values['average_actual_jailtime']) * values['dangerousness']\n",
    "        kazni_utezi[kd] = x"
   ]
  },
  {
   "cell_type": "code",
   "execution_count": 11,
   "metadata": {},
   "outputs": [],
   "source": [
    "regije = dict.fromkeys([str.lower(x) for x in np.unique(obcine[:, 7])], 0)\n",
    "city_errors = set()\n",
    "kd_errors_dict = defaultdict(int)\n",
    "\n",
    "\n",
    "for kd in main_data:\n",
    "    city = str.lower(kd[19])\n",
    "    kd = str.lower(str.strip(str.split(kd[6], '-')[-1]))\n",
    "    if (city == 'neznana ue' or city == 'neznana obč' or city == 'ni podatka' or kd == 'poneverba in neupravičena uporaba tujega premoženja' or kd == ''):\n",
    "        continue\n",
    "    if (city == 'šentjur pri celju'):\n",
    "        city = 'šentjur'\n",
    "    try:\n",
    "        regije[dict_obcina_regija[city]] += kazni_utezi[kd]\n",
    "    except KeyError:\n",
    "        if (city not in dict_obcina_regija):\n",
    "            city_errors.add(city)\n",
    "            print(f\"NAPAKA PRI \\\"{city}\\\"\")\n",
    "        else:\n",
    "            kd_errors_dict[kd] += 1\n",
    "            print(f\"NAPAKA PRI \\\"{kd}\\\"\")\n",
    "\n",
    "# kd_errors = np.array(list(kd_errors_dict.items()), dtype=object)\n",
    "# kd_errors = kd_errors[np.argsort(kd_errors[:, 1])[::-1]]\n",
    "# kd_errors"
   ]
  },
  {
   "cell_type": "code",
   "execution_count": 12,
   "metadata": {},
   "outputs": [
    {
     "data": {
      "image/png": "[encoded data removed]",
      "text/plain": [
       "<Figure size 720x432 with 1 Axes>"
      ]
     },
     "metadata": {},
     "output_type": "display_data"
    }
   ],
   "source": [
    "np_regije_danger = np.array(list(regije.items()), dtype=object)\n",
    "np_regije_danger = np_regije_danger[np.argsort(np_regije_danger[:, 1])[::-1]]\n",
    "\n",
    "y_axis = np_regije_danger[:, 0]\n",
    "y_axis = [x.capitalize() for x in y_axis]\n",
    "\n",
    "# create graph of dangerousness of regions\n",
    "fig, ax = plt.subplots(figsize=(10, 6))\n",
    "ax.barh(y_axis, np_regije_danger[:, 1])\n",
    "ax.set_xlabel('Nevarnost (vsota uteži)')\n",
    "ax.set_ylabel('Regije')\n",
    "ax.set_title('Nevarnost regij')\n",
    "plt.show()\n"
   ]
  },
  {
   "cell_type": "markdown",
   "metadata": {},
   "source": [
    "Sedaj delim rezultate z številom prebivalcev. Število prebivalcev datuma 1. julij (2020)."
   ]
  },
  {
   "cell_type": "code",
   "execution_count": 13,
   "metadata": {},
   "outputs": [],
   "source": [
    "regije_prebivalci = dict()\n",
    "with open('../data/regije_prebivalci.csv', 'rt', encoding='utf8') as csvfile:\n",
    "    reader = csv.reader(csvfile, delimiter=',')\n",
    "    head_regije_prebivalci = next(reader)\n",
    "    none_handler = lambda i : i or None\n",
    "    for x in reader:\n",
    "        x = x[0].split(';')\n",
    "        regije_prebivalci[x[0]] = int(x[1])"
   ]
  },
  {
   "cell_type": "code",
   "execution_count": 14,
   "metadata": {},
   "outputs": [],
   "source": [
    "np_regije_danger_1 = np.array([[x[0], round(x[1] / regije_prebivalci[x[0]], 5)] for x in np_regije_danger], dtype=object)"
   ]
  },
  {
   "cell_type": "code",
   "execution_count": 15,
   "metadata": {},
   "outputs": [
    {
     "data": {
      "image/png": "[encoded data removed]",
      "text/plain": [
       "<Figure size 720x432 with 1 Axes>"
      ]
     },
     "metadata": {},
     "output_type": "display_data"
    }
   ],
   "source": [
    "np_regije_danger_1 = np_regije_danger_1[np.argsort(np_regije_danger_1[:, 1])[::-1]]\n",
    "y_axis = np_regije_danger_1[:, 0]\n",
    "y_axis = [x.capitalize() for x in y_axis]\n",
    "\n",
    "# create graph of dangerousness of regions\n",
    "fig, ax = plt.subplots(figsize=(10, 6))\n",
    "ax.barh(y_axis, np_regije_danger_1[:, 1])\n",
    "ax.set_xlabel('Nevarnost (vsota uteži/prebivalci)')\n",
    "ax.set_ylabel('Regije')\n",
    "ax.set_title('Nevarnost regij')\n",
    "plt.show()"
   ]
  },
  {
   "cell_type": "markdown",
   "metadata": {},
   "source": [
    "## 4. Razložitev rezultatov\n",
    "\n",
    "Vrednost predstavlja, kako nevarni"
   ]
  },
  {
   "cell_type": "markdown",
   "metadata": {},
   "source": [
    "## 5. Exporting stuff"
   ]
  },
  {
   "cell_type": "code",
   "execution_count": 16,
   "metadata": {},
   "outputs": [],
   "source": [
    "export_dict: dict = {\"regions\": dict.fromkeys(np_regije_danger[:,0], {})}"
   ]
  },
  {
   "cell_type": "code",
   "execution_count": 17,
   "metadata": {},
   "outputs": [],
   "source": [
    "export_dict[\"regions\"] = {k: {\"data_danger_score\": v*100,\n",
    "                              \"data_names\": [\n",
    "                                  \"Najpogostejši kriminal\",\n",
    "                                  \"Najpogostejši kriminal\"\n",
    "                              ],\n",
    "                              \"data_values\": [\n",
    "                                  \"Tatvina\",\n",
    "                                  \"Tatvina\"\n",
    "                              ], } for k, v in np_regije_danger_1}\n"
   ]
  },
  {
   "cell_type": "markdown",
   "metadata": {},
   "source": [
    "### Fix regions that don't match the Nominatim API"
   ]
  },
  {
   "cell_type": "code",
   "execution_count": 21,
   "metadata": {},
   "outputs": [],
   "source": [
    "export_dict[\"regions\"][\"obalno - kraška\"] = export_dict[\"regions\"][\"obalno-kraška\"]\n",
    "del export_dict[\"regions\"][\"obalno-kraška\"]\n",
    "export_dict[\"regions\"][\"jugovzhodna slovenija\"] = export_dict[\"regions\"][\"jugovzhodna\"]\n",
    "del export_dict[\"regions\"][\"jugovzhodna\"]\n",
    "export_dict[\"regions\"][\"primorsko - notranjska\"] = export_dict[\"regions\"][\"primorsko-notranjska\"]\n",
    "del export_dict[\"regions\"][\"primorsko-notranjska\"]\n",
    "export_dict[\"regions\"][\"posavska\"] = export_dict[\"regions\"][\"spodnjeposavska\"]\n",
    "del export_dict[\"regions\"][\"spodnjeposavska\"]"
   ]
  },
  {
   "cell_type": "code",
   "execution_count": 19,
   "metadata": {},
   "outputs": [],
   "source": [
    "json.dump(export_dict, open('../data/regije_app_data.json', 'w'), ensure_ascii=False, indent=4)"
   ]
  },
  {
   "cell_type": "code",
   "execution_count": null,
   "metadata": {},
   "outputs": [],
   "source": []
  }
 ],
 "metadata": {
  "interpreter": {
   "hash": "31f2aee4e71d21fbe5cf8b01ff0e069b9275f58929596ceb00d14d90e3e16cd6"
  },
  "kernelspec": {
   "display_name": "Python 3.8.9 64-bit",
   "language": "python",
   "name": "python3"
  },
  "language_info": {
   "codemirror_mode": {
    "name": "ipython",
    "version": 3
   },
   "file_extension": ".py",
   "mimetype": "text/x-python",
   "name": "python",
   "nbconvert_exporter": "python",
   "pygments_lexer": "ipython3",
   "version": "3.8.9"
  },
  "orig_nbformat": 4
 },
 "nbformat": 4,
 "nbformat_minor": 2
}
