{
 "cells": [
  {
   "cell_type": "markdown",
   "metadata": {},
   "source": [
    "# Analiza in priprava podatkov"
   ]
  },
  {
   "cell_type": "markdown",
   "metadata": {},
   "source": [
    "## 1. Imports"
   ]
  },
  {
   "cell_type": "code",
   "execution_count": 2,
   "metadata": {},
   "outputs": [],
   "source": [
    "import numpy as np\n",
    "import pandas as pd\n",
    "import matplotlib.pyplot as plt\n",
    "from datetime import datetime\n",
    "import csv\n",
    "import os.path"
   ]
  },
  {
   "cell_type": "markdown",
   "metadata": {},
   "source": [
    "## 2. Branje podatkov"
   ]
  },
  {
   "cell_type": "code",
   "execution_count": 3,
   "metadata": {},
   "outputs": [],
   "source": [
    "with open('../data/kd2019.csv', 'rt') as csvfile:\n",
    "    reader = csv.reader(csvfile, delimiter=';')\n",
    "    head = next(reader)\n",
    "    none_handler = lambda i : i or None\n",
    "    main_data = np.array([none_handler(i) for i in [row for row in reader]])"
   ]
  },
  {
   "cell_type": "markdown",
   "metadata": {},
   "source": [
    "## 3.1. Prikaz celotnega območja"
   ]
  },
  {
   "cell_type": "code",
   "execution_count": 4,
   "metadata": {},
   "outputs": [
    {
     "data": {
      "text/plain": [
       "<BarContainer object of 37 artists>"
      ]
     },
     "execution_count": 4,
     "metadata": {},
     "output_type": "execute_result"
    },
    {
     "data": {
      "image/png": "[encoded data removed]",
      "text/plain": [
       "<Figure size 1080x360 with 1 Axes>"
      ]
     },
     "metadata": {
      "needs_background": "light"
     },
     "output_type": "display_data"
    }
   ],
   "source": [
    "def get_year(row):\n",
    "    return datetime.strptime(row[1], '%m.%Y').year\n",
    "\n",
    "years = np.apply_along_axis(get_year, 1, main_data)\n",
    "\n",
    "unique, counts = np.unique(years, return_counts=True)\n",
    "year_counts = np.array(list(zip(unique, counts)))\n",
    "\n",
    "plt.figure(figsize=(15,5))\n",
    "plt.xticks(rotation=90)\n",
    "plt.bar(year_counts[:, 0], year_counts[:, 1])"
   ]
  },
  {
   "cell_type": "markdown",
   "metadata": {},
   "source": [
    "## 3.2 Prikaz glavnega območja"
   ]
  },
  {
   "cell_type": "code",
   "execution_count": 5,
   "metadata": {},
   "outputs": [
    {
     "data": {
      "text/plain": [
       "<BarContainer object of 37 artists>"
      ]
     },
     "execution_count": 5,
     "metadata": {},
     "output_type": "execute_result"
    },
    {
     "data": {
      "image/png": "[encoded data removed]",
      "text/plain": [
       "<Figure size 1080x360 with 1 Axes>"
      ]
     },
     "metadata": {
      "needs_background": "light"
     },
     "output_type": "display_data"
    }
   ],
   "source": [
    "plt.figure(figsize=(15,5))\n",
    "plt.xticks(np.arange(2010, 2020, 1),rotation=90)\n",
    "plt.xlim(2010, 2020)\n",
    "plt.bar(year_count[:, 0], year_count[:, 1])"
   ]
  },
  {
   "cell_type": "markdown",
   "metadata": {},
   "source": [
    "Opazimo, da so nekateri zločini, zabeleženi v podatkih za leto 2019 že zelo stari vse do leta 1945. Teh zabeležb je zelo malo, ampak so vsekakor zanimive."
   ]
  },
  {
   "cell_type": "markdown",
   "metadata": {},
   "source": [
    "## 4. Pretvorba `main_data` tabele za datume"
   ]
  },
  {
   "cell_type": "code",
   "execution_count": 10,
   "metadata": {},
   "outputs": [],
   "source": [
    "def get_datetime(row):\n",
    "    return datetime.strptime(row[1], '%m.%Y')\n",
    "\n",
    "main_data[:, 1] = np.apply_along_axis(get_datetime, 1, main_data)"
   ]
  },
  {
   "cell_type": "markdown",
   "metadata": {},
   "source": [
    "## 5. Testiranje zelo starih"
   ]
  },
  {
   "cell_type": "code",
   "execution_count": 24,
   "metadata": {},
   "outputs": [
    {
     "name": "stdout",
     "output_type": "stream",
     "text": [
      "{'ZaporednaStevilkaKD': '057277', 'MesecStoritve': '1945-05-01 00:00:00', 'UraStoritve': '23:00-23:59', 'DanVTednu': 'ČETRTEK', 'PUStoritveKD': 'PU CELJE', 'Povratnik': 'NE', 'OpisKD': 'KZ12/102*/1/1/ - VOJNA HUDODELSTVA', 'PoglavjeKD': 'KD ZOPER ČLOVEČNOST', 'GospodarskiKriminal': 'SPLOŠNA', 'OrganiziranKriminal': ' ', 'MladoletniskaKriminaliteta': ' ', 'Poskus': 'NE', 'KriminalisticnaOznacba1': 'KRŠITVE ŽENEVSKIH KONVENCIJ - O', 'KriminalisticnaOznacba2': '', 'KriminalisticnaOznacba3': '', 'UporabljenoSredstvo1': '341-STRELNO OROŽJE', 'UporabljenoSredstvo2': '', 'UporabljenoSredstvo3': '', 'UporabljenoSredstvo4': '', 'UpravnaEnotaStoritve': 'CELJE', 'OpisKraja': 'PROSTOR DRUGIH USTANOV', 'LetoZakljucnegaDokumenta': '2019', 'VrstaZakljucnegaDokumenta': 'POROČILO', 'ZaporednaStevilkaOsebeVKD': '057277001', 'VrstaOsebe': 'OVADENI OSUMLJENEC', 'StarostniRazred': '18-24', 'Spol': 'MOŠKI', 'Drzavljanstvo': 'SLOVENSKO', 'Poskodba': '', 'VplivAlkohola': 'NE', 'VplivMamil': 'NE', 'OrganiziranaZdruzba': 'NE', 'Skoda': 'BREZ'}\n",
      "--------------------\n",
      "{'ZaporednaStevilkaKD': '000001', 'MesecStoritve': '1945-06-01 00:00:00', 'UraStoritve': '23:00-23:59', 'DanVTednu': 'SOBOTA', 'PUStoritveKD': 'PU LJUBLJANA', 'Povratnik': 'NE', 'OpisKD': 'KZ08/102-/1/1/ - VOJNA HUDODELSTVA', 'PoglavjeKD': 'KD ZOPER ČLOVEČNOST', 'GospodarskiKriminal': 'SPLOŠNA', 'OrganiziranKriminal': ' ', 'MladoletniskaKriminaliteta': ' ', 'Poskus': 'NE', 'KriminalisticnaOznacba1': 'NI OZNAKE', 'KriminalisticnaOznacba2': '', 'KriminalisticnaOznacba3': '', 'UporabljenoSredstvo1': '199-NI PREDMETA', 'UporabljenoSredstvo2': '', 'UporabljenoSredstvo3': '', 'UporabljenoSredstvo4': '', 'UpravnaEnotaStoritve': 'KOČEVJE', 'OpisKraja': 'NARAVNA POVRŠINA', 'LetoZakljucnegaDokumenta': '2019', 'VrstaZakljucnegaDokumenta': 'OVADBA', 'ZaporednaStevilkaOsebeVKD': '', 'VrstaOsebe': '', 'StarostniRazred': '', 'Spol': '', 'Drzavljanstvo': '', 'Poskodba': '', 'VplivAlkohola': '', 'VplivMamil': '', 'OrganiziranaZdruzba': '', 'Skoda': ''}\n",
      "--------------------\n",
      "{'ZaporednaStevilkaKD': '054104', 'MesecStoritve': '1979-12-01 00:00:00', 'UraStoritve': '23:00-23:59', 'DanVTednu': 'PONEDELJEK', 'PUStoritveKD': 'PU NOVA GORICA', 'Povratnik': 'NE', 'OpisKD': 'KD02/103/1// - SPOLNI NAPAD NA OSEBO MLAJŠO OD 14 LET', 'PoglavjeKD': '', 'GospodarskiKriminal': 'SPLOŠNA', 'OrganiziranKriminal': ' ', 'MladoletniskaKriminaliteta': ' ', 'Poskus': 'NE', 'KriminalisticnaOznacba1': 'DRUGO SPOLNO DEJANJE - O', 'KriminalisticnaOznacba2': '', 'KriminalisticnaOznacba3': '', 'UporabljenoSredstvo1': '199-NI PREDMETA', 'UporabljenoSredstvo2': '', 'UporabljenoSredstvo3': '', 'UporabljenoSredstvo4': '', 'UpravnaEnotaStoritve': 'AJDOVŠČINA', 'OpisKraja': 'PROSTOR ZA VERSKE OBREDE', 'LetoZakljucnegaDokumenta': '2019', 'VrstaZakljucnegaDokumenta': 'POROČILO', 'ZaporednaStevilkaOsebeVKD': '054104002', 'VrstaOsebe': 'ŽRTEV', 'StarostniRazred': '07-14', 'Spol': 'ŽENSKI', 'Drzavljanstvo': 'SLOVENSKO', 'Poskodba': 'BREZ POŠKODBE', 'VplivAlkohola': 'NN', 'VplivMamil': 'NN', 'OrganiziranaZdruzba': 'NE', 'Skoda': 'BREZ'}\n"
     ]
    }
   ],
   "source": [
    "print(dict(zip(head, main_data[np.argsort(main_data[:, 1])][0])))\n",
    "print(\"-\" * 20)\n",
    "print(dict(zip(head, main_data[np.argsort(main_data[:, 1])][1])))\n",
    "print(\"-\" * 20)\n",
    "print(dict(zip(head, main_data[np.argsort(main_data[:, 1])][2])))"
   ]
  },
  {
   "cell_type": "markdown",
   "metadata": {},
   "source": [
    "To so zločini, ki so šele sedaj zaključeni, zgodili pa so se ze dolgo nazaj."
   ]
  },
  {
   "cell_type": "markdown",
   "metadata": {},
   "source": [
    "## 6. Preiskovanje substanc"
   ]
  },
  {
   "cell_type": "markdown",
   "metadata": {},
   "source": [
    "### 6.1. Mamila"
   ]
  },
  {
   "cell_type": "code",
   "execution_count": 47,
   "metadata": {},
   "outputs": [
    {
     "name": "stdout",
     "output_type": "stream",
     "text": [
      "[['' '457']\n",
      " ['DA' '19']\n",
      " ['NE' '31876']\n",
      " ['NN' '72993']]\n"
     ]
    },
    {
     "data": {
      "text/plain": [
       "<BarContainer object of 4 artists>"
      ]
     },
     "execution_count": 47,
     "metadata": {},
     "output_type": "execute_result"
    },
    {
     "data": {
      "image/png": "[encoded data removed]",
      "text/plain": [
       "<Figure size 432x288 with 1 Axes>"
      ]
     },
     "metadata": {
      "needs_background": "light"
     },
     "output_type": "display_data"
    }
   ],
   "source": [
    "substance = main_data[:, -3]\n",
    "\n",
    "unique, counts = np.unique(substance[:], return_counts=True)\n",
    "mamila_counts = np.array(list(zip(unique, counts)))\n",
    "\n",
    "print(mamila_counts)\n",
    "\n",
    "plt.bar(mamila_counts[:, 0], mamila_counts[:, 1])"
   ]
  },
  {
   "cell_type": "markdown",
   "metadata": {},
   "source": [
    "### 6.2. Alkohol"
   ]
  },
  {
   "cell_type": "code",
   "execution_count": 48,
   "metadata": {},
   "outputs": [
    {
     "name": "stdout",
     "output_type": "stream",
     "text": [
      "[['' '457']\n",
      " ['DA' '63']\n",
      " ['NE' '32054']\n",
      " ['NN' '72771']]\n"
     ]
    },
    {
     "data": {
      "text/plain": [
       "<BarContainer object of 4 artists>"
      ]
     },
     "execution_count": 48,
     "metadata": {},
     "output_type": "execute_result"
    },
    {
     "data": {
      "image/png": "[encoded data removed]",
      "text/plain": [
       "<Figure size 432x288 with 1 Axes>"
      ]
     },
     "metadata": {
      "needs_background": "light"
     },
     "output_type": "display_data"
    }
   ],
   "source": [
    "substance = main_data[:, -4]\n",
    "\n",
    "unique, counts = np.unique(substance[:], return_counts=True)\n",
    "alkohol_counts = np.array(list(zip(unique, counts)))\n",
    "\n",
    "print(alkohol_counts)\n",
    "\n",
    "plt.bar(alkohol_counts[:, 0], alkohol_counts[:, 1])"
   ]
  },
  {
   "cell_type": "markdown",
   "metadata": {},
   "source": [
    "### 6.3. Skupaj"
   ]
  },
  {
   "cell_type": "markdown",
   "metadata": {},
   "source": [
    "#### Dodajanje stolpca mamila\n",
    "Stolpec mamila vsebuje podatek, ali ije bilo v zločinu prisotna katerakoli substanca. Torej `mamila == DA or alkohol == DA`"
   ]
  },
  {
   "cell_type": "code",
   "execution_count": 83,
   "metadata": {},
   "outputs": [
    {
     "name": "stdout",
     "output_type": "stream",
     "text": [
      "Število zločinov, pri katerih je bila substanca zagotovo prisotna je 73.\n"
     ]
    }
   ],
   "source": [
    "mamila = np.array([crime[-3] == 'DA' or crime[-4] == 'DA' for crime in main_data])\n",
    "\n",
    "main_data = np.append(main_data, np.reshape(mamila, (-1, 1)), axis=1)\n",
    "\n",
    "# np.count_nonzero(mamila) counts true's\n",
    "print(f\"Število zločinov, pri katerih je bila substanca zagotovo prisotna je %i.\" % np.count_nonzero(mamila))"
   ]
  },
  {
   "cell_type": "code",
   "execution_count": 95,
   "metadata": {},
   "outputs": [],
   "source": [
    "crimes_with_substance = np.array([crime for crime in main_data if crime[-1] == \"True\"])"
   ]
  },
  {
   "cell_type": "markdown",
   "metadata": {},
   "source": [
    "### 6.4. Write to csv file"
   ]
  },
  {
   "cell_type": "code",
   "execution_count": 99,
   "metadata": {},
   "outputs": [],
   "source": [
    "if (not os.path.exists('../data/kd2019substance.csv')):\n",
    "    open('../data/kd2019substance.csv', 'x')\n",
    "\n",
    "with open('../data/kd2019substance.csv', 'w') as csvfile:\n",
    "    writer = csv.writer(csvfile)\n",
    "    writer.writerow(head + [\"Substanca\"])\n",
    "    writer.writerows(crimes_with_substance)"
   ]
  }
 ],
 "metadata": {
  "interpreter": {
   "hash": "f35621b5f5adf8bc7b76cd61c0e64075e09b8e2c83dd392c0c22200df920c13e"
  },
  "kernelspec": {
   "display_name": "Python 3.9.6 64-bit",
   "language": "python",
   "name": "python3"
  },
  "language_info": {
   "codemirror_mode": {
    "name": "ipython",
    "version": 3
   },
   "file_extension": ".py",
   "mimetype": "text/x-python",
   "name": "python",
   "nbconvert_exporter": "python",
   "pygments_lexer": "ipython3",
   "version": "3.9.6"
  },
  "orig_nbformat": 4
 },
 "nbformat": 4,
 "nbformat_minor": 2
}
