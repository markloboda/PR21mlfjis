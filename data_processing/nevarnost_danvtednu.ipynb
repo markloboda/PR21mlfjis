{
 "cells": [
  {
   "cell_type": "markdown",
   "metadata": {},
   "source": [
    "## 1. Imports"
   ]
  },
  {
   "cell_type": "code",
   "execution_count": 1,
   "metadata": {},
   "outputs": [],
   "source": [
    "import numpy as np\n",
    "import pandas as pd\n",
    "import matplotlib.pyplot as plt\n",
    "from datetime import datetime\n",
    "import csv\n",
    "import os.path\n",
    "import json\n",
    "from collections import defaultdict\n",
    "\n",
    "import mplcyberpunk\n",
    "plt.style.use(\"cyberpunk\")"
   ]
  },
  {
   "cell_type": "markdown",
   "metadata": {},
   "source": [
    "## 2. Uvoz podatkov"
   ]
  },
  {
   "cell_type": "code",
   "execution_count": 2,
   "metadata": {},
   "outputs": [],
   "source": [
    "with open('../data/kd2018.csv', 'rt') as csvfile:\n",
    "    reader = csv.reader(csvfile, delimiter=';')\n",
    "    head0 = next(reader)\n",
    "    none_handler = lambda i : i or None\n",
    "    main_data18 = np.array([none_handler(i) for i in [row for row in reader]])"
   ]
  },
  {
   "cell_type": "code",
   "execution_count": 3,
   "metadata": {},
   "outputs": [],
   "source": [
    "with open('../data/kd2019.csv', 'rt') as csvfile:\n",
    "    reader = csv.reader(csvfile, delimiter=';')\n",
    "    head1 = next(reader)\n",
    "    none_handler = lambda i : i or None\n",
    "    main_data19 = np.array([none_handler(i) for i in [row for row in reader]])"
   ]
  },
  {
   "cell_type": "code",
   "execution_count": 4,
   "metadata": {},
   "outputs": [],
   "source": [
    "with open('../data/kd2020.csv', 'rt') as csvfile:\n",
    "    reader = csv.reader(csvfile, delimiter=';')\n",
    "    head2 = next(reader)\n",
    "    none_handler = lambda i : i or None\n",
    "    main_data20 = np.array([none_handler(i) for i in [row for row in reader]])"
   ]
  },
  {
   "cell_type": "code",
   "execution_count": 5,
   "metadata": {},
   "outputs": [],
   "source": [
    "with open('../data/kd2021.csv', 'rt') as csvfile:\n",
    "    reader = csv.reader(csvfile, delimiter=';')\n",
    "    head3 = next(reader)\n",
    "    none_handler = lambda i : i or None\n",
    "    main_data21 = np.array([none_handler(i) for i in [row for row in reader]])"
   ]
  },
  {
   "cell_type": "code",
   "execution_count": 6,
   "metadata": {},
   "outputs": [],
   "source": [
    "with open('../data/obcine_slovenije.csv', 'rt', encoding='utf8') as csvfile:\n",
    "    reader = csv.reader(csvfile, delimiter=',')\n",
    "    head_obcine = next(reader)\n",
    "    none_handler = lambda i : i or None\n",
    "    obcine = np.array([none_handler(i) for i in [row for row in reader]])"
   ]
  },
  {
   "cell_type": "markdown",
   "metadata": {},
   "source": [
    "### 2.1 Priprava podatkov\n",
    "V podatkih je nek zločin zapisan večrat. To je ocitno, saj se zaporedna številka kaznivega dejanja ponavlja večrat."
   ]
  },
  {
   "cell_type": "code",
   "execution_count": 7,
   "metadata": {},
   "outputs": [],
   "source": [
    "found_ids = set()\n",
    "rows_to_keep = np.array([])\n",
    "for i in range(len(main_data18)):\n",
    "    if (main_data18[i][0] not in found_ids):\n",
    "        rows_to_keep = np.append(rows_to_keep, True)\n",
    "        found_ids.add(main_data18[i][0])\n",
    "    else:\n",
    "        rows_to_keep = np.append(rows_to_keep, False)\n",
    "\n",
    "main_data18_filtered = main_data18[np.ma.make_mask(rows_to_keep)]\n",
    "\n",
    "found_ids = set()\n",
    "rows_to_keep = np.array([])\n",
    "for i in range(len(main_data19)):\n",
    "    if (main_data19[i][0] not in found_ids):\n",
    "        rows_to_keep = np.append(rows_to_keep, True)\n",
    "        found_ids.add(main_data19[i][0])\n",
    "    else:\n",
    "        rows_to_keep = np.append(rows_to_keep, False)\n",
    "\n",
    "main_data19_filtered = main_data19[np.ma.make_mask(rows_to_keep)]\n",
    "\n",
    "found_ids = set()\n",
    "rows_to_keep = np.array([])\n",
    "for i in range(len(main_data20)):\n",
    "    if (main_data20[i][0] not in found_ids):\n",
    "        rows_to_keep = np.append(rows_to_keep, True)\n",
    "        found_ids.add(main_data20[i][0])\n",
    "    else:\n",
    "        rows_to_keep = np.append(rows_to_keep, False)\n",
    "\n",
    "main_data20_filtered = main_data20[np.ma.make_mask(rows_to_keep)]\n",
    "\n",
    "found_ids = set()\n",
    "rows_to_keep = np.array([])\n",
    "for i in range(len(main_data21)):\n",
    "    if (main_data21[i][0] not in found_ids):\n",
    "        rows_to_keep = np.append(rows_to_keep, True)\n",
    "        found_ids.add(main_data21[i][0])\n",
    "    else:\n",
    "        rows_to_keep = np.append(rows_to_keep, False)\n",
    "\n",
    "main_data21_filtered = main_data21[np.ma.make_mask(rows_to_keep)]\n",
    "\n",
    "main_data = np.concatenate((main_data18_filtered, main_data19_filtered, main_data20_filtered, main_data21_filtered))"
   ]
  },
  {
   "cell_type": "markdown",
   "metadata": {},
   "source": [
    "## 3.1 Izračun števila zločinov po dnevih"
   ]
  },
  {
   "cell_type": "code",
   "execution_count": 9,
   "metadata": {},
   "outputs": [
    {
     "data": {
      "image/png": "[encoded data removed]",
      "text/plain": [
       "<Figure size 720x360 with 1 Axes>"
      ]
     },
     "metadata": {},
     "output_type": "display_data"
    }
   ],
   "source": [
    "main_data_per_day = np.unique(main_data[:, 3], return_counts=True)\n",
    "main_data_per_day = np.array(list(zip(main_data_per_day[0], main_data_per_day[1])))\n",
    "main_data_per_day = np.array([main_data_per_day[2], main_data_per_day[5], main_data_per_day[4], main_data_per_day[6], main_data_per_day[1], main_data_per_day[3], main_data_per_day[0]])\n",
    "main_data_per_day\n",
    "\n",
    "plt.figure(figsize=(10, 5))\n",
    "plt.xticks(rotation=90)\n",
    "plt.title(\"Število zločinov glede na dan v tednu\")\n",
    "plt.xlabel('Dan v tednu')\n",
    "plt.ylabel('Število kriminalnih dejanj')\n",
    "plt.bar(main_data_per_day[:, 0], np.uint(main_data_per_day[:, 1]))\n",
    "plt.show()"
   ]
  },
  {
   "cell_type": "markdown",
   "metadata": {},
   "source": [
    "## 3.2. Uteževanje zločinov"
   ]
  },
  {
   "cell_type": "code",
   "execution_count": 10,
   "metadata": {},
   "outputs": [],
   "source": [
    "# read json data from kazni_dict.json\n",
    "with open('../data/kazni_dict.json', 'r', encoding='utf8') as f:\n",
    "    kazni_dict = json.load(f)"
   ]
  },
  {
   "cell_type": "code",
   "execution_count": 11,
   "metadata": {},
   "outputs": [],
   "source": [
    "kazni_utezi = dict()\n",
    "for kd, values in kazni_dict.items():\n",
    "        if (pd.isna(values['average_actual_jailtime'])):\n",
    "            x = values['max_jailtime'] * 2 * values['dangerousness']\n",
    "        else:\n",
    "            x = (values['max_jailtime'] + values['average_actual_jailtime']) * values['dangerousness']\n",
    "        kazni_utezi[kd] = x"
   ]
  },
  {
   "cell_type": "code",
   "execution_count": 12,
   "metadata": {},
   "outputs": [],
   "source": [
    "dnevi = dict.fromkeys([\"ponedeljek\", \"torek\", \"sreda\", \"četrtek\", \"petek\", \"sobota\", \"nedelja\"], 0)\n",
    "kd_errors_dict = defaultdict(int)\n",
    "\n",
    "\n",
    "for kd in main_data:\n",
    "    dan = str.lower(kd[3])\n",
    "    kd = str.lower(str.strip(str.split(kd[6], '-')[-1]))\n",
    "    if (kd == 'poneverba in neupravičena uporaba tujega premoženja' or kd == ''):\n",
    "        continue\n",
    "    try:\n",
    "        dnevi[dan] += kazni_utezi[kd]\n",
    "    except KeyError:\n",
    "            kd_errors_dict[kd] += 1\n",
    "            print(f\"NAPAKA PRI \\\"{kd}\\\"\")\n",
    "\n",
    "# kd_errors = np.array(list(kd_errors_dict.items()), dtype=object)\n",
    "# kd_errors = kd_errors[np.argsort(kd_errors[:, 1])[::-1]]\n",
    "# kd_errors"
   ]
  },
  {
   "cell_type": "code",
   "execution_count": 14,
   "metadata": {},
   "outputs": [
    {
     "data": {
      "image/png": "[encoded data removed]",
      "text/plain": [
       "<Figure size 720x360 with 1 Axes>"
      ]
     },
     "metadata": {},
     "output_type": "display_data"
    }
   ],
   "source": [
    "plt.figure(figsize=(10, 5))\n",
    "plt.xticks(rotation=90)\n",
    "plt.title(\"Uteženi zločini glede na dan v tednu\")\n",
    "plt.xlabel('Dan v tednu')\n",
    "plt.ylabel('Vsota uteženih zločinov')\n",
    "plt.bar(dnevi.keys(), dnevi.values())\n",
    "plt.show()"
   ]
  },
  {
   "cell_type": "markdown",
   "metadata": {},
   "source": [
    "## 3.3. Za vsako občino posebaj"
   ]
  },
  {
   "cell_type": "code",
   "execution_count": 16,
   "metadata": {},
   "outputs": [],
   "source": [
    "obc_dnevi = dict.fromkeys([str.lower(x) for x in np.unique(obcine[:, 0])], dict.fromkeys([\"ponedeljek\", \"torek\", \"sreda\", \"četrtek\", \"petek\", \"sobota\", \"nedelja\"], 0))\n",
    "kd_errors_dict = defaultdict(int)\n",
    "\n",
    "\n",
    "for kd in main_data:\n",
    "    dan = str.lower(kd[3])\n",
    "    obcina = str.lower(kd[19])\n",
    "    kd = str.lower(str.strip(str.split(kd[6], '-')[-1]))\n",
    "    if (obcina == 'neznana ue' or obcina == 'neznana obč' or obcina == 'ni podatka' or kd == 'poneverba in neupravičena uporaba tujega premoženja' or kd == ''):\n",
    "        continue\n",
    "    if (obcina == 'šentjur pri celju'):\n",
    "        obcina = 'šentjur'\n",
    "    try:\n",
    "        obc_dnevi[obcina][dan] += kazni_utezi[kd]\n",
    "    except KeyError:\n",
    "            kd_errors_dict[kd] += 1\n",
    "            print(f\"NAPAKA PRI \\\"{kd}\\\"\")\n",
    "\n",
    "# kd_errors = np.array(list(kd_errors_dict.items()), dtype=object)\n",
    "# kd_errors = kd_errors[np.argsort(kd_errors[:, 1])[::-1]]\n",
    "# kd_errors"
   ]
  },
  {
   "cell_type": "code",
   "execution_count": 25,
   "metadata": {},
   "outputs": [],
   "source": [
    "# write obc_dnevi to json file\n",
    "with open('../data/obc_dnevi.json', 'w') as f:\n",
    "    json.dump(obc_dnevi, f)"
   ]
  }
 ],
 "metadata": {
  "interpreter": {
   "hash": "3cc7452d59a4128c7da48b52ec3fb3fa0d01ea1f342cddc3c37340fefa791b1e"
  },
  "kernelspec": {
   "display_name": "Python 3.9.6 64-bit",
   "language": "python",
   "name": "python3"
  },
  "language_info": {
   "codemirror_mode": {
    "name": "ipython",
    "version": 3
   },
   "file_extension": ".py",
   "mimetype": "text/x-python",
   "name": "python",
   "nbconvert_exporter": "python",
   "pygments_lexer": "ipython3",
   "version": "3.9.6"
  },
  "orig_nbformat": 4
 },
 "nbformat": 4,
 "nbformat_minor": 2
}
